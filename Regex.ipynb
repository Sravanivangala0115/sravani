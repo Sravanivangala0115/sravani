{
 "cells": [
  {
   "cell_type": "markdown",
   "id": "40cce0c2-d791-40bb-8b7a-318249645385",
   "metadata": {},
   "source": [
    "- Regex operations are called a Regular Expressions\n",
    "\n",
    "- It is used to search , match and manipulate text based patterns\n",
    "\n",
    "- package name: re\n",
    "\n",
    "    - if we wants to identify any patterns matching\n",
    "\n",
    "    - Replace any text\n",
    "\n",
    "    - Split the text\n",
    "\n",
    "    - Validate the text\n",
    "\n",
    "- we can achives with strings operations\n",
    "\n",
    "- but regex is powerful and easy.\n"
   ]
  },
  {
   "cell_type": "code",
   "execution_count": 1,
   "id": "6ecbfeea-8ba0-49c5-9e49-c7ef336692f1",
   "metadata": {},
   "outputs": [],
   "source": [
    "import re"
   ]
  },
  {
   "cell_type": "markdown",
   "id": "dc8d85b2-e0db-4898-b5fc-d6ab6238fc27",
   "metadata": {},
   "source": [
    "**re.match**\n",
    "\n",
    "- Matches a pattern in a given string"
   ]
  },
  {
   "cell_type": "code",
   "execution_count": 2,
   "id": "5187452c-6387-45bb-a34b-86ca9dfb1301",
   "metadata": {},
   "outputs": [
    {
     "data": {
      "text/plain": [
       "True"
      ]
     },
     "execution_count": 2,
     "metadata": {},
     "output_type": "execute_result"
    }
   ],
   "source": [
    "pattern=r\"Hello\"\n",
    "str1=\"Hello World\"\n",
    "pattern in str1"
   ]
  },
  {
   "cell_type": "code",
   "execution_count": 8,
   "id": "30df8e07-ce19-4adb-8811-f5f0f2e51a79",
   "metadata": {},
   "outputs": [
    {
     "data": {
      "text/plain": [
       "'Hello'"
      ]
     },
     "execution_count": 8,
     "metadata": {},
     "output_type": "execute_result"
    }
   ],
   "source": [
    "import re\n",
    "re.match(pattern, str1).group()"
   ]
  },
  {
   "cell_type": "code",
   "execution_count": 10,
   "id": "e44f5551-6d4e-408f-9a10-7826ec4fd745",
   "metadata": {},
   "outputs": [
    {
     "data": {
      "text/plain": [
       "<re.Match object; span=(0, 5), match='Hello'>"
      ]
     },
     "execution_count": 10,
     "metadata": {},
     "output_type": "execute_result"
    }
   ],
   "source": [
    "pattern=r\"HELLO\"\n",
    "str1=\"Hello World\"\n",
    "re.match(pattern,str1,re.IGNORECASE)"
   ]
  },
  {
   "cell_type": "markdown",
   "id": "eafa5961-3fd9-4f47-bbec-79879efdb11f",
   "metadata": {},
   "source": [
    "**Note:**\n",
    "\n",
    "- re.match will checks for a match at beginning of string\n",
    "\n",
    "- if we want to identify anywhere then we can go for re.search\n",
    "\n",
    "**re.search**\n",
    "\n",
    "- Searches pattern for anywhere in a given string"
   ]
  },
  {
   "cell_type": "code",
   "execution_count": 11,
   "id": "8e5f6fac-d59b-4d08-987f-726f0fbcec12",
   "metadata": {},
   "outputs": [],
   "source": [
    "pattern=\"Hello\"\n",
    "str1=\"World Hello\"\n",
    "re.match(pattern,str1)"
   ]
  },
  {
   "cell_type": "code",
   "execution_count": 12,
   "id": "7343373c-f51b-46a5-bea9-08d4b7f300e4",
   "metadata": {},
   "outputs": [
    {
     "data": {
      "text/plain": [
       "<re.Match object; span=(6, 11), match='Hello'>"
      ]
     },
     "execution_count": 12,
     "metadata": {},
     "output_type": "execute_result"
    }
   ],
   "source": [
    "pattern=\"Hello\"\n",
    "str1=\"World Hello\"\n",
    "re.search(pattern,str1)\n"
   ]
  },
  {
   "cell_type": "code",
   "execution_count": 13,
   "id": "607e3d30-16f7-46b3-939b-4e27cfb58ca6",
   "metadata": {},
   "outputs": [
    {
     "name": "stdout",
     "output_type": "stream",
     "text": [
      "result: <re.Match object; span=(6, 11), match='Hello'>\n"
     ]
    },
    {
     "data": {
      "text/plain": [
       "'Hello'"
      ]
     },
     "execution_count": 13,
     "metadata": {},
     "output_type": "execute_result"
    }
   ],
   "source": [
    "pattern=\"Hello\"\n",
    "str1=\"World Hello\"\n",
    "result=re.search(pattern,str1)\n",
    "print(\"result:\",result)\n",
    "result.group()"
   ]
  },
  {
   "cell_type": "markdown",
   "id": "79d24c66-c975-4e59-aaea-a8adcb994dd2",
   "metadata": {},
   "source": [
    "**re.findall**\n",
    "\n",
    "- using a \\d+ pattern\n",
    "\n",
    "- \\d indicates digit match between 0 to 9\n",
    "\n",
    "- plus indicates one or more occurences of digit"
   ]
  },
  {
   "cell_type": "code",
   "execution_count": 14,
   "id": "b1c75152-2881-47f7-ab17-eb5431642217",
   "metadata": {},
   "outputs": [
    {
     "name": "stdout",
     "output_type": "stream",
     "text": [
      "100\n",
      "20\n"
     ]
    }
   ],
   "source": [
    "str1=\"the price is 100 and the tax is 20\"\n",
    "for i in str1.split():\n",
    "    if i.isdigit():\n",
    "        print(i)"
   ]
  },
  {
   "cell_type": "code",
   "execution_count": 16,
   "id": "618db61c-7123-4934-af10-e6a512c57e05",
   "metadata": {},
   "outputs": [
    {
     "name": "stdout",
     "output_type": "stream",
     "text": [
      "result: ['100', '20']\n"
     ]
    }
   ],
   "source": [
    "pattern=r\"\\d+\"\n",
    "str1=\"the price is 100 and the tax is 20\"\n",
    "result=re.findall(pattern,str1)\n",
    "print(\"result:\", result)"
   ]
  },
  {
   "cell_type": "code",
   "execution_count": 18,
   "id": "55e8c187-4d3e-4e2b-a897-6632c3686864",
   "metadata": {},
   "outputs": [
    {
     "name": "stdout",
     "output_type": "stream",
     "text": [
      "result: ['1234', '28', '2024']\n"
     ]
    }
   ],
   "source": [
    "pattern=r\"\\d+\"\n",
    "str1=\"order number 1234 shipped on 28th december 2024\"\n",
    "result=re.findall(pattern,str1)\n",
    "print(\"result:\", result)"
   ]
  },
  {
   "cell_type": "markdown",
   "id": "e541b299-20d2-4433-bb98-ae0f87171908",
   "metadata": {},
   "source": [
    "**re.sub**\n",
    "\n",
    "- substitute the string when pattern matches"
   ]
  },
  {
   "cell_type": "code",
   "execution_count": 20,
   "id": "70db263c-8493-4015-9fd3-51c98e6794a7",
   "metadata": {},
   "outputs": [
    {
     "name": "stdout",
     "output_type": "stream",
     "text": [
      "result: order number srav shipped on sravth December srav\n"
     ]
    }
   ],
   "source": [
    "pattern=r\"\\d+\"\n",
    "str1=\"order number 1234 shipped on 28th December 2024\"\n",
    "result=re.sub(pattern,'srav',str1)\n",
    "print(\"result:\", result)"
   ]
  },
  {
   "cell_type": "code",
   "execution_count": 26,
   "id": "67cac0ba-296b-4fc5-9950-05cd3451147d",
   "metadata": {},
   "outputs": [
    {
     "data": {
      "text/plain": [
       "'srav'"
      ]
     },
     "execution_count": 26,
     "metadata": {},
     "output_type": "execute_result"
    }
   ],
   "source": [
    "str1=\"order number 1234 shipped on 28th December 2024\"\n",
    "l=[]\n",
    "for i in str1.split():\n",
    "    if i.isdigit():\n",
    "        l.append('srav')\n",
    "    else:\n",
    "        l.append('srav')\n",
    "\"\".join('srav')\n"
   ]
  },
  {
   "cell_type": "code",
   "execution_count": 27,
   "id": "16ccc221-f61a-4408-8472-4114af930b1a",
   "metadata": {},
   "outputs": [
    {
     "name": "stdout",
     "output_type": "stream",
     "text": [
      "result: order number srav shipped on 28th December 2024\n"
     ]
    }
   ],
   "source": [
    "pattern=r\"\\d+\"\n",
    "str1=\"order number 1234 shipped on 28th December 2024\"\n",
    "result=re.sub(pattern,'srav',str1,count=1)\n",
    "print(\"result:\", result)"
   ]
  },
  {
   "cell_type": "markdown",
   "id": "4e7c57f1-96d2-46fc-bdfe-11a4ee458ca2",
   "metadata": {},
   "source": [
    "**re.split**\n",
    "\n",
    "- the pattern \\s+"
   ]
  },
  {
   "cell_type": "code",
   "execution_count": 28,
   "id": "31565302-4755-43cc-8270-cbd4a0b71ebe",
   "metadata": {},
   "outputs": [
    {
     "name": "stdout",
     "output_type": "stream",
     "text": [
      "result: ['order number ', ' shipped on ', 'th December ', '']\n"
     ]
    }
   ],
   "source": [
    "pattern=r\"\\d+\"\n",
    "str1=\"order number 1234 shipped on 28th December 2024\"\n",
    "result=re.split(pattern,str1)\n",
    "print(\"result:\", result)"
   ]
  },
  {
   "cell_type": "code",
   "execution_count": 30,
   "id": "ecb14efd-2792-4d11-b23a-1e0b5ac88319",
   "metadata": {},
   "outputs": [
    {
     "name": "stdout",
     "output_type": "stream",
     "text": [
      "result: ['order', 'number', '1234', 'shipped', 'on', '28th', 'December', '2024']\n"
     ]
    }
   ],
   "source": [
    "pattern=r\"\\s+\"\n",
    "str1=\"order number 1234 shipped on 28th December 2024\"\n",
    "result=re.split(pattern,str1)\n",
    "print(\"result:\", result)"
   ]
  },
  {
   "cell_type": "markdown",
   "id": "2856e7ad-7e76-4444-b1c3-22fe8217f21e",
   "metadata": {},
   "source": [
    "**Email validate use case**\n",
    "\n",
    "- digits\n",
    "\n",
    "- letters\n",
    "\n",
    "- spl characters"
   ]
  },
  {
   "cell_type": "code",
   "execution_count": null,
   "id": "470b3708-e3b7-4e32-887e-d2e9c8151202",
   "metadata": {},
   "outputs": [],
   "source": [
    "# ^ : used for start of the string\n",
    "# [a-zA-Z0-9_.+-] : pattern if any letter in email id have this ot only one character , many character for that we need to add a + sign at last\n",
    "# till now the pattern is ^[a-zA-Z0-9_.+-]+\n",
    "# @ : email id has symbol\n",
    "# till now the pattern is ^[a-zA-Z0-9_.+-]+@\n",
    "# [a-zA-Z0-9-]+\n",
    "# till now the pattern is ^[a-zA-Z0-9_.+-]+@[a-zA-Z0-9-]+\n",
    "# \\.\n",
    "# till now the pattern is ^[a-zA-Z0-9_.+-]+@[a-zA-Z0-9-]+\\.\n",
    "# com: [a-zA-Z]{2,}\n",
    "# till now the pattern is ^[a-zA-Z0-9_.+-]+@[a-zA-Z0-9_.+-]+\\.[a-zA-Z]{2,}\n",
    "# end of the string : the pattern is \"^[a-zA-Z0-9_.+-]+@[a-zA-Z0-9_.+-]+\\.[a-zA-Z]{2,}$\""
   ]
  },
  {
   "cell_type": "code",
   "execution_count": 31,
   "id": "557977b1-4e0f-4362-9821-03d73113eb79",
   "metadata": {},
   "outputs": [
    {
     "data": {
      "text/plain": [
       "True"
      ]
     },
     "execution_count": 31,
     "metadata": {},
     "output_type": "execute_result"
    }
   ],
   "source": [
    "pattern=r\"^[a-zA-Z0-9_.+-]+@[a-zA-Z0-9_.+-]+\\.[a-zA-Z]{2,}$\"\n",
    "email=\"omkar.nallagoni@gmail.com\"\n",
    "bool(re.match(pattern,email))"
   ]
  },
  {
   "cell_type": "code",
   "execution_count": 32,
   "id": "013e9bbf-53dd-4d2a-93df-6060834cd11f",
   "metadata": {},
   "outputs": [
    {
     "data": {
      "text/plain": [
       "True"
      ]
     },
     "execution_count": 32,
     "metadata": {},
     "output_type": "execute_result"
    }
   ],
   "source": [
    "pattern=r\"^[a-zA-Z0-9_.+-]+@[a-zA-Z0-9_.+-]+\\.[a-zA-Z]{2,}\"\n",
    "email=\"omkar.nallagoni@gmail.com\"\n",
    "bool(re.match(pattern,email))"
   ]
  },
  {
   "cell_type": "code",
   "execution_count": 33,
   "id": "77c3167f-cf54-4141-9d67-d9fecc0becb8",
   "metadata": {},
   "outputs": [
    {
     "data": {
      "text/plain": [
       "True"
      ]
     },
     "execution_count": 33,
     "metadata": {},
     "output_type": "execute_result"
    }
   ],
   "source": [
    "pattern=r\"^[a-zA-Z0-9_.+-]+@[a-zA-Z0-9_.+-]+\\.[a-zA-Z]{2,}$\"\n",
    "email=\"omkar.nalla+goni@gma-il.com\"\n",
    "bool(re.match(pattern,email))"
   ]
  },
  {
   "cell_type": "code",
   "execution_count": 34,
   "id": "a7a02015-6e34-4921-8052-bacd28dee60b",
   "metadata": {},
   "outputs": [
    {
     "data": {
      "text/plain": [
       "True"
      ]
     },
     "execution_count": 34,
     "metadata": {},
     "output_type": "execute_result"
    }
   ],
   "source": [
    "pattern=r\"^[a-zA-Z0-9_.+-]+@[a-zA-Z0-9_.+-]+\\.[a-zA-Z]{2,}$\"\n",
    "email=\"om-kar.nalla.goni@gmail.com\"\n",
    "bool(re.match(pattern,email))"
   ]
  },
  {
   "cell_type": "markdown",
   "id": "d16428f2-2b6a-484a-9f8d-0561ae156045",
   "metadata": {},
   "source": [
    "**Matching a sequence of 10 numbers**"
   ]
  },
  {
   "cell_type": "code",
   "execution_count": 44,
   "id": "405fcf3a-0d83-4797-82b4-c6fddd3cbe9d",
   "metadata": {},
   "outputs": [
    {
     "data": {
      "text/plain": [
       "['1234567890']"
      ]
     },
     "execution_count": 44,
     "metadata": {},
     "output_type": "execute_result"
    }
   ],
   "source": [
    "pattern=r'\\d+'\n",
    "str1='my mobile number is 1234567890'\n",
    "re.findall(pattern,str1)"
   ]
  },
  {
   "cell_type": "code",
   "execution_count": 36,
   "id": "8b3880fc-72b5-4211-9296-66d6f6be5262",
   "metadata": {},
   "outputs": [
    {
     "data": {
      "text/plain": [
       "['123', '456', '789']"
      ]
     },
     "execution_count": 36,
     "metadata": {},
     "output_type": "execute_result"
    }
   ],
   "source": [
    "import re\n",
    "pattern=r'\\d{3}'\n",
    "str1='my mobile number is 1234567890'\n",
    "re.findall(pattern,str1)"
   ]
  },
  {
   "cell_type": "code",
   "execution_count": 40,
   "id": "fd585d90-18cd-4e33-923a-c02037df4b7c",
   "metadata": {},
   "outputs": [
    {
     "data": {
      "text/plain": [
       "['1234567890', '456']"
      ]
     },
     "execution_count": 40,
     "metadata": {},
     "output_type": "execute_result"
    }
   ],
   "source": [
    "pattern=r'\\d{3,}'\n",
    "str1='my mobile number is 1234567890 456 12'\n",
    "re.findall(pattern,str1)"
   ]
  },
  {
   "cell_type": "code",
   "execution_count": 41,
   "id": "4aef8ad9-5b31-41ee-8ac8-a603e7d2bd9e",
   "metadata": {},
   "outputs": [
    {
     "data": {
      "text/plain": [
       "['123', '456', '789', '0']"
      ]
     },
     "execution_count": 41,
     "metadata": {},
     "output_type": "execute_result"
    }
   ],
   "source": [
    "pattern=r'\\d{3}|[0-9]'\n",
    "str1='my mobile number is 1234567890'\n",
    "re.findall(pattern,str1)"
   ]
  },
  {
   "cell_type": "code",
   "execution_count": 43,
   "id": "4dcf47cc-a038-43f1-b34a-d956135a48a2",
   "metadata": {},
   "outputs": [
    {
     "data": {
      "text/plain": [
       "[]"
      ]
     },
     "execution_count": 43,
     "metadata": {},
     "output_type": "execute_result"
    }
   ],
   "source": [
    "pattern=r'\\d{15}'\n",
    "str1='my mobile number is 1234567890'\n",
    "re.findall(pattern,str1)"
   ]
  },
  {
   "cell_type": "code",
   "execution_count": null,
   "id": "b7b33a27-6e4a-4c4b-9949-baa3345ed6b8",
   "metadata": {},
   "outputs": [],
   "source": [
    "# \\d+: 1234567890\n",
    "# \\d{3}: 123,456,789\n",
    "# \\d{3}|[0-9]: 123,456,789,0\n",
    "# \\d{3,}: is min 3 digits present in 123456789 yes\n"
   ]
  },
  {
   "cell_type": "code",
   "execution_count": null,
   "id": "841a01a7-d2d5-425e-85a2-35673b113826",
   "metadata": {},
   "outputs": [],
   "source": [
    "import re\n",
    "import warnings\n",
    "warnings.filterwarnings('ignore')\n",
    "\n",
    "pattern=r'\\d+'\n",
    "str1='my mobile number is 1234567890'\n",
    "re.findall(pattern,str1)\n",
    "\n",
    "pattern=r'\\d{3}'\n",
    "str1='my mobile number is 1234567890'\n",
    "re.findall(pattern,str1)\n",
    "\n",
    "pattern=r'\\d{3,}'\n",
    "str1='my mobile number is 1234567890'\n",
    "re.findall(pattern,str1)\n",
    "\n",
    "pattern=r'\\d{3}|[0-9]'\n",
    "str1='my mobile number is 1234567890'\n",
    "re.findall(pattern,str1)\n",
    "\n",
    "pattern=r'\\d{15}'\n",
    "str1='my mobile number is 1234567890'\n",
    "re.findall(pattern,str1)"
   ]
  },
  {
   "cell_type": "code",
   "execution_count": 45,
   "id": "1914d016-7ab0-42f0-b72d-5a5d3035ea7d",
   "metadata": {},
   "outputs": [
    {
     "data": {
      "text/plain": [
       "['123-456-7890']"
      ]
     },
     "execution_count": 45,
     "metadata": {},
     "output_type": "execute_result"
    }
   ],
   "source": [
    "str1=\"My number is 123-456-7890\"\n",
    "pattern=r\"\\d{3}-\\d{3}-\\d{4}\"\n",
    "re.findall(pattern,str1)"
   ]
  },
  {
   "cell_type": "code",
   "execution_count": 51,
   "id": "8c5b7d90-0457-4d12-be7e-07ad4ecc35ff",
   "metadata": {},
   "outputs": [
    {
     "data": {
      "text/plain": [
       "['(123) 456-7890']"
      ]
     },
     "execution_count": 51,
     "metadata": {},
     "output_type": "execute_result"
    }
   ],
   "source": [
    "str1=\"My number is (123) 456-7890\"\n",
    "pattern=r\"\\(\\d{3}\\) \\d{3}-\\d{4}\"\n",
    "re.findall(pattern,str1)"
   ]
  },
  {
   "cell_type": "code",
   "execution_count": 54,
   "id": "75d3ed3a-e44f-433c-8ee3-232a7e360d68",
   "metadata": {},
   "outputs": [
    {
     "data": {
      "text/plain": [
       "['123-456-7890,(123) 456-7890,123.456.7890']"
      ]
     },
     "execution_count": 54,
     "metadata": {},
     "output_type": "execute_result"
    }
   ],
   "source": [
    "str1='my number is 123-456-7890,(123) 456-7890,123.456.7890'\n",
    "pattern=r\"\\d{3}-\\d{3}-\\d{4},\\(\\d{3}\\) \\d{3}-\\d{4},\\d{3}.\\d{3}.\\d{4}\"\n",
    "re.findall(pattern,str1)"
   ]
  },
  {
   "cell_type": "code",
   "execution_count": null,
   "id": "c51aa0f0-265b-4397-8973-3ef335a2ebb6",
   "metadata": {},
   "outputs": [],
   "source": [
    "# \\(?\\d{3}\\)? : may or may not be a bracket\n",
    "# [.-\\s]? : 123. or 123- or 123 \n"
   ]
  },
  {
   "cell_type": "code",
   "execution_count": 59,
   "id": "df1a455f-d23f-47e9-819e-57da7376e03c",
   "metadata": {},
   "outputs": [
    {
     "data": {
      "text/plain": [
       "['123-456-7890', '(123) 456-7890', '123.456.7890']"
      ]
     },
     "execution_count": 59,
     "metadata": {},
     "output_type": "execute_result"
    }
   ],
   "source": [
    "str1='my number is 123-456-7890,(123) 456-7890,123.456.7890'\n",
    "pattern=r\"\\(?\\d{3}\\)?[-.\\s]?\\d{3}[-.\\s]?\\d{4}\"\n",
    "re.findall(pattern,str1)"
   ]
  },
  {
   "cell_type": "code",
   "execution_count": null,
   "id": "14d54a5d-d1d5-4798-b054-c351371165da",
   "metadata": {},
   "outputs": [],
   "source": []
  }
 ],
 "metadata": {
  "kernelspec": {
   "display_name": "Python 3 (ipykernel)",
   "language": "python",
   "name": "python3"
  },
  "language_info": {
   "codemirror_mode": {
    "name": "ipython",
    "version": 3
   },
   "file_extension": ".py",
   "mimetype": "text/x-python",
   "name": "python",
   "nbconvert_exporter": "python",
   "pygments_lexer": "ipython3",
   "version": "3.12.7"
  }
 },
 "nbformat": 4,
 "nbformat_minor": 5
}
