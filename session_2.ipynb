{
 "cells": [
  {
   "cell_type": "code",
   "execution_count": 2,
   "id": "13d22887-d94e-46f4-b16d-9a9f5efd8b14",
   "metadata": {},
   "outputs": [
    {
     "data": {
      "text/plain": [
       "'C:\\\\Users\\\\sravani9'"
      ]
     },
     "execution_count": 2,
     "metadata": {},
     "output_type": "execute_result"
    }
   ],
   "source": [
    "import os\n",
    "os.getcwd()\n",
    "# get current working directory"
   ]
  },
  {
   "cell_type": "code",
   "execution_count": 3,
   "id": "4091446f-fb15-4523-b4ee-103de6b33d96",
   "metadata": {},
   "outputs": [],
   "source": [
    "# checkpoint-1\n",
    "# empty square bracket before the code cell\n",
    "# indicates we did not run the cell\n",
    "\n",
    "# checkpoint-2\n",
    "# if we see a * mark inside square bracket\n",
    "# do not run the code cell\n",
    "\n",
    "# star mark inicates kernel is busy\n",
    "# the same we acn observe the top left corner black dot\n"
   ]
  },
  {
   "cell_type": "code",
   "execution_count": 4,
   "id": "feaf4c11-1e69-47b1-a161-576625d0556c",
   "metadata": {},
   "outputs": [],
   "source": [
    "number=100"
   ]
  },
  {
   "cell_type": "code",
   "execution_count": 5,
   "id": "9375828b-a63b-43b0-96ce-65691b24cf30",
   "metadata": {},
   "outputs": [
    {
     "data": {
      "text/plain": [
       "100"
      ]
     },
     "execution_count": 5,
     "metadata": {},
     "output_type": "execute_result"
    }
   ],
   "source": [
    "number"
   ]
  },
  {
   "cell_type": "code",
   "execution_count": 6,
   "id": "fe2ff96f-df61-46e5-9881-7945eec13728",
   "metadata": {},
   "outputs": [],
   "source": [
    "number=200"
   ]
  },
  {
   "cell_type": "code",
   "execution_count": 7,
   "id": "fe3f3f1d-61a7-4774-b7be-14d29572d627",
   "metadata": {},
   "outputs": [
    {
     "data": {
      "text/plain": [
       "200"
      ]
     },
     "execution_count": 7,
     "metadata": {},
     "output_type": "execute_result"
    }
   ],
   "source": [
    "number"
   ]
  },
  {
   "cell_type": "code",
   "execution_count": 8,
   "id": "08cb0762-949c-4eaf-af97-8c477ef97d51",
   "metadata": {},
   "outputs": [
    {
     "data": {
      "text/plain": [
       "'srav'"
      ]
     },
     "execution_count": 8,
     "metadata": {},
     "output_type": "execute_result"
    }
   ],
   "source": [
    "name=\"srav\"\n",
    "name"
   ]
  },
  {
   "cell_type": "code",
   "execution_count": 10,
   "id": "6f7464b2-e90e-42e1-b56f-dc552a56d844",
   "metadata": {},
   "outputs": [
    {
     "ename": "SyntaxError",
     "evalue": "invalid syntax (881160678.py, line 1)",
     "output_type": "error",
     "traceback": [
      "\u001b[1;36m  Cell \u001b[1;32mIn[10], line 1\u001b[1;36m\u001b[0m\n\u001b[1;33m    hello today im learning python\u001b[0m\n\u001b[1;37m          ^\u001b[0m\n\u001b[1;31mSyntaxError\u001b[0m\u001b[1;31m:\u001b[0m invalid syntax\n"
     ]
    }
   ],
   "source": [
    "hello today im learning python\n",
    "square bracket is there : yes\n",
    "code mode is there : yes\n",
    "if these two are there which indicates this current cell used for to write code only\n",
    "if you write english i will throw error\n",
    "go to top code mode after a drop down symbol is there\n",
    "click on that\n",
    "we can see mark down option\n",
    "select it then we can not see any square bracket \n"
   ]
  },
  {
   "cell_type": "markdown",
   "id": "a70b5f83-819c-42a4-96ec-8745c7f0e9d4",
   "metadata": {},
   "source": [
    "# python \n"
   ]
  },
  {
   "cell_type": "markdown",
   "id": "f323d54d-eaf9-4864-b4b3-4fc1671adf0c",
   "metadata": {},
   "source": [
    "- esc+m will change code mode to markdown mode\n",
    "- esc+y will change markdown mode to code mode"
   ]
  },
  {
   "cell_type": "markdown",
   "id": "dec2b1a4-7448-48a2-9683-bf1785821598",
   "metadata": {},
   "source": [
    "# python\n",
    "## python\n",
    "### python"
   ]
  },
  {
   "cell_type": "markdown",
   "id": "22a124ea-1158-4b94-995d-df8cd6b9d8ca",
   "metadata": {},
   "source": [
    "**now i will show how to upload image**\n",
    "\n",
    "- but this will work for only some people\n",
    "\n",
    "- dont worry"
   ]
  },
  {
   "cell_type": "markdown",
   "id": "5792b418-3d88-42e0-a32e-5921fc2631dd",
   "metadata": {},
   "source": [
    "<img alt=\"\" style=\"width: 131.9px; height: 189.7px; margin-top: -4.9px; margin-left: 0px;\" class=\"\" src=\"https://tse3.mm.bing.net/th?id=OIP.8kuKu2Gt2ZggJGViMuVKkwHaKp&amp;pid=Api&amp;P=0&amp;h=180\" id=\"yui_3_5_1_1_1735620312593_683\">"
   ]
  },
  {
   "cell_type": "code",
   "execution_count": null,
   "id": "4582a830-2b15-4062-9011-cb84ce15f172",
   "metadata": {},
   "outputs": [],
   "source": [
    "ctrl+a\n",
    "ctrl+c\n",
    "ctrl+v\n",
    "esc+m\n",
    "shift+enter"
   ]
  }
 ],
 "metadata": {
  "kernelspec": {
   "display_name": "Python 3 (ipykernel)",
   "language": "python",
   "name": "python3"
  },
  "language_info": {
   "codemirror_mode": {
    "name": "ipython",
    "version": 3
   },
   "file_extension": ".py",
   "mimetype": "text/x-python",
   "name": "python",
   "nbconvert_exporter": "python",
   "pygments_lexer": "ipython3",
   "version": "3.12.7"
  }
 },
 "nbformat": 4,
 "nbformat_minor": 5
}
