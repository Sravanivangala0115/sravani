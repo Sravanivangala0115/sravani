{
 "cells": [
  {
   "cell_type": "code",
   "execution_count": 1,
   "id": "fa6b50a6-eb26-4e94-85f5-b38d38132550",
   "metadata": {},
   "outputs": [
    {
     "data": {
      "text/plain": [
       "20"
      ]
     },
     "execution_count": 1,
     "metadata": {},
     "output_type": "execute_result"
    }
   ],
   "source": [
    "a=10\n",
    "b=20\n",
    "a\n",
    "b"
   ]
  },
  {
   "cell_type": "code",
   "execution_count": 2,
   "id": "d95bb4aa-3554-4c5e-b56a-e0daa8f9d78f",
   "metadata": {},
   "outputs": [
    {
     "name": "stdout",
     "output_type": "stream",
     "text": [
      "10\n",
      "20\n"
     ]
    }
   ],
   "source": [
    "a=10\n",
    "b=20\n",
    "print(a)\n",
    "print(b)"
   ]
  },
  {
   "cell_type": "code",
   "execution_count": 3,
   "id": "e408ac6e-4cda-48c0-853f-8f112a543323",
   "metadata": {},
   "outputs": [
    {
     "name": "stdout",
     "output_type": "stream",
     "text": [
      "10\n",
      "20\n"
     ]
    }
   ],
   "source": [
    "print(10)\n",
    "print(20)"
   ]
  },
  {
   "cell_type": "code",
   "execution_count": 4,
   "id": "4c91ef35-eb4b-462f-b0e8-698682065318",
   "metadata": {},
   "outputs": [
    {
     "name": "stdout",
     "output_type": "stream",
     "text": [
      "10\n",
      "20\n"
     ]
    },
    {
     "data": {
      "text/plain": [
       "(None, None)"
      ]
     },
     "execution_count": 4,
     "metadata": {},
     "output_type": "execute_result"
    }
   ],
   "source": [
    "print(10), print(20)"
   ]
  },
  {
   "cell_type": "code",
   "execution_count": 5,
   "id": "b7f0ac33-d75f-4b9e-8bbc-8d4bcf1f3f03",
   "metadata": {},
   "outputs": [
    {
     "data": {
      "text/plain": [
       "(10, 20)"
      ]
     },
     "execution_count": 5,
     "metadata": {},
     "output_type": "execute_result"
    }
   ],
   "source": [
    "10, 20"
   ]
  },
  {
   "cell_type": "code",
   "execution_count": 6,
   "id": "d20ad5c7-1996-485b-b18c-96531facfb94",
   "metadata": {},
   "outputs": [
    {
     "name": "stdout",
     "output_type": "stream",
     "text": [
      "10 20\n"
     ]
    }
   ],
   "source": [
    "print(a,b)"
   ]
  },
  {
   "cell_type": "code",
   "execution_count": 7,
   "id": "d5ddb48c-f72b-4bae-9ddf-db8a8b1a71e8",
   "metadata": {},
   "outputs": [
    {
     "name": "stdout",
     "output_type": "stream",
     "text": [
      "30 Nareshit Hyd\n"
     ]
    }
   ],
   "source": [
    "print(30, 'Nareshit','Hyd')\n",
    "# 3 values "
   ]
  },
  {
   "cell_type": "code",
   "execution_count": 8,
   "id": "4f890538-bdde-4ef1-a3e9-659bde2fecf7",
   "metadata": {},
   "outputs": [
    {
     "name": "stdout",
     "output_type": "stream",
     "text": [
      "the addition of 100 and 200 is 300\n",
      "the addition of num1 and num2 is 300\n",
      "the addition of 100 and 200 is 300\n"
     ]
    }
   ],
   "source": [
    "num1=100\n",
    "num2=200\n",
    "add=num1+num2\n",
    "# the addition of 100 and 200 is 300\n",
    "print(\"the addition of 100 and 200 is 300\")\n",
    "print(\"the addition of num1 and num2 is 300\")\n",
    "# num1 and num2 should be in black color\n",
    "print(\"the addition of\",num1,\"and\",num2,\"is\",add)"
   ]
  },
  {
   "cell_type": "code",
   "execution_count": 9,
   "id": "779e79bd-7434-4c60-bcb6-bd532300aa9e",
   "metadata": {},
   "outputs": [
    {
     "name": "stdout",
     "output_type": "stream",
     "text": [
      "the addition of 100 and 200 is 300\n",
      "the addition of num1 and num2 is 300\n",
      "the addition of 1000 and 200 is 1200\n"
     ]
    }
   ],
   "source": [
    "num1=1000\n",
    "num2=200\n",
    "add=num1+num2\n",
    "# the addition of 100 and 200 is 300\n",
    "print(\"the addition of 100 and 200 is 300\")\n",
    "print(\"the addition of num1 and num2 is 300\")\n",
    "# num1 and num2 should be in black color\n",
    "print(\"the addition of\",num1,\"and\",num2,\"is\",add)"
   ]
  },
  {
   "cell_type": "code",
   "execution_count": 30,
   "id": "1d015dd6-0aa0-470c-b1ee-59c874fe7753",
   "metadata": {},
   "outputs": [
    {
     "name": "stdout",
     "output_type": "stream",
     "text": [
      "my name is python im 10 years old come from hyd\n",
      "my name is python im 10  years old and come from hyd\n"
     ]
    }
   ],
   "source": [
    "name=\"python\"\n",
    "age=\"10\"\n",
    "city=\"hyd\"\n",
    "# my name is python im 10 years old come from hyd\n",
    "print(\"my name is python im 10 years old come from hyd\")\n",
    "print(\"my name is\",name,\"im\",age,\" years old and come from\",city)"
   ]
  },
  {
   "cell_type": "markdown",
   "id": "618595d3-3d9b-41f6-9394-6a61bdf3e25b",
   "metadata": {},
   "source": [
    "**format**"
   ]
  },
  {
   "cell_type": "code",
   "execution_count": 14,
   "id": "58fbe642-507d-4ec0-8384-c2aa81532eb9",
   "metadata": {},
   "outputs": [
    {
     "name": "stdout",
     "output_type": "stream",
     "text": [
      "my name is pythn im 10 years old come from hyd\n"
     ]
    }
   ],
   "source": [
    "name=\"pythn\"\n",
    "age=\"10\"\n",
    "city=\"hyd\"\n",
    "print(\"my name is {} im {} years old come from {}\".format(name,age,city))"
   ]
  },
  {
   "cell_type": "code",
   "execution_count": 15,
   "id": "410ab215-66cf-4ca5-a7ea-6076fa63d6f5",
   "metadata": {},
   "outputs": [
    {
     "name": "stdout",
     "output_type": "stream",
     "text": [
      "the addition of 100 and 200 is 300\n",
      "the addition of num1 and num2 is 300\n",
      "the addition of 1000 and 200 is 1200\n"
     ]
    }
   ],
   "source": [
    "num1=1000\n",
    "num2=200\n",
    "add=num1+num2\n",
    "print(\"the addition of 100 and 200 is 300\")\n",
    "print(\"the addition of num1 and num2 is 300\")\n",
    "print(\"the addition of {} and {} is {}\".format(num1,num2,add))"
   ]
  },
  {
   "cell_type": "code",
   "execution_count": null,
   "id": "1bfb807c-108b-41ba-8425-2aa9c66651a7",
   "metadata": {},
   "outputs": [],
   "source": [
    "# wap take two numbers perform the \n",
    "# substraction\n",
    "# multiplication\n",
    "# division\n",
    "# print the statements as follows\n",
    "\n",
    "# the substraction of 100 and 200 is -100\n",
    "# the multiplication of 100 and 200 is 20000\n",
    "# the didision of 100 and 200 is 0.5\n",
    "\n"
   ]
  },
  {
   "cell_type": "code",
   "execution_count": 17,
   "id": "66dfad41-c5fc-469d-8d2c-90c5ba4872e8",
   "metadata": {},
   "outputs": [
    {
     "name": "stdout",
     "output_type": "stream",
     "text": [
      "the substraction of 100 and 200 is -100\n"
     ]
    }
   ],
   "source": [
    "num1=100\n",
    "num2=200\n",
    "sub=num1-num2\n",
    "print(\"the substraction of {} and {} is {}\".format(num1,num2,sub))"
   ]
  },
  {
   "cell_type": "code",
   "execution_count": 24,
   "id": "5f6bff35-50ad-47cd-975b-fd34782fd0eb",
   "metadata": {},
   "outputs": [
    {
     "name": "stdout",
     "output_type": "stream",
     "text": [
      "the multiplication of 100 and 200 is 20000\n"
     ]
    }
   ],
   "source": [
    "num1=100\n",
    "num2=200\n",
    "mul=num1*num2\n",
    "print(\"the multiplication of {} and {} is {}\".format(num1,num2,mul))"
   ]
  },
  {
   "cell_type": "code",
   "execution_count": 23,
   "id": "56e9a672-5daf-46df-8d71-19108d5f6839",
   "metadata": {},
   "outputs": [
    {
     "name": "stdout",
     "output_type": "stream",
     "text": [
      "the division of 100 and 200 is 0.5\n"
     ]
    }
   ],
   "source": [
    "num1=100\n",
    "num2=200\n",
    "div=100/200\n",
    "print(\"the division of {} and {} is {}\".format(num1,num2,div))"
   ]
  },
  {
   "cell_type": "code",
   "execution_count": null,
   "id": "a59b5b15-8da6-4ec8-9c4d-7a86083addd6",
   "metadata": {},
   "outputs": [],
   "source": [
    "# wap take three numbers\n",
    "# avg=(a+b+c)/3\n",
    "# print the statement\n",
    "# the avg of a,b,c is :"
   ]
  },
  {
   "cell_type": "code",
   "execution_count": 38,
   "id": "8a7141a3-5d82-4f9e-a82b-d2ae2deebf5d",
   "metadata": {},
   "outputs": [
    {
     "name": "stdout",
     "output_type": "stream",
     "text": [
      "the average of 10, 20 and 30 is : 20.0\n"
     ]
    }
   ],
   "source": [
    "a=10\n",
    "b=20\n",
    "c=30\n",
    "avg=(a+b+c)/3\n",
    "print(\"the average of {}, {} and {} is : {}\".format(a,b,c,avg))"
   ]
  },
  {
   "cell_type": "markdown",
   "id": "703e34c1-0a25-4f60-9943-5c540b57f9e6",
   "metadata": {},
   "source": [
    "**f string method**"
   ]
  },
  {
   "cell_type": "code",
   "execution_count": 30,
   "id": "9cc03a0a-8083-4073-b82f-5cf888cd11e3",
   "metadata": {},
   "outputs": [
    {
     "name": "stdout",
     "output_type": "stream",
     "text": [
      "the addition of 1000 and 200 is 1200\n"
     ]
    }
   ],
   "source": [
    "num1=1000\n",
    "num2=200\n",
    "add=num1+num2\n",
    "print(f\"the addition of {num1} and {num2} is {add}\")"
   ]
  },
  {
   "cell_type": "code",
   "execution_count": 31,
   "id": "d16d9638-0b83-407d-a71b-5ca6c677b281",
   "metadata": {},
   "outputs": [
    {
     "name": "stdout",
     "output_type": "stream",
     "text": [
      "the substraction of 1000 and 200 is 800\n"
     ]
    }
   ],
   "source": [
    "num1=1000\n",
    "num2=200\n",
    "sub=num1-num2\n",
    "print(f\"the substraction of {num1} and {num2} is {sub}\")"
   ]
  },
  {
   "cell_type": "code",
   "execution_count": 32,
   "id": "8f584cff-d678-432c-9a45-888398348696",
   "metadata": {},
   "outputs": [
    {
     "name": "stdout",
     "output_type": "stream",
     "text": [
      "the multiplication of 1000 and 200 is 200000\n"
     ]
    }
   ],
   "source": [
    "num1=1000\n",
    "num2=200\n",
    "mul=num1*num2\n",
    "print(f\"the multiplication of {num1} and {num2} is {mul}\")"
   ]
  },
  {
   "cell_type": "code",
   "execution_count": 33,
   "id": "366bd85f-2c5e-4e4b-9ebc-8b2dbceb8f66",
   "metadata": {},
   "outputs": [
    {
     "name": "stdout",
     "output_type": "stream",
     "text": [
      "the division of 1000 and 200 is 5.0\n"
     ]
    }
   ],
   "source": [
    "num1=1000\n",
    "num2=200\n",
    "div=num1/num2\n",
    "print(f\"the division of {num1} and {num2} is {div}\")"
   ]
  },
  {
   "cell_type": "code",
   "execution_count": 24,
   "id": "318a049d-20e6-467f-8d5d-c134f2e132e8",
   "metadata": {},
   "outputs": [
    {
     "name": "stdout",
     "output_type": "stream",
     "text": [
      "the average of 10, 20 and 30 is : 20.0\n"
     ]
    }
   ],
   "source": [
    "a=10\n",
    "b=20\n",
    "c=30\n",
    "avg=(a+b+c)/3\n",
    "print(f\"the average of {a}, {b} and {c} is : {avg}\")"
   ]
  },
  {
   "cell_type": "markdown",
   "id": "f6184cc0-6bb6-436a-8d9f-4562fd1d7f96",
   "metadata": {},
   "source": [
    "**round**"
   ]
  },
  {
   "cell_type": "code",
   "execution_count": null,
   "id": "116d2e59-f5f6-44b8-99e2-4b9ce472f982",
   "metadata": {},
   "outputs": [],
   "source": [
    "# print()\n",
    "# type()\n",
    "# int()\n",
    "# float()\n",
    "# str()\n",
    "# bool()\n",
    "# round()"
   ]
  },
  {
   "cell_type": "markdown",
   "id": "2698bb15-8cbb-4dc0-8afb-0d3673117ba1",
   "metadata": {},
   "source": [
    "- ctrl+a and ctrl+/ used for # statement"
   ]
  },
  {
   "cell_type": "code",
   "execution_count": 36,
   "id": "f60653a1-ac2f-428c-accc-3bea2ee7b2eb",
   "metadata": {},
   "outputs": [
    {
     "data": {
      "text/plain": [
       "6"
      ]
     },
     "execution_count": 36,
     "metadata": {},
     "output_type": "execute_result"
    }
   ],
   "source": [
    "round(6.4)"
   ]
  },
  {
   "cell_type": "markdown",
   "id": "8df8197f-0143-4b05-b815-fbd422c619e1",
   "metadata": {},
   "source": [
    "**round**\n",
    "round(10.77777,2)"
   ]
  },
  {
   "cell_type": "code",
   "execution_count": 39,
   "id": "fa2abd56-5a2d-465d-b3e9-30857cb39bc2",
   "metadata": {},
   "outputs": [
    {
     "name": "stdout",
     "output_type": "stream",
     "text": [
      "11\n"
     ]
    }
   ],
   "source": [
    "print(round(10.77777))"
   ]
  },
  {
   "cell_type": "code",
   "execution_count": 40,
   "id": "a9122bff-5c03-4a2a-bff5-772da971b430",
   "metadata": {},
   "outputs": [
    {
     "name": "stdout",
     "output_type": "stream",
     "text": [
      "10.78\n"
     ]
    }
   ],
   "source": [
    "print(round(10.77777,2))"
   ]
  },
  {
   "cell_type": "code",
   "execution_count": 41,
   "id": "1add60f8-b225-4ff1-98ef-c5f360f57e89",
   "metadata": {},
   "outputs": [
    {
     "name": "stdout",
     "output_type": "stream",
     "text": [
      "10.778\n"
     ]
    }
   ],
   "source": [
    "print(round(10.77777,3))"
   ]
  },
  {
   "cell_type": "code",
   "execution_count": 43,
   "id": "99e4ff03-f859-4d06-8989-2b3ac574c351",
   "metadata": {},
   "outputs": [
    {
     "name": "stdout",
     "output_type": "stream",
     "text": [
      "20.33\n"
     ]
    }
   ],
   "source": [
    "a=11\n",
    "b=20\n",
    "c=30\n",
    "avg=(a+b+c)/3\n",
    "print(round(avg,2))"
   ]
  },
  {
   "cell_type": "markdown",
   "id": "6a5ccddd-b3ae-44e1-aff4-0792fec8b427",
   "metadata": {},
   "source": [
    "**i have multiple print statements**\n",
    "**but i want to show in single line**"
   ]
  },
  {
   "cell_type": "code",
   "execution_count": 45,
   "id": "6a4d7504-1ca9-4c62-a34a-d0e1388f47e3",
   "metadata": {},
   "outputs": [
    {
     "name": "stdout",
     "output_type": "stream",
     "text": [
      "10\n",
      "20\n"
     ]
    }
   ],
   "source": [
    "print(10)\n",
    "print(20)"
   ]
  },
  {
   "cell_type": "markdown",
   "id": "c6465230-47bb-4a65-84f8-2d1f54d39ae5",
   "metadata": {},
   "source": [
    "**end operator**"
   ]
  },
  {
   "cell_type": "code",
   "execution_count": 46,
   "id": "2fbe3b58-dfb2-4a16-8dea-6308fb59703c",
   "metadata": {},
   "outputs": [
    {
     "name": "stdout",
     "output_type": "stream",
     "text": [
      "10 20\n"
     ]
    }
   ],
   "source": [
    "print(10,end=\" \")\n",
    "print(20)"
   ]
  },
  {
   "cell_type": "code",
   "execution_count": 47,
   "id": "91f20b55-0ee5-45c7-8054-bd976422be4f",
   "metadata": {},
   "outputs": [
    {
     "name": "stdout",
     "output_type": "stream",
     "text": [
      "10 20\n",
      "30\n"
     ]
    }
   ],
   "source": [
    "print(10,end=\" \")\n",
    "print(20)\n",
    "print(30)"
   ]
  },
  {
   "cell_type": "code",
   "execution_count": 48,
   "id": "68845bd6-7162-4eea-aad6-831e634cf96b",
   "metadata": {},
   "outputs": [
    {
     "name": "stdout",
     "output_type": "stream",
     "text": [
      "10 20 30\n"
     ]
    }
   ],
   "source": [
    "print(10,end=\" \")\n",
    "print(20,end=\" \")\n",
    "print(30)"
   ]
  },
  {
   "cell_type": "code",
   "execution_count": 6,
   "id": "64266e20-c7f1-406b-91eb-28297d4fd5be",
   "metadata": {},
   "outputs": [
    {
     "name": "stdout",
     "output_type": "stream",
     "text": [
      "hello how are you\n"
     ]
    }
   ],
   "source": [
    "print('hello',end=\" \")\n",
    "print('how',end=\" \")\n",
    "print('are',end=\" \")\n",
    "print('you')"
   ]
  },
  {
   "cell_type": "code",
   "execution_count": 7,
   "id": "86969ec9-a2e2-42b5-ad76-79354db4f336",
   "metadata": {},
   "outputs": [
    {
     "name": "stdout",
     "output_type": "stream",
     "text": [
      "10 20 30\n"
     ]
    }
   ],
   "source": [
    "print(10,20,30,sep=' ')"
   ]
  },
  {
   "cell_type": "code",
   "execution_count": 52,
   "id": "3ee798a9-6393-4d4e-91d2-e0963e6cb0b0",
   "metadata": {},
   "outputs": [
    {
     "name": "stdout",
     "output_type": "stream",
     "text": [
      "10====>20====>30\n"
     ]
    }
   ],
   "source": [
    "print(10,20,30,sep='====>')"
   ]
  },
  {
   "cell_type": "markdown",
   "id": "5d158a5d-e19a-4380-ad1a-e2f0c884af06",
   "metadata": {},
   "source": [
    "- basic print statement\n",
    "\n",
    "- we learn format method\n",
    "\n",
    "- we learn f string method\n",
    "\n",
    "- we learn round method\n",
    "\n",
    "- we learn end operator\n",
    "\n",
    "- we learn sep operator"
   ]
  },
  {
   "cell_type": "code",
   "execution_count": null,
   "id": "965219ef-6814-4a3e-aa77-c2582f5d8ac0",
   "metadata": {},
   "outputs": [],
   "source": [
    "# wap take the radius of a circle calculate area of the circle\n",
    "# var1= radius\n",
    "# var2 : pi= 3.14\n",
    "# formulae : pi*radius*radius\n",
    "# print the answers using f string and format\n",
    "\n",
    "# wap take the breadth and height of a right angle triangle\n",
    "# calculate the area\n",
    "# var1: breadth var2: height\n",
    "# formulaw: 0.5* breadth*height\n",
    "\n",
    "# wap take the bill amount and tip amount\n",
    "# calculate total bill\n",
    "# var1: bill amount var2: tip amount\n",
    "# formulae\n",
    "\n",
    "# wap take the length and breadth of a rectangle  calculate area\n",
    "# var1: length var2: breadth\n",
    "# fprmulae: length*breadth"
   ]
  },
  {
   "cell_type": "code",
   "execution_count": 1,
   "id": "2db12947-c74c-44b6-9993-3d02a47368c3",
   "metadata": {},
   "outputs": [
    {
     "name": "stdout",
     "output_type": "stream",
     "text": [
      "the area of circle is:1256.0\n"
     ]
    }
   ],
   "source": [
    "radius=20\n",
    "pi=3.14\n",
    "area=pi*radius*radius\n",
    "print(f\"the area of circle is:{area}\")"
   ]
  },
  {
   "cell_type": "code",
   "execution_count": 11,
   "id": "8e9f92f8-423a-4b7a-ade4-cd9dba0d5edb",
   "metadata": {},
   "outputs": [
    {
     "name": "stdout",
     "output_type": "stream",
     "text": [
      "the area of triangle is:400.0\n"
     ]
    }
   ],
   "source": [
    "breadth=20\n",
    "height=40\n",
    "area=0.5*breadth*height\n",
    "print(f\"the area of triangle is:{area}\")"
   ]
  },
  {
   "cell_type": "code",
   "execution_count": 12,
   "id": "0fcbc4dd-cac3-41f1-b8d4-2d6287dcb713",
   "metadata": {},
   "outputs": [
    {
     "data": {
      "text/plain": [
       "1200"
      ]
     },
     "execution_count": 12,
     "metadata": {},
     "output_type": "execute_result"
    }
   ],
   "source": [
    "bill_amount=1000\n",
    "tip_amount=200\n",
    "total_bill=bill_amount+tip_amount\n",
    "total_bill\n"
   ]
  },
  {
   "cell_type": "code",
   "execution_count": 4,
   "id": "e5942b20-d404-43a5-b7e8-16a0101d66a5",
   "metadata": {},
   "outputs": [
    {
     "name": "stdout",
     "output_type": "stream",
     "text": [
      "the area of reactangle is:15000\n"
     ]
    }
   ],
   "source": [
    "breadth=20\n",
    "height=40\n",
    "area=breadth*height\n",
    "print(f\"the area of reactangle is:{area}\")\n"
   ]
  },
  {
   "cell_type": "code",
   "execution_count": 13,
   "id": "e0412256-e3f7-45ef-bde6-b441b3bb66f2",
   "metadata": {},
   "outputs": [
    {
     "name": "stdout",
     "output_type": "stream",
     "text": [
      "the area of circle is:1256.0\n"
     ]
    }
   ],
   "source": [
    "radius=20\n",
    "pi=3.14\n",
    "area=pi*radius*radius\n",
    "print(\"the area of circle is:{}\".format(area))"
   ]
  },
  {
   "cell_type": "code",
   "execution_count": 14,
   "id": "32f81694-7ea5-45d0-a088-6888caf2ae40",
   "metadata": {},
   "outputs": [
    {
     "name": "stdout",
     "output_type": "stream",
     "text": [
      "the area of triangle is:400.0\n"
     ]
    }
   ],
   "source": [
    "breadth=20\n",
    "height=40\n",
    "area=0.5*breadth*height\n",
    "print(\"the area of triangle is:{}\".format(area))"
   ]
  },
  {
   "cell_type": "code",
   "execution_count": 15,
   "id": "596afcfb-142e-4d90-bf52-e2fecf815a29",
   "metadata": {},
   "outputs": [
    {
     "name": "stdout",
     "output_type": "stream",
     "text": [
      "the total bill amount is:1200\n"
     ]
    }
   ],
   "source": [
    "bill_amount=1000\n",
    "tip_amount=200\n",
    "total_bill=bill_amount+tip_amount\n",
    "print(\"the total bill amount is:{}\".format(total_bill))\n"
   ]
  },
  {
   "cell_type": "code",
   "execution_count": 16,
   "id": "7acb1d5d-080f-4b4c-8200-57a8cf7c3c83",
   "metadata": {},
   "outputs": [
    {
     "name": "stdout",
     "output_type": "stream",
     "text": [
      "the area of reactangle is:800\n"
     ]
    }
   ],
   "source": [
    "breadth=20\n",
    "height=40\n",
    "area=breadth*height\n",
    "print(\"the area of reactangle is:{}\".format(area))\n"
   ]
  },
  {
   "cell_type": "code",
   "execution_count": null,
   "id": "17fb1fa2-dbd8-4ec1-b322-82ea89959c6b",
   "metadata": {},
   "outputs": [],
   "source": [
    "radius=20\n",
    "pi=3.14\n",
    "\n",
    "breadth=20\n",
    "height=40\n",
    "\n",
    "bill_amount=1000\n",
    "tip_amount=200"
   ]
  },
  {
   "cell_type": "markdown",
   "id": "2f45ec73-d2f4-48aa-a6d4-fbb43224ad8e",
   "metadata": {},
   "source": [
    "**input**"
   ]
  },
  {
   "cell_type": "markdown",
   "id": "a505db03-0d9b-4ff1-ab60-a6c97ef762d2",
   "metadata": {},
   "source": [
    "- in above we provided the value\n",
    "\n",
    "- input is the inbuilt function\n",
    "\n",
    "- using input the user can provide any value"
   ]
  },
  {
   "cell_type": "code",
   "execution_count": 4,
   "id": "b4c266e2-c26d-46a4-bd6a-9f971f6388b8",
   "metadata": {},
   "outputs": [
    {
     "data": {
      "text/plain": [
       "<bound method Kernel.raw_input of <ipykernel.ipkernel.IPythonKernel object at 0x0000015D67E5D130>>"
      ]
     },
     "execution_count": 4,
     "metadata": {},
     "output_type": "execute_result"
    }
   ],
   "source": [
    "input"
   ]
  },
  {
   "cell_type": "markdown",
   "id": "805e74e5-07a7-45dd-be17-77f0d4d85c45",
   "metadata": {},
   "source": [
    "**note:whenever if we see bound method or function which indicates we forgot the brackets**"
   ]
  },
  {
   "cell_type": "code",
   "execution_count": 1,
   "id": "045fed65-c102-47c5-a349-0d0c43491448",
   "metadata": {},
   "outputs": [
    {
     "name": "stdin",
     "output_type": "stream",
     "text": [
      " 100\n"
     ]
    },
    {
     "data": {
      "text/plain": [
       "'100'"
      ]
     },
     "execution_count": 1,
     "metadata": {},
     "output_type": "execute_result"
    }
   ],
   "source": [
    "input()"
   ]
  },
  {
   "cell_type": "code",
   "execution_count": 2,
   "id": "9bc68572-04d5-48f9-aaac-415b3e832f50",
   "metadata": {},
   "outputs": [
    {
     "name": "stdin",
     "output_type": "stream",
     "text": [
      " python\n"
     ]
    },
    {
     "data": {
      "text/plain": [
       "'python'"
      ]
     },
     "execution_count": 2,
     "metadata": {},
     "output_type": "execute_result"
    }
   ],
   "source": [
    "input()"
   ]
  },
  {
   "cell_type": "code",
   "execution_count": 3,
   "id": "97dc4fd4-04e4-4e33-87ab-a0794615581a",
   "metadata": {},
   "outputs": [
    {
     "data": {
      "text/plain": [
       "int"
      ]
     },
     "execution_count": 3,
     "metadata": {},
     "output_type": "execute_result"
    }
   ],
   "source": [
    "a=100\n",
    "type(a)"
   ]
  },
  {
   "cell_type": "code",
   "execution_count": 4,
   "id": "305f5c00-6d4d-4abf-8510-a54fddad76e5",
   "metadata": {},
   "outputs": [
    {
     "name": "stdin",
     "output_type": "stream",
     "text": [
      " 200\n"
     ]
    }
   ],
   "source": [
    "b=input()\n",
    "b"
   ]
  },
  {
   "cell_type": "code",
   "execution_count": 5,
   "id": "6db914f5-756a-4640-b18b-3cae19050377",
   "metadata": {},
   "outputs": [
    {
     "data": {
      "text/plain": [
       "'python'"
      ]
     },
     "execution_count": 5,
     "metadata": {},
     "output_type": "execute_result"
    }
   ],
   "source": [
    "name=\"python\"\n",
    "name"
   ]
  },
  {
   "cell_type": "code",
   "execution_count": 6,
   "id": "40aef5fe-7207-40a8-9d46-8ff33ccb2648",
   "metadata": {},
   "outputs": [
    {
     "name": "stdin",
     "output_type": "stream",
     "text": [
      " nareshit\n"
     ]
    },
    {
     "data": {
      "text/plain": [
       "'nareshit'"
      ]
     },
     "execution_count": 6,
     "metadata": {},
     "output_type": "execute_result"
    }
   ],
   "source": [
    "name=input()\n",
    "name"
   ]
  },
  {
   "cell_type": "code",
   "execution_count": 1,
   "id": "11545ce7-1697-4a2f-ab4f-345497632d33",
   "metadata": {},
   "outputs": [
    {
     "name": "stdin",
     "output_type": "stream",
     "text": [
      " 100\n",
      " 200\n",
      " 300\n"
     ]
    },
    {
     "data": {
      "text/plain": [
       "('100', '200', '300')"
      ]
     },
     "execution_count": 1,
     "metadata": {},
     "output_type": "execute_result"
    }
   ],
   "source": [
    "n1=input() # n1= '100'\n",
    "n2=input() # n2= '200'\n",
    "n3=input() # n3= '300\n",
    "n1,n2,n3"
   ]
  },
  {
   "cell_type": "code",
   "execution_count": null,
   "id": "22aa5f9a-2748-4d1c-ba9a-b48c4e3304d2",
   "metadata": {},
   "outputs": [],
   "source": [
    "n1=input(\"enter the number1:\")\n",
    "n2=input(\"enter the number2:\")\n",
    "\n",
    "#n1='100'\n",
    "#n2='200'"
   ]
  },
  {
   "cell_type": "code",
   "execution_count": 4,
   "id": "deaf0f23-9c05-416e-86e9-81e09cdbaf42",
   "metadata": {},
   "outputs": [
    {
     "name": "stdin",
     "output_type": "stream",
     "text": [
      "enter the number1: 500\n",
      "enter the number2: 600\n"
     ]
    },
    {
     "data": {
      "text/plain": [
       "'500600'"
      ]
     },
     "execution_count": 4,
     "metadata": {},
     "output_type": "execute_result"
    }
   ],
   "source": [
    "n1=input(\"enter the number1:\") #n1='500'\n",
    "n2=input(\"enter the number2:\") #n2='600'\n",
    "n1+n2 # '500'+'600'='500600'"
   ]
  },
  {
   "cell_type": "markdown",
   "id": "bd0a9dfa-19f9-4906-9132-033bbaee0391",
   "metadata": {},
   "source": [
    "**input values by  default string type**"
   ]
  },
  {
   "cell_type": "code",
   "execution_count": 5,
   "id": "ccc07bee-9d6b-4c80-b584-2cc32cb79b64",
   "metadata": {},
   "outputs": [
    {
     "data": {
      "text/plain": [
       "'100200'"
      ]
     },
     "execution_count": 5,
     "metadata": {},
     "output_type": "execute_result"
    }
   ],
   "source": [
    "'100'+'200'"
   ]
  },
  {
   "cell_type": "code",
   "execution_count": 6,
   "id": "c8706fc9-04df-461c-b1db-c0092f94e99a",
   "metadata": {},
   "outputs": [
    {
     "data": {
      "text/plain": [
       "300"
      ]
     },
     "execution_count": 6,
     "metadata": {},
     "output_type": "execute_result"
    }
   ],
   "source": [
    "100+200"
   ]
  },
  {
   "cell_type": "code",
   "execution_count": 7,
   "id": "ff5cc220-17df-41b1-ae7c-c5f8535a84bb",
   "metadata": {},
   "outputs": [
    {
     "data": {
      "text/plain": [
       "'appleisfruite'"
      ]
     },
     "execution_count": 7,
     "metadata": {},
     "output_type": "execute_result"
    }
   ],
   "source": [
    "str1='apple'\n",
    "str2='is'\n",
    "str3='fruite'\n",
    "str1+str2+str3"
   ]
  },
  {
   "cell_type": "code",
   "execution_count": 3,
   "id": "f51c6d3b-4cb8-430c-a219-b90dbe7f3495",
   "metadata": {},
   "outputs": [
    {
     "name": "stdin",
     "output_type": "stream",
     "text": [
      "enter a string1:   apple\n",
      "enter a string2:   is\n",
      "enter a string3:   fruite  \n"
     ]
    },
    {
     "data": {
      "text/plain": [
       "'  apple  is  fruite  '"
      ]
     },
     "execution_count": 3,
     "metadata": {},
     "output_type": "execute_result"
    }
   ],
   "source": [
    "str1=input(\"enter a string1:\")\n",
    "str2=input(\"enter a string2:\")\n",
    "str3=input(\"enter a string3:\")\n",
    "str1+str2+str3"
   ]
  },
  {
   "cell_type": "code",
   "execution_count": 10,
   "id": "cfb93499-10c2-43f4-b88d-6c620ef4a8bf",
   "metadata": {},
   "outputs": [
    {
     "name": "stdin",
     "output_type": "stream",
     "text": [
      "enter the number1: 500\n",
      "enter the number2: 600\n"
     ]
    },
    {
     "data": {
      "text/plain": [
       "1100"
      ]
     },
     "execution_count": 10,
     "metadata": {},
     "output_type": "execute_result"
    }
   ],
   "source": [
    "n1=int(input(\"enter the number1:\")) # n1=int('500')=500\n",
    "n2=int(input(\"enter the number2:\")) # n2=int('600')=600\n",
    "n1+n2 # 500+600=1100"
   ]
  },
  {
   "cell_type": "code",
   "execution_count": 11,
   "id": "994cb5e4-cb8d-4d23-b5d1-80d00290edd0",
   "metadata": {},
   "outputs": [
    {
     "data": {
      "text/plain": [
       "1100"
      ]
     },
     "execution_count": 11,
     "metadata": {},
     "output_type": "execute_result"
    }
   ],
   "source": [
    "n1=int('500')\n",
    "n2=int('600')\n",
    "n1+n2"
   ]
  },
  {
   "cell_type": "code",
   "execution_count": 12,
   "id": "49c92f71-b6c5-419d-8cc5-c68afccaddbc",
   "metadata": {},
   "outputs": [
    {
     "name": "stdin",
     "output_type": "stream",
     "text": [
      "enter the number1: 500\n",
      "enter the number2: 600\n"
     ]
    },
    {
     "data": {
      "text/plain": [
       "1100"
      ]
     },
     "execution_count": 12,
     "metadata": {},
     "output_type": "execute_result"
    }
   ],
   "source": [
    "n1=input(\"enter the number1:\") # n1='500'\n",
    "n2=input(\"enter the number2:\") # n2='600'\n",
    "int(n1)+int(n2) # int('500)+int('600')=500+600=1100"
   ]
  },
  {
   "cell_type": "code",
   "execution_count": null,
   "id": "d35f80aa-a982-472e-a345-d79ee2e1ab3f",
   "metadata": {},
   "outputs": [],
   "source": [
    "n1=int(input(\"enter the number1:\")) # n1=int('500')=500\n",
    "n2=int(input(\"enter the number2:\")) # n2=int('600')=600\n",
    "n1+n2 # 500+600=1100\n",
    "\n",
    "n1=input(\"enter the number1:\") # n1='500'\n",
    "n2=input(\"enter the number2:\") # n2='600'\n",
    "int(n1)+int(n2) # int('500)+int('600')=500+600=1100"
   ]
  },
  {
   "cell_type": "code",
   "execution_count": 5,
   "id": "d8a3f47a-d70e-4dc6-8e65-1dd93c695a1b",
   "metadata": {},
   "outputs": [
    {
     "name": "stdin",
     "output_type": "stream",
     "text": [
      "enter the number1: 11\n",
      "enter the number2: 20\n"
     ]
    },
    {
     "data": {
      "text/plain": [
       "31.0"
      ]
     },
     "execution_count": 5,
     "metadata": {},
     "output_type": "execute_result"
    }
   ],
   "source": [
    "n1=float(input(\"enter the number1:\"))\n",
    "n2=int(input(\"enter the number2:\"))\n",
    "n1+n2"
   ]
  },
  {
   "cell_type": "markdown",
   "id": "23855661-da22-48f4-9d02-06a852eed263",
   "metadata": {},
   "source": [
    "**eval**"
   ]
  },
  {
   "cell_type": "markdown",
   "id": "ddc62cc2-0373-4e74-8047-06202950aae6",
   "metadata": {},
   "source": [
    "- eval means evaluate\n",
    "\n",
    "- it is related to math family\n",
    "\n",
    "- which means it works only number represent a strings\n",
    "\n",
    "- it will not works on english letters\n",
    "\n",
    "- eval will convert the respective data type which is user enter \n",
    "\n",
    "- if user enter 10 in quotes it will convert into 10\n",
    "\n",
    "- if user enter 10.5 in quotes it willconvert into 10.5"
   ]
  },
  {
   "cell_type": "code",
   "execution_count": 17,
   "id": "a4c5fd7b-e9b6-4d33-894a-6be7e6d1055e",
   "metadata": {},
   "outputs": [
    {
     "ename": "ValueError",
     "evalue": "invalid literal for int() with base 10: '10.5'",
     "output_type": "error",
     "traceback": [
      "\u001b[1;31m---------------------------------------------------------------------------\u001b[0m",
      "\u001b[1;31mValueError\u001b[0m                                Traceback (most recent call last)",
      "Cell \u001b[1;32mIn[17], line 2\u001b[0m\n\u001b[0;32m      1\u001b[0m \u001b[38;5;28mint\u001b[39m(\u001b[38;5;124m'\u001b[39m\u001b[38;5;124m10\u001b[39m\u001b[38;5;124m'\u001b[39m) \u001b[38;5;66;03m# 10\u001b[39;00m\n\u001b[1;32m----> 2\u001b[0m \u001b[38;5;28mint\u001b[39m(\u001b[38;5;124m'\u001b[39m\u001b[38;5;124m10.5\u001b[39m\u001b[38;5;124m'\u001b[39m)  \u001b[38;5;66;03m# error\u001b[39;00m\n\u001b[0;32m      4\u001b[0m \u001b[38;5;28mfloat\u001b[39m(\u001b[38;5;124m'\u001b[39m\u001b[38;5;124m10\u001b[39m\u001b[38;5;124m'\u001b[39m) \u001b[38;5;66;03m# 10.0\u001b[39;00m\n\u001b[0;32m      5\u001b[0m \u001b[38;5;28mfloat\u001b[39m(\u001b[38;5;124m'\u001b[39m\u001b[38;5;124m10.5\u001b[39m\u001b[38;5;124m'\u001b[39m)\n",
      "\u001b[1;31mValueError\u001b[0m: invalid literal for int() with base 10: '10.5'"
     ]
    }
   ],
   "source": [
    "int('10') # 10\n",
    "int('10.5')  # error\n",
    "\n",
    "float('10') # 10.0\n",
    "float('10.5') # 10.5"
   ]
  },
  {
   "cell_type": "code",
   "execution_count": 16,
   "id": "cd4eb503-2059-47f0-970d-5d770ded6e25",
   "metadata": {},
   "outputs": [
    {
     "data": {
      "text/plain": [
       "(10, 10.5)"
      ]
     },
     "execution_count": 16,
     "metadata": {},
     "output_type": "execute_result"
    }
   ],
   "source": [
    "eval('10'),eval('10.5')"
   ]
  },
  {
   "cell_type": "code",
   "execution_count": 20,
   "id": "d58f3283-1048-4803-a886-120c30fc3186",
   "metadata": {},
   "outputs": [
    {
     "name": "stdin",
     "output_type": "stream",
     "text": [
      "enter the number1: 11\n",
      "enter the number2: 10.5\n"
     ]
    },
    {
     "data": {
      "text/plain": [
       "22"
      ]
     },
     "execution_count": 20,
     "metadata": {},
     "output_type": "execute_result"
    }
   ],
   "source": [
    "n1=eval(input(\"enter the number1:\"))\n",
    "n2=eval(input(\"enter the number2:\"))\n",
    "n1+n1"
   ]
  },
  {
   "cell_type": "code",
   "execution_count": null,
   "id": "0d908ba8-ccf7-4eea-b2f7-a654b75e246f",
   "metadata": {},
   "outputs": [],
   "source": [
    "# 1)wap ask the user enter 3 numbers n1,n2,n3 from keyboard\n",
    "# calculate average\n",
    "\n",
    "# 2)wap askthe user enter name age city\n",
    "# print my name is python im 10 years old and come from hyd\n",
    "\n",
    "# 3)wap ask the user to enter radius  of a circle calculate area of the circle\n",
    "# var: radius var:  pi-3.14\n",
    "# formulae: pi*radius*radius\n",
    "# prnt the answers using f string and format\n",
    "\n",
    "# 4)wap ask the user enter breadth and height of a right angle triangle\n",
    "# calculate the area\n",
    "# var1: breadth var2: height\n",
    "# formulae: 0.5*breadth*height\n",
    "\n",
    "# 5)wap ask the user the bill amount and tip amount\n",
    "# calculate the total bill\n",
    "# var1: bill amount  var2: tip amount\n",
    "# formulae\n",
    "\n",
    "# 6)wap ask the user the bill amount and tip percentage\n",
    "# take tip percentage as 10\n",
    "# calculate total bill= bill amount+tip amount*tip per/100\n",
    "# var1: bill amount var2: tip amount\n",
    "# formulae\n",
    "\n",
    "# 7)wap ask the length and breadth of a rectangle calculate area\n",
    "# var1: length var2:breadth\n",
    "# formulae: length * breadth\n",
    "\n",
    "# 8)wap ask the user take the radius and calculate volume of sphere\n",
    "# formulae: pi*r**3(pi*r*r*r)\n",
    "\n",
    "# 9)wap ask the user enter amount in dollars convert into rupees\n",
    "#  1$=85rs\n",
    "\n",
    "# 10)wap ask the user enter weight in kgs convert into pounds\n",
    "# lkg=2.2pounds"
   ]
  },
  {
   "cell_type": "markdown",
   "id": "325075d2-a82b-4bc2-9e69-d6b171ffefe8",
   "metadata": {},
   "source": [
    "- strings or english does not require eval\n",
    "\n",
    "- avg= eval(n1+n2+n3)"
   ]
  },
  {
   "cell_type": "code",
   "execution_count": 22,
   "id": "f0c9ec09-69da-4d28-b9b4-aa8cc81082e1",
   "metadata": {},
   "outputs": [
    {
     "name": "stdout",
     "output_type": "stream",
     "text": [
      "enter the average 10,20 and 30 is : 20.0\n"
     ]
    }
   ],
   "source": [
    "n1=10\n",
    "n2=20\n",
    "n3=30\n",
    "avg=(n1+n2+n3)/3\n",
    "print(f\"enter the average {n1},{n2} and {n3} is : {avg}\")"
   ]
  },
  {
   "cell_type": "code",
   "execution_count": 23,
   "id": "a96a5b1e-4379-4f22-a2a5-cbaccd52e8ac",
   "metadata": {},
   "outputs": [
    {
     "name": "stdout",
     "output_type": "stream",
     "text": [
      "enter the average 10,20 and 30 is : 20.0\n"
     ]
    }
   ],
   "source": [
    "n1=10\n",
    "n2=20\n",
    "n3=30\n",
    "avg=(n1+n2+n3)/3\n",
    "print(\"enter the average {},{} and {} is : {}\".format(n1,n2,n3,avg))"
   ]
  },
  {
   "cell_type": "code",
   "execution_count": 32,
   "id": "0913f77f-b8cf-4244-aee0-af8913e8c2d9",
   "metadata": {},
   "outputs": [
    {
     "name": "stdout",
     "output_type": "stream",
     "text": [
      "my name is python im 10 years old and come from hyd\n"
     ]
    }
   ],
   "source": [
    "name=\"python\"\n",
    "age=\"10\"\n",
    "city=\"hyd\"\n",
    "print(f\"my name is {name} im {age} years old and come from {city}\")"
   ]
  },
  {
   "cell_type": "code",
   "execution_count": 33,
   "id": "187f341b-45eb-4f0a-9ab5-d1ce78bafd1a",
   "metadata": {},
   "outputs": [
    {
     "name": "stdout",
     "output_type": "stream",
     "text": [
      "my name is python im 10 years old and come from hyd\n"
     ]
    }
   ],
   "source": [
    "name=\"python\"\n",
    "age=\"10\"\n",
    "city=\"hyd\"\n",
    "print(\"my name is {} im {} years old and come from {}\".format(name,age,city))"
   ]
  },
  {
   "cell_type": "code",
   "execution_count": 34,
   "id": "2f7fcd42-7208-410c-b490-f54cf9d6ab68",
   "metadata": {},
   "outputs": [
    {
     "name": "stdout",
     "output_type": "stream",
     "text": [
      "the area of circle is : 1256.0\n"
     ]
    }
   ],
   "source": [
    "radius=20\n",
    "pi=3.14\n",
    "area=pi*radius*radius\n",
    "print(f\"the area of circle is : {area}\")"
   ]
  },
  {
   "cell_type": "code",
   "execution_count": 35,
   "id": "d4415518-9c29-42cb-abb5-59866b3115a0",
   "metadata": {},
   "outputs": [
    {
     "name": "stdout",
     "output_type": "stream",
     "text": [
      "the area of circle is : 1256.0\n"
     ]
    }
   ],
   "source": [
    "radius=20\n",
    "pi=3.14\n",
    "area=pi*radius*radius\n",
    "print(\"the area of circle is : {}\".format(area))"
   ]
  },
  {
   "cell_type": "code",
   "execution_count": 36,
   "id": "3c9859ae-7506-47aa-bdaf-1d6e3e4b6550",
   "metadata": {},
   "outputs": [
    {
     "name": "stdout",
     "output_type": "stream",
     "text": [
      "the area of right angle triangle is : 400.0\n"
     ]
    }
   ],
   "source": [
    "breadth=20\n",
    "height=40\n",
    "area=0.5*breadth*height\n",
    "print(f\"the area of right angle triangle is : {area}\")"
   ]
  },
  {
   "cell_type": "code",
   "execution_count": 37,
   "id": "d40b3926-83d4-4e81-8237-e335916b9a31",
   "metadata": {},
   "outputs": [
    {
     "name": "stdout",
     "output_type": "stream",
     "text": [
      "the area of right angle triangle is : 400.0\n"
     ]
    }
   ],
   "source": [
    "breadth=20\n",
    "height=40\n",
    "area=0.5*breadth*height\n",
    "print(\"the area of right angle triangle is : {}\".format(area))"
   ]
  },
  {
   "cell_type": "code",
   "execution_count": 38,
   "id": "02465160-31b9-4a68-983c-f75af4549801",
   "metadata": {},
   "outputs": [
    {
     "name": "stdout",
     "output_type": "stream",
     "text": [
      "the total bill is : 1200\n"
     ]
    }
   ],
   "source": [
    "bill_amount=1000\n",
    "tip_amount=200\n",
    "total_bill=bill_amount+tip_amount\n",
    "print(f\"the total bill is : {total_bill}\")"
   ]
  },
  {
   "cell_type": "code",
   "execution_count": 39,
   "id": "a1b33904-5831-409d-aa6e-f2e609c28187",
   "metadata": {},
   "outputs": [
    {
     "name": "stdout",
     "output_type": "stream",
     "text": [
      "the total bill is : 1200\n"
     ]
    }
   ],
   "source": [
    "bill_amount=1000\n",
    "tip_amount=200\n",
    "total_bill=bill_amount+tip_amount\n",
    "print(\"the total bill is : {}\".format(total_bill))"
   ]
  },
  {
   "cell_type": "code",
   "execution_count": 40,
   "id": "7a1f0b84-d34c-4ee4-9ee3-0c8a22b11200",
   "metadata": {},
   "outputs": [
    {
     "name": "stdout",
     "output_type": "stream",
     "text": [
      "the total bill is : 1020.0\n"
     ]
    }
   ],
   "source": [
    "bill_amount=1000\n",
    "tip_amount=200\n",
    "tip_percentage=10\n",
    "total_bill=bill_amount+tip_amount*tip_percentage/100\n",
    "print(f\"the total bill is : {total_bill}\")"
   ]
  },
  {
   "cell_type": "code",
   "execution_count": 41,
   "id": "52550011-9c56-479b-a07b-56c26f73187b",
   "metadata": {},
   "outputs": [
    {
     "name": "stdout",
     "output_type": "stream",
     "text": [
      "the total bill is : 1020.0\n"
     ]
    }
   ],
   "source": [
    "bill_amount=1000\n",
    "tip_amount=200\n",
    "tip_percentage=10\n",
    "total_bill=bill_amount+tip_amount*tip_percentage/100\n",
    "print(\"the total bill is : {}\".format(total_bill))"
   ]
  },
  {
   "cell_type": "code",
   "execution_count": 42,
   "id": "95ce2501-2510-4809-a210-b6e9294b7b7a",
   "metadata": {},
   "outputs": [
    {
     "name": "stdout",
     "output_type": "stream",
     "text": [
      "the area of rectangle is : 5000\n"
     ]
    }
   ],
   "source": [
    "length=100\n",
    "breadth=50\n",
    "area=length * breadth\n",
    "print(f\"the area of rectangle is : {area}\")"
   ]
  },
  {
   "cell_type": "code",
   "execution_count": 43,
   "id": "9c095acd-de45-4345-ae91-6215580bceb8",
   "metadata": {},
   "outputs": [
    {
     "name": "stdout",
     "output_type": "stream",
     "text": [
      "the area of rectangle is : 5000\n"
     ]
    }
   ],
   "source": [
    "length=100\n",
    "breadth=50\n",
    "area=length * breadth\n",
    "print(\"the area of rectangle is : {}\".format(area))"
   ]
  },
  {
   "cell_type": "code",
   "execution_count": 53,
   "id": "75ecee2d-a16c-41d1-9867-5ae3217aba3f",
   "metadata": {},
   "outputs": [
    {
     "name": "stdout",
     "output_type": "stream",
     "text": [
      "the volume of sphere is : 33493.333333333336\n"
     ]
    }
   ],
   "source": [
    "radius=20\n",
    "pi=3.14\n",
    "vol=4/3*pi*radius*radius*radius\n",
    "print(f\"the volume of sphere is : {vol}\")"
   ]
  },
  {
   "cell_type": "code",
   "execution_count": 52,
   "id": "84f9db8a-1b19-4f8a-9399-561e3f4ebd7e",
   "metadata": {},
   "outputs": [
    {
     "name": "stdout",
     "output_type": "stream",
     "text": [
      "the volume of sphere is : 33493.333333333336\n"
     ]
    }
   ],
   "source": [
    "radius=20\n",
    "pi=3.14\n",
    "vol=4/3*pi*radius*radius*radius\n",
    "print(\"the volume of sphere is : {}\".format(vol))"
   ]
  },
  {
   "cell_type": "code",
   "execution_count": 60,
   "id": "494d6d9a-8de9-4488-b940-f6edce01c1ce",
   "metadata": {},
   "outputs": [
    {
     "name": "stdout",
     "output_type": "stream",
     "text": [
      "amount of 1 dollar in rupees is : 85\n"
     ]
    }
   ],
   "source": [
    "dollars=1\n",
    "rupees=85\n",
    "print(f\"amount of 1 dollar in rupees is : {rupees}\")"
   ]
  },
  {
   "cell_type": "code",
   "execution_count": 61,
   "id": "91b2c4a3-07d5-418d-944c-ed0319b3071d",
   "metadata": {},
   "outputs": [
    {
     "name": "stdout",
     "output_type": "stream",
     "text": [
      "amount 0f 1 dollar in rupees is : 85\n"
     ]
    }
   ],
   "source": [
    "dollars=1\n",
    "rupees=85\n",
    "print(\"amount 0f 1 dollar in rupees is : {}\".format(rupees))"
   ]
  },
  {
   "cell_type": "code",
   "execution_count": 64,
   "id": "dee7e78b-d222-458a-8810-78a3fd6d808f",
   "metadata": {},
   "outputs": [
    {
     "name": "stdout",
     "output_type": "stream",
     "text": [
      "weight in kgs convert into pounds : 2.2\n"
     ]
    }
   ],
   "source": [
    "weight=1\n",
    "pounds=2.2\n",
    "print(f\"weight in kgs convert into pounds : {pounds}\")"
   ]
  },
  {
   "cell_type": "code",
   "execution_count": 65,
   "id": "d8969e64-4a1a-4c93-b8eb-95703e84f302",
   "metadata": {},
   "outputs": [
    {
     "name": "stdout",
     "output_type": "stream",
     "text": [
      "weight in kgs convert into pounds : 2.2\n"
     ]
    }
   ],
   "source": [
    "weight=1\n",
    "pounds=2.2\n",
    "print(\"weight in kgs convert into pounds : {}\".format(pounds))"
   ]
  },
  {
   "cell_type": "code",
   "execution_count": 68,
   "id": "746f4d56-50d9-4887-b5a2-d051a82d2fbf",
   "metadata": {},
   "outputs": [
    {
     "name": "stdin",
     "output_type": "stream",
     "text": [
      "enter the number1: 100\n",
      "enter the number2: 200\n",
      "enter the number3: 300\n"
     ]
    }
   ],
   "source": [
    "n1=eval(input(\"enter the number1:\"))\n",
    "n2=eval(input(\"enter the number2:\"))\n",
    "n3=eval(input(\"enter the number3:\"))\n",
    "avg=(n1+n2+n3)/3"
   ]
  },
  {
   "cell_type": "code",
   "execution_count": 69,
   "id": "d1faa0b2-b4e1-4977-97a1-feeee33811aa",
   "metadata": {},
   "outputs": [
    {
     "data": {
      "text/plain": [
       "200.0"
      ]
     },
     "execution_count": 69,
     "metadata": {},
     "output_type": "execute_result"
    }
   ],
   "source": [
    "avg\n"
   ]
  },
  {
   "cell_type": "code",
   "execution_count": 70,
   "id": "8fb598bb-1a47-460a-9968-c70d0a10034a",
   "metadata": {},
   "outputs": [
    {
     "name": "stdin",
     "output_type": "stream",
     "text": [
      "enter a string1: python\n",
      "enter a string2: 10\n",
      "enter a string3: hyd\n"
     ]
    },
    {
     "data": {
      "text/plain": [
       "'python10hyd'"
      ]
     },
     "execution_count": 70,
     "metadata": {},
     "output_type": "execute_result"
    }
   ],
   "source": [
    "str1=input(\"enter a string1:\")\n",
    "str2=input(\"enter a string2:\")\n",
    "str3=input(\"enter a string3:\")\n",
    "str1+str2+str3"
   ]
  },
  {
   "cell_type": "code",
   "execution_count": 71,
   "id": "58b98da0-1b29-4874-b667-4457e6a7c999",
   "metadata": {},
   "outputs": [
    {
     "name": "stdout",
     "output_type": "stream",
     "text": [
      "my name is python im 10 years old and come from hyd\n"
     ]
    }
   ],
   "source": [
    "print(f\"my name is {str1} im {str2} years old and come from {str3}\")"
   ]
  },
  {
   "cell_type": "code",
   "execution_count": 72,
   "id": "9b695ffc-4dec-4c0c-9a48-af8ef0d6e33a",
   "metadata": {},
   "outputs": [
    {
     "name": "stdin",
     "output_type": "stream",
     "text": [
      "enter the radius: 20\n"
     ]
    }
   ],
   "source": [
    "radius= eval(input(\"enter the radius:\"))\n",
    "pi=3.14\n",
    "area=pi*radius*radius"
   ]
  },
  {
   "cell_type": "code",
   "execution_count": 73,
   "id": "09d9a384-34ec-427f-bbba-bf420b917c86",
   "metadata": {},
   "outputs": [
    {
     "data": {
      "text/plain": [
       "1256.0"
      ]
     },
     "execution_count": 73,
     "metadata": {},
     "output_type": "execute_result"
    }
   ],
   "source": [
    "area"
   ]
  },
  {
   "cell_type": "code",
   "execution_count": 74,
   "id": "604b0ef7-7071-4720-86a2-323be47c2b98",
   "metadata": {},
   "outputs": [
    {
     "name": "stdin",
     "output_type": "stream",
     "text": [
      "enter the breadth: 20\n",
      "enter the height: 40\n"
     ]
    }
   ],
   "source": [
    "n1=int(input(\"enter the breadth:\"))\n",
    "n2=int(input(\"enter the height:\"))\n",
    "area=1/2*n1*n2"
   ]
  },
  {
   "cell_type": "code",
   "execution_count": 75,
   "id": "73ba6a7a-22cf-4095-98e8-e78ebf5e8ccc",
   "metadata": {},
   "outputs": [
    {
     "data": {
      "text/plain": [
       "400.0"
      ]
     },
     "execution_count": 75,
     "metadata": {},
     "output_type": "execute_result"
    }
   ],
   "source": [
    "area"
   ]
  },
  {
   "cell_type": "code",
   "execution_count": 77,
   "id": "98596bea-c349-4d00-97cc-9fb17874414e",
   "metadata": {},
   "outputs": [
    {
     "name": "stdin",
     "output_type": "stream",
     "text": [
      "enter the breadth: 20\n",
      "enter the height: 40\n"
     ]
    }
   ],
   "source": [
    "n1=eval(input(\"enter the breadth:\"))\n",
    "n2=eval(input(\"enter the height:\"))\n",
    "area=1/2*n1*n2"
   ]
  },
  {
   "cell_type": "code",
   "execution_count": 78,
   "id": "da7499b1-5c90-4737-8d32-48e1e185fc3a",
   "metadata": {},
   "outputs": [
    {
     "data": {
      "text/plain": [
       "400.0"
      ]
     },
     "execution_count": 78,
     "metadata": {},
     "output_type": "execute_result"
    }
   ],
   "source": [
    "area"
   ]
  },
  {
   "cell_type": "code",
   "execution_count": 82,
   "id": "5019b1d3-672d-4b75-9172-58d2edcb8548",
   "metadata": {},
   "outputs": [
    {
     "name": "stdin",
     "output_type": "stream",
     "text": [
      "enter the bill amount: 1000\n",
      "enter the tip amount: 200\n"
     ]
    }
   ],
   "source": [
    "n1=int(input(\"enter the bill amount:\"))\n",
    "n2=int(input(\"enter the tip amount:\"))\n",
    "total=n1+n2"
   ]
  },
  {
   "cell_type": "code",
   "execution_count": 83,
   "id": "eccea2d0-6bf4-4d18-9bd0-021078065f6f",
   "metadata": {},
   "outputs": [
    {
     "data": {
      "text/plain": [
       "1200"
      ]
     },
     "execution_count": 83,
     "metadata": {},
     "output_type": "execute_result"
    }
   ],
   "source": [
    "total"
   ]
  },
  {
   "cell_type": "code",
   "execution_count": 84,
   "id": "2288085e-7489-46ed-aa91-f065b4765613",
   "metadata": {},
   "outputs": [
    {
     "name": "stdin",
     "output_type": "stream",
     "text": [
      "enter the bill amount: 1000\n",
      "enter the tip amount: 200\n"
     ]
    }
   ],
   "source": [
    "n1=int(input(\"enter the bill amount:\"))\n",
    "n2=int(input(\"enter the tip amount:\"))\n",
    "total_percentage=(n1/(n1+n2))*100"
   ]
  },
  {
   "cell_type": "code",
   "execution_count": 85,
   "id": "6cc4c264-74fb-4a63-bde7-a5b3ae4b0527",
   "metadata": {},
   "outputs": [
    {
     "data": {
      "text/plain": [
       "83.33333333333334"
      ]
     },
     "execution_count": 85,
     "metadata": {},
     "output_type": "execute_result"
    }
   ],
   "source": [
    "total_percentage"
   ]
  },
  {
   "cell_type": "code",
   "execution_count": 86,
   "id": "8cc25a6c-8e98-4c39-b6ff-16854d37522c",
   "metadata": {},
   "outputs": [
    {
     "name": "stdin",
     "output_type": "stream",
     "text": [
      "enter the radius: 20\n"
     ]
    }
   ],
   "source": [
    "r=radius=int(input(\"enter the radius:\"))\n",
    "pi=3.14\n",
    "volume=pi*r*r*r"
   ]
  },
  {
   "cell_type": "code",
   "execution_count": 87,
   "id": "3e9538ef-1c33-4725-82ff-c9fdb45ce37b",
   "metadata": {},
   "outputs": [
    {
     "data": {
      "text/plain": [
       "25120.0"
      ]
     },
     "execution_count": 87,
     "metadata": {},
     "output_type": "execute_result"
    }
   ],
   "source": [
    "volume"
   ]
  },
  {
   "cell_type": "code",
   "execution_count": 88,
   "id": "cb5a1377-9c47-4611-af70-d04b4156205a",
   "metadata": {},
   "outputs": [
    {
     "name": "stdin",
     "output_type": "stream",
     "text": [
      "enter the amount in dollars: 1\n"
     ]
    }
   ],
   "source": [
    "conversion_rate=85\n",
    "dollars=float(input(\"enter the amount in dollars:\"))\n",
    "rupees=conversion_rate*dollars"
   ]
  },
  {
   "cell_type": "code",
   "execution_count": 89,
   "id": "b3e9309e-b7f5-4b7a-a11f-303567e34d63",
   "metadata": {},
   "outputs": [
    {
     "data": {
      "text/plain": [
       "85.0"
      ]
     },
     "execution_count": 89,
     "metadata": {},
     "output_type": "execute_result"
    }
   ],
   "source": [
    "rupees"
   ]
  },
  {
   "cell_type": "code",
   "execution_count": 90,
   "id": "e8b67cf7-4062-4e77-acfc-f19eadd2f5d6",
   "metadata": {},
   "outputs": [
    {
     "name": "stdin",
     "output_type": "stream",
     "text": [
      "enter the weight in kgs: 1\n"
     ]
    }
   ],
   "source": [
    "conversion_rate=2.2\n",
    "weight=float(input(\"enter the weight in kgs:\"))\n",
    "pounds=conversion_rate*weight"
   ]
  },
  {
   "cell_type": "code",
   "execution_count": 91,
   "id": "97911a3d-090c-4483-94be-452222e91838",
   "metadata": {},
   "outputs": [
    {
     "data": {
      "text/plain": [
       "2.2"
      ]
     },
     "execution_count": 91,
     "metadata": {},
     "output_type": "execute_result"
    }
   ],
   "source": [
    "pounds"
   ]
  },
  {
   "cell_type": "code",
   "execution_count": null,
   "id": "5496cade-3478-4773-bc8a-dea5ecd94eab",
   "metadata": {},
   "outputs": [],
   "source": []
  }
 ],
 "metadata": {
  "kernelspec": {
   "display_name": "Python 3 (ipykernel)",
   "language": "python",
   "name": "python3"
  },
  "language_info": {
   "codemirror_mode": {
    "name": "ipython",
    "version": 3
   },
   "file_extension": ".py",
   "mimetype": "text/x-python",
   "name": "python",
   "nbconvert_exporter": "python",
   "pygments_lexer": "ipython3",
   "version": "3.12.7"
  }
 },
 "nbformat": 4,
 "nbformat_minor": 5
}
