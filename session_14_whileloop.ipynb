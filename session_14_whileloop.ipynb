{
 "cells": [
  {
   "cell_type": "markdown",
   "id": "99090c78-1503-4625-932c-17a462e1fdb8",
   "metadata": {},
   "source": [
    "## while loop"
   ]
  },
  {
   "cell_type": "markdown",
   "id": "537c2b0f-a330-46d3-9116-b7bf8671c535",
   "metadata": {},
   "source": [
    "- initialization to start\n",
    "\n",
    "- increment or decrement\n",
    "\n",
    "- condition stop"
   ]
  },
  {
   "cell_type": "code",
   "execution_count": null,
   "id": "2dfcc68b-818f-4358-9ac0-6d4d44863fa8",
   "metadata": {},
   "outputs": [],
   "source": [
    "<initialization>\n",
    "\n",
    "while<condition>:\n",
    "    #=========python\n",
    "\n",
    "\n",
    "    increment/decrement"
   ]
  },
  {
   "cell_type": "code",
   "execution_count": 2,
   "id": "081e19c7-e6f8-46a5-bd6c-176f6b723b5d",
   "metadata": {},
   "outputs": [
    {
     "name": "stdout",
     "output_type": "stream",
     "text": [
      "1 2 3 4 5 6 7 8 9 "
     ]
    }
   ],
   "source": [
    "i=1\n",
    "while i<10:\n",
    "    print(i,end=' ')\n",
    "    i=i+1"
   ]
  },
  {
   "cell_type": "code",
   "execution_count": 3,
   "id": "744a8dd3-8d9b-4b6e-b345-1160964afe44",
   "metadata": {},
   "outputs": [
    {
     "name": "stdout",
     "output_type": "stream",
     "text": [
      "1 2 "
     ]
    }
   ],
   "source": [
    "i=1\n",
    "while i<3:\n",
    "    print(i,end=' ')\n",
    "    i=i+1\n",
    "# step1: i=1 while 1<3 true print(1) i=1+1=2\n",
    "# step2: i=2 while 2<3 true print(1) i=2+1=3\n",
    "# step3: i=3 while 3<3 false"
   ]
  },
  {
   "cell_type": "code",
   "execution_count": null,
   "id": "2599d2ed-04e7-4b2e-9092-4ccaa8eff17f",
   "metadata": {},
   "outputs": [],
   "source": [
    "# Q1) print 1 to 10\n",
    "# Q2) print 10 to 1\n",
    "# Q3) print -1 to -10\n",
    "# Q4) print -10 to -1"
   ]
  },
  {
   "cell_type": "code",
   "execution_count": 4,
   "id": "3920cd41-a61f-43c1-a786-6e16bbf7eada",
   "metadata": {},
   "outputs": [
    {
     "name": "stdout",
     "output_type": "stream",
     "text": [
      "1 2 3 4 5 6 7 8 9 "
     ]
    }
   ],
   "source": [
    "i=1\n",
    "while i<10:\n",
    "    print(i,end=' ')\n",
    "    i=i+1"
   ]
  },
  {
   "cell_type": "code",
   "execution_count": 16,
   "id": "fd228fd3-adcd-4373-9728-cd295305883c",
   "metadata": {},
   "outputs": [
    {
     "name": "stdout",
     "output_type": "stream",
     "text": [
      "10 9 8 7 6 5 4 3 2 1 "
     ]
    }
   ],
   "source": [
    "i=10\n",
    "while i>0:\n",
    "    print(i,end=' ')\n",
    "    i=i-1"
   ]
  },
  {
   "cell_type": "code",
   "execution_count": 7,
   "id": "cb7c2f6c-2a70-4bd3-aeed-baacdbb7f67d",
   "metadata": {},
   "outputs": [
    {
     "name": "stdout",
     "output_type": "stream",
     "text": [
      "-1 -2 -3 -4 -5 -6 -7 -8 -9 "
     ]
    }
   ],
   "source": [
    "i=-1\n",
    "while i>-10:\n",
    "    print(i,end=' ')\n",
    "    i=i-1"
   ]
  },
  {
   "cell_type": "code",
   "execution_count": 17,
   "id": "a217b987-911e-4cec-bfd3-3ae3392c9f52",
   "metadata": {},
   "outputs": [
    {
     "name": "stdout",
     "output_type": "stream",
     "text": [
      "-10 -9 -8 -7 -6 -5 -4 -3 -2 -1 "
     ]
    }
   ],
   "source": [
    "i=-10\n",
    "while i<0:\n",
    "    print(i,end=' ')\n",
    "    i=i+1"
   ]
  },
  {
   "cell_type": "code",
   "execution_count": 19,
   "id": "be3de9c5-0217-4a74-b5a7-73688202f5a9",
   "metadata": {},
   "outputs": [
    {
     "name": "stdout",
     "output_type": "stream",
     "text": [
      "10 9 8 7 6 5 4 3 2 1 "
     ]
    }
   ],
   "source": [
    "i=10\n",
    "while True:\n",
    "    print(i,end=' ')\n",
    "    i=i-1\n",
    "    if i==0:\n",
    "        break"
   ]
  },
  {
   "cell_type": "code",
   "execution_count": null,
   "id": "0561547f-0452-442e-a41f-1936bc21c1fc",
   "metadata": {},
   "outputs": [],
   "source": []
  }
 ],
 "metadata": {
  "kernelspec": {
   "display_name": "Python 3 (ipykernel)",
   "language": "python",
   "name": "python3"
  },
  "language_info": {
   "codemirror_mode": {
    "name": "ipython",
    "version": 3
   },
   "file_extension": ".py",
   "mimetype": "text/x-python",
   "name": "python",
   "nbconvert_exporter": "python",
   "pygments_lexer": "ipython3",
   "version": "3.12.7"
  }
 },
 "nbformat": 4,
 "nbformat_minor": 5
}
