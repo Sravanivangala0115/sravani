{
 "cells": [
  {
   "cell_type": "markdown",
   "id": "e7c85293-41f3-45be-97a3-a649c55e191a",
   "metadata": {},
   "source": [
    "**basic python**\n",
    "\n",
    "- variables\n",
    "\n",
    "- data types\n",
    "\n",
    "- type conversion\n",
    "\n",
    "- print\n",
    "\n",
    "- eval and input\n",
    "\n",
    "- basic codes\n",
    "\n",
    "- packages\n",
    "\n",
    "- conditional statements\n",
    "\n",
    "- try and except\n",
    "\n",
    "- functions\n",
    "\n",
    "- for loop\n",
    "\n",
    "- while loop"
   ]
  },
  {
   "cell_type": "markdown",
   "id": "4d85fa42-c773-45b4-8de7-03d9191b5a81",
   "metadata": {},
   "source": [
    "**intermediate python**\n",
    "\n",
    "- strings\n",
    "\n",
    "- lists\n",
    "\n",
    "- list comprehension\n",
    "\n",
    "- tuple\n",
    "\n",
    "- sets\n",
    "\n",
    "- dictionary\n",
    "\n",
    "- lambda functions\n",
    "\n",
    "- file handling"
   ]
  },
  {
   "cell_type": "markdown",
   "id": "f41d5d34-84e8-4563-b241-f4b444b50c6a",
   "metadata": {},
   "source": [
    "**oops concepts(ML)**\n"
   ]
  },
  {
   "cell_type": "markdown",
   "id": "d1e0e29c-aff2-4359-9324-e12065103ab2",
   "metadata": {},
   "source": [
    "- Basic representations\n",
    "\n",
    "- inbuilt functions\n",
    "\n",
    "  - print\n",
    "\n",
    "  - type\n",
    "\n",
    "  - len\n",
    "\n",
    "  - sum\n",
    "\n",
    "  - maximum\n",
    "\n",
    "  - minimum\n",
    "\n",
    "  - sorted\n",
    "\n",
    "  - reversed\n",
    "\n",
    "- concatination\n",
    "\n",
    "- indexing\n",
    "\n",
    "- mutable or immutable concept\n",
    "\n",
    "- slicing\n",
    "\n",
    "- methods"
   ]
  },
  {
   "cell_type": "markdown",
   "id": "8c370042-0228-4695-beaf-a2e5c3c3d3fc",
   "metadata": {},
   "source": [
    "## basic representations"
   ]
  },
  {
   "cell_type": "code",
   "execution_count": 1,
   "id": "3ea86a27-df73-4ac0-89c5-3e8a8112ca15",
   "metadata": {},
   "outputs": [
    {
     "data": {
      "text/plain": [
       "'python'"
      ]
     },
     "execution_count": 1,
     "metadata": {},
     "output_type": "execute_result"
    }
   ],
   "source": [
    "name='python'\n",
    "name"
   ]
  },
  {
   "cell_type": "code",
   "execution_count": 2,
   "id": "17a51db2-7565-4115-b17a-432fb27c5cf8",
   "metadata": {},
   "outputs": [
    {
     "name": "stdout",
     "output_type": "stream",
     "text": [
      "python\n"
     ]
    }
   ],
   "source": [
    "print(name)"
   ]
  },
  {
   "cell_type": "code",
   "execution_count": 3,
   "id": "beb7409d-e68e-4060-bb58-24e24fcf6eaa",
   "metadata": {},
   "outputs": [
    {
     "data": {
      "text/plain": [
       "'python'"
      ]
     },
     "execution_count": 3,
     "metadata": {},
     "output_type": "execute_result"
    }
   ],
   "source": [
    "name=\"python\"\n",
    "name"
   ]
  },
  {
   "cell_type": "markdown",
   "id": "a1b2cbe8-b582-44c2-bc2a-c022019592b0",
   "metadata": {},
   "source": [
    "- python by default gives output in **single quotes**\n",
    "\n",
    "- when we print the string the output display **without quotes**"
   ]
  },
  {
   "cell_type": "code",
   "execution_count": 4,
   "id": "8673577d-062f-4a39-a7d6-31e6e02793ee",
   "metadata": {},
   "outputs": [
    {
     "name": "stdout",
     "output_type": "stream",
     "text": [
      "I Love 'Python'\n"
     ]
    }
   ],
   "source": [
    "str1=\"I Love 'Python'\"\n",
    "print(str1)"
   ]
  },
  {
   "cell_type": "code",
   "execution_count": 5,
   "id": "efb1ddb7-2555-4b27-a238-34b1cafc7486",
   "metadata": {},
   "outputs": [
    {
     "name": "stdout",
     "output_type": "stream",
     "text": [
      "I Love \"Python\"\n"
     ]
    }
   ],
   "source": [
    "str2='I Love \"Python\"'\n",
    "print(str2)"
   ]
  },
  {
   "cell_type": "markdown",
   "id": "5619df64-ba5d-41e1-bda9-454f3fcf600b",
   "metadata": {},
   "source": [
    "**Doc string**\n",
    "\n",
    "- triple quotes also called as doc string\n",
    "\n",
    "- triple quotes means the user try to convey some information\n"
   ]
  },
  {
   "cell_type": "markdown",
   "id": "4ada5d45-7c7a-4cdf-94ce-64d9b416dfee",
   "metadata": {},
   "source": [
    "**type**"
   ]
  },
  {
   "cell_type": "code",
   "execution_count": 6,
   "id": "428f19e2-77df-4084-b5f8-64f5a4672ede",
   "metadata": {},
   "outputs": [
    {
     "data": {
      "text/plain": [
       "str"
      ]
     },
     "execution_count": 6,
     "metadata": {},
     "output_type": "execute_result"
    }
   ],
   "source": [
    "name='python'\n",
    "type(name)"
   ]
  },
  {
   "cell_type": "markdown",
   "id": "53e035dd-e08e-4210-a2d4-9aedde0b03e1",
   "metadata": {},
   "source": [
    "**len**"
   ]
  },
  {
   "cell_type": "code",
   "execution_count": 7,
   "id": "e96107a9-5f80-4312-a4d4-e12f1dc6a985",
   "metadata": {},
   "outputs": [
    {
     "data": {
      "text/plain": [
       "6"
      ]
     },
     "execution_count": 7,
     "metadata": {},
     "output_type": "execute_result"
    }
   ],
   "source": [
    "name='python'\n",
    "len(name)"
   ]
  },
  {
   "cell_type": "code",
   "execution_count": 8,
   "id": "881055d9-fcf1-452b-94d5-74a12e7f3ac6",
   "metadata": {},
   "outputs": [
    {
     "data": {
      "text/plain": [
       "'y'"
      ]
     },
     "execution_count": 8,
     "metadata": {},
     "output_type": "execute_result"
    }
   ],
   "source": [
    "name='python'\n",
    "max(name)"
   ]
  },
  {
   "cell_type": "code",
   "execution_count": 9,
   "id": "7af807a9-b29e-4c18-9313-9fbaa49b1290",
   "metadata": {},
   "outputs": [
    {
     "data": {
      "text/plain": [
       "'h'"
      ]
     },
     "execution_count": 9,
     "metadata": {},
     "output_type": "execute_result"
    }
   ],
   "source": [
    "name='python'\n",
    "min(name)\n"
   ]
  },
  {
   "cell_type": "code",
   "execution_count": 14,
   "id": "e5eb4564-3a4c-4c4c-928c-51a89c183d67",
   "metadata": {},
   "outputs": [
    {
     "ename": "TypeError",
     "evalue": "'int' object is not callable",
     "output_type": "error",
     "traceback": [
      "\u001b[1;31m---------------------------------------------------------------------------\u001b[0m",
      "\u001b[1;31mTypeError\u001b[0m                                 Traceback (most recent call last)",
      "Cell \u001b[1;32mIn[14], line 1\u001b[0m\n\u001b[1;32m----> 1\u001b[0m \u001b[38;5;28msum\u001b[39m(\u001b[38;5;124m'\u001b[39m\u001b[38;5;124mpython\u001b[39m\u001b[38;5;124m'\u001b[39m)\n",
      "\u001b[1;31mTypeError\u001b[0m: 'int' object is not callable"
     ]
    }
   ],
   "source": [
    "sum('python') # sum cannot works in strings"
   ]
  },
  {
   "cell_type": "code",
   "execution_count": 10,
   "id": "06bf537c-819b-4070-8c65-83f2e6681f8f",
   "metadata": {},
   "outputs": [
    {
     "name": "stdin",
     "output_type": "stream",
     "text": [
      "enter a number: 10\n",
      "enter a number: 20\n"
     ]
    },
    {
     "name": "stdout",
     "output_type": "stream",
     "text": [
      "30\n"
     ]
    }
   ],
   "source": [
    "n1=eval(input(\"enter a number:\"))\n",
    "n2=eval(input(\"enter a number:\"))\n",
    "sum=n1+n2\n",
    "print(sum)"
   ]
  },
  {
   "cell_type": "code",
   "execution_count": 11,
   "id": "8165f583-c0d3-4e73-855f-2080850f9a26",
   "metadata": {},
   "outputs": [
    {
     "data": {
      "text/plain": [
       "['h', 'n', 'o', 'p', 't', 'y']"
      ]
     },
     "execution_count": 11,
     "metadata": {},
     "output_type": "execute_result"
    }
   ],
   "source": [
    "name='python'\n",
    "sorted(name)"
   ]
  },
  {
   "cell_type": "markdown",
   "id": "6f819515-d313-4af1-80b4-92642d3af42c",
   "metadata": {},
   "source": [
    "- sorted means either ascending or descending order\n",
    "\n",
    "- ascending order : small to big\n",
    "\n",
    "- descending order : big to small"
   ]
  },
  {
   "cell_type": "code",
   "execution_count": 29,
   "id": "8e74a12f-187a-44cb-8af6-10f0da14f6d7",
   "metadata": {},
   "outputs": [
    {
     "data": {
      "text/plain": [
       "<reversed at 0x220cd636800>"
      ]
     },
     "execution_count": 29,
     "metadata": {},
     "output_type": "execute_result"
    }
   ],
   "source": [
    "\n",
    "ans=reversed('name')\n",
    "ans"
   ]
  },
  {
   "cell_type": "code",
   "execution_count": 30,
   "id": "64e7842e-4731-4473-b447-9bae746144ee",
   "metadata": {},
   "outputs": [
    {
     "name": "stdout",
     "output_type": "stream",
     "text": [
      "e\n",
      "m\n",
      "a\n",
      "n\n"
     ]
    }
   ],
   "source": [
    "for i in ans:\n",
    "    print(i)"
   ]
  },
  {
   "cell_type": "code",
   "execution_count": 15,
   "id": "79a31ae0-03a8-4d01-8729-00a6c91908da",
   "metadata": {},
   "outputs": [
    {
     "name": "stdout",
     "output_type": "stream",
     "text": [
      "30\n"
     ]
    }
   ],
   "source": [
    "def add(a,b):\n",
    "    print(a+b)\n",
    "add(a=10,b=20)  # works"
   ]
  },
  {
   "cell_type": "code",
   "execution_count": 16,
   "id": "936ae61b-16d4-403c-b000-e44e412ac178",
   "metadata": {},
   "outputs": [
    {
     "name": "stdout",
     "output_type": "stream",
     "text": [
      "30\n"
     ]
    }
   ],
   "source": [
    "def add(a,b):\n",
    "    print(a+b)\n",
    "add(10,20)    # works"
   ]
  },
  {
   "cell_type": "code",
   "execution_count": 18,
   "id": "07230aca-c9aa-4b33-b317-a4ecce618799",
   "metadata": {},
   "outputs": [
    {
     "name": "stdout",
     "output_type": "stream",
     "text": [
      "30\n"
     ]
    }
   ],
   "source": [
    "def add(a,/,b):\n",
    "    print(a+b)\n",
    "add(10,b=20)    # works"
   ]
  },
  {
   "cell_type": "code",
   "execution_count": 19,
   "id": "1b19b5f7-fa56-4b6f-a4cd-335bcefe4add",
   "metadata": {},
   "outputs": [
    {
     "ename": "SyntaxError",
     "evalue": "positional argument follows keyword argument (3787002837.py, line 3)",
     "output_type": "error",
     "traceback": [
      "\u001b[1;36m  Cell \u001b[1;32mIn[19], line 3\u001b[1;36m\u001b[0m\n\u001b[1;33m    add(a=10,20)\u001b[0m\n\u001b[1;37m               ^\u001b[0m\n\u001b[1;31mSyntaxError\u001b[0m\u001b[1;31m:\u001b[0m positional argument follows keyword argument\n"
     ]
    }
   ],
   "source": [
    "def add(a,/,b):\n",
    "    print(a+b)\n",
    "add(a=10,20)    # fails because arguments cannot place before slash"
   ]
  },
  {
   "cell_type": "code",
   "execution_count": 20,
   "id": "0e0e660c-a387-4bdc-b2a6-d7662976cc45",
   "metadata": {},
   "outputs": [
    {
     "ename": "TypeError",
     "evalue": "add() got some positional-only arguments passed as keyword arguments: 'a'",
     "output_type": "error",
     "traceback": [
      "\u001b[1;31m---------------------------------------------------------------------------\u001b[0m",
      "\u001b[1;31mTypeError\u001b[0m                                 Traceback (most recent call last)",
      "Cell \u001b[1;32mIn[20], line 3\u001b[0m\n\u001b[0;32m      1\u001b[0m \u001b[38;5;28;01mdef\u001b[39;00m \u001b[38;5;21madd\u001b[39m(a,\u001b[38;5;241m/\u001b[39m,b):\n\u001b[0;32m      2\u001b[0m     \u001b[38;5;28mprint\u001b[39m(a\u001b[38;5;241m+\u001b[39mb)\n\u001b[1;32m----> 3\u001b[0m add(a\u001b[38;5;241m=\u001b[39m\u001b[38;5;241m10\u001b[39m,b\u001b[38;5;241m=\u001b[39m\u001b[38;5;241m20\u001b[39m)\n",
      "\u001b[1;31mTypeError\u001b[0m: add() got some positional-only arguments passed as keyword arguments: 'a'"
     ]
    }
   ],
   "source": [
    "def add(a,/,b):\n",
    "    print(a+b)\n",
    "add(a=10,b=20)"
   ]
  },
  {
   "cell_type": "code",
   "execution_count": 21,
   "id": "0f1d4b38-8027-4823-8d47-ddc8efd2d9fc",
   "metadata": {},
   "outputs": [
    {
     "ename": "TypeError",
     "evalue": "sorted expected 1 argument, got 0",
     "output_type": "error",
     "traceback": [
      "\u001b[1;31m---------------------------------------------------------------------------\u001b[0m",
      "\u001b[1;31mTypeError\u001b[0m                                 Traceback (most recent call last)",
      "Cell \u001b[1;32mIn[21], line 1\u001b[0m\n\u001b[1;32m----> 1\u001b[0m \u001b[38;5;28msorted\u001b[39m(iterable\u001b[38;5;241m=\u001b[39m\u001b[38;5;124m'\u001b[39m\u001b[38;5;124mpython\u001b[39m\u001b[38;5;124m'\u001b[39m)\n",
      "\u001b[1;31mTypeError\u001b[0m: sorted expected 1 argument, got 0"
     ]
    }
   ],
   "source": [
    "sorted(iterable='python')"
   ]
  },
  {
   "cell_type": "markdown",
   "id": "ea02f307-261a-4109-ac30-62d0e5dc46e7",
   "metadata": {},
   "source": [
    "**note:**\n",
    "- /slash before dont use argument name\n",
    "\n",
    "- /slash after you can use argument name, that is our wish\n",
    "\n",
    "- *indicates no need to maintain the order of the arguments"
   ]
  },
  {
   "cell_type": "code",
   "execution_count": 22,
   "id": "2558302e-37b8-4cf1-add9-dd0bcef9f5f3",
   "metadata": {},
   "outputs": [
    {
     "name": "stdout",
     "output_type": "stream",
     "text": [
      "60\n"
     ]
    }
   ],
   "source": [
    "def add(a,/,*,b,c):\n",
    "    print(a+b+c)\n",
    "\n",
    "add(10,c=20,b=30)"
   ]
  },
  {
   "cell_type": "code",
   "execution_count": 24,
   "id": "9eac0190-941c-4585-a8af-c1a00562c30c",
   "metadata": {},
   "outputs": [
    {
     "ename": "TypeError",
     "evalue": "add() takes 1 positional argument but 2 were given",
     "output_type": "error",
     "traceback": [
      "\u001b[1;31m---------------------------------------------------------------------------\u001b[0m",
      "\u001b[1;31mTypeError\u001b[0m                                 Traceback (most recent call last)",
      "Cell \u001b[1;32mIn[24], line 1\u001b[0m\n\u001b[1;32m----> 1\u001b[0m add(\u001b[38;5;241m10\u001b[39m,\u001b[38;5;241m20\u001b[39m)\n",
      "\u001b[1;31mTypeError\u001b[0m: add() takes 1 positional argument but 2 were given"
     ]
    }
   ],
   "source": [
    "add(10,20)"
   ]
  },
  {
   "cell_type": "code",
   "execution_count": 25,
   "id": "f1e8dd64-2f96-4bd8-a447-3af02dfa74d8",
   "metadata": {},
   "outputs": [
    {
     "name": "stdout",
     "output_type": "stream",
     "text": [
      "60\n"
     ]
    }
   ],
   "source": [
    "add(10,b=20,c=30)"
   ]
  },
  {
   "cell_type": "markdown",
   "id": "dbe82e09-52f7-4e28-bb3a-4c8ab5599560",
   "metadata": {},
   "source": [
    "**note:**\n",
    "\n",
    "  - (*)star indicates provide the argument name"
   ]
  },
  {
   "cell_type": "code",
   "execution_count": 23,
   "id": "199b1b6f-8689-43f7-886e-0d685e58f855",
   "metadata": {},
   "outputs": [
    {
     "data": {
      "text/plain": [
       "['y', 't', 'p', 'o', 'n', 'h']"
      ]
     },
     "execution_count": 23,
     "metadata": {},
     "output_type": "execute_result"
    }
   ],
   "source": [
    "sorted('python',reverse=True)"
   ]
  },
  {
   "cell_type": "code",
   "execution_count": null,
   "id": "2a1007e4-fc56-464e-a13e-03cda3cbabec",
   "metadata": {},
   "outputs": [],
   "source": [
    "sorted('python') # works\n",
    "sorted(iterable='python') # fails\n",
    "sorted('python',reverse=True) # works\n",
    "sorted(iterable='python',reverse=True) # fails\n",
    "sorted('python',True) # fails"
   ]
  },
  {
   "cell_type": "markdown",
   "id": "0b21f48f-d563-4de4-8fda-0c6b3cd0df40",
   "metadata": {},
   "source": [
    "**reversed**"
   ]
  },
  {
   "cell_type": "code",
   "execution_count": 36,
   "id": "a435e54a-a320-4f33-826d-574d9eefb611",
   "metadata": {},
   "outputs": [
    {
     "ename": "TypeError",
     "evalue": "reversed() takes no keyword arguments",
     "output_type": "error",
     "traceback": [
      "\u001b[1;31m---------------------------------------------------------------------------\u001b[0m",
      "\u001b[1;31mTypeError\u001b[0m                                 Traceback (most recent call last)",
      "Cell \u001b[1;32mIn[36], line 1\u001b[0m\n\u001b[1;32m----> 1\u001b[0m ans\u001b[38;5;241m=\u001b[39m\u001b[38;5;28mreversed\u001b[39m(sequence\u001b[38;5;241m=\u001b[39m\u001b[38;5;124m'\u001b[39m\u001b[38;5;124mprashanth\u001b[39m\u001b[38;5;124m'\u001b[39m)\n\u001b[0;32m      2\u001b[0m ans\n\u001b[0;32m      3\u001b[0m \u001b[38;5;28;01mfor\u001b[39;00m i \u001b[38;5;129;01min\u001b[39;00m ans:\n",
      "\u001b[1;31mTypeError\u001b[0m: reversed() takes no keyword arguments"
     ]
    }
   ],
   "source": [
    "ans=reversed(sequence='prashanth')\n",
    "ans\n",
    "for i in ans:\n",
    "    print(i)"
   ]
  },
  {
   "cell_type": "markdown",
   "id": "8d819683-f6a8-41b7-a368-0b9d92a0deb2",
   "metadata": {},
   "source": [
    "- answer saved at address memory location\n",
    "\n",
    "- we can see the answer by using for loop or list\n",
    "\n",
    "- whenever we see less than greater than symbol answer\n",
    "\n",
    "- try to apply for loop or list"
   ]
  },
  {
   "cell_type": "code",
   "execution_count": 37,
   "id": "f9aaee61-c902-4fad-a8fe-6883f23e0d0d",
   "metadata": {},
   "outputs": [
    {
     "data": {
      "text/plain": [
       "['h', 't', 'n', 'a', 'h', 's', 'a', 'r', 'p']"
      ]
     },
     "execution_count": 37,
     "metadata": {},
     "output_type": "execute_result"
    }
   ],
   "source": [
    "ans=reversed('prashanth')\n",
    "list(ans)"
   ]
  },
  {
   "cell_type": "markdown",
   "id": "fed86454-9960-4f0f-be16-bda456b5763d",
   "metadata": {},
   "source": [
    "**concatenation**"
   ]
  },
  {
   "cell_type": "code",
   "execution_count": 38,
   "id": "e8ed24b3-545d-40dc-96c5-6a895d34d480",
   "metadata": {},
   "outputs": [
    {
     "data": {
      "text/plain": [
       "'hellopython'"
      ]
     },
     "execution_count": 38,
     "metadata": {},
     "output_type": "execute_result"
    }
   ],
   "source": [
    "str1='hello'\n",
    "str2='python'\n",
    "str1+str2"
   ]
  },
  {
   "cell_type": "code",
   "execution_count": 40,
   "id": "1fc4247d-e7d1-45fa-9fc5-0a57865985af",
   "metadata": {},
   "outputs": [
    {
     "ename": "TypeError",
     "evalue": "unsupported operand type(s) for -: 'str' and 'str'",
     "output_type": "error",
     "traceback": [
      "\u001b[1;31m---------------------------------------------------------------------------\u001b[0m",
      "\u001b[1;31mTypeError\u001b[0m                                 Traceback (most recent call last)",
      "Cell \u001b[1;32mIn[40], line 3\u001b[0m\n\u001b[0;32m      1\u001b[0m str1\u001b[38;5;241m=\u001b[39m\u001b[38;5;124m'\u001b[39m\u001b[38;5;124mhello\u001b[39m\u001b[38;5;124m'\u001b[39m\n\u001b[0;32m      2\u001b[0m str2\u001b[38;5;241m=\u001b[39m\u001b[38;5;124m'\u001b[39m\u001b[38;5;124mpython\u001b[39m\u001b[38;5;124m'\u001b[39m\n\u001b[1;32m----> 3\u001b[0m str1\u001b[38;5;241m-\u001b[39mstr2\n",
      "\u001b[1;31mTypeError\u001b[0m: unsupported operand type(s) for -: 'str' and 'str'"
     ]
    }
   ],
   "source": [
    "str1='hello'\n",
    "str2='python'\n",
    "str1-str2"
   ]
  },
  {
   "cell_type": "code",
   "execution_count": 41,
   "id": "c4de8230-0469-4d29-8e44-40d5f9327ce6",
   "metadata": {},
   "outputs": [
    {
     "ename": "TypeError",
     "evalue": "can't multiply sequence by non-int of type 'str'",
     "output_type": "error",
     "traceback": [
      "\u001b[1;31m---------------------------------------------------------------------------\u001b[0m",
      "\u001b[1;31mTypeError\u001b[0m                                 Traceback (most recent call last)",
      "Cell \u001b[1;32mIn[41], line 3\u001b[0m\n\u001b[0;32m      1\u001b[0m str1\u001b[38;5;241m=\u001b[39m\u001b[38;5;124m'\u001b[39m\u001b[38;5;124mhello\u001b[39m\u001b[38;5;124m'\u001b[39m\n\u001b[0;32m      2\u001b[0m str2\u001b[38;5;241m=\u001b[39m\u001b[38;5;124m'\u001b[39m\u001b[38;5;124mpython\u001b[39m\u001b[38;5;124m'\u001b[39m\n\u001b[1;32m----> 3\u001b[0m str1\u001b[38;5;241m*\u001b[39mstr2\n",
      "\u001b[1;31mTypeError\u001b[0m: can't multiply sequence by non-int of type 'str'"
     ]
    }
   ],
   "source": [
    "str1='hello'\n",
    "str2='python'\n",
    "str1*str2"
   ]
  },
  {
   "cell_type": "code",
   "execution_count": 42,
   "id": "f519dd0c-52d9-41cb-8f12-c0f21a2d5f1e",
   "metadata": {},
   "outputs": [
    {
     "ename": "TypeError",
     "evalue": "unsupported operand type(s) for /: 'str' and 'str'",
     "output_type": "error",
     "traceback": [
      "\u001b[1;31m---------------------------------------------------------------------------\u001b[0m",
      "\u001b[1;31mTypeError\u001b[0m                                 Traceback (most recent call last)",
      "Cell \u001b[1;32mIn[42], line 3\u001b[0m\n\u001b[0;32m      1\u001b[0m str1\u001b[38;5;241m=\u001b[39m\u001b[38;5;124m'\u001b[39m\u001b[38;5;124mhello\u001b[39m\u001b[38;5;124m'\u001b[39m\n\u001b[0;32m      2\u001b[0m str2\u001b[38;5;241m=\u001b[39m\u001b[38;5;124m'\u001b[39m\u001b[38;5;124mpython\u001b[39m\u001b[38;5;124m'\u001b[39m\n\u001b[1;32m----> 3\u001b[0m str1\u001b[38;5;241m/\u001b[39mstr2\n",
      "\u001b[1;31mTypeError\u001b[0m: unsupported operand type(s) for /: 'str' and 'str'"
     ]
    }
   ],
   "source": [
    "str1='hello'\n",
    "str2='python'\n",
    "str1/str2"
   ]
  },
  {
   "cell_type": "code",
   "execution_count": 45,
   "id": "ef97f597-19c3-4774-a161-2bf66f9aea4b",
   "metadata": {},
   "outputs": [
    {
     "name": "stdout",
     "output_type": "stream",
     "text": [
      "pythonpythonpython\n"
     ]
    }
   ],
   "source": [
    "str=(\"python\"*3)\n",
    "print(str)"
   ]
  },
  {
   "cell_type": "code",
   "execution_count": 46,
   "id": "f6713811-bd8f-4085-95f3-2046fae08911",
   "metadata": {},
   "outputs": [
    {
     "data": {
      "text/plain": [
       "'pythonpythonpython'"
      ]
     },
     "execution_count": 46,
     "metadata": {},
     "output_type": "execute_result"
    }
   ],
   "source": [
    "'python'*3"
   ]
  },
  {
   "cell_type": "code",
   "execution_count": 47,
   "id": "1834cb60-26f3-4d29-a12b-721729002a7c",
   "metadata": {},
   "outputs": [
    {
     "data": {
      "text/plain": [
       "'hellopython'"
      ]
     },
     "execution_count": 47,
     "metadata": {},
     "output_type": "execute_result"
    }
   ],
   "source": [
    "str1='hello'\n",
    "str2='python'\n",
    "str1+str2"
   ]
  },
  {
   "cell_type": "code",
   "execution_count": 50,
   "id": "401e2182-382e-416f-8cfe-8a658a90a594",
   "metadata": {},
   "outputs": [
    {
     "data": {
      "text/plain": [
       "'hello python'"
      ]
     },
     "execution_count": 50,
     "metadata": {},
     "output_type": "execute_result"
    }
   ],
   "source": [
    "str1='hello '\n",
    "str2='python'\n",
    "str1+str2"
   ]
  },
  {
   "cell_type": "code",
   "execution_count": 51,
   "id": "60613672-802d-46ba-9e8f-5f2e078ace31",
   "metadata": {},
   "outputs": [
    {
     "data": {
      "text/plain": [
       "'hello python'"
      ]
     },
     "execution_count": 51,
     "metadata": {},
     "output_type": "execute_result"
    }
   ],
   "source": [
    "str1='hello'\n",
    "str2=' python'\n",
    "str1+str2"
   ]
  },
  {
   "cell_type": "code",
   "execution_count": 52,
   "id": "756352ed-6604-46e6-81ae-7e7ada2a78d5",
   "metadata": {},
   "outputs": [
    {
     "data": {
      "text/plain": [
       "'hello python'"
      ]
     },
     "execution_count": 52,
     "metadata": {},
     "output_type": "execute_result"
    }
   ],
   "source": [
    "str1='hello'\n",
    "str2='python'\n",
    "str1+' '+str2"
   ]
  },
  {
   "cell_type": "markdown",
   "id": "01e38069-f254-43a3-bb26-2cbb1a493351",
   "metadata": {},
   "source": [
    "**index**"
   ]
  },
  {
   "cell_type": "code",
   "execution_count": 1,
   "id": "d84a127a-c705-4077-a985-a84e2402e130",
   "metadata": {},
   "outputs": [
    {
     "data": {
      "text/plain": [
       "'python'"
      ]
     },
     "execution_count": 1,
     "metadata": {},
     "output_type": "execute_result"
    }
   ],
   "source": [
    "str1='python'\n",
    "str1"
   ]
  },
  {
   "cell_type": "code",
   "execution_count": null,
   "id": "eb6737c8-17be-48f0-83d9-4341b06ed5f7",
   "metadata": {},
   "outputs": [],
   "source": [
    "-6 -5 -4 -3 -2 -1\n",
    "p  y  t  h  o  n\n",
    "0  1  2  3  4  5"
   ]
  },
  {
   "cell_type": "markdown",
   "id": "d27e5fbc-7901-4de7-8276-a8340143fdac",
   "metadata": {},
   "source": [
    "- access the characters or elements use square brackets"
   ]
  },
  {
   "cell_type": "code",
   "execution_count": 2,
   "id": "5673f67b-b675-4e2b-9dd8-1faedfd0d83a",
   "metadata": {},
   "outputs": [
    {
     "data": {
      "text/plain": [
       "('p', 'p')"
      ]
     },
     "execution_count": 2,
     "metadata": {},
     "output_type": "execute_result"
    }
   ],
   "source": [
    "str1[0],str1[-6]"
   ]
  },
  {
   "cell_type": "code",
   "execution_count": 4,
   "id": "b752a38a-31cd-4def-a3b9-40fb1d02415d",
   "metadata": {},
   "outputs": [
    {
     "data": {
      "text/plain": [
       "('y', 'y')"
      ]
     },
     "execution_count": 4,
     "metadata": {},
     "output_type": "execute_result"
    }
   ],
   "source": [
    "str1[1],str1[-5]"
   ]
  },
  {
   "cell_type": "code",
   "execution_count": 5,
   "id": "3d2bb43a-b509-4604-a371-f0dfe9bebdec",
   "metadata": {},
   "outputs": [
    {
     "data": {
      "text/plain": [
       "('t', 't')"
      ]
     },
     "execution_count": 5,
     "metadata": {},
     "output_type": "execute_result"
    }
   ],
   "source": [
    "str1[2],str1[-4]"
   ]
  },
  {
   "cell_type": "code",
   "execution_count": 6,
   "id": "e8937a88-39ba-45c9-b3ae-f50a414a1b4e",
   "metadata": {},
   "outputs": [
    {
     "data": {
      "text/plain": [
       "('h', 'h')"
      ]
     },
     "execution_count": 6,
     "metadata": {},
     "output_type": "execute_result"
    }
   ],
   "source": [
    "str1[3],str1[-3]"
   ]
  },
  {
   "cell_type": "code",
   "execution_count": 7,
   "id": "8a5d3ad4-21c6-460a-a0dd-fb7a12e6a750",
   "metadata": {},
   "outputs": [
    {
     "data": {
      "text/plain": [
       "('o', 'o')"
      ]
     },
     "execution_count": 7,
     "metadata": {},
     "output_type": "execute_result"
    }
   ],
   "source": [
    "str1[4],str1[-2]"
   ]
  },
  {
   "cell_type": "code",
   "execution_count": 8,
   "id": "1dd0a6cb-b535-4ab8-aede-593bd43de398",
   "metadata": {},
   "outputs": [
    {
     "data": {
      "text/plain": [
       "('n', 'n')"
      ]
     },
     "execution_count": 8,
     "metadata": {},
     "output_type": "execute_result"
    }
   ],
   "source": [
    "str1[5],str1[-1]"
   ]
  },
  {
   "cell_type": "code",
   "execution_count": null,
   "id": "0ce1926d-161e-4ad0-85e5-a938fe0af195",
   "metadata": {},
   "outputs": [],
   "source": [
    "str1[0]\n",
    "str1[1]\n",
    "str1[3]\n",
    "str1[4]\n",
    "str1[5]"
   ]
  },
  {
   "cell_type": "code",
   "execution_count": 17,
   "id": "dcc81b94-db68-4bbd-a46e-00b812598115",
   "metadata": {},
   "outputs": [
    {
     "name": "stdout",
     "output_type": "stream",
     "text": [
      "p y t h o n "
     ]
    }
   ],
   "source": [
    "str1='python'\n",
    "for i in range(0,6):\n",
    "    print(str1[i],end=' ')\n",
    "    "
   ]
  },
  {
   "cell_type": "code",
   "execution_count": 15,
   "id": "55fce356-6824-4cfc-9dfc-8741f61bc997",
   "metadata": {},
   "outputs": [
    {
     "name": "stdout",
     "output_type": "stream",
     "text": [
      "h e l l o   h o w   a r e   y o u "
     ]
    }
   ],
   "source": [
    "str1='hello how are you'\n",
    "n=len(str1)\n",
    "for i in range(0,n):\n",
    "    print(str1[i],end=' ')"
   ]
  },
  {
   "cell_type": "code",
   "execution_count": 23,
   "id": "c4c0e3f6-de5d-403d-ba87-585f61650a87",
   "metadata": {},
   "outputs": [
    {
     "name": "stdout",
     "output_type": "stream",
     "text": [
      "the positive index of p is : 0\n",
      "the positive index of y is : 1\n",
      "the positive index of t is : 2\n",
      "the positive index of h is : 3\n",
      "the positive index of o is : 4\n",
      "the positive index of n is : 5\n"
     ]
    }
   ],
   "source": [
    "# Q1)\n",
    "str1='python'\n",
    "for i in range(0,6):\n",
    "    print(f\"the positive index of {str1[i]} is : {i}\")"
   ]
  },
  {
   "cell_type": "code",
   "execution_count": 24,
   "id": "3d115ce4-c1f0-4132-9d87-2273e5917234",
   "metadata": {},
   "outputs": [
    {
     "name": "stdout",
     "output_type": "stream",
     "text": [
      "the negative index of p is : -6\n",
      "the negative index of y is : -5\n",
      "the negative index of t is : -4\n",
      "the negative index of h is : -3\n",
      "the negative index of o is : -2\n",
      "the negative index of n is : -1\n"
     ]
    }
   ],
   "source": [
    "# Q2)\n",
    "str1='python'\n",
    "for i in range(-6,0):\n",
    "    print(f\"the negative index of {str1[i]} is : {i}\")"
   ]
  },
  {
   "cell_type": "code",
   "execution_count": 31,
   "id": "f7b0b1cb-282d-429c-b667-249ff51b981d",
   "metadata": {},
   "outputs": [
    {
     "name": "stdout",
     "output_type": "stream",
     "text": [
      "the positive index is 0 and negative index is -6 for p\n",
      "the positive index is 1 and negative index is -5 for y\n",
      "the positive index is 2 and negative index is -4 for t\n",
      "the positive index is 3 and negative index is -3 for h\n",
      "the positive index is 4 and negative index is -2 for o\n",
      "the positive index is 5 and negative index is -1 for n\n"
     ]
    }
   ],
   "source": [
    "# Q3)\n",
    "str1='python'\n",
    "for i in range(0,6):\n",
    "    print(f\"the positive index is {i} and negative index is {i-6} for {str1[i]}\")\n",
    "    "
   ]
  },
  {
   "cell_type": "code",
   "execution_count": 32,
   "id": "45a53c67-805a-48a1-b051-dda92686fed7",
   "metadata": {},
   "outputs": [
    {
     "name": "stdout",
     "output_type": "stream",
     "text": [
      "the positive index is 0 and negative index is -6 for p\n",
      "the positive index is 0 : p\n",
      "the negative index is -6 : p\n",
      "the positive index is 1 and negative index is -5 for y\n",
      "the positive index is 1 : y\n",
      "the negative index is -5 : y\n",
      "the positive index is 2 and negative index is -4 for t\n",
      "the positive index is 2 : t\n",
      "the negative index is -4 : t\n",
      "the positive index is 3 and negative index is -3 for h\n",
      "the positive index is 3 : h\n",
      "the negative index is -3 : h\n",
      "the positive index is 4 and negative index is -2 for o\n",
      "the positive index is 4 : o\n",
      "the negative index is -2 : o\n",
      "the positive index is 5 and negative index is -1 for n\n",
      "the positive index is 5 : n\n",
      "the negative index is -1 : n\n"
     ]
    }
   ],
   "source": [
    "str1='python'\n",
    "for i in range(0,6):\n",
    "    print(f\"the positive index is {i} and negative index is {i-6} for {str1[i]}\")\n",
    "    print(f\"the positive index is {i} : {str1[i]}\")\n",
    "    print(f\"the negative index is {i-6} : {str1[i]}\")"
   ]
  },
  {
   "cell_type": "markdown",
   "id": "679deb5c-c5a8-4b4e-97f8-cb7db24d80c5",
   "metadata": {},
   "source": [
    "**when to use in operator - when to use range operator**"
   ]
  },
  {
   "cell_type": "markdown",
   "id": "e10e5483-ea6f-4f3f-8915-78ecff5b48a0",
   "metadata": {},
   "source": [
    "- **in** operator directly access the elements\n",
    "\n",
    "- **range** operator access the elements using index or numbers\n",
    "\n",
    "- any problem statement if you need numbers then go for range\n",
    "\n",
    "- otherwise go for in operator directly"
   ]
  },
  {
   "cell_type": "code",
   "execution_count": 33,
   "id": "d05dac4b-f45c-4e01-9644-0f9ee4641df4",
   "metadata": {},
   "outputs": [
    {
     "name": "stdout",
     "output_type": "stream",
     "text": [
      "p\n",
      "y\n",
      "h\n",
      "t\n",
      "o\n",
      "n\n"
     ]
    }
   ],
   "source": [
    "str1='pyhton'\n",
    "for i in range(0,6):\n",
    "    print(str1[i])"
   ]
  },
  {
   "cell_type": "code",
   "execution_count": 36,
   "id": "3a2a01d9-411e-47a2-8942-6454fab483cc",
   "metadata": {},
   "outputs": [
    {
     "name": "stdout",
     "output_type": "stream",
     "text": [
      "p\n",
      "y\n",
      "t\n",
      "h\n",
      "o\n",
      "n\n"
     ]
    }
   ],
   "source": [
    "str1='python'\n",
    "for i in str1:\n",
    "    print(i)"
   ]
  },
  {
   "cell_type": "code",
   "execution_count": 63,
   "id": "3157faf0-32ff-46f2-b633-7d2df6844e31",
   "metadata": {},
   "outputs": [
    {
     "name": "stdout",
     "output_type": "stream",
     "text": [
      "2\n",
      "6\n",
      "10\n"
     ]
    }
   ],
   "source": [
    "# Q4)\n",
    "str1='ola ola ola'\n",
    "for i in range(len(str1)):\n",
    "    if str1[i]=='a':\n",
    "        print(i)\n",
    "    "
   ]
  },
  {
   "cell_type": "code",
   "execution_count": 69,
   "id": "a58779c1-f030-4272-b7fd-e161a5b65210",
   "metadata": {},
   "outputs": [
    {
     "name": "stdout",
     "output_type": "stream",
     "text": [
      "the summ of a are : 18\n"
     ]
    }
   ],
   "source": [
    "# Q5)\n",
    "str1='ola ola ola'\n",
    "summ=0\n",
    "for i in range(len(str1)):\n",
    "    if str1[i]=='a':\n",
    "        summ=summ+i\n",
    "print(f\"the summ of a are : {summ}\")"
   ]
  },
  {
   "cell_type": "code",
   "execution_count": 70,
   "id": "a643416f-85f1-430f-8b30-9479b31730dc",
   "metadata": {},
   "outputs": [
    {
     "name": "stdout",
     "output_type": "stream",
     "text": [
      "the number of a are : 3\n"
     ]
    }
   ],
   "source": [
    "# Q6)\n",
    "str1='ola ola ola'\n",
    "count=0\n",
    "for i in str1:\n",
    "    if i=='a':\n",
    "        count=count+1\n",
    "print(f\"the number of a are : {count}\")"
   ]
  },
  {
   "cell_type": "code",
   "execution_count": 67,
   "id": "bc2e3e94-839d-4438-8304-e61323c91803",
   "metadata": {},
   "outputs": [
    {
     "name": "stdout",
     "output_type": "stream",
     "text": [
      "2\n",
      "6\n",
      "10\n",
      "the number of a are : 3\n",
      "the summ of a are : 18\n"
     ]
    }
   ],
   "source": [
    "str1='ola ola ola'\n",
    "summ=0\n",
    "count=0\n",
    "for i in range(len(str1)):\n",
    "    if str1[i]=='a':\n",
    "        print(i)\n",
    "        summ=summ+i\n",
    "        count=count+1\n",
    "print(f\"the number of a are : {count}\")\n",
    "print(f\"the summ of a are : {summ}\")"
   ]
  },
  {
   "cell_type": "code",
   "execution_count": 71,
   "id": "ee045c75-4b10-4dfa-b3b5-53d902abd1f3",
   "metadata": {},
   "outputs": [
    {
     "name": "stdout",
     "output_type": "stream",
     "text": [
      "a\n",
      "i\n",
      "o\n",
      "a\n",
      "e\n",
      "o\n",
      "u\n",
      "7\n"
     ]
    }
   ],
   "source": [
    "# Q7)\n",
    "str1='hai how are you'\n",
    "s1='aeiou'\n",
    "count=0\n",
    "for i in str1:\n",
    "    if i in s1:\n",
    "        print(i)\n",
    "        count=count+1\n",
    "print(count)"
   ]
  },
  {
   "cell_type": "code",
   "execution_count": 79,
   "id": "6625a979-7206-47d3-bf8e-acf5065ece33",
   "metadata": {},
   "outputs": [
    {
     "name": "stdout",
     "output_type": "stream",
     "text": [
      "a\n",
      "e\n"
     ]
    }
   ],
   "source": [
    "# Q8)\n",
    "str1='aaae'\n",
    "s1=''\n",
    "for i in str1:\n",
    "    if i in'aeiou' and i not in s1:\n",
    "        print(i)\n",
    "        s1=s1+i"
   ]
  },
  {
   "cell_type": "markdown",
   "id": "6854dcfc-86c8-4a9c-a1ca-ec8972f32900",
   "metadata": {},
   "source": [
    "**mutable-immutable**"
   ]
  },
  {
   "cell_type": "markdown",
   "id": "4dc377c4-c388-4309-bacb-4e27d371d4f7",
   "metadata": {},
   "source": [
    "- mutable means change\n",
    "\n",
    "- immutable means cannot change\n",
    "\n",
    "- we can not change the elements using index operations"
   ]
  },
  {
   "cell_type": "code",
   "execution_count": 1,
   "id": "64511735-9d4b-4454-b6e9-d64ff206724a",
   "metadata": {},
   "outputs": [
    {
     "ename": "TypeError",
     "evalue": "'str' object does not support item assignment",
     "output_type": "error",
     "traceback": [
      "\u001b[1;31m---------------------------------------------------------------------------\u001b[0m",
      "\u001b[1;31mTypeError\u001b[0m                                 Traceback (most recent call last)",
      "Cell \u001b[1;32mIn[1], line 2\u001b[0m\n\u001b[0;32m      1\u001b[0m str1\u001b[38;5;241m=\u001b[39m\u001b[38;5;124m'\u001b[39m\u001b[38;5;124mhello\u001b[39m\u001b[38;5;124m'\u001b[39m\n\u001b[1;32m----> 2\u001b[0m str1[\u001b[38;5;241m2\u001b[39m]\u001b[38;5;241m=\u001b[39m\u001b[38;5;124m'\u001b[39m\u001b[38;5;124mL\u001b[39m\u001b[38;5;124m'\u001b[39m\n\u001b[0;32m      3\u001b[0m str1\n",
      "\u001b[1;31mTypeError\u001b[0m: 'str' object does not support item assignment"
     ]
    }
   ],
   "source": [
    "str1='hello'\n",
    "str1[2]='L'\n",
    "str1"
   ]
  },
  {
   "cell_type": "code",
   "execution_count": 2,
   "id": "7ce52b07-f9e3-4bd7-baf9-a0650705e797",
   "metadata": {},
   "outputs": [
    {
     "data": {
      "text/plain": [
       "[10, 200, 30]"
      ]
     },
     "execution_count": 2,
     "metadata": {},
     "output_type": "execute_result"
    }
   ],
   "source": [
    "l=[10,20,30]\n",
    "l[1]=200\n",
    "l\n"
   ]
  },
  {
   "cell_type": "markdown",
   "id": "1deddab0-7c9a-4139-850e-cfb92cb663c7",
   "metadata": {},
   "source": [
    "**slice**\n",
    "\n",
    "- slice means cut into pieces\n",
    "\n",
    "- it has similar analogy with for loop range\n",
    "\n",
    "- in the for loop range we have start,stop,step\n",
    "\n",
    "- range(start,stop,step) str[start:stop:step]\n"
   ]
  },
  {
   "cell_type": "code",
   "execution_count": null,
   "id": "f312a8a8-3def-47c7-a2e4-e0a8c482002a",
   "metadata": {},
   "outputs": [],
   "source": [
    "-17 -16 -15 -14 -13 -12 -11 -10 -9 -8 -7 -6 -5 -4 -3 -2 -1\n",
    " h   e   l   l   o        h  o  w     a  r  e     y  o  u\n",
    " 0   1   2   3   4   5    6  7  8  9  10 11 12 13 14 15 16\n"
   ]
  },
  {
   "cell_type": "markdown",
   "id": "b2a58686-c240-42e1-a3c3-5f0b533a38be",
   "metadata": {},
   "source": [
    "##case-1:\n",
    "**str[:stop]**\n",
    "\n",
    "- by default start=0\n",
    "\n",
    "- by default step = positive direction\n",
    "\n",
    "- last = step-1\n"
   ]
  },
  {
   "cell_type": "code",
   "execution_count": 2,
   "id": "1f02e11d-1af8-4d06-8020-f29c7a5975ef",
   "metadata": {},
   "outputs": [
    {
     "data": {
      "text/plain": [
       "'hello'"
      ]
     },
     "execution_count": 2,
     "metadata": {},
     "output_type": "execute_result"
    }
   ],
   "source": [
    "str1='hello how are you'\n",
    "str1[:5]\n",
    "# start=0 step=1 stop=5-1=4"
   ]
  },
  {
   "cell_type": "markdown",
   "id": "c9e2d2b4-194a-4de6-881f-311cbb3d9c16",
   "metadata": {},
   "source": [
    "##case-2:\n",
    "**str[start:]**\n",
    "\n",
    "- by default start=start value\n",
    "\n",
    "- by default step = positive direction\n",
    "\n",
    "- last = last index\n"
   ]
  },
  {
   "cell_type": "code",
   "execution_count": 4,
   "id": "8d7d83a7-266a-4448-bc30-ca58e298a986",
   "metadata": {},
   "outputs": [
    {
     "data": {
      "text/plain": [
       "' how are you'"
      ]
     },
     "execution_count": 4,
     "metadata": {},
     "output_type": "execute_result"
    }
   ],
   "source": [
    "str1[5:]\n"
   ]
  },
  {
   "cell_type": "markdown",
   "id": "96441236-371e-4164-97a0-314714c18890",
   "metadata": {},
   "source": [
    "##case-3:\n",
    "**str[start:stop]**\n",
    "\n",
    "- by default start=start value\n",
    "\n",
    "- by default step = positive direction\n",
    "\n",
    "- last = stop-1\n"
   ]
  },
  {
   "cell_type": "code",
   "execution_count": 6,
   "id": "2c7f304b-31a4-46ab-a265-d33898933c24",
   "metadata": {},
   "outputs": [
    {
     "data": {
      "text/plain": [
       "'you'"
      ]
     },
     "execution_count": 6,
     "metadata": {},
     "output_type": "execute_result"
    }
   ],
   "source": [
    "str1[-3:]"
   ]
  },
  {
   "cell_type": "code",
   "execution_count": 7,
   "id": "b93d2c3f-a227-44e1-9d16-ace81db78689",
   "metadata": {},
   "outputs": [
    {
     "data": {
      "text/plain": [
       "'are y'"
      ]
     },
     "execution_count": 7,
     "metadata": {},
     "output_type": "execute_result"
    }
   ],
   "source": [
    "str1[10:15]"
   ]
  },
  {
   "cell_type": "code",
   "execution_count": 8,
   "id": "a7a654dd-1d69-484d-b443-48dc8b8f01ef",
   "metadata": {},
   "outputs": [
    {
     "data": {
      "text/plain": [
       "'ow '"
      ]
     },
     "execution_count": 8,
     "metadata": {},
     "output_type": "execute_result"
    }
   ],
   "source": [
    "str1[-10:10]"
   ]
  },
  {
   "cell_type": "code",
   "execution_count": 9,
   "id": "a4abd60e-16b4-4980-af9a-3c3fdc71caf9",
   "metadata": {},
   "outputs": [
    {
     "data": {
      "text/plain": [
       "'hello how'"
      ]
     },
     "execution_count": 9,
     "metadata": {},
     "output_type": "execute_result"
    }
   ],
   "source": [
    "str1[-17:9]"
   ]
  },
  {
   "cell_type": "code",
   "execution_count": 10,
   "id": "d642f15c-03dd-474c-b8d4-613f2384e4e1",
   "metadata": {},
   "outputs": [
    {
     "data": {
      "text/plain": [
       "'llo how are y'"
      ]
     },
     "execution_count": 10,
     "metadata": {},
     "output_type": "execute_result"
    }
   ],
   "source": [
    "str1[2:-2]"
   ]
  },
  {
   "cell_type": "code",
   "execution_count": 11,
   "id": "da8e26ea-9edb-4033-b1b2-96258212246a",
   "metadata": {},
   "outputs": [],
   "source": [
    "for i in range(2,-2):\n",
    "    print(i) # real line"
   ]
  },
  {
   "cell_type": "code",
   "execution_count": 12,
   "id": "6b444e71-593e-43aa-8570-b6f6f4c19ce7",
   "metadata": {},
   "outputs": [
    {
     "name": "stdout",
     "output_type": "stream",
     "text": [
      "-17\n",
      "-16\n",
      "-15\n",
      "-14\n",
      "-13\n"
     ]
    }
   ],
   "source": [
    "for i in range(-17,-12):\n",
    "    print(i)"
   ]
  },
  {
   "cell_type": "code",
   "execution_count": 15,
   "id": "077c4286-6caf-4008-b987-8bf9c152cf2d",
   "metadata": {},
   "outputs": [],
   "source": [
    "for i in range(16,-10):\n",
    "    print(i)"
   ]
  },
  {
   "cell_type": "markdown",
   "id": "309a234b-31c9-4591-9871-df9dd28981f3",
   "metadata": {},
   "source": [
    "##case-4:\n",
    "**str[start:stop:step]**\n",
    "\n",
    "- by default start=start value\n",
    "\n",
    "- if step = positive direction\n",
    "\n",
    "  - last = stop-1\n",
    "\n",
    "- if step = negative value\n",
    "\n",
    "  - last = stop+1"
   ]
  },
  {
   "cell_type": "code",
   "execution_count": 16,
   "id": "15dba741-89fa-42af-af46-b1453d65f021",
   "metadata": {},
   "outputs": [
    {
     "data": {
      "text/plain": [
       "''"
      ]
     },
     "execution_count": 16,
     "metadata": {},
     "output_type": "execute_result"
    }
   ],
   "source": [
    "str1[2:5:-2]"
   ]
  },
  {
   "cell_type": "code",
   "execution_count": 17,
   "id": "76d6bb7a-d085-414c-abab-30b42b14fd22",
   "metadata": {},
   "outputs": [
    {
     "data": {
      "text/plain": [
       "'o'"
      ]
     },
     "execution_count": 17,
     "metadata": {},
     "output_type": "execute_result"
    }
   ],
   "source": [
    "str1[-10:5:-2]"
   ]
  },
  {
   "cell_type": "code",
   "execution_count": 18,
   "id": "3758f05a-f389-4b1e-bd9c-691dd3e723a1",
   "metadata": {},
   "outputs": [
    {
     "data": {
      "text/plain": [
       "''"
      ]
     },
     "execution_count": 18,
     "metadata": {},
     "output_type": "execute_result"
    }
   ],
   "source": [
    "str1[2:5:-2]"
   ]
  },
  {
   "cell_type": "code",
   "execution_count": 19,
   "id": "8b261be9-8ffd-4d0b-a800-95ed15132d76",
   "metadata": {},
   "outputs": [
    {
     "data": {
      "text/plain": [
       "' o r '"
      ]
     },
     "execution_count": 19,
     "metadata": {},
     "output_type": "execute_result"
    }
   ],
   "source": [
    "str1[5:15:2]"
   ]
  },
  {
   "cell_type": "code",
   "execution_count": 20,
   "id": "9f228872-61df-41b4-9e51-16630e386963",
   "metadata": {},
   "outputs": [
    {
     "data": {
      "text/plain": [
       "'llo how are you'"
      ]
     },
     "execution_count": 20,
     "metadata": {},
     "output_type": "execute_result"
    }
   ],
   "source": [
    "str1[2:150]"
   ]
  },
  {
   "cell_type": "code",
   "execution_count": 21,
   "id": "9bd4af71-06d4-4075-b7ab-da54314a018c",
   "metadata": {},
   "outputs": [
    {
     "data": {
      "text/plain": [
       "'hello how are you'"
      ]
     },
     "execution_count": 21,
     "metadata": {},
     "output_type": "execute_result"
    }
   ],
   "source": [
    "str1[:]"
   ]
  },
  {
   "cell_type": "code",
   "execution_count": 22,
   "id": "b59ab808-23e6-40d8-8e45-b1edbb9980b7",
   "metadata": {},
   "outputs": [
    {
     "data": {
      "text/plain": [
       "'hello how are you'"
      ]
     },
     "execution_count": 22,
     "metadata": {},
     "output_type": "execute_result"
    }
   ],
   "source": [
    "str1[::]"
   ]
  },
  {
   "cell_type": "code",
   "execution_count": 23,
   "id": "3bf7c8c2-1d89-4b7c-ad94-ec9d7646ec8f",
   "metadata": {},
   "outputs": [
    {
     "data": {
      "text/plain": [
       "'uoy era woh olleh'"
      ]
     },
     "execution_count": 23,
     "metadata": {},
     "output_type": "execute_result"
    }
   ],
   "source": [
    "str1[::-1] # reverse string"
   ]
  },
  {
   "cell_type": "code",
   "execution_count": 33,
   "id": "4ef2db44-d6c0-42a9-857e-056315ab4966",
   "metadata": {},
   "outputs": [
    {
     "data": {
      "text/plain": [
       "'54321'"
      ]
     },
     "execution_count": 33,
     "metadata": {},
     "output_type": "execute_result"
    }
   ],
   "source": [
    "num=12345\n",
    "str(num)[::-1]"
   ]
  },
  {
   "cell_type": "markdown",
   "id": "0a49cd51-eee6-423b-b8f4-55caabd1b4b2",
   "metadata": {},
   "source": [
    "- basic representations\n",
    "\n",
    "- inbuilt functions\n",
    "\n",
    "   - min max len type sum reversed sorted\n",
    "\n",
    "- concatenation\n",
    "\n",
    "- index \n",
    "\n",
    "- in vs range\n",
    "\n",
    "- mutable vs immutable\n",
    "\n",
    "- slice\n"
   ]
  },
  {
   "cell_type": "markdown",
   "id": "7c39e719-6187-46f3-96db-9b1cbfebdb8a",
   "metadata": {},
   "source": [
    "## methods"
   ]
  },
  {
   "cell_type": "code",
   "execution_count": 36,
   "id": "74a43562-9ebd-4bce-a47a-95b9e1028307",
   "metadata": {},
   "outputs": [
    {
     "data": {
      "text/plain": [
       "['__add__',\n",
       " '__class__',\n",
       " '__contains__',\n",
       " '__delattr__',\n",
       " '__dir__',\n",
       " '__doc__',\n",
       " '__eq__',\n",
       " '__format__',\n",
       " '__ge__',\n",
       " '__getattribute__',\n",
       " '__getitem__',\n",
       " '__getnewargs__',\n",
       " '__getstate__',\n",
       " '__gt__',\n",
       " '__hash__',\n",
       " '__init__',\n",
       " '__init_subclass__',\n",
       " '__iter__',\n",
       " '__le__',\n",
       " '__len__',\n",
       " '__lt__',\n",
       " '__mod__',\n",
       " '__mul__',\n",
       " '__ne__',\n",
       " '__new__',\n",
       " '__reduce__',\n",
       " '__reduce_ex__',\n",
       " '__repr__',\n",
       " '__rmod__',\n",
       " '__rmul__',\n",
       " '__setattr__',\n",
       " '__sizeof__',\n",
       " '__str__',\n",
       " '__subclasshook__',\n",
       " 'capitalize',\n",
       " 'casefold',\n",
       " 'center',\n",
       " 'count',\n",
       " 'encode',\n",
       " 'endswith',\n",
       " 'expandtabs',\n",
       " 'find',\n",
       " 'format',\n",
       " 'format_map',\n",
       " 'index',\n",
       " 'isalnum',\n",
       " 'isalpha',\n",
       " 'isascii',\n",
       " 'isdecimal',\n",
       " 'isdigit',\n",
       " 'isidentifier',\n",
       " 'islower',\n",
       " 'isnumeric',\n",
       " 'isprintable',\n",
       " 'isspace',\n",
       " 'istitle',\n",
       " 'isupper',\n",
       " 'join',\n",
       " 'ljust',\n",
       " 'lower',\n",
       " 'lstrip',\n",
       " 'maketrans',\n",
       " 'partition',\n",
       " 'removeprefix',\n",
       " 'removesuffix',\n",
       " 'replace',\n",
       " 'rfind',\n",
       " 'rindex',\n",
       " 'rjust',\n",
       " 'rpartition',\n",
       " 'rsplit',\n",
       " 'rstrip',\n",
       " 'split',\n",
       " 'splitlines',\n",
       " 'startswith',\n",
       " 'strip',\n",
       " 'swapcase',\n",
       " 'title',\n",
       " 'translate',\n",
       " 'upper',\n",
       " 'zfill']"
      ]
     },
     "execution_count": 36,
     "metadata": {},
     "output_type": "execute_result"
    }
   ],
   "source": [
    "\n",
    "\n",
    "name='python'\n",
    "dir(name)"
   ]
  },
  {
   "cell_type": "markdown",
   "id": "e7f82dcf-5cf6-4cfc-844b-22bc8536ce2f",
   "metadata": {},
   "source": [
    "**upper**"
   ]
  },
  {
   "cell_type": "code",
   "execution_count": 37,
   "id": "1d994923-4a9b-4d92-9d6f-ae2d9cf769ad",
   "metadata": {},
   "outputs": [
    {
     "data": {
      "text/plain": [
       "'WELCOME'"
      ]
     },
     "execution_count": 37,
     "metadata": {},
     "output_type": "execute_result"
    }
   ],
   "source": [
    "str1='welcome' # it is a package\n",
    "str1.upper()"
   ]
  },
  {
   "cell_type": "code",
   "execution_count": 38,
   "id": "3dc6e573-6509-4d54-98be-9da5e63bb4ba",
   "metadata": {},
   "outputs": [
    {
     "data": {
      "text/plain": [
       "'welcome'"
      ]
     },
     "execution_count": 38,
     "metadata": {},
     "output_type": "execute_result"
    }
   ],
   "source": [
    "str1.lower()"
   ]
  },
  {
   "cell_type": "code",
   "execution_count": 39,
   "id": "123b9960-2530-4fce-9403-d77a6d43caa7",
   "metadata": {},
   "outputs": [
    {
     "data": {
      "text/plain": [
       "'Welcome'"
      ]
     },
     "execution_count": 39,
     "metadata": {},
     "output_type": "execute_result"
    }
   ],
   "source": [
    "str1.title()"
   ]
  },
  {
   "cell_type": "code",
   "execution_count": 40,
   "id": "901259cc-06f4-4bab-9c57-b4dff354e60f",
   "metadata": {},
   "outputs": [
    {
     "data": {
      "text/plain": [
       "'Welcome'"
      ]
     },
     "execution_count": 40,
     "metadata": {},
     "output_type": "execute_result"
    }
   ],
   "source": [
    "str1.capitalize()"
   ]
  },
  {
   "cell_type": "code",
   "execution_count": 41,
   "id": "d447b8cc-c902-4a96-bf3b-3684ed64b757",
   "metadata": {},
   "outputs": [
    {
     "data": {
      "text/plain": [
       "'welcome'"
      ]
     },
     "execution_count": 41,
     "metadata": {},
     "output_type": "execute_result"
    }
   ],
   "source": [
    "str1.casefold()"
   ]
  },
  {
   "cell_type": "code",
   "execution_count": 43,
   "id": "9f37421a-3d91-4b6d-bca6-bf1de3885c8f",
   "metadata": {},
   "outputs": [
    {
     "data": {
      "text/plain": [
       "'HAI HOW ARE YOU'"
      ]
     },
     "execution_count": 43,
     "metadata": {},
     "output_type": "execute_result"
    }
   ],
   "source": [
    "str1='hai how are you'\n",
    "str1.upper()"
   ]
  },
  {
   "cell_type": "code",
   "execution_count": 44,
   "id": "4205c9f7-16a4-478d-ae87-3a0d93a01668",
   "metadata": {},
   "outputs": [
    {
     "data": {
      "text/plain": [
       "'hai how are you'"
      ]
     },
     "execution_count": 44,
     "metadata": {},
     "output_type": "execute_result"
    }
   ],
   "source": [
    "str1.lower()"
   ]
  },
  {
   "cell_type": "code",
   "execution_count": 45,
   "id": "fd3e3664-c6a1-41fd-979d-75eb2f79db65",
   "metadata": {},
   "outputs": [
    {
     "data": {
      "text/plain": [
       "'Hai How Are You'"
      ]
     },
     "execution_count": 45,
     "metadata": {},
     "output_type": "execute_result"
    }
   ],
   "source": [
    "str1.title()"
   ]
  },
  {
   "cell_type": "code",
   "execution_count": 47,
   "id": "08370fa1-d661-45fc-be65-229d892f281e",
   "metadata": {},
   "outputs": [
    {
     "data": {
      "text/plain": [
       "'Hai how are you'"
      ]
     },
     "execution_count": 47,
     "metadata": {},
     "output_type": "execute_result"
    }
   ],
   "source": [
    "str1.capitalize()"
   ]
  },
  {
   "cell_type": "code",
   "execution_count": 48,
   "id": "f0e6c3fa-6c7e-4fba-ae83-14f06e11d36e",
   "metadata": {},
   "outputs": [
    {
     "data": {
      "text/plain": [
       "'hai how are you'"
      ]
     },
     "execution_count": 48,
     "metadata": {},
     "output_type": "execute_result"
    }
   ],
   "source": [
    "str1.casefold()"
   ]
  },
  {
   "cell_type": "markdown",
   "id": "79181f7a-d198-455d-b38c-5067cdfe6b6c",
   "metadata": {},
   "source": [
    "**difference between methods and inbuilt functions**"
   ]
  },
  {
   "cell_type": "code",
   "execution_count": null,
   "id": "6eb4848d-866b-4a2f-85f6-deb893e5920b",
   "metadata": {},
   "outputs": [],
   "source": [
    "## inbuilt functions\n",
    "len('python') \n",
    "min()\n",
    "max()\n",
    "type()\n",
    "print()\n",
    "sum()\n",
    "\n",
    "## methods\n",
    "str1.upper()\n",
    "str1.lower()\n",
    "str1.title()\n",
    "str1.capitalize()\n",
    "str1.casefold()"
   ]
  },
  {
   "cell_type": "markdown",
   "id": "46df69f4-efa2-46f7-a7b5-1da7bd026fb6",
   "metadata": {},
   "source": [
    "**center**"
   ]
  },
  {
   "cell_type": "code",
   "execution_count": 49,
   "id": "3d181bd5-6c40-4106-bf91-b2af3dabbcc1",
   "metadata": {},
   "outputs": [
    {
     "data": {
      "text/plain": [
       "'***python***'"
      ]
     },
     "execution_count": 49,
     "metadata": {},
     "output_type": "execute_result"
    }
   ],
   "source": [
    "str1='python'\n",
    "str1.center(12,'*')"
   ]
  },
  {
   "cell_type": "code",
   "execution_count": 50,
   "id": "ce4d688b-b6a8-4da1-8447-2493a0915775",
   "metadata": {},
   "outputs": [
    {
     "data": {
      "text/plain": [
       "'****python***'"
      ]
     },
     "execution_count": 50,
     "metadata": {},
     "output_type": "execute_result"
    }
   ],
   "source": [
    "str1='python'\n",
    "str1.center(13,'*')"
   ]
  },
  {
   "cell_type": "markdown",
   "id": "e55e7fbb-89fb-48f9-a69c-36677814d287",
   "metadata": {},
   "source": [
    "**strip-lstrip-rstrip**\n",
    "\n",
    "- strip will remove the characters both left and right side\n",
    "\n",
    "- lstrip will remove the charactrs only on left side \n",
    "\n",
    "- rstrip will remove the characters only on rigth side"
   ]
  },
  {
   "cell_type": "code",
   "execution_count": 51,
   "id": "c6542fbb-8629-4e1d-b97a-bb99a963a511",
   "metadata": {},
   "outputs": [
    {
     "data": {
      "text/plain": [
       "'python'"
      ]
     },
     "execution_count": 51,
     "metadata": {},
     "output_type": "execute_result"
    }
   ],
   "source": [
    "str1=' python '\n",
    "str1.strip()"
   ]
  },
  {
   "cell_type": "code",
   "execution_count": 52,
   "id": "e3e09bda-ac98-4827-9fc7-3fc1415cbb12",
   "metadata": {},
   "outputs": [
    {
     "data": {
      "text/plain": [
       "'python '"
      ]
     },
     "execution_count": 52,
     "metadata": {},
     "output_type": "execute_result"
    }
   ],
   "source": [
    "str1.lstrip()"
   ]
  },
  {
   "cell_type": "code",
   "execution_count": 53,
   "id": "d90570aa-3955-48c3-9b28-2902e80aea3d",
   "metadata": {},
   "outputs": [
    {
     "data": {
      "text/plain": [
       "' python'"
      ]
     },
     "execution_count": 53,
     "metadata": {},
     "output_type": "execute_result"
    }
   ],
   "source": [
    "str1.rstrip()"
   ]
  },
  {
   "cell_type": "code",
   "execution_count": 67,
   "id": "559b505d-59ff-4dd3-b841-9e092989fd08",
   "metadata": {},
   "outputs": [
    {
     "data": {
      "text/plain": [
       "'python'"
      ]
     },
     "execution_count": 67,
     "metadata": {},
     "output_type": "execute_result"
    }
   ],
   "source": [
    "str1='***python****'\n",
    "str1.strip('*')"
   ]
  },
  {
   "cell_type": "code",
   "execution_count": 68,
   "id": "b3925790-7777-4f7e-b547-714cbd3787ac",
   "metadata": {},
   "outputs": [
    {
     "data": {
      "text/plain": [
       "'python****'"
      ]
     },
     "execution_count": 68,
     "metadata": {},
     "output_type": "execute_result"
    }
   ],
   "source": [
    "str1.lstrip('*')"
   ]
  },
  {
   "cell_type": "code",
   "execution_count": 69,
   "id": "6038697b-0c16-4c77-9aec-edd72f8106e7",
   "metadata": {},
   "outputs": [
    {
     "data": {
      "text/plain": [
       "'***python'"
      ]
     },
     "execution_count": 69,
     "metadata": {},
     "output_type": "execute_result"
    }
   ],
   "source": [
    "str1.rstrip('*')"
   ]
  },
  {
   "cell_type": "code",
   "execution_count": 70,
   "id": "cf7da992-8038-4901-ad4e-0b1ad4de830a",
   "metadata": {},
   "outputs": [
    {
     "data": {
      "text/plain": [
       "'   python'"
      ]
     },
     "execution_count": 70,
     "metadata": {},
     "output_type": "execute_result"
    }
   ],
   "source": [
    "str1='   python****'\n",
    "str1.strip('*')"
   ]
  },
  {
   "cell_type": "code",
   "execution_count": 71,
   "id": "3b1be516-be85-43d7-a0e6-213ee4cc0843",
   "metadata": {},
   "outputs": [
    {
     "data": {
      "text/plain": [
       "'   python****'"
      ]
     },
     "execution_count": 71,
     "metadata": {},
     "output_type": "execute_result"
    }
   ],
   "source": [
    "str1.lstrip('*')"
   ]
  },
  {
   "cell_type": "code",
   "execution_count": 72,
   "id": "85f8f837-8fff-4b60-943e-83da647f7f07",
   "metadata": {},
   "outputs": [
    {
     "data": {
      "text/plain": [
       "'   python'"
      ]
     },
     "execution_count": 72,
     "metadata": {},
     "output_type": "execute_result"
    }
   ],
   "source": [
    "str1.rstrip('*')"
   ]
  },
  {
   "cell_type": "code",
   "execution_count": 75,
   "id": "3094ab85-83e5-456b-bd9c-faffc03f582e",
   "metadata": {},
   "outputs": [
    {
     "data": {
      "text/plain": [
       "'python'"
      ]
     },
     "execution_count": 75,
     "metadata": {},
     "output_type": "execute_result"
    }
   ],
   "source": [
    "str1='++++python****'\n",
    "str1.strip().lstrip('+').rstrip('*')"
   ]
  },
  {
   "cell_type": "markdown",
   "id": "652982c5-6643-49b9-8da5-c746ed378c71",
   "metadata": {},
   "source": [
    "**startswith**"
   ]
  },
  {
   "cell_type": "code",
   "execution_count": 1,
   "id": "419b813a-2b30-4c3c-90a7-f92e9c559966",
   "metadata": {},
   "outputs": [
    {
     "data": {
      "text/plain": [
       "True"
      ]
     },
     "execution_count": 1,
     "metadata": {},
     "output_type": "execute_result"
    }
   ],
   "source": [
    "str1='hello how are you'\n",
    "str1.startswith('h')"
   ]
  },
  {
   "cell_type": "code",
   "execution_count": 2,
   "id": "fa125d65-71f6-431f-a3b2-06678de33f12",
   "metadata": {},
   "outputs": [
    {
     "data": {
      "text/plain": [
       "True"
      ]
     },
     "execution_count": 2,
     "metadata": {},
     "output_type": "execute_result"
    }
   ],
   "source": [
    "str1='hello how are you'\n",
    "str1.startswith('hello')"
   ]
  },
  {
   "cell_type": "code",
   "execution_count": 3,
   "id": "94cc936c-bad3-40e9-9e0e-7bcbb81a8028",
   "metadata": {},
   "outputs": [
    {
     "data": {
      "text/plain": [
       "True"
      ]
     },
     "execution_count": 3,
     "metadata": {},
     "output_type": "execute_result"
    }
   ],
   "source": [
    "str1='hello how are you'\n",
    "str1.startswith('hello how are ')"
   ]
  },
  {
   "cell_type": "code",
   "execution_count": 4,
   "id": "9d7429a6-20c4-41bd-9afd-77a0c5800a06",
   "metadata": {},
   "outputs": [
    {
     "data": {
      "text/plain": [
       "True"
      ]
     },
     "execution_count": 4,
     "metadata": {},
     "output_type": "execute_result"
    }
   ],
   "source": [
    "str1='hello how are you'\n",
    "str1.startswith('hello how are you')"
   ]
  },
  {
   "cell_type": "code",
   "execution_count": 5,
   "id": "330d5f9d-9872-4614-b3be-18d62477df93",
   "metadata": {},
   "outputs": [
    {
     "data": {
      "text/plain": [
       "False"
      ]
     },
     "execution_count": 5,
     "metadata": {},
     "output_type": "execute_result"
    }
   ],
   "source": [
    "str1='hello how are you'\n",
    "str1.startswith('H')"
   ]
  },
  {
   "cell_type": "code",
   "execution_count": 6,
   "id": "c605130d-ecf1-4fb1-bcc8-39949498b736",
   "metadata": {},
   "outputs": [
    {
     "data": {
      "text/plain": [
       "False"
      ]
     },
     "execution_count": 6,
     "metadata": {},
     "output_type": "execute_result"
    }
   ],
   "source": [
    "str1='hello how are you'\n",
    "str1.endswith('h')"
   ]
  },
  {
   "cell_type": "code",
   "execution_count": 7,
   "id": "1a8eb1b2-40fd-4fdd-915e-4ea2c5629597",
   "metadata": {},
   "outputs": [
    {
     "data": {
      "text/plain": [
       "True"
      ]
     },
     "execution_count": 7,
     "metadata": {},
     "output_type": "execute_result"
    }
   ],
   "source": [
    "str1='hello how are you'\n",
    "str1.endswith('you')"
   ]
  },
  {
   "cell_type": "markdown",
   "id": "c0a2878c-79f9-43ff-9a09-df3499711b1d",
   "metadata": {},
   "source": [
    "**count**"
   ]
  },
  {
   "cell_type": "code",
   "execution_count": 12,
   "id": "ca7997d6-7444-4562-a7fb-fbbf91890498",
   "metadata": {},
   "outputs": [
    {
     "name": "stdout",
     "output_type": "stream",
     "text": [
      "the number of a are : 3\n"
     ]
    }
   ],
   "source": [
    "str1='ola ola ola'\n",
    "count=0\n",
    "for i in str1:\n",
    "    if i=='a':\n",
    "        count=count+1\n",
    "print(f\"the number of a are : {count}\")\n",
    "        "
   ]
  },
  {
   "cell_type": "code",
   "execution_count": 13,
   "id": "e06189b7-3a17-460f-8fe2-c96a5b253314",
   "metadata": {},
   "outputs": [
    {
     "name": "stdout",
     "output_type": "stream",
     "text": [
      "the number of a are : 3\n"
     ]
    }
   ],
   "source": [
    "str1='ola ola ola'\n",
    "count=0\n",
    "for i in range(len(str1)):\n",
    "    if str1[i]=='a':\n",
    "        count=count+1\n",
    "print(f\"the number of a are : {count}\")\n",
    "        "
   ]
  },
  {
   "cell_type": "markdown",
   "id": "5bf1c282-4b6c-41be-8660-e701939a1140",
   "metadata": {},
   "source": [
    "**case-1**"
   ]
  },
  {
   "cell_type": "code",
   "execution_count": 14,
   "id": "840b16f9-572d-4aec-8599-e850086b2b12",
   "metadata": {},
   "outputs": [
    {
     "data": {
      "text/plain": [
       "3"
      ]
     },
     "execution_count": 14,
     "metadata": {},
     "output_type": "execute_result"
    }
   ],
   "source": [
    "str1='ola ola ola'\n",
    "str1.count('a')"
   ]
  },
  {
   "cell_type": "code",
   "execution_count": 15,
   "id": "016a4c7c-d638-4ba6-b7c5-87df88a01aa9",
   "metadata": {},
   "outputs": [
    {
     "data": {
      "text/plain": [
       "3"
      ]
     },
     "execution_count": 15,
     "metadata": {},
     "output_type": "execute_result"
    }
   ],
   "source": [
    "str1='ola ola ola'\n",
    "str1.count('ola')"
   ]
  },
  {
   "cell_type": "code",
   "execution_count": 16,
   "id": "6704c4d9-98c6-45b5-89ae-a7c4b4d73660",
   "metadata": {},
   "outputs": [
    {
     "data": {
      "text/plain": [
       "2"
      ]
     },
     "execution_count": 16,
     "metadata": {},
     "output_type": "execute_result"
    }
   ],
   "source": [
    "str1='ola ola ola'\n",
    "str1.count('ola ')"
   ]
  },
  {
   "cell_type": "markdown",
   "id": "48c696f2-8c6b-499b-8ff5-9d5a3b23c50a",
   "metadata": {},
   "source": [
    "**case-2**"
   ]
  },
  {
   "cell_type": "code",
   "execution_count": null,
   "id": "07015564-7c11-4116-b956-3496999de5b8",
   "metadata": {},
   "outputs": [],
   "source": [
    "o  l  a     o  l  a     o  l  a\n",
    "0  1  2  3  4  5  6  7  8  9  10"
   ]
  },
  {
   "cell_type": "code",
   "execution_count": 18,
   "id": "13d8a615-0018-4005-91ea-71eb44bd840b",
   "metadata": {},
   "outputs": [
    {
     "data": {
      "text/plain": [
       "2"
      ]
     },
     "execution_count": 18,
     "metadata": {},
     "output_type": "execute_result"
    }
   ],
   "source": [
    "str1.count('a',4)"
   ]
  },
  {
   "cell_type": "code",
   "execution_count": 19,
   "id": "168d37b1-5f44-407e-a0e3-96a96a526edc",
   "metadata": {},
   "outputs": [
    {
     "data": {
      "text/plain": [
       "1"
      ]
     },
     "execution_count": 19,
     "metadata": {},
     "output_type": "execute_result"
    }
   ],
   "source": [
    "str1.count('a',7)"
   ]
  },
  {
   "cell_type": "code",
   "execution_count": 20,
   "id": "3db2bb5b-eb7e-4f25-96ca-e0e654deab16",
   "metadata": {},
   "outputs": [
    {
     "data": {
      "text/plain": [
       "1"
      ]
     },
     "execution_count": 20,
     "metadata": {},
     "output_type": "execute_result"
    }
   ],
   "source": [
    "str1.count('a',4,7)"
   ]
  },
  {
   "cell_type": "code",
   "execution_count": 21,
   "id": "ae929188-9233-42d8-8125-15d5179574a1",
   "metadata": {},
   "outputs": [
    {
     "data": {
      "text/plain": [
       "2"
      ]
     },
     "execution_count": 21,
     "metadata": {},
     "output_type": "execute_result"
    }
   ],
   "source": [
    "str1.count('a',5)"
   ]
  },
  {
   "cell_type": "code",
   "execution_count": 22,
   "id": "63307849-dbf7-4159-aad9-eb8bfb78e007",
   "metadata": {},
   "outputs": [
    {
     "data": {
      "text/plain": [
       "2"
      ]
     },
     "execution_count": 22,
     "metadata": {},
     "output_type": "execute_result"
    }
   ],
   "source": [
    "str1.count('a',-5)"
   ]
  },
  {
   "cell_type": "code",
   "execution_count": 23,
   "id": "43947400-d023-43c2-9c9d-575f5b5ec84f",
   "metadata": {},
   "outputs": [
    {
     "data": {
      "text/plain": [
       "1"
      ]
     },
     "execution_count": 23,
     "metadata": {},
     "output_type": "execute_result"
    }
   ],
   "source": [
    "str1.count('a',-2)"
   ]
  },
  {
   "cell_type": "code",
   "execution_count": 24,
   "id": "5f9872c3-e9dd-4b59-a28e-491f618b813c",
   "metadata": {},
   "outputs": [
    {
     "data": {
      "text/plain": [
       "3"
      ]
     },
     "execution_count": 24,
     "metadata": {},
     "output_type": "execute_result"
    }
   ],
   "source": [
    "str1.count('a',-10)"
   ]
  },
  {
   "cell_type": "code",
   "execution_count": 27,
   "id": "d44bc067-e12d-45a5-b06b-5d00c4d2fd95",
   "metadata": {},
   "outputs": [
    {
     "data": {
      "text/plain": [
       "0"
      ]
     },
     "execution_count": 27,
     "metadata": {},
     "output_type": "execute_result"
    }
   ],
   "source": [
    "str1.count('a',-2,-5)"
   ]
  },
  {
   "cell_type": "code",
   "execution_count": 28,
   "id": "d76c2f90-e63f-4300-815c-46c8a97a01d5",
   "metadata": {},
   "outputs": [
    {
     "data": {
      "text/plain": [
       "0"
      ]
     },
     "execution_count": 28,
     "metadata": {},
     "output_type": "execute_result"
    }
   ],
   "source": [
    "str1.count('a',-1,2)"
   ]
  },
  {
   "cell_type": "code",
   "execution_count": 29,
   "id": "a3d1831f-560d-41df-beb2-db315625e73f",
   "metadata": {},
   "outputs": [
    {
     "data": {
      "text/plain": [
       "0"
      ]
     },
     "execution_count": 29,
     "metadata": {},
     "output_type": "execute_result"
    }
   ],
   "source": [
    "str1.count('a',-1,-10)"
   ]
  },
  {
   "cell_type": "code",
   "execution_count": 31,
   "id": "eeed68d9-00ca-4956-b16c-b605c922dc70",
   "metadata": {},
   "outputs": [
    {
     "data": {
      "text/plain": [
       "2"
      ]
     },
     "execution_count": 31,
     "metadata": {},
     "output_type": "execute_result"
    }
   ],
   "source": [
    "str1.count('a',-10,-1)"
   ]
  },
  {
   "cell_type": "code",
   "execution_count": 32,
   "id": "937c1153-5c26-4dc3-8a1f-f14bc7d712c3",
   "metadata": {},
   "outputs": [
    {
     "data": {
      "text/plain": [
       "0"
      ]
     },
     "execution_count": 32,
     "metadata": {},
     "output_type": "execute_result"
    }
   ],
   "source": [
    "str1.count('z')"
   ]
  },
  {
   "cell_type": "markdown",
   "id": "9f82b358-556e-4ba5-9b0b-612e6b13a453",
   "metadata": {},
   "source": [
    "**sliding window approach**\n",
    "\n",
    "- fix the slice value first : **str1[i:i+3]**\n",
    "\n",
    "- then increase the slice by 1 : **for i in range(len(str1))**\n",
    "\n",
    "- whenever it is equal to sub string : **str1[i:i+3]='ola**\n",
    "\n",
    "- then update the count : **count=count+1**"
   ]
  },
  {
   "cell_type": "code",
   "execution_count": 48,
   "id": "b375ca45-c5e8-43ba-8bcb-f802fa5a14db",
   "metadata": {},
   "outputs": [
    {
     "name": "stdout",
     "output_type": "stream",
     "text": [
      "the number of ola are : 3\n"
     ]
    }
   ],
   "source": [
    "count=0\n",
    "str1='ola ola ola'\n",
    "str1[i:i+3]\n",
    "for i in range(len(str1)):\n",
    "    if str1[i:i+3]=='ola':    # str1[i:i+3]=='ola'\n",
    "        count=count+1\n",
    "print(f\"the number of ola are : {count}\")"
   ]
  },
  {
   "cell_type": "markdown",
   "id": "a8ba17b5-a246-4e7e-8282-e0cabb24d752",
   "metadata": {},
   "source": [
    "**replace**"
   ]
  },
  {
   "cell_type": "code",
   "execution_count": 51,
   "id": "be956ab7-d512-463f-80c0-0d0821cc72a3",
   "metadata": {},
   "outputs": [
    {
     "data": {
      "text/plain": [
       "False"
      ]
     },
     "execution_count": 51,
     "metadata": {},
     "output_type": "execute_result"
    }
   ],
   "source": [
    "str1='welcome'\n",
    "str1[2]=='L'"
   ]
  },
  {
   "cell_type": "code",
   "execution_count": 52,
   "id": "e4ca8b27-b97c-40f4-9c20-57c53765240c",
   "metadata": {},
   "outputs": [
    {
     "data": {
      "text/plain": [
       "'weLcome'"
      ]
     },
     "execution_count": 52,
     "metadata": {},
     "output_type": "execute_result"
    }
   ],
   "source": [
    "str1='welcome'\n",
    "str1.replace('l','L')"
   ]
  },
  {
   "cell_type": "code",
   "execution_count": 55,
   "id": "6cc7f5bd-eaa8-4a73-973b-3f22f1d4c86d",
   "metadata": {},
   "outputs": [
    {
     "data": {
      "text/plain": [
       "'weLLLcome'"
      ]
     },
     "execution_count": 55,
     "metadata": {},
     "output_type": "execute_result"
    }
   ],
   "source": [
    "str1='welllcome'\n",
    "str1.replace('l','L')"
   ]
  },
  {
   "cell_type": "code",
   "execution_count": 56,
   "id": "4275f272-e04e-4460-9d14-6a292334bef6",
   "metadata": {},
   "outputs": [
    {
     "data": {
      "text/plain": [
       "'weLllcome'"
      ]
     },
     "execution_count": 56,
     "metadata": {},
     "output_type": "execute_result"
    }
   ],
   "source": [
    "str1='welllcome'\n",
    "str1.replace('l','L',1) 3 which indicates replace only one L"
   ]
  },
  {
   "cell_type": "code",
   "execution_count": 57,
   "id": "120eed0c-0d9c-408c-ba17-1141a7171867",
   "metadata": {},
   "outputs": [
    {
     "data": {
      "text/plain": [
       "'welllcome'"
      ]
     },
     "execution_count": 57,
     "metadata": {},
     "output_type": "execute_result"
    }
   ],
   "source": [
    "str1.replace('z','Z')"
   ]
  },
  {
   "cell_type": "markdown",
   "id": "b33b94e0-e053-485c-baf6-fae58ca2c0da",
   "metadata": {},
   "source": [
    "- by default it will replace all the occurances \n",
    "\n",
    "- the user can provide count which indicate how many letters can replace\n",
    "\n",
    "- if the substring not found it will return the original string itself\n"
   ]
  },
  {
   "cell_type": "code",
   "execution_count": 67,
   "id": "4149cc74-944f-493c-9d2e-ffaa252d0527",
   "metadata": {},
   "outputs": [
    {
     "data": {
      "text/plain": [
       "'resta$t'"
      ]
     },
     "execution_count": 67,
     "metadata": {},
     "output_type": "execute_result"
    }
   ],
   "source": [
    "str1='restart'\n",
    "s1=str1[0:5]\n",
    "s2=str1[5:7]\n",
    "s3=s2.replace('r','$')\n",
    "s1+s3"
   ]
  },
  {
   "cell_type": "code",
   "execution_count": 70,
   "id": "15c10142-400d-45c0-b6ac-7d56c355b16e",
   "metadata": {},
   "outputs": [
    {
     "data": {
      "text/plain": [
       "'resta$t'"
      ]
     },
     "execution_count": 70,
     "metadata": {},
     "output_type": "execute_result"
    }
   ],
   "source": [
    "str1='restart'\n",
    "str1[::-1].replace('r','$',1)[::-1]"
   ]
  },
  {
   "cell_type": "markdown",
   "id": "c0c2d49a-3e5f-4320-bb2f-3d1a7aaf37ba",
   "metadata": {},
   "source": [
    "**index**"
   ]
  },
  {
   "cell_type": "code",
   "execution_count": 74,
   "id": "74cb2bb9-a1ea-4b19-9afb-10866c0028c9",
   "metadata": {},
   "outputs": [
    {
     "data": {
      "text/plain": [
       "3"
      ]
     },
     "execution_count": 74,
     "metadata": {},
     "output_type": "execute_result"
    }
   ],
   "source": [
    "str1='restart restart'\n",
    "str1.index('t')"
   ]
  },
  {
   "cell_type": "code",
   "execution_count": 73,
   "id": "1b9a8ced-b4c0-438b-b6b1-f603fd78c07f",
   "metadata": {},
   "outputs": [
    {
     "data": {
      "text/plain": [
       "0"
      ]
     },
     "execution_count": 73,
     "metadata": {},
     "output_type": "execute_result"
    }
   ],
   "source": [
    "str1='restart restart'\n",
    "str1.index('r') # by default first string index will come"
   ]
  },
  {
   "cell_type": "code",
   "execution_count": 75,
   "id": "7c7e7a94-89e1-43e2-b509-a553a8deb97f",
   "metadata": {},
   "outputs": [
    {
     "ename": "ValueError",
     "evalue": "substring not found",
     "output_type": "error",
     "traceback": [
      "\u001b[1;31m---------------------------------------------------------------------------\u001b[0m",
      "\u001b[1;31mValueError\u001b[0m                                Traceback (most recent call last)",
      "Cell \u001b[1;32mIn[75], line 2\u001b[0m\n\u001b[0;32m      1\u001b[0m str1\u001b[38;5;241m=\u001b[39m\u001b[38;5;124m'\u001b[39m\u001b[38;5;124mrestart\u001b[39m\u001b[38;5;124m'\u001b[39m\n\u001b[1;32m----> 2\u001b[0m str1\u001b[38;5;241m.\u001b[39mindex(\u001b[38;5;124m'\u001b[39m\u001b[38;5;124mz\u001b[39m\u001b[38;5;124m'\u001b[39m)\n",
      "\u001b[1;31mValueError\u001b[0m: substring not found"
     ]
    }
   ],
   "source": [
    "str1='restart'\n",
    "str1.index('z') # index will send error if the characrter is mismatch"
   ]
  },
  {
   "cell_type": "code",
   "execution_count": 77,
   "id": "ae2e5a7b-9b6d-45d0-b237-8204f5f486c6",
   "metadata": {},
   "outputs": [
    {
     "data": {
      "text/plain": [
       "5"
      ]
     },
     "execution_count": 77,
     "metadata": {},
     "output_type": "execute_result"
    }
   ],
   "source": [
    "str1='restart'\n",
    "str1.index('r',1)"
   ]
  },
  {
   "cell_type": "code",
   "execution_count": 78,
   "id": "66b8184d-0c29-40c9-b76f-a34897094645",
   "metadata": {},
   "outputs": [
    {
     "data": {
      "text/plain": [
       "8"
      ]
     },
     "execution_count": 78,
     "metadata": {},
     "output_type": "execute_result"
    }
   ],
   "source": [
    "str1='restart restart'\n",
    "str1.index('r',6)"
   ]
  },
  {
   "cell_type": "code",
   "execution_count": 87,
   "id": "0e3f8af8-1e83-4c59-a160-613326f41b41",
   "metadata": {},
   "outputs": [
    {
     "name": "stdout",
     "output_type": "stream",
     "text": [
      "0 5 8 13\n"
     ]
    }
   ],
   "source": [
    "str1='restart restart'\n",
    "i1=str1.index('r') # 0\n",
    "i2=str1.index('r',i1+1) # 0+1\n",
    "i3=str1.index('r',i2+1) # 5+1\n",
    "i4=str1.index('r',i3+1) # 8+1\n",
    "print(i1,i2,i3,i4)"
   ]
  },
  {
   "cell_type": "markdown",
   "id": "6aef5ca2-09a8-4977-8912-f2b0963e9afc",
   "metadata": {},
   "source": [
    "**find**"
   ]
  },
  {
   "cell_type": "code",
   "execution_count": 88,
   "id": "881730fd-e140-429b-803e-51da7110107a",
   "metadata": {},
   "outputs": [
    {
     "data": {
      "text/plain": [
       "0"
      ]
     },
     "execution_count": 88,
     "metadata": {},
     "output_type": "execute_result"
    }
   ],
   "source": [
    "str1='restart'\n",
    "str1.find('r')"
   ]
  },
  {
   "cell_type": "code",
   "execution_count": 89,
   "id": "dff636b3-932b-4204-bb82-9d92e2ced52b",
   "metadata": {},
   "outputs": [
    {
     "data": {
      "text/plain": [
       "-1"
      ]
     },
     "execution_count": 89,
     "metadata": {},
     "output_type": "execute_result"
    }
   ],
   "source": [
    "str1='restart'\n",
    "str1.find('z') # find means instead of error we can see -1"
   ]
  },
  {
   "cell_type": "code",
   "execution_count": null,
   "id": "acdde997-739d-4da8-a997-1c8863188945",
   "metadata": {},
   "outputs": [],
   "source": [
    "str1.count('z') # 0\n",
    "str1.replace('z','Z') # restart\n",
    "str1.index('z') # value error\n",
    "str1.find('z') # -1"
   ]
  },
  {
   "cell_type": "code",
   "execution_count": 2,
   "id": "9abb4f22-68de-49f7-a07b-a770ae95d952",
   "metadata": {},
   "outputs": [
    {
     "name": "stdout",
     "output_type": "stream",
     "text": [
      "5 11 5\n",
      "virat kohli rcb.com\n",
      "5 12 5\n",
      "rohit sharma mi.com\n",
      "2 8 2\n",
      "ms dhoni csk.com\n"
     ]
    }
   ],
   "source": [
    "str1='virat.kohli@rcb.com'\n",
    "str2='rohit.sharma@mi.com'\n",
    "str3='ms.dhoni@csk.com'\n",
    "# str4='a.b@c.com'\n",
    "s1=str1.index('.')\n",
    "s2=str1.index('@')\n",
    "s3=str1.index('.')\n",
    "print(s1,s2,s3)\n",
    "n1=str1[:s1]\n",
    "n2=str1[s1+1:s2]\n",
    "n3=str1[s2+1:]\n",
    "print(n1,n2,n3)\n",
    "\n",
    "b1=str2.index('.')\n",
    "b2=str2.index('@')\n",
    "b3=str2.index('.')\n",
    "print(b1,b2,b3)\n",
    "a1=str2[:b1]\n",
    "a2=str2[b1+1:b2]\n",
    "a3=str2[b2+1:]\n",
    "print(a1,a2,a3)\n",
    "\n",
    "c1=str3.index('.')\n",
    "c2=str3.index('@')\n",
    "c3=str3.index('.')\n",
    "print(c1,c2,c3)\n",
    "m1=str3[:c1]\n",
    "m2=str3[c1+1:c2]\n",
    "m3=str3[c2+1:]\n",
    "print(m1,m2,m3)"
   ]
  },
  {
   "cell_type": "markdown",
   "id": "8d543759-4d04-4bbb-b491-bab54f4b86e7",
   "metadata": {},
   "source": [
    "**split**"
   ]
  },
  {
   "cell_type": "markdown",
   "id": "1dc35681-c629-4ea2-96d5-084050536a2b",
   "metadata": {},
   "source": [
    "- split is used to convert a string to list of elements\n",
    "- by default  it wilkl split based on space"
   ]
  },
  {
   "cell_type": "code",
   "execution_count": 7,
   "id": "ac6eda73-ba62-4597-b9e3-7130dff58dfa",
   "metadata": {},
   "outputs": [
    {
     "data": {
      "text/plain": [
       "['hai', ' how are you']"
      ]
     },
     "execution_count": 7,
     "metadata": {},
     "output_type": "execute_result"
    }
   ],
   "source": [
    "str1='hai, how are you'\n",
    "str1.split(',')"
   ]
  },
  {
   "cell_type": "code",
   "execution_count": 8,
   "id": "22f40395-61d2-4656-884d-945085631651",
   "metadata": {},
   "outputs": [
    {
     "data": {
      "text/plain": [
       "['hai, how ', ' you']"
      ]
     },
     "execution_count": 8,
     "metadata": {},
     "output_type": "execute_result"
    }
   ],
   "source": [
    "str1.split('are')"
   ]
  },
  {
   "cell_type": "markdown",
   "id": "b528c8c1-8d07-406f-b76f-c3fc31afa9e7",
   "metadata": {},
   "source": [
    "**join**"
   ]
  },
  {
   "cell_type": "code",
   "execution_count": 11,
   "id": "ed7b03e5-3b3e-4d8b-b4d6-d2c9510acd0a",
   "metadata": {},
   "outputs": [
    {
     "data": {
      "text/plain": [
       "'im srav,from tenali'"
      ]
     },
     "execution_count": 11,
     "metadata": {},
     "output_type": "execute_result"
    }
   ],
   "source": [
    "str1='im srav,from tenali'\n",
    "s=str1.split()\n",
    "s\n",
    "' '.join(s)"
   ]
  },
  {
   "cell_type": "code",
   "execution_count": 14,
   "id": "fcccd695-3850-417d-abd7-2d241080646d",
   "metadata": {},
   "outputs": [
    {
     "name": "stdout",
     "output_type": "stream",
     "text": [
      "1 2 3 4 5 6 "
     ]
    }
   ],
   "source": [
    "for i in str1:\n",
    "    if i.isdigit():\n",
    "        print(i,end=' ')"
   ]
  },
  {
   "cell_type": "code",
   "execution_count": 15,
   "id": "6cb225f3-b8a8-4181-9747-361214f236ab",
   "metadata": {},
   "outputs": [
    {
     "name": "stdout",
     "output_type": "stream",
     "text": [
      "123456\n"
     ]
    }
   ],
   "source": [
    "num=''\n",
    "for i in str1:\n",
    "    if i.isdigit():\n",
    "        num=num+i\n",
    "print(num)"
   ]
  },
  {
   "cell_type": "code",
   "execution_count": null,
   "id": "25c4dd32-9a64-404e-a5f7-0e5849f49715",
   "metadata": {},
   "outputs": [],
   "source": []
  }
 ],
 "metadata": {
  "kernelspec": {
   "display_name": "Python 3 (ipykernel)",
   "language": "python",
   "name": "python3"
  },
  "language_info": {
   "codemirror_mode": {
    "name": "ipython",
    "version": 3
   },
   "file_extension": ".py",
   "mimetype": "text/x-python",
   "name": "python",
   "nbconvert_exporter": "python",
   "pygments_lexer": "ipython3",
   "version": "3.12.7"
  }
 },
 "nbformat": 4,
 "nbformat_minor": 5
}
