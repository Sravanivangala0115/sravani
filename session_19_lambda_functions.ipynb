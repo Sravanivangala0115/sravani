{
 "cells": [
  {
   "cell_type": "markdown",
   "id": "4d8adc7e-3265-4b66-a54b-2223ac602f47",
   "metadata": {},
   "source": [
    "**list comprehension methods**\n",
    "# method1:[output for loop]\n",
    "# method2:[output for loop if condition]\n",
    "# method3:[if output if condition else output for loop]\n",
    "# method4:[if output if condition elif output elif condition else else output for loop]"
   ]
  },
  {
   "cell_type": "markdown",
   "id": "9a1a38d9-e815-4370-ad94-89651cf7f627",
   "metadata": {},
   "source": [
    "**lambda functions**\n",
    "\n",
    "- lambda functions represents functions in a single line \n",
    "\n",
    "- it is similar analogy to list comprehension\n",
    "\n",
    "- to reduce the time complexity we will go for lambda functions"
   ]
  },
  {
   "cell_type": "markdown",
   "id": "632e98ca-a4df-4e43-a557-9f9e5da71a75",
   "metadata": {},
   "source": [
    "$pattern-1$: **function with one argument**"
   ]
  },
  {
   "cell_type": "code",
   "execution_count": 1,
   "id": "0d546378-3831-443e-949b-ccbe24de246a",
   "metadata": {},
   "outputs": [
    {
     "data": {
      "text/plain": [
       "100"
      ]
     },
     "execution_count": 1,
     "metadata": {},
     "output_type": "execute_result"
    }
   ],
   "source": [
    "def mul(a):\n",
    "    return(a*a)\n",
    "ans=mul(10)\n",
    "ans"
   ]
  },
  {
   "cell_type": "code",
   "execution_count": 7,
   "id": "c7d0e00c-3c96-4a2c-b73e-439757137f0b",
   "metadata": {},
   "outputs": [
    {
     "data": {
      "text/plain": [
       "400"
      ]
     },
     "execution_count": 7,
     "metadata": {},
     "output_type": "execute_result"
    }
   ],
   "source": [
    "# syntax is :\n",
    "# function_name=lambda<argument> : <return output>\n",
    "mul=lambda a : a*a\n",
    "mul(20)"
   ]
  },
  {
   "cell_type": "code",
   "execution_count": 9,
   "id": "650b8cfa-eafe-4134-a4ad-fe69c4f6211e",
   "metadata": {},
   "outputs": [
    {
     "data": {
      "text/plain": [
       "1000000"
      ]
     },
     "execution_count": 9,
     "metadata": {},
     "output_type": "execute_result"
    }
   ],
   "source": [
    "def cube(a):\n",
    "    return(a*a*a)\n",
    "cube(100)"
   ]
  },
  {
   "cell_type": "code",
   "execution_count": 10,
   "id": "e305466e-f11b-45ba-972d-53e4bcae8179",
   "metadata": {},
   "outputs": [
    {
     "data": {
      "text/plain": [
       "1000"
      ]
     },
     "execution_count": 10,
     "metadata": {},
     "output_type": "execute_result"
    }
   ],
   "source": [
    "cube=lambda a: a*a*a\n",
    "cube(10)"
   ]
  },
  {
   "cell_type": "markdown",
   "id": "5405a816-5292-4967-82e3-8d6b86d79665",
   "metadata": {},
   "source": [
    "$pattern-2$:**function with two arguments**"
   ]
  },
  {
   "cell_type": "code",
   "execution_count": 11,
   "id": "5da4d8df-4166-4986-9342-0e50bb5d6fef",
   "metadata": {},
   "outputs": [
    {
     "data": {
      "text/plain": [
       "30"
      ]
     },
     "execution_count": 11,
     "metadata": {},
     "output_type": "execute_result"
    }
   ],
   "source": [
    "def add(a,b):\n",
    "    return(a+b)\n",
    "add(10,20)"
   ]
  },
  {
   "cell_type": "code",
   "execution_count": null,
   "id": "29d2a8f8-834a-4a5e-a245-b3ea361d4120",
   "metadata": {},
   "outputs": [],
   "source": [
    "# syntax is :\n",
    "# function name= lambda arg1,arg2:return_statement"
   ]
  },
  {
   "cell_type": "code",
   "execution_count": 12,
   "id": "cfb18e8f-1e08-4de3-85e1-d6138821ee38",
   "metadata": {},
   "outputs": [
    {
     "data": {
      "text/plain": [
       "30"
      ]
     },
     "execution_count": 12,
     "metadata": {},
     "output_type": "execute_result"
    }
   ],
   "source": [
    "add=lambda a,b : a+b\n",
    "add(10,20)"
   ]
  },
  {
   "cell_type": "markdown",
   "id": "7fc5730b-3ab6-403d-a596-c44995157d41",
   "metadata": {},
   "source": [
    "$pattern-3$:**function with three arguments**"
   ]
  },
  {
   "cell_type": "code",
   "execution_count": 20,
   "id": "ce53c5d7-3d88-4073-85c0-d025038b4392",
   "metadata": {},
   "outputs": [
    {
     "data": {
      "text/plain": [
       "(20, 2)"
      ]
     },
     "execution_count": 20,
     "metadata": {},
     "output_type": "execute_result"
    }
   ],
   "source": [
    "def avg(a,b,c):\n",
    "    return(round((a+b+c)/3),2)\n",
    "avg(10,20,30)"
   ]
  },
  {
   "cell_type": "code",
   "execution_count": 18,
   "id": "d5033c47-9082-426d-818a-fe044c2ebf5e",
   "metadata": {},
   "outputs": [
    {
     "data": {
      "text/plain": [
       "20.0"
      ]
     },
     "execution_count": 18,
     "metadata": {},
     "output_type": "execute_result"
    }
   ],
   "source": [
    "avg=lambda a,b,c : round((a+b+c)/3,2)\n",
    "avg(10,20,30)"
   ]
  },
  {
   "cell_type": "code",
   "execution_count": null,
   "id": "6e282f74-9ab5-4f52-a3b3-44b6651b968a",
   "metadata": {},
   "outputs": [],
   "source": [
    "$pattern-4$:**default arguments**"
   ]
  },
  {
   "cell_type": "code",
   "execution_count": 21,
   "id": "010c646a-6796-45f8-8e66-67660abea01b",
   "metadata": {},
   "outputs": [
    {
     "data": {
      "text/plain": [
       "20.0"
      ]
     },
     "execution_count": 21,
     "metadata": {},
     "output_type": "execute_result"
    }
   ],
   "source": [
    "avg = lambda a,b,c=21 : round((a+b+c)/3,2)\n",
    "avg(10,20,30)"
   ]
  },
  {
   "cell_type": "code",
   "execution_count": 22,
   "id": "d6410038-17bf-4812-b73b-5172eaf67d59",
   "metadata": {},
   "outputs": [
    {
     "data": {
      "text/plain": [
       "100"
      ]
     },
     "execution_count": 22,
     "metadata": {},
     "output_type": "execute_result"
    }
   ],
   "source": [
    "mul=lambda a : a*a\n",
    "mul(10)"
   ]
  },
  {
   "cell_type": "code",
   "execution_count": 24,
   "id": "fc147ad1-174e-4d71-8b19-fc379843bfd8",
   "metadata": {},
   "outputs": [
    {
     "data": {
      "text/plain": [
       "1000000"
      ]
     },
     "execution_count": 24,
     "metadata": {},
     "output_type": "execute_result"
    }
   ],
   "source": [
    "cube=lambda a : a*a*a\n",
    "cube(100)"
   ]
  },
  {
   "cell_type": "code",
   "execution_count": 23,
   "id": "e0e7551b-b3b4-48b8-b737-1dbc54a3d4a7",
   "metadata": {},
   "outputs": [
    {
     "data": {
      "text/plain": [
       "50"
      ]
     },
     "execution_count": 23,
     "metadata": {},
     "output_type": "execute_result"
    }
   ],
   "source": [
    "add=lambda a,b : a+b\n",
    "add(20,30)"
   ]
  },
  {
   "cell_type": "code",
   "execution_count": 25,
   "id": "02875784-7d7b-4143-b962-eaaa07e661ac",
   "metadata": {},
   "outputs": [
    {
     "data": {
      "text/plain": [
       "4.0"
      ]
     },
     "execution_count": 25,
     "metadata": {},
     "output_type": "execute_result"
    }
   ],
   "source": [
    "avg=lambda a,b,c : round((a+b+c)/3,2)\n",
    "avg(2,4,6)"
   ]
  },
  {
   "cell_type": "code",
   "execution_count": 26,
   "id": "812977d2-4733-4ecb-b627-c8579e98849c",
   "metadata": {},
   "outputs": [
    {
     "data": {
      "text/plain": [
       "23.33"
      ]
     },
     "execution_count": 26,
     "metadata": {},
     "output_type": "execute_result"
    }
   ],
   "source": [
    "avg = lambda a,b,c=20 : round((a+b+c)/3,2)\n",
    "avg(20,30)"
   ]
  },
  {
   "cell_type": "markdown",
   "id": "8a075834-2017-4254-88f2-07f38466ebc1",
   "metadata": {},
   "source": [
    "$pattern-5$:**list cases**"
   ]
  },
  {
   "cell_type": "code",
   "execution_count": 1,
   "id": "5c338c45-ec9b-49e0-827d-9a610625dfe0",
   "metadata": {},
   "outputs": [
    {
     "data": {
      "text/plain": [
       "['Hyd', 'Bengaluru', 'Mumbai', 'Pune']"
      ]
     },
     "execution_count": 1,
     "metadata": {},
     "output_type": "execute_result"
    }
   ],
   "source": [
    "input=['hyd','bengaluru','mumbai','pune']\n",
    "output=[]\n",
    "for i in input:\n",
    "    output.append(i.capitalize())\n",
    "output"
   ]
  },
  {
   "cell_type": "code",
   "execution_count": 2,
   "id": "e2b7e74a-f66a-4fe6-abe6-6fba01df3e92",
   "metadata": {},
   "outputs": [
    {
     "data": {
      "text/plain": [
       "['Hyd', 'Bengaluru', 'Mumbai', 'Pune']"
      ]
     },
     "execution_count": 2,
     "metadata": {},
     "output_type": "execute_result"
    }
   ],
   "source": [
    "output=[i.capitalize() for i in input]\n",
    "output"
   ]
  },
  {
   "cell_type": "code",
   "execution_count": null,
   "id": "020359c2-2f60-436e-a24c-e8213423fb08",
   "metadata": {},
   "outputs": [],
   "source": [
    "# step-1: lambda <variable> : <output>\n",
    "# step-2: lambda <variable> : <output>,<iterator>\n",
    "# step-3: map(lambda <variable> : <output>,<iterator>)\n",
    "# step-4: list(map(lambda <variable> : <outout>,<iterator>))"
   ]
  },
  {
   "cell_type": "code",
   "execution_count": 3,
   "id": "5a5c26dc-8c0c-41e4-ac75-f24385e0ad2a",
   "metadata": {},
   "outputs": [
    {
     "data": {
      "text/plain": [
       "<function __main__.<lambda>(i)>"
      ]
     },
     "execution_count": 3,
     "metadata": {},
     "output_type": "execute_result"
    }
   ],
   "source": [
    "lambda i : i.capitalize()"
   ]
  },
  {
   "cell_type": "code",
   "execution_count": 4,
   "id": "fc4c8976-8ec3-4069-aaf2-29f371b73b30",
   "metadata": {},
   "outputs": [
    {
     "data": {
      "text/plain": [
       "(<function __main__.<lambda>(i)>, ['hyd', 'bengaluru', 'mumbai', 'pune'])"
      ]
     },
     "execution_count": 4,
     "metadata": {},
     "output_type": "execute_result"
    }
   ],
   "source": [
    "lambda i : i.capitalize(),input"
   ]
  },
  {
   "cell_type": "code",
   "execution_count": 5,
   "id": "adaec4f8-72e1-4e5f-be31-53c217e28ca4",
   "metadata": {},
   "outputs": [
    {
     "data": {
      "text/plain": [
       "<map at 0x211765bfa60>"
      ]
     },
     "execution_count": 5,
     "metadata": {},
     "output_type": "execute_result"
    }
   ],
   "source": [
    "map(lambda i : i.capitalize(),input)"
   ]
  },
  {
   "cell_type": "code",
   "execution_count": 6,
   "id": "f2cfd156-2ff4-4157-ace4-e64e97a4ad6a",
   "metadata": {},
   "outputs": [
    {
     "data": {
      "text/plain": [
       "['Hyd', 'Bengaluru', 'Mumbai', 'Pune']"
      ]
     },
     "execution_count": 6,
     "metadata": {},
     "output_type": "execute_result"
    }
   ],
   "source": [
    "list(map(lambda i : i.capitalize(),input))"
   ]
  },
  {
   "cell_type": "code",
   "execution_count": 7,
   "id": "9fa8a37a-507e-4f35-a5e6-8a74471a6c15",
   "metadata": {},
   "outputs": [
    {
     "data": {
      "text/plain": [
       "['HYD', 'BENGALURU', 'MUMBAI', 'PUNE']"
      ]
     },
     "execution_count": 7,
     "metadata": {},
     "output_type": "execute_result"
    }
   ],
   "source": [
    "# Q1)\n",
    "input=['hyd','bengaluru','mumbai','pune']\n",
    "output=[]\n",
    "for i in input:\n",
    "    output.append(i.upper())\n",
    "output\n",
    "    "
   ]
  },
  {
   "cell_type": "code",
   "execution_count": 8,
   "id": "c6ef97da-efff-4910-858f-0b4823bab5cd",
   "metadata": {},
   "outputs": [
    {
     "data": {
      "text/plain": [
       "['HYD', 'BENGALURU', 'MUMBAI', 'PUNE']"
      ]
     },
     "execution_count": 8,
     "metadata": {},
     "output_type": "execute_result"
    }
   ],
   "source": [
    "list(map(lambda i : i.upper(),input))"
   ]
  },
  {
   "cell_type": "code",
   "execution_count": 30,
   "id": "dee3cf2f-b141-48bc-9195-d959c86e79ac",
   "metadata": {},
   "outputs": [
    {
     "data": {
      "text/plain": [
       "[0, 1, 2, 3]"
      ]
     },
     "execution_count": 30,
     "metadata": {},
     "output_type": "execute_result"
    }
   ],
   "source": [
    "# Q2)\n",
    "input=['hyd','bengaluru','mumbai','pune']\n",
    "output=[]\n",
    "for i in input:\n",
    "    output.append(input.index(i))\n",
    "output"
   ]
  },
  {
   "cell_type": "code",
   "execution_count": 32,
   "id": "a5fe0d59-91da-41b5-9304-2975e241f76a",
   "metadata": {},
   "outputs": [
    {
     "data": {
      "text/plain": [
       "[0, 1, 2, 3]"
      ]
     },
     "execution_count": 32,
     "metadata": {},
     "output_type": "execute_result"
    }
   ],
   "source": [
    "list(map(lambda i : input.index(i),input))"
   ]
  },
  {
   "cell_type": "code",
   "execution_count": 26,
   "id": "db614cb6-15bb-4098-b29e-35125fa65869",
   "metadata": {},
   "outputs": [
    {
     "data": {
      "text/plain": [
       "['H',\n",
       " 'E',\n",
       " 'L',\n",
       " 'L',\n",
       " 'O',\n",
       " ' ',\n",
       " 'H',\n",
       " 'O',\n",
       " 'W',\n",
       " ' ',\n",
       " 'A',\n",
       " 'R',\n",
       " 'E',\n",
       " ' ',\n",
       " 'Y',\n",
       " 'O',\n",
       " 'U']"
      ]
     },
     "execution_count": 26,
     "metadata": {},
     "output_type": "execute_result"
    }
   ],
   "source": [
    "# Q3)\n",
    "input='hello how are you'\n",
    "l=input.split()\n",
    "output=[]\n",
    "for i in input:\n",
    "    output.append(i.capitalize())\n",
    "output\n"
   ]
  },
  {
   "cell_type": "code",
   "execution_count": 12,
   "id": "4df4a3aa-dde0-409a-a84b-273f52423aa2",
   "metadata": {},
   "outputs": [
    {
     "ename": "AttributeError",
     "evalue": "'function' object has no attribute 'split'",
     "output_type": "error",
     "traceback": [
      "\u001b[1;31m---------------------------------------------------------------------------\u001b[0m",
      "\u001b[1;31mAttributeError\u001b[0m                            Traceback (most recent call last)",
      "Cell \u001b[1;32mIn[12], line 1\u001b[0m\n\u001b[1;32m----> 1\u001b[0m \u001b[38;5;28mlist\u001b[39m(\u001b[38;5;28mmap\u001b[39m(\u001b[38;5;28;01mlambda\u001b[39;00m i : i\u001b[38;5;241m.\u001b[39mcapitalize(),\u001b[38;5;28minput\u001b[39m\u001b[38;5;241m.\u001b[39msplit()))\n",
      "\u001b[1;31mAttributeError\u001b[0m: 'function' object has no attribute 'split'"
     ]
    }
   ],
   "source": [
    "list(map(lambda i : i.capitalize(),input.split()))"
   ]
  },
  {
   "cell_type": "code",
   "execution_count": 4,
   "id": "8ea777a0-7cec-4e9d-8a01-414b220e25bb",
   "metadata": {},
   "outputs": [
    {
     "name": "stdout",
     "output_type": "stream",
     "text": [
      "beng#aluru\n",
      "pu#ne\n"
     ]
    }
   ],
   "source": [
    "# Q4)\n",
    "input=['hyd','beng#aluru','mumbai','pu#ne']\n",
    "for i in input:\n",
    "    if '#'in i:\n",
    "        print(i)"
   ]
  },
  {
   "cell_type": "code",
   "execution_count": 5,
   "id": "ef7b8336-faf8-4279-8ca1-4c9ce18f88b4",
   "metadata": {},
   "outputs": [
    {
     "data": {
      "text/plain": [
       "[False, True, False, True]"
      ]
     },
     "execution_count": 5,
     "metadata": {},
     "output_type": "execute_result"
    }
   ],
   "source": [
    "list(map(lambda i : '#' in i,input))"
   ]
  },
  {
   "cell_type": "markdown",
   "id": "4abb09c7-83e0-4c74-80d1-2e2264fd2a79",
   "metadata": {},
   "source": [
    "**filter**\n",
    "\n",
    "- filter is applied on lambda functions to retrive the True output\n",
    "\n",
    "- map will just map the function and iterator\n",
    "\n",
    "- when we apply condition map will give True False\n",
    "\n",
    "- filter will use instead of map"
   ]
  },
  {
   "cell_type": "code",
   "execution_count": 7,
   "id": "91cbd461-f019-4e80-9561-001d82fab5ee",
   "metadata": {},
   "outputs": [
    {
     "data": {
      "text/plain": [
       "['beng#aluru', 'pu#ne']"
      ]
     },
     "execution_count": 7,
     "metadata": {},
     "output_type": "execute_result"
    }
   ],
   "source": [
    "list(filter(lambda i : '#' in i,input))"
   ]
  },
  {
   "cell_type": "code",
   "execution_count": 8,
   "id": "a5316a13-1b16-4a64-b81b-27082fb20ac2",
   "metadata": {},
   "outputs": [
    {
     "data": {
      "text/plain": [
       "['hyd', 'mumbai']"
      ]
     },
     "execution_count": 8,
     "metadata": {},
     "output_type": "execute_result"
    }
   ],
   "source": [
    "# Q5)\n",
    "list(filter(lambda i : '#'not in i,input))"
   ]
  },
  {
   "cell_type": "markdown",
   "id": "a55bc291-b3a1-41f7-8a0b-9b3083d068d7",
   "metadata": {},
   "source": [
    "**reduce**\n",
    "\n",
    "- reduce will helpful to perform math operations using lambda functions\n",
    "\n",
    "-  it is a method under a package called : **functools**\n"
   ]
  },
  {
   "cell_type": "code",
   "execution_count": 10,
   "id": "c279b2c0-cd84-4beb-aa3a-950f3f415939",
   "metadata": {},
   "outputs": [
    {
     "data": {
      "text/plain": [
       "15"
      ]
     },
     "execution_count": 10,
     "metadata": {},
     "output_type": "execute_result"
    }
   ],
   "source": [
    "list1=[1,2,3,4,5]\n",
    "sum(list1)"
   ]
  },
  {
   "cell_type": "code",
   "execution_count": 15,
   "id": "58114cd0-20d9-4008-b1ff-92d8c9517eed",
   "metadata": {},
   "outputs": [
    {
     "name": "stdout",
     "output_type": "stream",
     "text": [
      "15\n"
     ]
    }
   ],
   "source": [
    "list1=[1,2,3,4,5]\n",
    "summ=0\n",
    "for i in list1:\n",
    "    summ=summ+i\n",
    "print(summ)"
   ]
  },
  {
   "cell_type": "code",
   "execution_count": 14,
   "id": "267ad243-6034-4b04-80bd-d525aba827d7",
   "metadata": {},
   "outputs": [
    {
     "name": "stdout",
     "output_type": "stream",
     "text": [
      "15\n"
     ]
    }
   ],
   "source": [
    "summ=0\n",
    "[summ:=summ+i for i in list1]\n",
    "print(sum)"
   ]
  },
  {
   "cell_type": "code",
   "execution_count": 16,
   "id": "fb07c7e5-f691-4604-9b03-e66365476be5",
   "metadata": {},
   "outputs": [
    {
     "data": {
      "text/plain": [
       "['GenericAlias',\n",
       " 'RLock',\n",
       " 'WRAPPER_ASSIGNMENTS',\n",
       " 'WRAPPER_UPDATES',\n",
       " '_CacheInfo',\n",
       " '_HashedSeq',\n",
       " '_NOT_FOUND',\n",
       " '__all__',\n",
       " '__builtins__',\n",
       " '__cached__',\n",
       " '__doc__',\n",
       " '__file__',\n",
       " '__loader__',\n",
       " '__name__',\n",
       " '__package__',\n",
       " '__spec__',\n",
       " '_c3_merge',\n",
       " '_c3_mro',\n",
       " '_compose_mro',\n",
       " '_convert',\n",
       " '_find_impl',\n",
       " '_ge_from_gt',\n",
       " '_ge_from_le',\n",
       " '_ge_from_lt',\n",
       " '_gt_from_ge',\n",
       " '_gt_from_le',\n",
       " '_gt_from_lt',\n",
       " '_initial_missing',\n",
       " '_le_from_ge',\n",
       " '_le_from_gt',\n",
       " '_le_from_lt',\n",
       " '_lru_cache_wrapper',\n",
       " '_lt_from_ge',\n",
       " '_lt_from_gt',\n",
       " '_lt_from_le',\n",
       " '_make_key',\n",
       " '_unwrap_partial',\n",
       " 'cache',\n",
       " 'cached_property',\n",
       " 'cmp_to_key',\n",
       " 'get_cache_token',\n",
       " 'lru_cache',\n",
       " 'namedtuple',\n",
       " 'partial',\n",
       " 'partialmethod',\n",
       " 'recursive_repr',\n",
       " 'reduce',\n",
       " 'singledispatch',\n",
       " 'singledispatchmethod',\n",
       " 'total_ordering',\n",
       " 'update_wrapper',\n",
       " 'wraps']"
      ]
     },
     "execution_count": 16,
     "metadata": {},
     "output_type": "execute_result"
    }
   ],
   "source": [
    "import functools\n",
    "dir(functools)"
   ]
  },
  {
   "cell_type": "code",
   "execution_count": null,
   "id": "6bd4643f-dc98-4d90-a4f5-0eb12c93d14b",
   "metadata": {},
   "outputs": [],
   "source": [
    "# reduce(lambda <variable> : <output>,<iterator>)"
   ]
  },
  {
   "cell_type": "code",
   "execution_count": null,
   "id": "344c34c8-4232-433b-ace2-43fcda025b96",
   "metadata": {},
   "outputs": [],
   "source": [
    "import functools\n",
    "functools.reduce()\n",
    "==============================\n",
    "from functools import reduce\n",
    "==============================\n",
    "import functools as ft\n",
    "ft.reduce()"
   ]
  },
  {
   "cell_type": "code",
   "execution_count": 18,
   "id": "917d2914-8753-47e4-b9b3-5175811f2b52",
   "metadata": {},
   "outputs": [
    {
     "data": {
      "text/plain": [
       "15"
      ]
     },
     "execution_count": 18,
     "metadata": {},
     "output_type": "execute_result"
    }
   ],
   "source": [
    "from functools import reduce\n",
    "reduce(lambda summ,i : summ+i,list1)"
   ]
  },
  {
   "cell_type": "code",
   "execution_count": 21,
   "id": "3b8e8cfb-b984-4b09-adfc-104e107b9629",
   "metadata": {},
   "outputs": [
    {
     "data": {
      "text/plain": [
       "215"
      ]
     },
     "execution_count": 21,
     "metadata": {},
     "output_type": "execute_result"
    }
   ],
   "source": [
    "from functools import reduce\n",
    "lambda summ,i : summ+i\n",
    "lambda summ,i : summ+i,list1,200\n",
    "reduce(lambda summ,i : summ+i,list1,200)"
   ]
  },
  {
   "cell_type": "code",
   "execution_count": null,
   "id": "94fef0a2-1418-4880-b76f-d06667a96da6",
   "metadata": {},
   "outputs": [],
   "source": []
  }
 ],
 "metadata": {
  "kernelspec": {
   "display_name": "Python 3 (ipykernel)",
   "language": "python",
   "name": "python3"
  },
  "language_info": {
   "codemirror_mode": {
    "name": "ipython",
    "version": 3
   },
   "file_extension": ".py",
   "mimetype": "text/x-python",
   "name": "python",
   "nbconvert_exporter": "python",
   "pygments_lexer": "ipython3",
   "version": "3.12.7"
  }
 },
 "nbformat": 4,
 "nbformat_minor": 5
}
