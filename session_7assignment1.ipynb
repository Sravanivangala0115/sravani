{
 "cells": [
  {
   "cell_type": "code",
   "execution_count": 1,
   "id": "716c1fb2-35e2-4246-8192-01126944e8a4",
   "metadata": {},
   "outputs": [
    {
     "name": "stdin",
     "output_type": "stream",
     "text": [
      "enter the number1: 10\n",
      "enter the number2: 20\n",
      "enter the number3: 30\n"
     ]
    }
   ],
   "source": [
    "n1=eval(input(\"enter the number1:\"))\n",
    "n2=eval(input(\"enter the number2:\"))\n",
    "n3=eval(input(\"enter the number3:\"))\n",
    "avg=(n1+n2+n3)/3"
   ]
  },
  {
   "cell_type": "code",
   "execution_count": 2,
   "id": "0eec7a54-c3dd-4555-aa25-45f3f24f236b",
   "metadata": {},
   "outputs": [
    {
     "data": {
      "text/plain": [
       "20.0"
      ]
     },
     "execution_count": 2,
     "metadata": {},
     "output_type": "execute_result"
    }
   ],
   "source": [
    "avg"
   ]
  },
  {
   "cell_type": "code",
   "execution_count": 3,
   "id": "40c68f1c-629d-46eb-9aeb-4f2a1d4dfe44",
   "metadata": {},
   "outputs": [
    {
     "name": "stdin",
     "output_type": "stream",
     "text": [
      "enter a string1: python\n",
      "enter a string2: 10\n",
      "enter a string3: hyd\n"
     ]
    },
    {
     "data": {
      "text/plain": [
       "'python10hyd'"
      ]
     },
     "execution_count": 3,
     "metadata": {},
     "output_type": "execute_result"
    }
   ],
   "source": [
    "str1=input(\"enter a string1:\")\n",
    "str2=input(\"enter a string2:\")\n",
    "str3=input(\"enter a string3:\")\n",
    "str1+str2+str3"
   ]
  },
  {
   "cell_type": "code",
   "execution_count": 4,
   "id": "0c08ac72-d0d1-4710-bc3e-75c893f52df5",
   "metadata": {},
   "outputs": [
    {
     "name": "stdout",
     "output_type": "stream",
     "text": [
      "my name is python im 10 years old and come from hyd\n"
     ]
    }
   ],
   "source": [
    "print(f\"my name is {str1} im {str2} years old and come from {str3}\")"
   ]
  },
  {
   "cell_type": "code",
   "execution_count": 5,
   "id": "573f4a1c-f4f8-42a4-9bee-bb218a2333a7",
   "metadata": {},
   "outputs": [
    {
     "name": "stdin",
     "output_type": "stream",
     "text": [
      "enter the radius: 20\n"
     ]
    }
   ],
   "source": [
    "radius= eval(input(\"enter the radius:\"))\n",
    "pi=3.14\n",
    "area=pi*radius*radius"
   ]
  },
  {
   "cell_type": "code",
   "execution_count": 6,
   "id": "38857c6c-063d-42fb-bb5c-1031c8de20c1",
   "metadata": {},
   "outputs": [
    {
     "data": {
      "text/plain": [
       "1256.0"
      ]
     },
     "execution_count": 6,
     "metadata": {},
     "output_type": "execute_result"
    }
   ],
   "source": [
    "area"
   ]
  },
  {
   "cell_type": "code",
   "execution_count": 7,
   "id": "a1263585-f86c-4bd7-b1d5-349cde7ba821",
   "metadata": {},
   "outputs": [
    {
     "name": "stdin",
     "output_type": "stream",
     "text": [
      "enter the breadth: 20\n",
      "enter the height: 40\n"
     ]
    }
   ],
   "source": [
    "n1=int(input(\"enter the breadth:\"))\n",
    "n2=int(input(\"enter the height:\"))\n",
    "area=1/2*n1*n2"
   ]
  },
  {
   "cell_type": "code",
   "execution_count": 8,
   "id": "2d8c5e25-1788-4c14-9edd-4abaec217465",
   "metadata": {},
   "outputs": [
    {
     "data": {
      "text/plain": [
       "400.0"
      ]
     },
     "execution_count": 8,
     "metadata": {},
     "output_type": "execute_result"
    }
   ],
   "source": [
    "area"
   ]
  },
  {
   "cell_type": "code",
   "execution_count": 9,
   "id": "e68236d8-7baa-4db1-aa6c-ce5d8bfdf86b",
   "metadata": {},
   "outputs": [
    {
     "name": "stdin",
     "output_type": "stream",
     "text": [
      "enter the bill amount: 1000\n",
      "enter the tip amount: 200\n"
     ]
    }
   ],
   "source": [
    "n1=int(input(\"enter the bill amount:\"))\n",
    "n2=int(input(\"enter the tip amount:\"))\n",
    "total=n1+n2"
   ]
  },
  {
   "cell_type": "code",
   "execution_count": 10,
   "id": "04dd7d20-58ab-4920-bdfc-1215dc50550f",
   "metadata": {},
   "outputs": [
    {
     "data": {
      "text/plain": [
       "1200"
      ]
     },
     "execution_count": 10,
     "metadata": {},
     "output_type": "execute_result"
    }
   ],
   "source": [
    "total"
   ]
  },
  {
   "cell_type": "code",
   "execution_count": 11,
   "id": "07d1bd45-267c-44bb-8cec-ce3a984a3427",
   "metadata": {},
   "outputs": [
    {
     "name": "stdin",
     "output_type": "stream",
     "text": [
      "enter the bill amount: 1000\n",
      "enter the tip amount: 200\n"
     ]
    }
   ],
   "source": [
    "n1=int(input(\"enter the bill amount:\"))\n",
    "n2=int(input(\"enter the tip amount:\"))\n",
    "total_percentage=(n1/(n1+n2))*100"
   ]
  },
  {
   "cell_type": "code",
   "execution_count": 12,
   "id": "e76b95c2-6b8d-4879-80a7-9eafcb05e48e",
   "metadata": {},
   "outputs": [
    {
     "data": {
      "text/plain": [
       "83.33333333333334"
      ]
     },
     "execution_count": 12,
     "metadata": {},
     "output_type": "execute_result"
    }
   ],
   "source": [
    "total_percentage"
   ]
  },
  {
   "cell_type": "code",
   "execution_count": 13,
   "id": "26f46b4d-bff8-42f4-a392-ecaeff4056af",
   "metadata": {},
   "outputs": [
    {
     "name": "stdin",
     "output_type": "stream",
     "text": [
      "enter the radius: 10\n"
     ]
    }
   ],
   "source": [
    "r=radius=int(input(\"enter the radius:\"))\n",
    "pi=3.14\n",
    "volume=pi*r*r*r"
   ]
  },
  {
   "cell_type": "code",
   "execution_count": 14,
   "id": "7f829f51-13e6-4342-90c8-6fa00ed98234",
   "metadata": {},
   "outputs": [
    {
     "data": {
      "text/plain": [
       "3140.0"
      ]
     },
     "execution_count": 14,
     "metadata": {},
     "output_type": "execute_result"
    }
   ],
   "source": [
    "volume"
   ]
  },
  {
   "cell_type": "code",
   "execution_count": 15,
   "id": "ea7a4ffc-0dc9-4355-9446-ad7a1142118c",
   "metadata": {},
   "outputs": [
    {
     "name": "stdin",
     "output_type": "stream",
     "text": [
      "enter the amount in dollars: 1\n"
     ]
    }
   ],
   "source": [
    "conversion_rate=85\n",
    "dollars=float(input(\"enter the amount in dollars:\"))\n",
    "rupees=conversion_rate*dollars"
   ]
  },
  {
   "cell_type": "code",
   "execution_count": 16,
   "id": "9592112e-5e2c-4c9a-8dd5-e04a946213ca",
   "metadata": {},
   "outputs": [
    {
     "data": {
      "text/plain": [
       "85.0"
      ]
     },
     "execution_count": 16,
     "metadata": {},
     "output_type": "execute_result"
    }
   ],
   "source": [
    "rupees"
   ]
  },
  {
   "cell_type": "code",
   "execution_count": 17,
   "id": "f6af5705-9159-4080-9b37-3509dba0d39e",
   "metadata": {},
   "outputs": [
    {
     "name": "stdin",
     "output_type": "stream",
     "text": [
      "enter the weight in kgs: 1\n"
     ]
    }
   ],
   "source": [
    "conversion_rate=2.2\n",
    "weight=float(input(\"enter the weight in kgs:\"))\n",
    "pounds=conversion_rate*weight"
   ]
  },
  {
   "cell_type": "code",
   "execution_count": 18,
   "id": "cf8d5c9e-f571-4d77-a93f-bb6976f56342",
   "metadata": {},
   "outputs": [
    {
     "data": {
      "text/plain": [
       "2.2"
      ]
     },
     "execution_count": 18,
     "metadata": {},
     "output_type": "execute_result"
    }
   ],
   "source": [
    "pounds"
   ]
  },
  {
   "cell_type": "code",
   "execution_count": 2,
   "id": "c74aabe2-7642-4fa3-b43c-3691f22557b0",
   "metadata": {},
   "outputs": [
    {
     "name": "stdin",
     "output_type": "stream",
     "text": [
      "enter the number: 1\n"
     ]
    },
    {
     "name": "stdout",
     "output_type": "stream",
     "text": [
      "1$ : 85INR\n"
     ]
    }
   ],
   "source": [
    "dollars=eval(input('enter the number:'))\n",
    "conversion=85\n",
    "rupees=dollars*conversion\n",
    "print(f'{dollars}$ : {rupees}INR')"
   ]
  },
  {
   "cell_type": "code",
   "execution_count": 3,
   "id": "4ca17a6b-1d01-419a-bd84-9708396b2b35",
   "metadata": {},
   "outputs": [
    {
     "name": "stdin",
     "output_type": "stream",
     "text": [
      "enter the number: 1\n"
     ]
    },
    {
     "name": "stdout",
     "output_type": "stream",
     "text": [
      "1kg : 2.2pounds\n"
     ]
    }
   ],
   "source": [
    "weight=eval(input('enter the number:'))\n",
    "conversion_rate=2.2\n",
    "pounds=weight*conversion_rate\n",
    "print(f'{weight}kg : {pounds}pounds')"
   ]
  },
  {
   "cell_type": "code",
   "execution_count": null,
   "id": "a19c717f-02dd-45c1-acea-fd36043b6b61",
   "metadata": {},
   "outputs": [],
   "source": []
  }
 ],
 "metadata": {
  "kernelspec": {
   "display_name": "Python 3 (ipykernel)",
   "language": "python",
   "name": "python3"
  },
  "language_info": {
   "codemirror_mode": {
    "name": "ipython",
    "version": 3
   },
   "file_extension": ".py",
   "mimetype": "text/x-python",
   "name": "python",
   "nbconvert_exporter": "python",
   "pygments_lexer": "ipython3",
   "version": "3.12.7"
  }
 },
 "nbformat": 4,
 "nbformat_minor": 5
}
