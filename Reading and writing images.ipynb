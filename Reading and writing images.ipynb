{
 "cells": [
  {
   "cell_type": "code",
   "execution_count": 1,
   "id": "854cc53c-dfc6-4876-928b-46fcad928d2f",
   "metadata": {},
   "outputs": [],
   "source": [
    "import cv2\n",
    "\n",
    "# first import the package:\n",
    "# if you get the error: than install the package\n",
    "\n",
    "# !pip install opencv-python\n",
    "\n",
    "# when you want install throgh cmd: remove ! mark\n",
    "#                                 : pip install <package_name>\n",
    "\n",
    "# if you want install in jupyter notebook:  add the ! mark and run\n",
    "#                                 : !pip install <package_name>"
   ]
  },
  {
   "cell_type": "markdown",
   "id": "f2ee2af9-01ca-48a9-b295-69c351cf6982",
   "metadata": {},
   "source": [
    "**Method-1**\n",
    "\n",
    "- Uing openCV method\n",
    "\n",
    "- Every image we have height and width\n",
    "\n",
    "- If it is a color image (h,w,c)\n",
    "\n",
    "- Color: R G B (3)\n",
    "\n",
    "- If it is a color image shape (h,w,3)\n",
    "\n",
    "- We have two kind of images will be available\n",
    "\n",
    "  - gray\n",
    "\n",
    "     - the values always varies between 0 and 1\n",
    "\n",
    "     - 0 means black 1 means white\n",
    "\n",
    "  - color\n",
    "\n",
    "    - VIBGYOR : 2^7 = 128\n",
    "\n",
    "    - 0 to 255\n",
    "\n",
    "    - No color = Black: 0\n",
    "\n",
    "    - V+I+B+G+Y+O+R= white: 255\n",
    "\n",
    "- When you read Image, it will open a new window\n",
    "\n",
    "- And image will display on the window\n",
    "\n",
    "- If you want to close the window press :0"
   ]
  },
  {
   "cell_type": "code",
   "execution_count": 2,
   "id": "a91280e4-4ff0-4904-9767-a21add4af131",
   "metadata": {},
   "outputs": [
    {
     "data": {
      "text/plain": [
       "'C:\\\\Users\\\\sravani9'"
      ]
     },
     "execution_count": 2,
     "metadata": {},
     "output_type": "execute_result"
    }
   ],
   "source": [
    "import os\n",
    "os.getcwd()"
   ]
  },
  {
   "cell_type": "code",
   "execution_count": null,
   "id": "053da85b-475b-4c04-9f6e-6d758e9c6903",
   "metadata": {},
   "outputs": [],
   "source": [
    "**imread**\n",
    "\n",
    "- image read"
   ]
  },
  {
   "cell_type": "code",
   "execution_count": 3,
   "id": "26a5d181-ab1f-4eca-b085-cd03904b13c8",
   "metadata": {},
   "outputs": [
    {
     "data": {
      "text/plain": [
       "array([[[ 44,  69, 111],\n",
       "        [ 40,  65, 107],\n",
       "        [ 35,  63, 104],\n",
       "        ...,\n",
       "        [ 37,  68,  93],\n",
       "        [ 50,  86, 116],\n",
       "        [ 45,  85, 120]],\n",
       "\n",
       "       [[ 42,  69, 113],\n",
       "        [ 39,  66, 110],\n",
       "        [ 34,  63, 107],\n",
       "        ...,\n",
       "        [ 45,  76,  99],\n",
       "        [ 75, 109, 138],\n",
       "        [ 75, 112, 146]],\n",
       "\n",
       "       [[ 43,  74, 119],\n",
       "        [ 40,  71, 116],\n",
       "        [ 36,  67, 112],\n",
       "        ...,\n",
       "        [ 80, 105, 125],\n",
       "        [ 93, 123, 148],\n",
       "        [ 82, 114, 143]],\n",
       "\n",
       "       ...,\n",
       "\n",
       "       [[ 19,  29,  47],\n",
       "        [ 16,  26,  44],\n",
       "        [ 15,  25,  43],\n",
       "        ...,\n",
       "        [ 12,  20,  27],\n",
       "        [ 11,  19,  26],\n",
       "        [  8,  16,  23]],\n",
       "\n",
       "       [[ 28,  38,  56],\n",
       "        [ 15,  25,  43],\n",
       "        [  5,  15,  33],\n",
       "        ...,\n",
       "        [ 32,  40,  47],\n",
       "        [ 20,  28,  35],\n",
       "        [ 16,  24,  31]],\n",
       "\n",
       "       [[ 45,  55,  73],\n",
       "        [ 23,  33,  51],\n",
       "        [  5,  15,  33],\n",
       "        ...,\n",
       "        [ 28,  36,  43],\n",
       "        [  2,  10,  17],\n",
       "        [  0,   5,  12]]], dtype=uint8)"
      ]
     },
     "execution_count": 3,
     "metadata": {},
     "output_type": "execute_result"
    }
   ],
   "source": [
    "import cv2\n",
    "image=cv2.imread(\"C:\\\\Users\\\\sravani9\\\\OneDrive\\\\Pictures\\\\bike.jpeg\")\n",
    "image"
   ]
  },
  {
   "cell_type": "code",
   "execution_count": null,
   "id": "285d6c32-3da2-4a1a-a2d4-dadc851bf638",
   "metadata": {},
   "outputs": [],
   "source": [
    "import cv2\n",
    "image=cv2.imread(\"C:\\\\Users\\\\sravani9\\\\OneDrive\\\\Pictures\\\\bike.jpeg\")\n",
    "cv2.imshow(\"bike\",image)\n",
    "cv2.waitKey(0)\n",
    "cv2.destroyAllWindows()"
   ]
  },
  {
   "cell_type": "code",
   "execution_count": null,
   "id": "da5b4052-5da5-41ac-a76b-8f7bdcab5ce7",
   "metadata": {},
   "outputs": [],
   "source": [
    "image"
   ]
  },
  {
   "cell_type": "code",
   "execution_count": null,
   "id": "30b63921-973a-410a-b7e3-a9a7892195c7",
   "metadata": {},
   "outputs": [],
   "source": [
    "import cv2\n",
    "import matplotlib.pyplot as plt\n",
    "image=cv2.imread(\"C:\\\\Users\\\\sravani9\\\\OneDrive\\\\Pictures\\\\bike.jpeg\")\n",
    "plt.imshow(image)"
   ]
  },
  {
   "cell_type": "markdown",
   "id": "35c59183-6245-48fa-a34b-5bcf4a29e6a1",
   "metadata": {},
   "source": [
    "**Method-2**\n",
    "\n",
    "- Uing google colab notebook\n",
    "\n",
    "- Run below codes in Google colab only"
   ]
  },
  {
   "cell_type": "code",
   "execution_count": null,
   "id": "990fb08b-bf85-4722-9c31-5a81eb2fb5da",
   "metadata": {},
   "outputs": [],
   "source": [
    "from google.colab.patches import cv2_imshow\n",
    "import cv2\n",
    "image=cv2.imread(\"contents/bike.jpeg\")\n",
    "cv2_imshow(image)"
   ]
  },
  {
   "cell_type": "markdown",
   "id": "179b7ebc-ccfd-41fc-810b-c1deb4918b56",
   "metadata": {},
   "source": [
    "**Method-3**\n",
    "\n",
    "- Using pillow package"
   ]
  },
  {
   "cell_type": "code",
   "execution_count": null,
   "id": "f2bb3365-8716-4bfa-ab53-81e550bc1039",
   "metadata": {},
   "outputs": [],
   "source": [
    "from PIL import Image\n",
    "image = Image.open(\"C:\\\\Users\\\\sravani9\\\\OneDrive\\\\Pictures\\\\bike.jpeg\")\n",
    "image.show() "
   ]
  },
  {
   "cell_type": "code",
   "execution_count": null,
   "id": "11325cc8-cf65-495a-b1aa-9a646499bc83",
   "metadata": {},
   "outputs": [],
   "source": [
    "from PIL import Image\n",
    "image = Image.open(\"C:\\\\Users\\\\sravani9\\\\OneDrive\\\\Pictures\\\\bike.jpeg\")\n",
    "image"
   ]
  },
  {
   "cell_type": "markdown",
   "id": "0e80aa23-02c5-495e-ac02-767f878faeaa",
   "metadata": {},
   "source": [
    "**Method-4**\n",
    "\n",
    "- Open using matplotlib"
   ]
  },
  {
   "cell_type": "code",
   "execution_count": null,
   "id": "8906213c-2ba4-4c89-9e04-8b7e88320abf",
   "metadata": {},
   "outputs": [],
   "source": [
    "import matplotlib.pyplot as plt\n",
    "# Open the image using pillow\n",
    "from PIL import Image\n",
    "image = Image.open(\"C:\\\\Users\\\\sravani9\\\\OneDrive\\\\Pictures\\\\bike.jpeg\")\n",
    "#show the image using matplotlib\n",
    "plt.imshow(image)"
   ]
  },
  {
   "cell_type": "code",
   "execution_count": null,
   "id": "3510524c-d58c-44f8-9da7-8524ad0c7566",
   "metadata": {},
   "outputs": [],
   "source": [
    "import matplotlib.pyplot as plt\n",
    "import cv2\n",
    "# read the image using open cv or using pillow \n",
    "image=cv2.imread(\"C:\\\\Users\\\\sravani9\\\\OneDrive\\\\Pictures\\\\bike.jpeg\")\n",
    "#open the image using matplotlib\n",
    "plt.imshow(image)  # BGR"
   ]
  },
  {
   "cell_type": "code",
   "execution_count": null,
   "id": "ca67ad6b-7d1e-4943-8e8f-b3d560a845ef",
   "metadata": {},
   "outputs": [],
   "source": [
    "import matplotlib.pyplot as plt\n",
    "from PIL import Image\n",
    "import cv2\n",
    "\n",
    "image_pil = Image.open(\"C:\\\\Users\\\\sravani9\\\\OneDrive\\\\Pictures\\\\bike.jpeg\")\n",
    "#show the image using matplotlib\n",
    "plt.subplot(1,2,1).imshow(image_pil)\n",
    "image_cv=cv2.imread(\"C:\\\\Users\\\\sravani9\\\\OneDrive\\\\Pictures\\\\bike.jpeg\")\n",
    "plt.subplot(1,2,2).imshow(image_cv)  # BGR"
   ]
  },
  {
   "cell_type": "code",
   "execution_count": null,
   "id": "4b417035-87a9-4951-aa56-27267295c5f0",
   "metadata": {},
   "outputs": [],
   "source": [
    "\n",
    "# when we read the image using cv\n",
    "# and will show using matplotlib\n",
    "# the color appears in Blue by defualt cv read the image in BGR\n",
    "\n",
    "#====================================== Read the image using Pillow and open the image using matplotlib==========\n",
    "import matplotlib.pyplot as plt\n",
    "from PIL import Image\n",
    "image = Image.open(\"C:\\\\Users\\\\sravani9\\\\OneDrive\\\\Pictures\\\\bike.jpeg\")\n",
    "#open the image using matplotlib\n",
    "plt.imshow(image)"
   ]
  },
  {
   "cell_type": "markdown",
   "id": "0cbb3a2a-3629-44ce-b805-ac44fff56c1b",
   "metadata": {},
   "source": [
    "**Writing images**"
   ]
  },
  {
   "cell_type": "code",
   "execution_count": null,
   "id": "c1aee802-e001-4240-b192-b59792cb7e62",
   "metadata": {},
   "outputs": [],
   "source": [
    "import cv2\n",
    "import numpy as np\n",
    "from PIL import Image\n",
    "\n",
    "image_cv=cv2.imread(\"C:\\\\Users\\\\sravani9\\\\OneDrive\\\\Pictures\\\\bike.jpeg\")\n",
    "image_pil = Image.open(\"C:\\\\Users\\\\sravani9\\\\OneDrive\\\\Pictures\\\\bike.jpeg\")\n",
    "cv2.imwrite('output.jpg', image_cv) # less in kb\n",
    "cv2.imwrite('output.png', np.array(image_pil)) # more in kb"
   ]
  }
 ],
 "metadata": {
  "kernelspec": {
   "display_name": "Python 3 (ipykernel)",
   "language": "python",
   "name": "python3"
  },
  "language_info": {
   "codemirror_mode": {
    "name": "ipython",
    "version": 3
   },
   "file_extension": ".py",
   "mimetype": "text/x-python",
   "name": "python",
   "nbconvert_exporter": "python",
   "pygments_lexer": "ipython3",
   "version": "3.12.7"
  }
 },
 "nbformat": 4,
 "nbformat_minor": 5
}
