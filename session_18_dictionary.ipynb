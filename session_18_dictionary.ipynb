{
 "cells": [
  {
   "cell_type": "code",
   "execution_count": 1,
   "id": "b7c168fa-3e7b-44f9-8d03-dab13d7d13c0",
   "metadata": {},
   "outputs": [
    {
     "name": "stdout",
     "output_type": "stream",
     "text": [
      "Ramesh age is : 20\n",
      "Suresh age is : 25\n",
      "satish age is : 30\n"
     ]
    }
   ],
   "source": [
    "names=['Ramesh','Suresh','Satish']\n",
    "age=[20,25,30]\n",
    "print(f\"Ramesh age is : {age[0]}\")\n",
    "print(f\"Suresh age is : {age[1]}\")\n",
    "print(f\"satish age is : {age[2]}\")\n"
   ]
  },
  {
   "cell_type": "code",
   "execution_count": 2,
   "id": "2e0c41f2-7dcb-4252-a2c9-569ef4bf7083",
   "metadata": {},
   "outputs": [
    {
     "name": "stdout",
     "output_type": "stream",
     "text": [
      "Ramesh age is : 20\n",
      "Suresh age is : 25\n",
      "Satish age is : 30\n"
     ]
    }
   ],
   "source": [
    "names=['Ramesh','Suresh','Satish']\n",
    "age=[20,25,30]\n",
    "for i in range(len(names)):\n",
    "    print(f\"{names[i]} age is : {age[i]}\")"
   ]
  },
  {
   "cell_type": "markdown",
   "id": "3835e93d-cc4a-4fa1-b1fc-82f6df928886",
   "metadata": {},
   "source": [
    "**zip operator**"
   ]
  },
  {
   "cell_type": "code",
   "execution_count": 8,
   "id": "2463feeb-c7ed-4087-9f70-d3dbfd78a856",
   "metadata": {},
   "outputs": [
    {
     "name": "stdout",
     "output_type": "stream",
     "text": [
      "Ramesh 20\n",
      "Suresh 25\n",
      "Satish 30\n"
     ]
    }
   ],
   "source": [
    "names=['Ramesh','Suresh','Satish']\n",
    "age=[20,25,30]\n",
    "for i,j in zip(names,age):\n",
    "    print(i,j)"
   ]
  },
  {
   "cell_type": "code",
   "execution_count": 9,
   "id": "4bcbc10c-a98b-459d-a9bf-e53413aca649",
   "metadata": {},
   "outputs": [
    {
     "name": "stdout",
     "output_type": "stream",
     "text": [
      "Ramesh 20\n",
      "Ramesh age is 20\n",
      "Suresh 25\n",
      "Suresh age is 25\n",
      "Satish 30\n",
      "Satish age is 30\n"
     ]
    }
   ],
   "source": [
    "names=['Ramesh','Suresh','Satish']\n",
    "age=[20,25,30]\n",
    "for i,j in zip(names,age):\n",
    "    print(i,j)\n",
    "    print(f\"{i} age is {j}\")"
   ]
  },
  {
   "cell_type": "code",
   "execution_count": 5,
   "id": "e0d574dd-542a-4848-9d80-ef53d54a4af3",
   "metadata": {},
   "outputs": [
    {
     "data": {
      "text/plain": [
       "['Ramesh : 20', 'Suresh : 25', 'Satish : 30']"
      ]
     },
     "execution_count": 5,
     "metadata": {},
     "output_type": "execute_result"
    }
   ],
   "source": [
    "[f\"{i} : {j}\" for i,j in zip(names,age)]"
   ]
  },
  {
   "cell_type": "markdown",
   "id": "09793de0-c3a6-4513-b552-f4fe93b93f0b",
   "metadata": {},
   "source": [
    "**dictionaries**\n",
    "\n",
    "- in above example names and age both are together\n",
    "\n",
    "- when both are together we can pair them\n",
    "\n",
    "- this can happen using dictionary\n",
    "\n",
    "- dictionary is called as **key-value** pair\n",
    "\n",
    "- it represents with curly braces : **{key:value}**\n",
    "\n",
    "- Ramesh and 20 years both are pair : {'Ramesh':20}"
   ]
  },
  {
   "cell_type": "code",
   "execution_count": 6,
   "id": "7220a3f2-dbd9-46d1-ac0a-942b4ac7e566",
   "metadata": {},
   "outputs": [
    {
     "data": {
      "text/plain": [
       "{'Ramesh': 20, 'Suresh': 25, 'satish': 30}"
      ]
     },
     "execution_count": 6,
     "metadata": {},
     "output_type": "execute_result"
    }
   ],
   "source": [
    "d1={'Ramesh':20,'Suresh':25,'satish':30}\n",
    "d1"
   ]
  },
  {
   "cell_type": "code",
   "execution_count": 13,
   "id": "eb82dccd-8e0e-4425-82d2-8bce2009a70a",
   "metadata": {},
   "outputs": [
    {
     "data": {
      "text/plain": [
       "{20: 'Ramesh', 25: 'Suresh', 30: 'satish'}"
      ]
     },
     "execution_count": 13,
     "metadata": {},
     "output_type": "execute_result"
    }
   ],
   "source": [
    "d2={20:'Ramesh',25:'Suresh',30:'satish'}\n",
    "d2"
   ]
  },
  {
   "cell_type": "code",
   "execution_count": 17,
   "id": "e0c7307c-7ab1-4044-be6c-7bdd7148553f",
   "metadata": {},
   "outputs": [
    {
     "data": {
      "text/plain": [
       "{'Ramesh': '20', 'Suresh': '25', 'Satish': 30}"
      ]
     },
     "execution_count": 17,
     "metadata": {},
     "output_type": "execute_result"
    }
   ],
   "source": [
    "d3={'Ramesh':'20','Suresh':'25','Satish':30}\n",
    "d3"
   ]
  },
  {
   "cell_type": "code",
   "execution_count": 19,
   "id": "e6d521ed-4b18-4deb-a425-b609590d2802",
   "metadata": {},
   "outputs": [
    {
     "data": {
      "text/plain": [
       "{'20': 'Ramesh', '25': 'Suresh', 30: 'Satish'}"
      ]
     },
     "execution_count": 19,
     "metadata": {},
     "output_type": "execute_result"
    }
   ],
   "source": [
    "d4={'20':'Ramesh','25':'Suresh',30:'Satish'}\n",
    "d4"
   ]
  },
  {
   "cell_type": "code",
   "execution_count": 20,
   "id": "c7289ba9-4f62-4f4a-97ef-28e06b751c23",
   "metadata": {},
   "outputs": [
    {
     "data": {
      "text/plain": [
       "{'Ramesh': '30'}"
      ]
     },
     "execution_count": 20,
     "metadata": {},
     "output_type": "execute_result"
    }
   ],
   "source": [
    "d5={'Ramesh':'20','Ramesh':'30'}\n",
    "d5\n",
    "# if both keys are same it will take the latest value\n",
    "# dictionarys are kind of database"
   ]
  },
  {
   "cell_type": "code",
   "execution_count": 21,
   "id": "a54a9ebe-2eeb-4cbb-8cc5-82aa637ab6f5",
   "metadata": {},
   "outputs": [
    {
     "data": {
      "text/plain": [
       "{'Ramesh': '20'}"
      ]
     },
     "execution_count": 21,
     "metadata": {},
     "output_type": "execute_result"
    }
   ],
   "source": [
    "d6={'Ramesh':'20','Ramesh':'20'}\n",
    "d6\n",
    "# dictionary does not allows duplicate\n",
    "# in dictionary keys place vital role\n",
    "# in dictionary keys cannot be duplicate but values can be duplicate"
   ]
  },
  {
   "cell_type": "code",
   "execution_count": 22,
   "id": "6fe64d11-8deb-46a2-8a1a-e58459cea8d7",
   "metadata": {},
   "outputs": [
    {
     "data": {
      "text/plain": [
       "{'Ramesh': '20', 'Suresh': '30'}"
      ]
     },
     "execution_count": 22,
     "metadata": {},
     "output_type": "execute_result"
    }
   ],
   "source": [
    "d7={'Ramesh':'20','Suresh':'30'}\n",
    "d7"
   ]
  },
  {
   "cell_type": "code",
   "execution_count": 24,
   "id": "950f8e42-7f71-4948-afb3-8b6b96a74f8e",
   "metadata": {},
   "outputs": [
    {
     "data": {
      "text/plain": [
       "{20: 'Suresh'}"
      ]
     },
     "execution_count": 24,
     "metadata": {},
     "output_type": "execute_result"
    }
   ],
   "source": [
    "d8={20:'Ramesh',20:'Suresh'}\n",
    "d8"
   ]
  },
  {
   "cell_type": "code",
   "execution_count": 25,
   "id": "559679f9-4458-4a5b-beed-9b18a89b4e65",
   "metadata": {},
   "outputs": [
    {
     "data": {
      "text/plain": [
       "{True: 'true'}"
      ]
     },
     "execution_count": 25,
     "metadata": {},
     "output_type": "execute_result"
    }
   ],
   "source": [
    "d9={True:'true'}\n",
    "d9"
   ]
  },
  {
   "cell_type": "code",
   "execution_count": 26,
   "id": "b27ad0da-1ab8-4ebb-887b-8b5c9e218dc9",
   "metadata": {},
   "outputs": [
    {
     "data": {
      "text/plain": [
       "{'fruites': ['Apple', 'Banana']}"
      ]
     },
     "execution_count": 26,
     "metadata": {},
     "output_type": "execute_result"
    }
   ],
   "source": [
    "d10=['fruites':['Apple','Banana']}\n",
    "d10"
   ]
  },
  {
   "cell_type": "code",
   "execution_count": 29,
   "id": "c5fc082f-767b-4527-ba7a-3d6b6735e000",
   "metadata": {},
   "outputs": [
    {
     "ename": "TypeError",
     "evalue": "unhashable type: 'list'",
     "output_type": "error",
     "traceback": [
      "\u001b[1;31m---------------------------------------------------------------------------\u001b[0m",
      "\u001b[1;31mTypeError\u001b[0m                                 Traceback (most recent call last)",
      "Cell \u001b[1;32mIn[29], line 1\u001b[0m\n\u001b[1;32m----> 1\u001b[0m d11\u001b[38;5;241m=\u001b[39m{[\u001b[38;5;124m'\u001b[39m\u001b[38;5;124mApple\u001b[39m\u001b[38;5;124m'\u001b[39m,\u001b[38;5;124m'\u001b[39m\u001b[38;5;124mBanana\u001b[39m\u001b[38;5;124m'\u001b[39m]:\u001b[38;5;124m'\u001b[39m\u001b[38;5;124mfruites\u001b[39m\u001b[38;5;124m'\u001b[39m}\n\u001b[0;32m      2\u001b[0m d11\n",
      "\u001b[1;31mTypeError\u001b[0m: unhashable type: 'list'"
     ]
    }
   ],
   "source": [
    "d11={['Apple','Banana']:'fruites'}\n",
    "d11"
   ]
  },
  {
   "cell_type": "code",
   "execution_count": 30,
   "id": "0d372137-c7b9-4337-8d88-fc09ce679ea8",
   "metadata": {},
   "outputs": [
    {
     "data": {
      "text/plain": [
       "{'fruites': ('Apple', 'Banana')}"
      ]
     },
     "execution_count": 30,
     "metadata": {},
     "output_type": "execute_result"
    }
   ],
   "source": [
    "d12={'fruites':('Apple','Banana')}\n",
    "d12\n"
   ]
  },
  {
   "cell_type": "code",
   "execution_count": 31,
   "id": "65834522-2b80-43ec-b847-247dc0a43a57",
   "metadata": {},
   "outputs": [
    {
     "ename": "SyntaxError",
     "evalue": "closing parenthesis '}' does not match opening parenthesis '[' (3318138358.py, line 1)",
     "output_type": "error",
     "traceback": [
      "\u001b[1;36m  Cell \u001b[1;32mIn[31], line 1\u001b[1;36m\u001b[0m\n\u001b[1;33m    d13={['Apple','Banana':'fruites'}\u001b[0m\n\u001b[1;37m                                    ^\u001b[0m\n\u001b[1;31mSyntaxError\u001b[0m\u001b[1;31m:\u001b[0m closing parenthesis '}' does not match opening parenthesis '['\n"
     ]
    }
   ],
   "source": [
    "d13={['Apple','Banana':'fruites'}\n",
    "d13"
   ]
  },
  {
   "cell_type": "code",
   "execution_count": 33,
   "id": "f2148608-6bc6-47cf-b5fe-fb2a49bcda56",
   "metadata": {},
   "outputs": [
    {
     "data": {
      "text/plain": [
       "{('Apple', 'Banana'): 'fruites'}"
      ]
     },
     "execution_count": 33,
     "metadata": {},
     "output_type": "execute_result"
    }
   ],
   "source": [
    "d14={('Apple','Banana'):'fruites'}\n",
    "d14"
   ]
  },
  {
   "cell_type": "markdown",
   "id": "b2c89c49-7cda-4743-af6e-1946da914bb2",
   "metadata": {},
   "source": [
    "**list as keys fails because list has a mutable behaviour**\n",
    "\n",
    "**tuple as keys works because tuple has immutable behaviour**\n",
    "\n",
    "**in dictionary keys are very very important**\n",
    "\n",
    "**keys doesnot change so when we apply list is failing**"
   ]
  },
  {
   "cell_type": "code",
   "execution_count": 14,
   "id": "28f98a0a-de26-41e0-ad63-4c7f481c000d",
   "metadata": {},
   "outputs": [
    {
     "data": {
      "text/plain": [
       "{20: 20, 30: 30, 40: 40}"
      ]
     },
     "execution_count": 14,
     "metadata": {},
     "output_type": "execute_result"
    }
   ],
   "source": [
    "d3={20:20,30:30,40:40}\n",
    "d3"
   ]
  },
  {
   "cell_type": "code",
   "execution_count": 15,
   "id": "7d15a87a-209e-4afd-8d28-3ee31c28984e",
   "metadata": {},
   "outputs": [
    {
     "data": {
      "text/plain": [
       "{'python': 'string', 'name': 'age'}"
      ]
     },
     "execution_count": 15,
     "metadata": {},
     "output_type": "execute_result"
    }
   ],
   "source": [
    "d4={'python':'string','name':'age'}\n",
    "d4"
   ]
  },
  {
   "cell_type": "code",
   "execution_count": 16,
   "id": "582ab03a-c932-4d0e-b0b1-ecc1a6d4bc96",
   "metadata": {},
   "outputs": [
    {
     "data": {
      "text/plain": [
       "{200: ['name', 'age'], 300: ['python', 'subject']}"
      ]
     },
     "execution_count": 16,
     "metadata": {},
     "output_type": "execute_result"
    }
   ],
   "source": [
    "d5={200:['name','age'],300:['python','subject']}\n",
    "d5"
   ]
  },
  {
   "cell_type": "markdown",
   "id": "1b64143f-1093-4899-a0a8-be1541087a67",
   "metadata": {},
   "source": [
    "- if both keys are same it will take the latest value\n",
    "\n",
    "- dictionaries doesnot allows duplicates\n",
    "\n",
    "- in dictionaries keys plays vital role\n",
    "\n",
    "- keys cannot be duplicate but values can be duplicate"
   ]
  },
  {
   "cell_type": "code",
   "execution_count": 1,
   "id": "e8e53de7-898b-4501-8cd8-7e6125fc3063",
   "metadata": {},
   "outputs": [
    {
     "data": {
      "text/plain": [
       "{'fruites': {'Apple': 20}}"
      ]
     },
     "execution_count": 1,
     "metadata": {},
     "output_type": "execute_result"
    }
   ],
   "source": [
    "d14={'fruites':{'Apple':20}} # works\n",
    "d14"
   ]
  },
  {
   "cell_type": "code",
   "execution_count": 2,
   "id": "af295a00-f8e4-434d-92a9-82516ea9960d",
   "metadata": {},
   "outputs": [
    {
     "ename": "TypeError",
     "evalue": "unhashable type: 'dict'",
     "output_type": "error",
     "traceback": [
      "\u001b[1;31m---------------------------------------------------------------------------\u001b[0m",
      "\u001b[1;31mTypeError\u001b[0m                                 Traceback (most recent call last)",
      "Cell \u001b[1;32mIn[2], line 1\u001b[0m\n\u001b[1;32m----> 1\u001b[0m d15\u001b[38;5;241m=\u001b[39m{{\u001b[38;5;124m'\u001b[39m\u001b[38;5;124mApple\u001b[39m\u001b[38;5;124m'\u001b[39m:\u001b[38;5;241m20\u001b[39m}:\u001b[38;5;124m'\u001b[39m\u001b[38;5;124mfruites\u001b[39m\u001b[38;5;124m'\u001b[39m}\n\u001b[0;32m      2\u001b[0m d15\n",
      "\u001b[1;31mTypeError\u001b[0m: unhashable type: 'dict'"
     ]
    }
   ],
   "source": [
    "d15={{'Apple':20}:'fruites'} # fails\n",
    "d15"
   ]
  },
  {
   "cell_type": "code",
   "execution_count": null,
   "id": "8e1ac916-f086-4d2a-90b1-22defe64c0d1",
   "metadata": {},
   "outputs": [],
   "source": [
    "dict1={'Apple':20,'Banana':30,'Cherry':50}\n",
    "dict2={'Apple':20,'apple':30}\n",
    "dict3={20:'Apple',30:'Banana',50:'Cherry'}"
   ]
  },
  {
   "cell_type": "code",
   "execution_count": 3,
   "id": "af544404-0cbb-4c5a-a07b-32936b8f6fb5",
   "metadata": {},
   "outputs": [
    {
     "data": {
      "text/plain": [
       "'Apple'"
      ]
     },
     "execution_count": 3,
     "metadata": {},
     "output_type": "execute_result"
    }
   ],
   "source": [
    "dict1={'Apple':20,'Banana':30,'Cherry':50}\n",
    "min(dict1)"
   ]
  },
  {
   "cell_type": "code",
   "execution_count": 5,
   "id": "4ceb747b-ac24-466f-944b-039488afc38f",
   "metadata": {},
   "outputs": [
    {
     "data": {
      "text/plain": [
       "'Cherry'"
      ]
     },
     "execution_count": 5,
     "metadata": {},
     "output_type": "execute_result"
    }
   ],
   "source": [
    "max(dict1)\n"
   ]
  },
  {
   "cell_type": "code",
   "execution_count": 22,
   "id": "c8fefde1-614c-471b-aa20-cb7af87eb637",
   "metadata": {},
   "outputs": [
    {
     "name": "stdout",
     "output_type": "stream",
     "text": [
      "{'Apple': 20, 'Banana': 30, 'Cherry': 50}\n"
     ]
    }
   ],
   "source": [
    "print(dict1)"
   ]
  },
  {
   "cell_type": "code",
   "execution_count": 23,
   "id": "ac7345c7-537d-4837-be61-0bd76faa4348",
   "metadata": {},
   "outputs": [
    {
     "data": {
      "text/plain": [
       "dict"
      ]
     },
     "execution_count": 23,
     "metadata": {},
     "output_type": "execute_result"
    }
   ],
   "source": [
    "type(dict1)"
   ]
  },
  {
   "cell_type": "code",
   "execution_count": 6,
   "id": "23e5450a-87f5-4793-b3e4-11e6583f1c77",
   "metadata": {},
   "outputs": [
    {
     "ename": "TypeError",
     "evalue": "unsupported operand type(s) for +: 'int' and 'str'",
     "output_type": "error",
     "traceback": [
      "\u001b[1;31m---------------------------------------------------------------------------\u001b[0m",
      "\u001b[1;31mTypeError\u001b[0m                                 Traceback (most recent call last)",
      "Cell \u001b[1;32mIn[6], line 1\u001b[0m\n\u001b[1;32m----> 1\u001b[0m \u001b[38;5;28msum\u001b[39m(dict1)\n",
      "\u001b[1;31mTypeError\u001b[0m: unsupported operand type(s) for +: 'int' and 'str'"
     ]
    }
   ],
   "source": [
    "sum(dict1)"
   ]
  },
  {
   "cell_type": "code",
   "execution_count": 7,
   "id": "9daea4ad-a2a2-4b2b-85ca-0490891990fe",
   "metadata": {},
   "outputs": [
    {
     "data": {
      "text/plain": [
       "3"
      ]
     },
     "execution_count": 7,
     "metadata": {},
     "output_type": "execute_result"
    }
   ],
   "source": [
    "len(dict1)"
   ]
  },
  {
   "cell_type": "code",
   "execution_count": 8,
   "id": "04175be9-6e73-4e45-a3c0-d8e4fd730d4d",
   "metadata": {},
   "outputs": [
    {
     "data": {
      "text/plain": [
       "['Apple', 'Banana', 'Cherry']"
      ]
     },
     "execution_count": 8,
     "metadata": {},
     "output_type": "execute_result"
    }
   ],
   "source": [
    "sorted(dict1)"
   ]
  },
  {
   "cell_type": "code",
   "execution_count": 30,
   "id": "d103f931-88a9-46b4-a4e2-23af34a8b132",
   "metadata": {},
   "outputs": [
    {
     "data": {
      "text/plain": [
       "['Cherry', 'Banana', 'Apple']"
      ]
     },
     "execution_count": 30,
     "metadata": {},
     "output_type": "execute_result"
    }
   ],
   "source": [
    "list(reversed(dict1))"
   ]
  },
  {
   "cell_type": "code",
   "execution_count": 11,
   "id": "df14c00f-4723-4434-9240-6629b094b4ec",
   "metadata": {},
   "outputs": [
    {
     "data": {
      "text/plain": [
       "'Apple'"
      ]
     },
     "execution_count": 11,
     "metadata": {},
     "output_type": "execute_result"
    }
   ],
   "source": [
    "dict2={'Apple':20,'apple':30}\n",
    "min(dict2)"
   ]
  },
  {
   "cell_type": "code",
   "execution_count": 12,
   "id": "0bcc330b-2b4e-4f19-8f70-7ebf459a252c",
   "metadata": {},
   "outputs": [
    {
     "data": {
      "text/plain": [
       "'apple'"
      ]
     },
     "execution_count": 12,
     "metadata": {},
     "output_type": "execute_result"
    }
   ],
   "source": [
    "max(dict2)"
   ]
  },
  {
   "cell_type": "code",
   "execution_count": 24,
   "id": "6b3b19c2-a68d-44e4-a6e9-3170f2ea0f4b",
   "metadata": {},
   "outputs": [
    {
     "name": "stdout",
     "output_type": "stream",
     "text": [
      "{'Apple': 20, 'apple': 30}\n"
     ]
    }
   ],
   "source": [
    "print(dict2)"
   ]
  },
  {
   "cell_type": "code",
   "execution_count": 25,
   "id": "834391c6-bd93-4319-a377-6628fe0da414",
   "metadata": {},
   "outputs": [
    {
     "data": {
      "text/plain": [
       "dict"
      ]
     },
     "execution_count": 25,
     "metadata": {},
     "output_type": "execute_result"
    }
   ],
   "source": [
    "type(dict2)"
   ]
  },
  {
   "cell_type": "code",
   "execution_count": 13,
   "id": "7f2394ad-4cca-40b5-be08-24dcbd297ba6",
   "metadata": {},
   "outputs": [
    {
     "data": {
      "text/plain": [
       "2"
      ]
     },
     "execution_count": 13,
     "metadata": {},
     "output_type": "execute_result"
    }
   ],
   "source": [
    "len(dict2)"
   ]
  },
  {
   "cell_type": "code",
   "execution_count": 14,
   "id": "4df38113-0063-401d-ac8e-5d1a19eaef9b",
   "metadata": {},
   "outputs": [
    {
     "ename": "TypeError",
     "evalue": "unsupported operand type(s) for +: 'int' and 'str'",
     "output_type": "error",
     "traceback": [
      "\u001b[1;31m---------------------------------------------------------------------------\u001b[0m",
      "\u001b[1;31mTypeError\u001b[0m                                 Traceback (most recent call last)",
      "Cell \u001b[1;32mIn[14], line 1\u001b[0m\n\u001b[1;32m----> 1\u001b[0m \u001b[38;5;28msum\u001b[39m(dict2)\n",
      "\u001b[1;31mTypeError\u001b[0m: unsupported operand type(s) for +: 'int' and 'str'"
     ]
    }
   ],
   "source": [
    "sum(dict2)"
   ]
  },
  {
   "cell_type": "code",
   "execution_count": 15,
   "id": "515c197d-c46a-4a4f-8905-b8728ec96de0",
   "metadata": {},
   "outputs": [
    {
     "data": {
      "text/plain": [
       "['Apple', 'apple']"
      ]
     },
     "execution_count": 15,
     "metadata": {},
     "output_type": "execute_result"
    }
   ],
   "source": [
    "sorted(dict2)"
   ]
  },
  {
   "cell_type": "code",
   "execution_count": 31,
   "id": "491d74c5-1d6f-448f-a803-ffca0ec2d240",
   "metadata": {},
   "outputs": [
    {
     "data": {
      "text/plain": [
       "['apple', 'Apple']"
      ]
     },
     "execution_count": 31,
     "metadata": {},
     "output_type": "execute_result"
    }
   ],
   "source": [
    "list(reversed(dict2))"
   ]
  },
  {
   "cell_type": "code",
   "execution_count": 17,
   "id": "86224652-aa3c-4766-871f-5c10e4375ca5",
   "metadata": {},
   "outputs": [
    {
     "data": {
      "text/plain": [
       "20"
      ]
     },
     "execution_count": 17,
     "metadata": {},
     "output_type": "execute_result"
    }
   ],
   "source": [
    "dict3={20:'Apple',30:'Banana',50:'Cherry'}\n",
    "min(dict3)"
   ]
  },
  {
   "cell_type": "code",
   "execution_count": 18,
   "id": "1a189857-6509-445c-baf7-73a60e74eb32",
   "metadata": {},
   "outputs": [
    {
     "data": {
      "text/plain": [
       "50"
      ]
     },
     "execution_count": 18,
     "metadata": {},
     "output_type": "execute_result"
    }
   ],
   "source": [
    "max(dict3)"
   ]
  },
  {
   "cell_type": "code",
   "execution_count": 26,
   "id": "8d2aea45-1a89-45c8-99fe-9e5a80f46d14",
   "metadata": {},
   "outputs": [
    {
     "name": "stdout",
     "output_type": "stream",
     "text": [
      "{20: 'Apple', 30: 'Banana', 50: 'Cherry'}\n"
     ]
    }
   ],
   "source": [
    "print(dict3)"
   ]
  },
  {
   "cell_type": "code",
   "execution_count": 27,
   "id": "80f38022-54b8-48b7-ae3d-b8be53888133",
   "metadata": {},
   "outputs": [
    {
     "data": {
      "text/plain": [
       "dict"
      ]
     },
     "execution_count": 27,
     "metadata": {},
     "output_type": "execute_result"
    }
   ],
   "source": [
    "type(dict3)"
   ]
  },
  {
   "cell_type": "code",
   "execution_count": 19,
   "id": "74729681-2fae-41ad-8f98-646d1d08b494",
   "metadata": {},
   "outputs": [
    {
     "data": {
      "text/plain": [
       "3"
      ]
     },
     "execution_count": 19,
     "metadata": {},
     "output_type": "execute_result"
    }
   ],
   "source": [
    "len(dict3)"
   ]
  },
  {
   "cell_type": "code",
   "execution_count": 20,
   "id": "fce0418e-4470-48f3-b136-18b3b49f6cfc",
   "metadata": {},
   "outputs": [
    {
     "data": {
      "text/plain": [
       "100"
      ]
     },
     "execution_count": 20,
     "metadata": {},
     "output_type": "execute_result"
    }
   ],
   "source": [
    "sum(dict3)"
   ]
  },
  {
   "cell_type": "code",
   "execution_count": 21,
   "id": "1c87f8f0-d65d-46dc-9582-c7b6c43d63f3",
   "metadata": {},
   "outputs": [
    {
     "data": {
      "text/plain": [
       "[20, 30, 50]"
      ]
     },
     "execution_count": 21,
     "metadata": {},
     "output_type": "execute_result"
    }
   ],
   "source": [
    "sorted(dict3)"
   ]
  },
  {
   "cell_type": "code",
   "execution_count": 32,
   "id": "0fe4b297-d5da-45d1-8d8c-5f0bff222d81",
   "metadata": {},
   "outputs": [
    {
     "data": {
      "text/plain": [
       "[50, 30, 20]"
      ]
     },
     "execution_count": 32,
     "metadata": {},
     "output_type": "execute_result"
    }
   ],
   "source": [
    "list(reversed(dict3))"
   ]
  },
  {
   "cell_type": "code",
   "execution_count": null,
   "id": "99d06247-414c-463d-b2a3-0c006e14f756",
   "metadata": {},
   "outputs": [],
   "source": [
    "dict1={'Apple':20,'Banana':30,'Cherry':50}\n",
    "dict2={'Apple':20,'apple':30}\n",
    "dict3={20:'Apple',30:'Banana',50:'Cherry'}"
   ]
  },
  {
   "cell_type": "code",
   "execution_count": 37,
   "id": "1da2cdff-bd8f-4b9d-b634-e544d3b6ebed",
   "metadata": {},
   "outputs": [
    {
     "data": {
      "text/plain": [
       "True"
      ]
     },
     "execution_count": 37,
     "metadata": {},
     "output_type": "execute_result"
    }
   ],
   "source": [
    "dict1={'Apple':20,'Banana':30,'Cherry':50}\n",
    "'Apple' in dict1"
   ]
  },
  {
   "cell_type": "code",
   "execution_count": 38,
   "id": "43cb225d-f599-4425-829f-75f89f83bcb7",
   "metadata": {},
   "outputs": [
    {
     "ename": "SyntaxError",
     "evalue": "illegal target for annotation (1635405859.py, line 1)",
     "output_type": "error",
     "traceback": [
      "\u001b[1;36m  Cell \u001b[1;32mIn[38], line 1\u001b[1;36m\u001b[0m\n\u001b[1;33m    'Apple':20 in dict1\u001b[0m\n\u001b[1;37m    ^\u001b[0m\n\u001b[1;31mSyntaxError\u001b[0m\u001b[1;31m:\u001b[0m illegal target for annotation\n"
     ]
    }
   ],
   "source": [
    "'Apple':20 in dict1"
   ]
  },
  {
   "cell_type": "code",
   "execution_count": 39,
   "id": "fa659b92-ebaa-4c84-80d8-9fb9d0178e21",
   "metadata": {},
   "outputs": [
    {
     "data": {
      "text/plain": [
       "False"
      ]
     },
     "execution_count": 39,
     "metadata": {},
     "output_type": "execute_result"
    }
   ],
   "source": [
    "20 in dict1"
   ]
  },
  {
   "cell_type": "code",
   "execution_count": 40,
   "id": "60498c02-71f3-4ca7-a1d8-6f147790c566",
   "metadata": {},
   "outputs": [
    {
     "data": {
      "text/plain": [
       "True"
      ]
     },
     "execution_count": 40,
     "metadata": {},
     "output_type": "execute_result"
    }
   ],
   "source": [
    "dict1={'Apple':20,'Banana':30,'Cherry':50}\n",
    "'Apple' in dict1\n",
    "'Banana' in dict1\n",
    "'Cherry' in dict1"
   ]
  },
  {
   "cell_type": "code",
   "execution_count": 41,
   "id": "9bd83969-6e08-4550-9a73-d0cf2b8e06aa",
   "metadata": {},
   "outputs": [
    {
     "name": "stdout",
     "output_type": "stream",
     "text": [
      "Apple\n",
      "Banana\n",
      "Cherry\n"
     ]
    }
   ],
   "source": [
    "for i in dict1:\n",
    "    print(i)"
   ]
  },
  {
   "cell_type": "code",
   "execution_count": 42,
   "id": "bdc5cbc0-6af7-4969-9007-a999175c46be",
   "metadata": {},
   "outputs": [
    {
     "name": "stdout",
     "output_type": "stream",
     "text": [
      "0\n",
      "1\n",
      "2\n"
     ]
    }
   ],
   "source": [
    "for i in range(len(dict1)):\n",
    "    print(i)"
   ]
  },
  {
   "cell_type": "code",
   "execution_count": null,
   "id": "da2929d7-e9d4-43b3-b1a6-1767193174cc",
   "metadata": {},
   "outputs": [],
   "source": [
    "**index**"
   ]
  },
  {
   "cell_type": "code",
   "execution_count": 43,
   "id": "86808a7b-679f-4c87-9609-82bd9ea2444f",
   "metadata": {},
   "outputs": [
    {
     "data": {
      "text/plain": [
       "10"
      ]
     },
     "execution_count": 43,
     "metadata": {},
     "output_type": "execute_result"
    }
   ],
   "source": [
    "l1=[10,20,30]\n",
    "l1[0]"
   ]
  },
  {
   "cell_type": "code",
   "execution_count": 44,
   "id": "304723fe-4d11-444c-87a8-bf1eed5519ba",
   "metadata": {},
   "outputs": [
    {
     "data": {
      "text/plain": [
       "'p'"
      ]
     },
     "execution_count": 44,
     "metadata": {},
     "output_type": "execute_result"
    }
   ],
   "source": [
    "str1='python'\n",
    "str1[0]"
   ]
  },
  {
   "cell_type": "code",
   "execution_count": 45,
   "id": "334c972a-d4e1-4517-96ca-227feda975ec",
   "metadata": {},
   "outputs": [
    {
     "ename": "KeyError",
     "evalue": "0",
     "output_type": "error",
     "traceback": [
      "\u001b[1;31m---------------------------------------------------------------------------\u001b[0m",
      "\u001b[1;31mKeyError\u001b[0m                                  Traceback (most recent call last)",
      "Cell \u001b[1;32mIn[45], line 2\u001b[0m\n\u001b[0;32m      1\u001b[0m dict1\u001b[38;5;241m=\u001b[39m{\u001b[38;5;124m'\u001b[39m\u001b[38;5;124mApple\u001b[39m\u001b[38;5;124m'\u001b[39m:\u001b[38;5;241m20\u001b[39m,\u001b[38;5;124m'\u001b[39m\u001b[38;5;124mBanana\u001b[39m\u001b[38;5;124m'\u001b[39m:\u001b[38;5;241m30\u001b[39m,\u001b[38;5;124m'\u001b[39m\u001b[38;5;124mCherry\u001b[39m\u001b[38;5;124m'\u001b[39m:\u001b[38;5;241m50\u001b[39m}\n\u001b[1;32m----> 2\u001b[0m dict1[\u001b[38;5;241m0\u001b[39m]\n",
      "\u001b[1;31mKeyError\u001b[0m: 0"
     ]
    }
   ],
   "source": [
    "dict1={'Apple':20,'Banana':30,'Cherry':50}\n",
    "dict1[0]    #key error means we can provide wrongly"
   ]
  },
  {
   "cell_type": "markdown",
   "id": "448c67ef-ac7b-4f15-b75d-d4e8f01013e2",
   "metadata": {},
   "source": [
    "**how to extract the values**\n",
    "\n",
    "- in dictionary we have a concept key value pair\n",
    "\n",
    "- keys are very important in order to get the values we need to take the keys help"
   ]
  },
  {
   "cell_type": "code",
   "execution_count": 48,
   "id": "ddd8a174-59eb-4577-b328-2896ef87775a",
   "metadata": {},
   "outputs": [
    {
     "data": {
      "text/plain": [
       "50"
      ]
     },
     "execution_count": 48,
     "metadata": {},
     "output_type": "execute_result"
    }
   ],
   "source": [
    "dict1={'Apple':20,'Banana':30,'Cherry':50}\n",
    "dict1['Apple']\n",
    "dict1['Banana']\n",
    "dict1['Cherry']"
   ]
  },
  {
   "cell_type": "code",
   "execution_count": 49,
   "id": "8039ee64-6d12-4b75-93ec-6680d30df3f7",
   "metadata": {},
   "outputs": [
    {
     "data": {
      "text/plain": [
       "20"
      ]
     },
     "execution_count": 49,
     "metadata": {},
     "output_type": "execute_result"
    }
   ],
   "source": [
    "dict1['Apple']"
   ]
  },
  {
   "cell_type": "code",
   "execution_count": 50,
   "id": "738a3a22-7ffd-405e-a5c6-df02b64f730c",
   "metadata": {},
   "outputs": [
    {
     "data": {
      "text/plain": [
       "30"
      ]
     },
     "execution_count": 50,
     "metadata": {},
     "output_type": "execute_result"
    }
   ],
   "source": [
    "dict1['Banana']"
   ]
  },
  {
   "cell_type": "code",
   "execution_count": 51,
   "id": "85308560-0343-480d-a17e-53552a43d92a",
   "metadata": {},
   "outputs": [
    {
     "data": {
      "text/plain": [
       "50"
      ]
     },
     "execution_count": 51,
     "metadata": {},
     "output_type": "execute_result"
    }
   ],
   "source": [
    "dict1['Cherry']"
   ]
  },
  {
   "cell_type": "code",
   "execution_count": 54,
   "id": "2e0a5129-e11b-4bff-8759-8b43212fdf39",
   "metadata": {},
   "outputs": [
    {
     "name": "stdout",
     "output_type": "stream",
     "text": [
      "Apple 20\n",
      "Banana 30\n",
      "Cherry 50\n"
     ]
    }
   ],
   "source": [
    "dict1={'Apple':20,'Banana':30,'Cherry':50}\n",
    "for i in dict1:\n",
    "    print(i,dict1[i])\n",
    "    "
   ]
  },
  {
   "cell_type": "code",
   "execution_count": 58,
   "id": "14dd1f36-49bf-4aaf-b845-ffc2cd118c41",
   "metadata": {},
   "outputs": [
    {
     "name": "stdout",
     "output_type": "stream",
     "text": [
      "Ramesh age is : 20\n",
      "Suresh age is : 25\n",
      "Satish age is : 30\n"
     ]
    }
   ],
   "source": [
    "names={'Ramesh':20,'Suresh':25,'Satish':30}\n",
    "for i in names:\n",
    "    print(f\"{i} age is : {names[i]}\")"
   ]
  },
  {
   "cell_type": "code",
   "execution_count": 67,
   "id": "0e35a07d-d994-498a-8fdd-5f9cb00f8dbd",
   "metadata": {},
   "outputs": [
    {
     "data": {
      "text/plain": [
       "'Cherry'"
      ]
     },
     "execution_count": 67,
     "metadata": {},
     "output_type": "execute_result"
    }
   ],
   "source": [
    "d={'fruites':['Apple','Banana','Cherry']}\n",
    "d['fruites'][2]"
   ]
  },
  {
   "cell_type": "code",
   "execution_count": 74,
   "id": "4d989b03-c6d6-4c5e-86b4-54c9ba27d155",
   "metadata": {},
   "outputs": [
    {
     "data": {
      "text/plain": [
       "'Green'"
      ]
     },
     "execution_count": 74,
     "metadata": {},
     "output_type": "execute_result"
    }
   ],
   "source": [
    "d={'fruites':{'Apple':['Sweet','Sour','Green']}}\n",
    "d['fruites']['Apple'][2]"
   ]
  },
  {
   "cell_type": "code",
   "execution_count": 83,
   "id": "cef32851-a7a5-49fc-8364-4f6d8b619f47",
   "metadata": {},
   "outputs": [
    {
     "data": {
      "text/plain": [
       "50"
      ]
     },
     "execution_count": 83,
     "metadata": {},
     "output_type": "execute_result"
    }
   ],
   "source": [
    "d={'fruites':[{'Cost':[50]}]}\n",
    "d['fruites'][0]['Cost'][0]"
   ]
  },
  {
   "cell_type": "code",
   "execution_count": 95,
   "id": "fe16b633-0597-4e30-9091-2e5ddf12b46f",
   "metadata": {},
   "outputs": [
    {
     "data": {
      "text/plain": [
       "40"
      ]
     },
     "execution_count": 95,
     "metadata": {},
     "output_type": "execute_result"
    }
   ],
   "source": [
    "d={'fruites':['Apple'],'Cost':[{'1kg':[20,30,40],'2kg':None}]}\n",
    "d['Cost'][0]['1kg'][2]\n"
   ]
  },
  {
   "cell_type": "code",
   "execution_count": 100,
   "id": "8c1ec5fe-587d-45cc-bb7e-c2c5442aeeff",
   "metadata": {},
   "outputs": [],
   "source": [
    "d['Cost'][0]['2kg']"
   ]
  },
  {
   "cell_type": "code",
   "execution_count": 117,
   "id": "d0b5ef1c-3589-42ae-a854-e90e0883c212",
   "metadata": {},
   "outputs": [
    {
     "data": {
      "text/plain": [
       "{'Shambaji'}"
      ]
     },
     "execution_count": 117,
     "metadata": {},
     "output_type": "execute_result"
    }
   ],
   "source": [
    "d={'fruites':{'Orange':{'Nagpur':{'MH':{'king':{'Shivaji':{'Shambaji'}}}}}}}\n",
    "d['fruites']['Orange']['Nagpur']['MH']['king']['Shivaji']"
   ]
  },
  {
   "cell_type": "markdown",
   "id": "e3fbcfe9-f513-490d-a1fc-2d30a6aa723c",
   "metadata": {},
   "source": [
    "**how to create empty dictionary**\n",
    "\n",
    "- now onwards focus on creation of empty list,strings,tuple,and dictionary\n",
    "\n",
    "- we will take empty list will use append operatin to create it\n",
    "\n",
    "- we will take empty string will use concatenation operation to create it\n",
    "\n",
    "- we will take empty dictionary will use key:value pair operation to create it"
   ]
  },
  {
   "cell_type": "code",
   "execution_count": 118,
   "id": "ce86b996-6844-44c8-ac82-bbe5791c31c3",
   "metadata": {},
   "outputs": [
    {
     "data": {
      "text/plain": [
       "[10, 20]"
      ]
     },
     "execution_count": 118,
     "metadata": {},
     "output_type": "execute_result"
    }
   ],
   "source": [
    "l=[]\n",
    "l.append(10)\n",
    "l.append(20)\n",
    "l"
   ]
  },
  {
   "cell_type": "code",
   "execution_count": 119,
   "id": "8deca620-b280-4227-8603-8dbf0084701d",
   "metadata": {},
   "outputs": [
    {
     "data": {
      "text/plain": [
       "'py'"
      ]
     },
     "execution_count": 119,
     "metadata": {},
     "output_type": "execute_result"
    }
   ],
   "source": [
    "s=''\n",
    "s=s+'p'\n",
    "s=s+'y'\n",
    "s"
   ]
  },
  {
   "cell_type": "code",
   "execution_count": 121,
   "id": "d0325afe-cf4f-4977-aa80-d9bd526e107b",
   "metadata": {},
   "outputs": [
    {
     "data": {
      "text/plain": [
       "'python'"
      ]
     },
     "execution_count": 121,
     "metadata": {},
     "output_type": "execute_result"
    }
   ],
   "source": [
    "s=''\n",
    "s=s+'python'\n",
    "s"
   ]
  },
  {
   "cell_type": "code",
   "execution_count": 122,
   "id": "e2b5afbf-8b46-4af0-805f-137db15126e0",
   "metadata": {},
   "outputs": [
    {
     "data": {
      "text/plain": [
       "{'Ramesh': 20}"
      ]
     },
     "execution_count": 122,
     "metadata": {},
     "output_type": "execute_result"
    }
   ],
   "source": [
    "d={}\n",
    "d['Ramesh']=20\n",
    "d"
   ]
  },
  {
   "cell_type": "code",
   "execution_count": 125,
   "id": "39cad055-1f15-48d8-9618-f5cd68cabcf0",
   "metadata": {},
   "outputs": [
    {
     "data": {
      "text/plain": [
       "{'Ramesh': 20, 'Suresh': 25, 'Satish': 30}"
      ]
     },
     "execution_count": 125,
     "metadata": {},
     "output_type": "execute_result"
    }
   ],
   "source": [
    "d={}\n",
    "d['Ramesh']=20\n",
    "d['Suresh']=25\n",
    "d['Satish']=30\n",
    "d"
   ]
  },
  {
   "cell_type": "code",
   "execution_count": null,
   "id": "7488cc5f-5d32-4cc2-b03c-5f1113b9a4a9",
   "metadata": {},
   "outputs": [],
   "source": [
    "d={}\n",
    "d['Ramesh']=20\n",
    "d['Suresh']=25\n",
    "d['Satish']=30\n",
    "d\n",
    "# d[i]=j"
   ]
  },
  {
   "cell_type": "markdown",
   "id": "60533d87-e4ce-40c2-9525-97dba30f9322",
   "metadata": {},
   "source": [
    "**how to convert list to dictionary**"
   ]
  },
  {
   "cell_type": "code",
   "execution_count": 127,
   "id": "43a5827d-7af4-40d1-807d-b0af6f0ae628",
   "metadata": {},
   "outputs": [
    {
     "name": "stdout",
     "output_type": "stream",
     "text": [
      "Ramesh 20\n",
      "Suresh 25\n",
      "Satish 30\n"
     ]
    }
   ],
   "source": [
    "names=['Ramesh','Suresh','Satish'] # i\n",
    "age=[20,25,30] # j\n",
    "for i,j in zip(names,age):\n",
    "    print(i,j)"
   ]
  },
  {
   "cell_type": "code",
   "execution_count": 130,
   "id": "36224766-0c81-4e05-a66a-0b9ecc9c0241",
   "metadata": {},
   "outputs": [
    {
     "data": {
      "text/plain": [
       "{'Ramesh': 20, 'Suresh': 25, 'Satish': 30}"
      ]
     },
     "execution_count": 130,
     "metadata": {},
     "output_type": "execute_result"
    }
   ],
   "source": [
    "names=['Ramesh','Suresh','Satish'] # i\n",
    "age=[20,25,30] # j\n",
    "dict1={}\n",
    "for i,j in zip(names,age):\n",
    "    dict1[i]=j\n",
    "dict1"
   ]
  },
  {
   "cell_type": "code",
   "execution_count": 131,
   "id": "2594ebfc-4e98-4881-8567-d960994c75cb",
   "metadata": {},
   "outputs": [
    {
     "data": {
      "text/plain": [
       "{'Ramesh': 20, 'Suresh': 25, 'Satish': 30}"
      ]
     },
     "execution_count": 131,
     "metadata": {},
     "output_type": "execute_result"
    }
   ],
   "source": [
    "names=['Ramesh','Suresh','Satish'] # i\n",
    "age=[20,25,30] # j\n",
    "dict1={}\n",
    "for i,j in zip(names,age):\n",
    "    dict1[i]=j\n",
    "dict1\n",
    "    "
   ]
  },
  {
   "cell_type": "markdown",
   "id": "493b0cb9-1f93-42b4-b120-badf7d019ea7",
   "metadata": {},
   "source": [
    "**dictionary comprehension**\n",
    "\n",
    "- for list comprehension we written everything inside list\n",
    "\n",
    "- for dictionary comprehension we should write everything inside dictionary\n",
    "\n",
    "- list comprehension : [<output> <for loop>]\n",
    "\n",
    "- dictionary comprehension : {<key:value> <for loop>]"
   ]
  },
  {
   "cell_type": "code",
   "execution_count": 134,
   "id": "04c53376-3728-40a7-b358-3957c97028b8",
   "metadata": {},
   "outputs": [
    {
     "data": {
      "text/plain": [
       "{'Ramesh': 20, 'Suresh': 25, 'Satish': 30}"
      ]
     },
     "execution_count": 134,
     "metadata": {},
     "output_type": "execute_result"
    }
   ],
   "source": [
    "names=['Ramesh','Suresh','Satish'] \n",
    "age=[20,25,30] \n",
    "output={i:j for i,j in zip(names,age)}\n",
    "output"
   ]
  },
  {
   "cell_type": "markdown",
   "id": "fd634c63-81d4-4d70-b731-384a29a9b042",
   "metadata": {},
   "source": [
    "**mutable-immutable**\n",
    "\n",
    "- lists are mutable\n",
    "\n",
    "- dictionaries are also mutable\n",
    "\n",
    "- strings are immutable\n",
    "\n",
    "- tuple are immutable\n",
    "\n",
    "- in dictionaries we can change values by using keys"
   ]
  },
  {
   "cell_type": "code",
   "execution_count": 136,
   "id": "07c5a45e-8b33-48f2-9d4c-fd020745af88",
   "metadata": {},
   "outputs": [
    {
     "data": {
      "text/plain": [
       "{'Ramesh': 30, 'Suresh': 25, 'Satish': 30}"
      ]
     },
     "execution_count": 136,
     "metadata": {},
     "output_type": "execute_result"
    }
   ],
   "source": [
    "d={'Ramesh': 20, 'Suresh': 25, 'Satish': 30}\n",
    "d['Ramesh']=30\n",
    "d"
   ]
  },
  {
   "cell_type": "markdown",
   "id": "8c142443-2cf0-41f3-8309-af242d3d478e",
   "metadata": {},
   "source": [
    "**methods**"
   ]
  },
  {
   "cell_type": "code",
   "execution_count": 138,
   "id": "38742fec-cc20-4d11-a6db-4ffbe81ad2a0",
   "metadata": {},
   "outputs": [
    {
     "data": {
      "text/plain": [
       "['__class__',\n",
       " '__class_getitem__',\n",
       " '__contains__',\n",
       " '__delattr__',\n",
       " '__delitem__',\n",
       " '__dir__',\n",
       " '__doc__',\n",
       " '__eq__',\n",
       " '__format__',\n",
       " '__ge__',\n",
       " '__getattribute__',\n",
       " '__getitem__',\n",
       " '__getstate__',\n",
       " '__gt__',\n",
       " '__hash__',\n",
       " '__init__',\n",
       " '__init_subclass__',\n",
       " '__ior__',\n",
       " '__iter__',\n",
       " '__le__',\n",
       " '__len__',\n",
       " '__lt__',\n",
       " '__ne__',\n",
       " '__new__',\n",
       " '__or__',\n",
       " '__reduce__',\n",
       " '__reduce_ex__',\n",
       " '__repr__',\n",
       " '__reversed__',\n",
       " '__ror__',\n",
       " '__setattr__',\n",
       " '__setitem__',\n",
       " '__sizeof__',\n",
       " '__str__',\n",
       " '__subclasshook__',\n",
       " 'clear',\n",
       " 'copy',\n",
       " 'fromkeys',\n",
       " 'get',\n",
       " 'items',\n",
       " 'keys',\n",
       " 'pop',\n",
       " 'popitem',\n",
       " 'setdefault',\n",
       " 'update',\n",
       " 'values']"
      ]
     },
     "execution_count": 138,
     "metadata": {},
     "output_type": "execute_result"
    }
   ],
   "source": [
    "dir({})"
   ]
  },
  {
   "cell_type": "code",
   "execution_count": 2,
   "id": "dbc1129a-8b2d-44d2-8e7b-aec5d383175e",
   "metadata": {},
   "outputs": [
    {
     "data": {
      "text/plain": [
       "{}"
      ]
     },
     "execution_count": 2,
     "metadata": {},
     "output_type": "execute_result"
    }
   ],
   "source": [
    "d={'Ramesh': 20, 'Suresh': 25, 'Satish': 30}\n",
    "d.clear()\n",
    "d"
   ]
  },
  {
   "cell_type": "code",
   "execution_count": 7,
   "id": "84daad1c-2b54-4347-bf96-5f3fa2e711d6",
   "metadata": {},
   "outputs": [
    {
     "data": {
      "text/plain": [
       "{'Ramesh': 20, 'Suresh': 25, 'Satish': 30}"
      ]
     },
     "execution_count": 7,
     "metadata": {},
     "output_type": "execute_result"
    }
   ],
   "source": [
    "d={'Ramesh': 20, 'Suresh': 25, 'Satish': 30}\n",
    "d1=d.copy()\n",
    "d1\n"
   ]
  },
  {
   "cell_type": "code",
   "execution_count": 13,
   "id": "336417ea-e976-44c9-839b-0dbb6c4081d3",
   "metadata": {},
   "outputs": [
    {
     "data": {
      "text/plain": [
       "dict_keys(['Ramesh', 'Suresh', 'Satish'])"
      ]
     },
     "execution_count": 13,
     "metadata": {},
     "output_type": "execute_result"
    }
   ],
   "source": [
    "d={'Ramesh': 20, 'Suresh': 25, 'Satish': 30}\n",
    "keys=d.keys()\n",
    "keys # it doesnot list"
   ]
  },
  {
   "cell_type": "code",
   "execution_count": 14,
   "id": "0f13dd95-aa1c-42c3-a43b-f51684d507a6",
   "metadata": {},
   "outputs": [
    {
     "data": {
      "text/plain": [
       "dict_keys"
      ]
     },
     "execution_count": 14,
     "metadata": {},
     "output_type": "execute_result"
    }
   ],
   "source": [
    "type(keys)"
   ]
  },
  {
   "cell_type": "markdown",
   "id": "e0db1f5c-5239-4ad2-a540-caaf244aaf64",
   "metadata": {},
   "source": [
    "**convert dictionary to list**"
   ]
  },
  {
   "cell_type": "markdown",
   "id": "96af97ff-a608-406a-818e-5b26c140da7d",
   "metadata": {},
   "source": [
    "- in order to convert dictionary to list \n",
    "\n",
    "- first we need to seperate keys and values \n",
    "\n",
    "- then apply list type casting"
   ]
  },
  {
   "cell_type": "code",
   "execution_count": 16,
   "id": "f0fe4ec2-c0d2-4372-8f8c-022b09cae884",
   "metadata": {},
   "outputs": [
    {
     "data": {
      "text/plain": [
       "['Ramesh', 'Suresh', 'Satish']"
      ]
     },
     "execution_count": 16,
     "metadata": {},
     "output_type": "execute_result"
    }
   ],
   "source": [
    "d={'Ramesh': 20, 'Suresh': 25, 'Satish': 30}\n",
    "keys=d.keys()\n",
    "keys_list=list(keys)\n",
    "keys_list"
   ]
  },
  {
   "cell_type": "code",
   "execution_count": 17,
   "id": "62e9a139-3b4d-4843-bac0-253dbfb9b434",
   "metadata": {},
   "outputs": [
    {
     "data": {
      "text/plain": [
       "[20, 25, 30]"
      ]
     },
     "execution_count": 17,
     "metadata": {},
     "output_type": "execute_result"
    }
   ],
   "source": [
    "d={'Ramesh': 20, 'Suresh': 25, 'Satish': 30}\n",
    "values=d.values()\n",
    "values_list=list(values)\n",
    "values_list\n"
   ]
  },
  {
   "cell_type": "code",
   "execution_count": 19,
   "id": "77d7552b-f97c-4cea-8cd6-2f90afcd3542",
   "metadata": {},
   "outputs": [
    {
     "data": {
      "text/plain": [
       "[('Ramesh', 20), ('Suresh', 25), ('Satish', 30)]"
      ]
     },
     "execution_count": 19,
     "metadata": {},
     "output_type": "execute_result"
    }
   ],
   "source": [
    "d={'Ramesh': 20, 'Suresh': 25, 'Satish': 30}\n",
    "items=d.items()\n",
    "items_list=list(items)\n",
    "items_list"
   ]
  },
  {
   "cell_type": "code",
   "execution_count": 20,
   "id": "73fd7c1a-ba13-4207-8f6d-beb3cc886e6b",
   "metadata": {},
   "outputs": [
    {
     "data": {
      "text/plain": [
       "(list, dict_keys)"
      ]
     },
     "execution_count": 20,
     "metadata": {},
     "output_type": "execute_result"
    }
   ],
   "source": [
    "type(keys_list),type(keys)"
   ]
  },
  {
   "cell_type": "code",
   "execution_count": 22,
   "id": "67bb46f3-c2c3-419f-bb89-7d6ccbbc719d",
   "metadata": {},
   "outputs": [
    {
     "data": {
      "text/plain": [
       "1"
      ]
     },
     "execution_count": 22,
     "metadata": {},
     "output_type": "execute_result"
    }
   ],
   "source": [
    "keys_list.count('Ramesh')"
   ]
  },
  {
   "cell_type": "code",
   "execution_count": null,
   "id": "228597a6-1b17-4806-8be2-6b45f861f6ca",
   "metadata": {},
   "outputs": [],
   "source": [
    "list====string  using join\n",
    "string====list using split\n",
    "list====dictionary  using zip\n",
    "dictionary====list using typecasting"
   ]
  },
  {
   "cell_type": "code",
   "execution_count": 31,
   "id": "1ed523f6-5ed5-43ed-a60e-677baee44cc0",
   "metadata": {},
   "outputs": [
    {
     "data": {
      "text/plain": [
       "{'Fname': ['virat'], 'Sname': ['kohli'], 'Cname': ['rcb']}"
      ]
     },
     "execution_count": 31,
     "metadata": {},
     "output_type": "execute_result"
    }
   ],
   "source": [
    "input='virat.kohli@rcb.com;rohit.sharma@mi.com;ms.dhoni@csk.com'\n",
    "l1=input.split(';')\n",
    "fname,sname,cname=[],[],[]\n",
    "d={}\n",
    "first_dot=i.index('.')\n",
    "second_dot=i.index('.',first_dot+1)\n",
    "at_the_rate=i.index('@')\n",
    "fname.append(i[:first_dot])\n",
    "sname.append(i[first_dot+1:at_the_rate])\n",
    "cname.append(i[at_the_rate+1:second_dot])\n",
    "d['Fname']=fname\n",
    "d['Sname']=sname\n",
    "d['Cname']=cname\n",
    "d\n"
   ]
  },
  {
   "cell_type": "markdown",
   "id": "20253773-a12d-4e73-90d1-ba1c31995909",
   "metadata": {},
   "source": [
    "**pop and popitem**"
   ]
  },
  {
   "cell_type": "code",
   "execution_count": 37,
   "id": "700257b1-2b2e-4dc9-b969-9073d469f4bb",
   "metadata": {},
   "outputs": [
    {
     "data": {
      "text/plain": [
       "{'Suresh': 25, 'Satish': 30}"
      ]
     },
     "execution_count": 37,
     "metadata": {},
     "output_type": "execute_result"
    }
   ],
   "source": [
    "d={'Ramesh': 20, 'Suresh': 25, 'Satish': 30}\n",
    "d.pop('Ramesh')\n",
    "d"
   ]
  },
  {
   "cell_type": "code",
   "execution_count": 38,
   "id": "c11a0f46-436e-4fff-953d-26f347c4c3fe",
   "metadata": {},
   "outputs": [
    {
     "data": {
      "text/plain": [
       "{'Satish': 30}"
      ]
     },
     "execution_count": 38,
     "metadata": {},
     "output_type": "execute_result"
    }
   ],
   "source": [
    "d.pop('Suresh')\n",
    "d"
   ]
  },
  {
   "cell_type": "code",
   "execution_count": 42,
   "id": "a728f606-4f88-410f-a998-f2db3ee6e1ee",
   "metadata": {},
   "outputs": [
    {
     "data": {
      "text/plain": [
       "['Suresh', 'Satish']"
      ]
     },
     "execution_count": 42,
     "metadata": {},
     "output_type": "execute_result"
    }
   ],
   "source": [
    "l1=['Ramesh','Suresh','Satish']\n",
    "l1.remove('Ramesh')\n",
    "l1"
   ]
  },
  {
   "cell_type": "markdown",
   "id": "e8d712c2-3c49-4bc3-888b-8f4750934d19",
   "metadata": {},
   "source": [
    "- **pop** in dictionary similar analogy **remove** in list"
   ]
  },
  {
   "cell_type": "code",
   "execution_count": 43,
   "id": "7bac94ae-dc9f-431d-8f95-ec857772c07b",
   "metadata": {},
   "outputs": [
    {
     "data": {
      "text/plain": [
       "{'Ramesh': 20, 'Suresh': 25}"
      ]
     },
     "execution_count": 43,
     "metadata": {},
     "output_type": "execute_result"
    }
   ],
   "source": [
    "d={'Ramesh': 20, 'Suresh': 25, 'Satish': 30}\n",
    "d.popitem()\n",
    "d"
   ]
  },
  {
   "cell_type": "code",
   "execution_count": 44,
   "id": "c1f6a2e3-4d63-454e-8923-e75498de7bec",
   "metadata": {},
   "outputs": [
    {
     "data": {
      "text/plain": [
       "['Ramesh', 'Suresh']"
      ]
     },
     "execution_count": 44,
     "metadata": {},
     "output_type": "execute_result"
    }
   ],
   "source": [
    "l1=['Ramesh','Suresh','Satish']\n",
    "l1.pop()\n",
    "l1"
   ]
  },
  {
   "cell_type": "markdown",
   "id": "466bcbd8-f275-4e13-8dc7-d35e227905d2",
   "metadata": {},
   "source": [
    "- **popitem** in dictionary sikmilar analogy **pop** in list"
   ]
  },
  {
   "cell_type": "markdown",
   "id": "fd178e4d-1e81-4419-acc4-20eb84cde860",
   "metadata": {},
   "source": [
    "**get**"
   ]
  },
  {
   "cell_type": "code",
   "execution_count": 45,
   "id": "f93633f8-8fd1-4f97-ab84-83838247d96b",
   "metadata": {},
   "outputs": [
    {
     "data": {
      "text/plain": [
       "20"
      ]
     },
     "execution_count": 45,
     "metadata": {},
     "output_type": "execute_result"
    }
   ],
   "source": [
    "d={'Ramesh': 20, 'Suresh': 25, 'Satish': 30}\n",
    "d.get('Ramesh')"
   ]
  },
  {
   "cell_type": "code",
   "execution_count": 46,
   "id": "1909c83d-4f8f-439e-a648-35e65b2ded20",
   "metadata": {},
   "outputs": [
    {
     "data": {
      "text/plain": [
       "20"
      ]
     },
     "execution_count": 46,
     "metadata": {},
     "output_type": "execute_result"
    }
   ],
   "source": [
    "d['Ramesh'] # key as an index"
   ]
  },
  {
   "cell_type": "markdown",
   "id": "a8ce40c4-2c23-4cca-9260-4378c0cdf22e",
   "metadata": {},
   "source": [
    "**update**\n",
    "\n",
    "- update is similar to list extend\n",
    "\n",
    "- take two dictionaries and apply update method"
   ]
  },
  {
   "cell_type": "code",
   "execution_count": 51,
   "id": "f659fdbe-da93-46be-91e7-106758c1fa5a",
   "metadata": {},
   "outputs": [
    {
     "data": {
      "text/plain": [
       "{'Ramesh': 20,\n",
       " 'Suresh': 25,\n",
       " 'Satish': 30,\n",
       " 'Apple': 20,\n",
       " 'Banana': 25,\n",
       " 'Cherry': 30}"
      ]
     },
     "execution_count": 51,
     "metadata": {},
     "output_type": "execute_result"
    }
   ],
   "source": [
    "d1={'Ramesh': 20, 'Suresh': 25, 'Satish': 30}\n",
    "d2={'Apple': 20,'Banana': 25,'Cherry': 30}\n",
    "d1.update(d2)\n",
    "d1"
   ]
  },
  {
   "cell_type": "code",
   "execution_count": 52,
   "id": "13054dff-0620-40f2-9b78-8b5d0fabed1f",
   "metadata": {},
   "outputs": [
    {
     "data": {
      "text/plain": [
       "['Ramesh', 'Suresh', 'Satish', 'Apple', 'Banana', 'Cherry']"
      ]
     },
     "execution_count": 52,
     "metadata": {},
     "output_type": "execute_result"
    }
   ],
   "source": [
    "l1=['Ramesh','Suresh','Satish']\n",
    "l2=['Apple','Banana','Cherry']\n",
    "l1.extend(l2)\n",
    "l1"
   ]
  },
  {
   "cell_type": "markdown",
   "id": "0fe1e6cc-ac5b-4adb-8972-b71efaf06057",
   "metadata": {},
   "source": [
    "- update in dictionary is similar analogy list extend"
   ]
  },
  {
   "cell_type": "markdown",
   "id": "56fb5be7-0f25-4de8-87b1-063b8b59e7fb",
   "metadata": {},
   "source": [
    "**setdefault**\n",
    "\n",
    "- suppose a dictionary already existed \n",
    "\n",
    "- we can update the dictionary with new **key : value** pair"
   ]
  },
  {
   "cell_type": "code",
   "execution_count": 59,
   "id": "ce3cdbc5-d3c0-4168-af0a-302c9f84df01",
   "metadata": {},
   "outputs": [
    {
     "data": {
      "text/plain": [
       "{'Ramesh': 20, 'Suresh': 25, 'Satish': 30, 'Manish': None, 'Mahesh': 35}"
      ]
     },
     "execution_count": 59,
     "metadata": {},
     "output_type": "execute_result"
    }
   ],
   "source": [
    "d1={'Ramesh': 20, 'Suresh': 25, 'Satish': 30}\n",
    "d1.setdefault('Manish')\n",
    "d1.setdefault('Mahesh',35)\n",
    "d1"
   ]
  },
  {
   "cell_type": "markdown",
   "id": "264fdc3a-97ea-4a2a-8b66-acf34793ad83",
   "metadata": {},
   "source": [
    "- setdefault in dictionary similar analogy list append\n",
    "\n",
    "- dictionary is a key : value pair concept\n",
    "\n",
    "- it never involves index operations\n",
    "\n",
    "- thats y we dnt have any index or find methods\n",
    "\n",
    "- we have get method to extract values using key"
   ]
  },
  {
   "cell_type": "markdown",
   "id": "a2aa9aa1-2d08-4cc7-a8c5-300a95ebb3cd",
   "metadata": {},
   "source": [
    "**fromkeys**\n",
    "\n",
    "- create a dictioanry with different keys but same value\n",
    "\n",
    "- fromkeys takes a argument of **iterable**\n",
    "\n",
    "- try to provide iterator i.e string,tuple,list"
   ]
  },
  {
   "cell_type": "code",
   "execution_count": 64,
   "id": "945fdd90-c187-4e58-84f2-161a5a66d89b",
   "metadata": {},
   "outputs": [
    {
     "data": {
      "text/plain": [
       "{'Ramesh': 'NareshIT', 'Suresh': 'NareshIT', 'Satish': 'NareshIT'}"
      ]
     },
     "execution_count": 64,
     "metadata": {},
     "output_type": "execute_result"
    }
   ],
   "source": [
    "d={}\n",
    "names=['Ramesh','Suresh','Satish']\n",
    "d.fromkeys(names,'NareshIT')\n"
   ]
  },
  {
   "cell_type": "code",
   "execution_count": 65,
   "id": "4f9c0493-faaa-4355-982b-7ad261c00efe",
   "metadata": {},
   "outputs": [
    {
     "data": {
      "text/plain": [
       "{'p': None, 'y': None, 't': None, 'h': None, 'o': None, 'n': None}"
      ]
     },
     "execution_count": 65,
     "metadata": {},
     "output_type": "execute_result"
    }
   ],
   "source": [
    "d={}\n",
    "d.fromkeys('python')"
   ]
  },
  {
   "cell_type": "markdown",
   "id": "e4006f8f-7ec9-4edc-a509-d61025566bff",
   "metadata": {},
   "source": [
    "- **pop** in dictionary similar analogy **remove** in list\n",
    "\n",
    "- **popitem** in dictionary similar analogy **pop** in list\n",
    "\n",
    "- **update** in dictionary is similar analogy list **extend**\n",
    "\n",
    "- **setdefault** in dictionary similar analogy list **append**\n",
    "\n",
    "- **get** in dictionary similar analogy to list **index**\n",
    "\n",
    "- list has count string has count and tuple has also count\n",
    "\n",
    "  - but dictionaries doesnt have **count**\n",
    "\n",
    "  - dictionaries doesnt use **duplicate**\n",
    "\n",
    "- string has find but list doesnt have \n"
   ]
  },
  {
   "cell_type": "code",
   "execution_count": null,
   "id": "1917cedf-b7b8-4bcc-8746-6b3dff6e72bc",
   "metadata": {},
   "outputs": [],
   "source": []
  }
 ],
 "metadata": {
  "kernelspec": {
   "display_name": "Python 3 (ipykernel)",
   "language": "python",
   "name": "python3"
  },
  "language_info": {
   "codemirror_mode": {
    "name": "ipython",
    "version": 3
   },
   "file_extension": ".py",
   "mimetype": "text/x-python",
   "name": "python",
   "nbconvert_exporter": "python",
   "pygments_lexer": "ipython3",
   "version": "3.12.7"
  }
 },
 "nbformat": 4,
 "nbformat_minor": 5
}
