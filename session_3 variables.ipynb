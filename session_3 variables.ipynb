{
 "cells": [
  {
   "cell_type": "markdown",
   "id": "6597f0de-d20a-49f2-b486-a80451956b9b",
   "metadata": {},
   "source": [
    "# variables"
   ]
  },
  {
   "cell_type": "markdown",
   "id": "87182974-2a22-4320-8b98-2c894b1807ec",
   "metadata": {},
   "source": [
    "- naresh it\n",
    "\n",
    "- data science"
   ]
  },
  {
   "cell_type": "markdown",
   "id": "d46f3da6-3b2d-4a3f-8524-e6e46ea9e1cf",
   "metadata": {},
   "source": [
    "- dnt do over ction\n",
    "\n",
    "- only action\n",
    "\n",
    "- chat with chatgpt\n",
    "\n",
    "- listen the class properly"
   ]
  },
  {
   "cell_type": "markdown",
   "id": "6d732ca7-f473-473b-93f2-f7d199488973",
   "metadata": {},
   "source": [
    "- variables are used to store data\n",
    "\n",
    "- the data can be change\n",
    "\n",
    "- these variables can be used to manipulate python code"
   ]
  },
  {
   "cell_type": "code",
   "execution_count": 2,
   "id": "51877f52-6586-4a48-9e2e-c3587f071987",
   "metadata": {},
   "outputs": [
    {
     "data": {
      "text/plain": [
       "100"
      ]
     },
     "execution_count": 2,
     "metadata": {},
     "output_type": "execute_result"
    }
   ],
   "source": [
    "number=100\n",
    "# 100 is stored in a variable called as number\n",
    "number"
   ]
  },
  {
   "cell_type": "code",
   "execution_count": 3,
   "id": "111a0986-be41-44f9-a15d-12f4b5e89369",
   "metadata": {},
   "outputs": [
    {
     "data": {
      "text/plain": [
       "200"
      ]
     },
     "execution_count": 3,
     "metadata": {},
     "output_type": "execute_result"
    }
   ],
   "source": [
    "NUMBER=200\n",
    "NUMBER"
   ]
  },
  {
   "cell_type": "code",
   "execution_count": 4,
   "id": "45590e99-4f6f-435e-8291-e929609ab41f",
   "metadata": {},
   "outputs": [
    {
     "data": {
      "text/plain": [
       "(100, 200)"
      ]
     },
     "execution_count": 4,
     "metadata": {},
     "output_type": "execute_result"
    }
   ],
   "source": [
    "number,NUMBER"
   ]
  },
  {
   "cell_type": "code",
   "execution_count": 5,
   "id": "6a18be7b-dedb-4422-b3e7-14835f5fa9c0",
   "metadata": {},
   "outputs": [
    {
     "data": {
      "text/plain": [
       "300"
      ]
     },
     "execution_count": 5,
     "metadata": {},
     "output_type": "execute_result"
    }
   ],
   "source": [
    "NUMber=300\n",
    "NUMber"
   ]
  },
  {
   "cell_type": "code",
   "execution_count": 6,
   "id": "5ca7e47e-56a9-40ca-84d4-307d8994ad03",
   "metadata": {},
   "outputs": [
    {
     "data": {
      "text/plain": [
       "(100, 200, 300)"
      ]
     },
     "execution_count": 6,
     "metadata": {},
     "output_type": "execute_result"
    }
   ],
   "source": [
    "number,NUMBER,NUMber"
   ]
  },
  {
   "cell_type": "code",
   "execution_count": 7,
   "id": "fae98024-532d-4a32-872a-b99b93bd7141",
   "metadata": {},
   "outputs": [
    {
     "data": {
      "text/plain": [
       "400"
      ]
     },
     "execution_count": 7,
     "metadata": {},
     "output_type": "execute_result"
    }
   ],
   "source": [
    "number123=400\n",
    "number123"
   ]
  },
  {
   "cell_type": "code",
   "execution_count": 8,
   "id": "3eb19b25-6cd8-47c6-a082-62361cab9c35",
   "metadata": {},
   "outputs": [
    {
     "ename": "SyntaxError",
     "evalue": "invalid decimal literal (1181908654.py, line 1)",
     "output_type": "error",
     "traceback": [
      "\u001b[1;36m  Cell \u001b[1;32mIn[8], line 1\u001b[1;36m\u001b[0m\n\u001b[1;33m    123number=500\u001b[0m\n\u001b[1;37m      ^\u001b[0m\n\u001b[1;31mSyntaxError\u001b[0m\u001b[1;31m:\u001b[0m invalid decimal literal\n"
     ]
    }
   ],
   "source": [
    "123number=500\n",
    "123number"
   ]
  },
  {
   "cell_type": "code",
   "execution_count": 9,
   "id": "5ffaa780-49a2-4119-8731-70d2d16f6a6e",
   "metadata": {},
   "outputs": [
    {
     "data": {
      "text/plain": [
       "400"
      ]
     },
     "execution_count": 9,
     "metadata": {},
     "output_type": "execute_result"
    }
   ],
   "source": [
    "number123\n",
    "# type first two letters\n",
    "number\n",
    "number123"
   ]
  },
  {
   "cell_type": "markdown",
   "id": "e56e8a9a-7ea9-4f9c-91cb-e8cebcb5fe0e",
   "metadata": {},
   "source": [
    "**note**:\n",
    "- variables generally in black color\n",
    "\n",
    "- green color should not be a variables\n",
    "\n",
    "- numbers as suffix can work\n",
    "\n",
    "- numbers as prefix can fail"
   ]
  },
  {
   "cell_type": "code",
   "execution_count": 10,
   "id": "b46c5db7-fecd-4c39-87c6-9307499288fb",
   "metadata": {},
   "outputs": [
    {
     "ename": "SyntaxError",
     "evalue": "invalid syntax (988349833.py, line 1)",
     "output_type": "error",
     "traceback": [
      "\u001b[1;36m  Cell \u001b[1;32mIn[10], line 1\u001b[1;36m\u001b[0m\n\u001b[1;33m    number$=600\u001b[0m\n\u001b[1;37m          ^\u001b[0m\n\u001b[1;31mSyntaxError\u001b[0m\u001b[1;31m:\u001b[0m invalid syntax\n"
     ]
    }
   ],
   "source": [
    "number$=600\n",
    "number$"
   ]
  },
  {
   "cell_type": "markdown",
   "id": "ba1739d5-e75f-4b20-8b24-b2924bb881e0",
   "metadata": {},
   "source": [
    "- special characters does not allowed"
   ]
  },
  {
   "cell_type": "code",
   "execution_count": 11,
   "id": "c0bdcfbc-4079-4fc6-add5-70d0e4a43b60",
   "metadata": {},
   "outputs": [
    {
     "ename": "SyntaxError",
     "evalue": "invalid syntax (3486595279.py, line 1)",
     "output_type": "error",
     "traceback": [
      "\u001b[1;36m  Cell \u001b[1;32mIn[11], line 1\u001b[1;36m\u001b[0m\n\u001b[1;33m    number one=200\u001b[0m\n\u001b[1;37m           ^\u001b[0m\n\u001b[1;31mSyntaxError\u001b[0m\u001b[1;31m:\u001b[0m invalid syntax\n"
     ]
    }
   ],
   "source": [
    "number one=200\n",
    "number one"
   ]
  },
  {
   "cell_type": "code",
   "execution_count": 12,
   "id": "14557b6c-474f-444c-86e8-5378362b3f35",
   "metadata": {},
   "outputs": [
    {
     "data": {
      "text/plain": [
       "300"
      ]
     },
     "execution_count": 12,
     "metadata": {},
     "output_type": "execute_result"
    }
   ],
   "source": [
    "number_one=300\n",
    "number_one"
   ]
  },
  {
   "cell_type": "code",
   "execution_count": 13,
   "id": "58e22928-c6fa-4476-8557-068233a66be8",
   "metadata": {},
   "outputs": [
    {
     "data": {
      "text/plain": [
       "1000"
      ]
     },
     "execution_count": 13,
     "metadata": {},
     "output_type": "execute_result"
    }
   ],
   "source": [
    "_=1000\n",
    "_"
   ]
  },
  {
   "cell_type": "markdown",
   "id": "00a207b4-18a3-408b-9e15-7e2c69b251ff",
   "metadata": {},
   "source": [
    "- underscore can use as variable"
   ]
  },
  {
   "cell_type": "code",
   "execution_count": null,
   "id": "fe186de5-da35-475f-90da-3f6e3a9ed9c9",
   "metadata": {},
   "outputs": [],
   "source": [
    "number=100 # w\n",
    "NUMBER=200 # w\n",
    "NUMber=300 # w\n",
    "number123=400 # w\n",
    "123number=500 # f\n",
    "number$=600 # f\n",
    "number one=700 # f\n",
    "number_one=800 # w\n",
    "_=900 # w"
   ]
  }
 ],
 "metadata": {
  "kernelspec": {
   "display_name": "Python 3 (ipykernel)",
   "language": "python",
   "name": "python3"
  },
  "language_info": {
   "codemirror_mode": {
    "name": "ipython",
    "version": 3
   },
   "file_extension": ".py",
   "mimetype": "text/x-python",
   "name": "python",
   "nbconvert_exporter": "python",
   "pygments_lexer": "ipython3",
   "version": "3.12.7"
  }
 },
 "nbformat": 4,
 "nbformat_minor": 5
}
