{
 "cells": [
  {
   "cell_type": "code",
   "execution_count": null,
   "id": "add00227-f4f0-43e4-86a7-82b13b640fb7",
   "metadata": {},
   "outputs": [],
   "source": [
    "# syntax:\n",
    "import <package name>"
   ]
  },
  {
   "cell_type": "code",
   "execution_count": 1,
   "id": "c3bc9509-02eb-4d74-aec5-66023a2eab42",
   "metadata": {},
   "outputs": [
    {
     "ename": "SyntaxError",
     "evalue": "invalid syntax (1183537894.py, line 1)",
     "output_type": "error",
     "traceback": [
      "\u001b[1;36m  Cell \u001b[1;32mIn[1], line 1\u001b[1;36m\u001b[0m\n\u001b[1;33m    package name: random\u001b[0m\n\u001b[1;37m            ^\u001b[0m\n\u001b[1;31mSyntaxError\u001b[0m\u001b[1;31m:\u001b[0m invalid syntax\n"
     ]
    }
   ],
   "source": [
    "package name: random\n"
   ]
  },
  {
   "cell_type": "code",
   "execution_count": 3,
   "id": "126bd558-87d3-46fb-add0-69e439c71567",
   "metadata": {},
   "outputs": [],
   "source": [
    "import random"
   ]
  },
  {
   "cell_type": "code",
   "execution_count": 4,
   "id": "ce646ccd-0a14-4b1d-a885-1fba1db09f60",
   "metadata": {},
   "outputs": [],
   "source": [
    "import time"
   ]
  },
  {
   "cell_type": "code",
   "execution_count": 5,
   "id": "d9b4c4c3-cf86-4da0-9529-fa7dbe945b3f",
   "metadata": {},
   "outputs": [],
   "source": [
    "import keyword"
   ]
  },
  {
   "cell_type": "code",
   "execution_count": 6,
   "id": "4a228899-0ff0-4f92-b4ac-0cf9ee2858d1",
   "metadata": {},
   "outputs": [
    {
     "ename": "ModuleNotFoundError",
     "evalue": "No module named 'addition'",
     "output_type": "error",
     "traceback": [
      "\u001b[1;31m---------------------------------------------------------------------------\u001b[0m",
      "\u001b[1;31mModuleNotFoundError\u001b[0m                       Traceback (most recent call last)",
      "Cell \u001b[1;32mIn[6], line 1\u001b[0m\n\u001b[1;32m----> 1\u001b[0m \u001b[38;5;28;01mimport\u001b[39;00m \u001b[38;5;21;01maddition\u001b[39;00m\n",
      "\u001b[1;31mModuleNotFoundError\u001b[0m: No module named 'addition'"
     ]
    }
   ],
   "source": [
    "import addition"
   ]
  },
  {
   "cell_type": "markdown",
   "id": "47e8827a-5609-4467-ad2f-e78c1be6d1d4",
   "metadata": {},
   "source": [
    "- with this addition name no package is available in ur laptop\n"
   ]
  },
  {
   "cell_type": "code",
   "execution_count": 7,
   "id": "f0611f38-b2f4-41f7-adad-d7c87e20c144",
   "metadata": {},
   "outputs": [
    {
     "ename": "ModuleNotFoundError",
     "evalue": "No module named 'cv2'",
     "output_type": "error",
     "traceback": [
      "\u001b[1;31m---------------------------------------------------------------------------\u001b[0m",
      "\u001b[1;31mModuleNotFoundError\u001b[0m                       Traceback (most recent call last)",
      "Cell \u001b[1;32mIn[7], line 1\u001b[0m\n\u001b[1;32m----> 1\u001b[0m \u001b[38;5;28;01mimport\u001b[39;00m \u001b[38;5;21;01mcv2\u001b[39;00m\n",
      "\u001b[1;31mModuleNotFoundError\u001b[0m: No module named 'cv2'"
     ]
    }
   ],
   "source": [
    "import cv2"
   ]
  },
  {
   "cell_type": "markdown",
   "id": "212af701-4442-4b2a-8dd0-4a44bab6c4a0",
   "metadata": {},
   "source": [
    "- for u cv2 is not available in ur laptop"
   ]
  },
  {
   "cell_type": "markdown",
   "id": "0c445c0b-1050-4263-9f3d-228955e96784",
   "metadata": {},
   "source": [
    "- whwrever u got error always shares two screnshots\n",
    "\n",
    "    - the code line\n",
    "\n",
    "    - error screenshot till last line\n",
    "\n",
    "    - error information always at last line only"
   ]
  },
  {
   "cell_type": "code",
   "execution_count": null,
   "id": "cb3f0adc-2b7f-4916-9341-b9fff937fdbb",
   "metadata": {},
   "outputs": [],
   "source": [
    "import random"
   ]
  },
  {
   "cell_type": "code",
   "execution_count": 8,
   "id": "33836ecf-5053-4a9b-a459-eaf6f43eca0c",
   "metadata": {},
   "outputs": [
    {
     "data": {
      "text/plain": [
       "<module 'random' from 'C:\\\\Users\\\\sravani9\\\\anaconda3\\\\Lib\\\\random.py'>"
      ]
     },
     "execution_count": 8,
     "metadata": {},
     "output_type": "execute_result"
    }
   ],
   "source": [
    "random"
   ]
  },
  {
   "cell_type": "markdown",
   "id": "21c743bf-71ee-4889-9d94-2ef80821424d",
   "metadata": {},
   "source": [
    "- package or module is python code only \n",
    "\n",
    "- many packages will automatically install while anaconda installations\n",
    "\n",
    "- if any module not available \n",
    "\n",
    "   - **module not found error occur** "
   ]
  },
  {
   "cell_type": "markdown",
   "id": "3812d2a1-a621-461d-b6b5-613cf4915b41",
   "metadata": {},
   "source": [
    "- how we call the package : **import package**"
   ]
  },
  {
   "cell_type": "code",
   "execution_count": 9,
   "id": "f35a9777-733c-4a36-b9e5-fb0034dab763",
   "metadata": {},
   "outputs": [],
   "source": [
    "import random"
   ]
  },
  {
   "cell_type": "markdown",
   "id": "7a9c0693-56d8-4518-8398-b6a41197f02b",
   "metadata": {},
   "source": [
    "- random also have many subfunctions\n",
    "\n",
    "- these are called as methods\n",
    "\n",
    "- in order to see available methods \n",
    "\n",
    "  - dir(packagename)"
   ]
  },
  {
   "cell_type": "code",
   "execution_count": 10,
   "id": "19fbc2ed-686c-4c1d-93de-57f64d485ba1",
   "metadata": {},
   "outputs": [
    {
     "data": {
      "text/plain": [
       "['BPF',\n",
       " 'LOG4',\n",
       " 'NV_MAGICCONST',\n",
       " 'RECIP_BPF',\n",
       " 'Random',\n",
       " 'SG_MAGICCONST',\n",
       " 'SystemRandom',\n",
       " 'TWOPI',\n",
       " '_ONE',\n",
       " '_Sequence',\n",
       " '__all__',\n",
       " '__builtins__',\n",
       " '__cached__',\n",
       " '__doc__',\n",
       " '__file__',\n",
       " '__loader__',\n",
       " '__name__',\n",
       " '__package__',\n",
       " '__spec__',\n",
       " '_accumulate',\n",
       " '_acos',\n",
       " '_bisect',\n",
       " '_ceil',\n",
       " '_cos',\n",
       " '_e',\n",
       " '_exp',\n",
       " '_fabs',\n",
       " '_floor',\n",
       " '_index',\n",
       " '_inst',\n",
       " '_isfinite',\n",
       " '_lgamma',\n",
       " '_log',\n",
       " '_log2',\n",
       " '_os',\n",
       " '_pi',\n",
       " '_random',\n",
       " '_repeat',\n",
       " '_sha512',\n",
       " '_sin',\n",
       " '_sqrt',\n",
       " '_test',\n",
       " '_test_generator',\n",
       " '_urandom',\n",
       " '_warn',\n",
       " 'betavariate',\n",
       " 'binomialvariate',\n",
       " 'choice',\n",
       " 'choices',\n",
       " 'expovariate',\n",
       " 'gammavariate',\n",
       " 'gauss',\n",
       " 'getrandbits',\n",
       " 'getstate',\n",
       " 'lognormvariate',\n",
       " 'normalvariate',\n",
       " 'paretovariate',\n",
       " 'randbytes',\n",
       " 'randint',\n",
       " 'random',\n",
       " 'randrange',\n",
       " 'sample',\n",
       " 'seed',\n",
       " 'setstate',\n",
       " 'shuffle',\n",
       " 'triangular',\n",
       " 'uniform',\n",
       " 'vonmisesvariate',\n",
       " 'weibullvariate']"
      ]
     },
     "execution_count": 10,
     "metadata": {},
     "output_type": "execute_result"
    }
   ],
   "source": [
    "# step1: import packagename\n",
    "# step2: dir(packagename)\n",
    "\n",
    "import random\n",
    "dir(random)"
   ]
  },
  {
   "cell_type": "markdown",
   "id": "60ff8d01-5e75-4365-a4c3-70673e970fdb",
   "metadata": {},
   "source": [
    "**randint**"
   ]
  },
  {
   "cell_type": "code",
   "execution_count": null,
   "id": "203b84d6-9a5a-471a-ade5-f3a455cdecc6",
   "metadata": {},
   "outputs": [],
   "source": [
    "# method: randint\n",
    "# package name is random\n",
    "# module name is random\n",
    "# attribute name is randint\n",
    "# package and module is same as well as method and attribute is same"
   ]
  },
  {
   "cell_type": "code",
   "execution_count": 11,
   "id": "9d7c8281-83c0-4c7f-9cca-f89ec4286c15",
   "metadata": {},
   "outputs": [
    {
     "data": {
      "text/plain": [
       "<bound method Random.randint of <random.Random object at 0x0000021EAC497D20>>"
      ]
     },
     "execution_count": 11,
     "metadata": {},
     "output_type": "execute_result"
    }
   ],
   "source": [
    "# step3: packagename.methodname\n",
    "random.randint"
   ]
  },
  {
   "cell_type": "code",
   "execution_count": 12,
   "id": "f2b9e556-2a62-4301-ada4-ed0aff0b1be8",
   "metadata": {},
   "outputs": [
    {
     "data": {
      "text/plain": [
       "<bound method Random.randint of <random.Random object at 0x0000021EAC497D20>>"
      ]
     },
     "execution_count": 12,
     "metadata": {},
     "output_type": "execute_result"
    }
   ],
   "source": [
    "# step1: import packagename\n",
    "# step2: dir(packagename)\n",
    "# step3: packagename.methodname\n",
    "import random\n",
    "dir(random) # i want to call randint\n",
    "random.randint"
   ]
  },
  {
   "cell_type": "code",
   "execution_count": 13,
   "id": "1cc093cd-890f-479b-ac5e-0355f3441f94",
   "metadata": {},
   "outputs": [
    {
     "name": "stdout",
     "output_type": "stream",
     "text": [
      "Help on method randint in module random:\n",
      "\n",
      "randint(a, b) method of random.Random instance\n",
      "    Return random integer in range [a, b], including both end points.\n",
      "\n"
     ]
    }
   ],
   "source": [
    "help(random.randint)"
   ]
  },
  {
   "cell_type": "code",
   "execution_count": 2,
   "id": "ab7caf0c-7083-4922-b808-7749931a219f",
   "metadata": {},
   "outputs": [
    {
     "data": {
      "text/plain": [
       "20"
      ]
     },
     "execution_count": 2,
     "metadata": {},
     "output_type": "execute_result"
    }
   ],
   "source": [
    "import random\n",
    "random.randint(10,20) # a=10 b=20 ranges from 11 12 13 14 15 16 17 18 19 "
   ]
  },
  {
   "cell_type": "code",
   "execution_count": 16,
   "id": "730cbec8-5f52-42fa-ac92-9e5403ee16e4",
   "metadata": {},
   "outputs": [
    {
     "name": "stdout",
     "output_type": "stream",
     "text": [
      "Help on method randint in module random:\n",
      "\n",
      "randint(a, b) method of random.Random instance\n",
      "    Return random integer in range [a, b], including both end points.\n",
      "\n"
     ]
    },
    {
     "data": {
      "text/plain": [
       "6"
      ]
     },
     "execution_count": 16,
     "metadata": {},
     "output_type": "execute_result"
    }
   ],
   "source": [
    "import random\n",
    "dir(random)\n",
    "help(random.randint)\n",
    "random.randint(1,10)"
   ]
  },
  {
   "cell_type": "code",
   "execution_count": 19,
   "id": "9a318fe2-918f-4c5d-b224-25ecce3a162a",
   "metadata": {},
   "outputs": [
    {
     "name": "stdout",
     "output_type": "stream",
     "text": [
      "Help on method randint in module random:\n",
      "\n",
      "randint(a, b) method of random.Random instance\n",
      "    Return random integer in range [a, b], including both end points.\n",
      "\n"
     ]
    },
    {
     "data": {
      "text/plain": [
       "18"
      ]
     },
     "execution_count": 19,
     "metadata": {},
     "output_type": "execute_result"
    }
   ],
   "source": [
    "import random\n",
    "dir(random)\n",
    "help(random.randint)\n",
    "random.randint(1,20)"
   ]
  },
  {
   "cell_type": "code",
   "execution_count": 20,
   "id": "f8000141-afbb-4656-9834-0eadf4e14ba0",
   "metadata": {},
   "outputs": [
    {
     "ename": "TypeError",
     "evalue": "Random.randint() missing 2 required positional arguments: 'a' and 'b'",
     "output_type": "error",
     "traceback": [
      "\u001b[1;31m---------------------------------------------------------------------------\u001b[0m",
      "\u001b[1;31mTypeError\u001b[0m                                 Traceback (most recent call last)",
      "Cell \u001b[1;32mIn[20], line 2\u001b[0m\n\u001b[0;32m      1\u001b[0m \u001b[38;5;28;01mimport\u001b[39;00m \u001b[38;5;21;01mrandom\u001b[39;00m\n\u001b[1;32m----> 2\u001b[0m random\u001b[38;5;241m.\u001b[39mrandint()\n",
      "\u001b[1;31mTypeError\u001b[0m: Random.randint() missing 2 required positional arguments: 'a' and 'b'"
     ]
    }
   ],
   "source": [
    "import random\n",
    "random.randint()\n",
    "# take ur curser into the brackets and then enter shift+tab"
   ]
  },
  {
   "cell_type": "code",
   "execution_count": 21,
   "id": "1bc3c260-7933-438a-a412-78bd1ecbc7a0",
   "metadata": {},
   "outputs": [
    {
     "data": {
      "text/plain": [
       "<bound method Random.randint of <random.Random object at 0x0000021EAC497D20>>"
      ]
     },
     "execution_count": 21,
     "metadata": {},
     "output_type": "execute_result"
    }
   ],
   "source": [
    "import random\n",
    "random.randint"
   ]
  },
  {
   "cell_type": "code",
   "execution_count": null,
   "id": "878aa7ab-596d-49f5-b5d4-d9333cbd974e",
   "metadata": {},
   "outputs": [],
   "source": [
    "# bound method means brackets missing"
   ]
  },
  {
   "cell_type": "code",
   "execution_count": null,
   "id": "60f9a9c0-c86f-48e7-a572-78d5c5a52445",
   "metadata": {},
   "outputs": [],
   "source": [
    "# package name : random\n",
    "# method name: random"
   ]
  },
  {
   "cell_type": "code",
   "execution_count": 23,
   "id": "0cf7b8de-a7a7-4cb7-a634-ff2b509bc1c1",
   "metadata": {},
   "outputs": [
    {
     "data": {
      "text/plain": [
       "0.013641719906426708"
      ]
     },
     "execution_count": 23,
     "metadata": {},
     "output_type": "execute_result"
    }
   ],
   "source": [
    "import random\n",
    "random.random()"
   ]
  },
  {
   "cell_type": "code",
   "execution_count": 27,
   "id": "973619ec-c953-4ddb-8ffd-790024a3ab75",
   "metadata": {},
   "outputs": [
    {
     "data": {
      "text/plain": [
       "1.4142135623730951"
      ]
     },
     "execution_count": 27,
     "metadata": {},
     "output_type": "execute_result"
    }
   ],
   "source": [
    "# package name : math\n",
    "# method name: sqrt\n",
    "import math\n",
    "math.sqrt(2)"
   ]
  },
  {
   "cell_type": "code",
   "execution_count": 28,
   "id": "17e2a2ce-1221-4ed4-a6c6-c79847b6ca83",
   "metadata": {},
   "outputs": [
    {
     "data": {
      "text/plain": [
       "1.0"
      ]
     },
     "execution_count": 28,
     "metadata": {},
     "output_type": "execute_result"
    }
   ],
   "source": [
    "# package name : math\n",
    "# method name: pow\n",
    "import math\n",
    "math.pow(1,2)"
   ]
  },
  {
   "cell_type": "code",
   "execution_count": 33,
   "id": "b387985f-79da-4437-91ac-37fbdf8b290b",
   "metadata": {},
   "outputs": [
    {
     "data": {
      "text/plain": [
       "3.141592653589793"
      ]
     },
     "execution_count": 33,
     "metadata": {},
     "output_type": "execute_result"
    }
   ],
   "source": [
    "# package name : math\n",
    "# method name: pi\n",
    "import math\n",
    "math.pi\n",
    "# constant does not need brackets"
   ]
  },
  {
   "cell_type": "code",
   "execution_count": 35,
   "id": "815b611a-9d23-498b-8dda-6d23342ddd7b",
   "metadata": {},
   "outputs": [
    {
     "data": {
      "text/plain": [
       "<function math.sin(x, /)>"
      ]
     },
     "execution_count": 35,
     "metadata": {},
     "output_type": "execute_result"
    }
   ],
   "source": [
    "# package name : math\n",
    "# method name: sin\n",
    "import math\n",
    "math.sin"
   ]
  },
  {
   "cell_type": "code",
   "execution_count": null,
   "id": "28ba7029-6a2e-43a1-95e0-5854d6c8dd99",
   "metadata": {},
   "outputs": [],
   "source": [
    "# import packages one time is enough \n",
    "# (a,b) a,b values will not include\n",
    "# [a,b] a,b values will include\n",
    "# (a,b] a will not include but b will include\n",
    "# [a,b) a will include but b will not include"
   ]
  },
  {
   "cell_type": "code",
   "execution_count": 36,
   "id": "a83c2be1-2e6b-4aee-b174-7de015408692",
   "metadata": {},
   "outputs": [
    {
     "data": {
      "text/plain": [
       "2.718281828459045"
      ]
     },
     "execution_count": 36,
     "metadata": {},
     "output_type": "execute_result"
    }
   ],
   "source": [
    "math.e"
   ]
  },
  {
   "cell_type": "code",
   "execution_count": 37,
   "id": "b005f3f3-4bf9-42eb-b711-0355102c53b1",
   "metadata": {},
   "outputs": [
    {
     "data": {
      "text/plain": [
       "0.8509035245341184"
      ]
     },
     "execution_count": 37,
     "metadata": {},
     "output_type": "execute_result"
    }
   ],
   "source": [
    "import math\n",
    "math.sin(45)"
   ]
  },
  {
   "cell_type": "code",
   "execution_count": 38,
   "id": "da13404f-654f-4f2c-806f-7dd2f1e57060",
   "metadata": {},
   "outputs": [
    {
     "name": "stdout",
     "output_type": "stream",
     "text": [
      "hello\n",
      "bye\n"
     ]
    }
   ],
   "source": [
    "print('hello')\n",
    "print('bye')"
   ]
  },
  {
   "cell_type": "code",
   "execution_count": 39,
   "id": "ef7e7db0-9441-4128-b146-e7d6385248ad",
   "metadata": {},
   "outputs": [
    {
     "name": "stdout",
     "output_type": "stream",
     "text": [
      "hello\n",
      "bye\n"
     ]
    }
   ],
   "source": [
    "import time\n",
    "print('hello')\n",
    "time.sleep(5)\n",
    "print('bye')"
   ]
  },
  {
   "cell_type": "code",
   "execution_count": 41,
   "id": "3393ee0a-40c3-432c-9cd4-f0f8e0ec78ce",
   "metadata": {},
   "outputs": [
    {
     "data": {
      "text/plain": [
       "['False',\n",
       " 'None',\n",
       " 'True',\n",
       " 'and',\n",
       " 'as',\n",
       " 'assert',\n",
       " 'async',\n",
       " 'await',\n",
       " 'break',\n",
       " 'class',\n",
       " 'continue',\n",
       " 'def',\n",
       " 'del',\n",
       " 'elif',\n",
       " 'else',\n",
       " 'except',\n",
       " 'finally',\n",
       " 'for',\n",
       " 'from',\n",
       " 'global',\n",
       " 'if',\n",
       " 'import',\n",
       " 'in',\n",
       " 'is',\n",
       " 'lambda',\n",
       " 'nonlocal',\n",
       " 'not',\n",
       " 'or',\n",
       " 'pass',\n",
       " 'raise',\n",
       " 'return',\n",
       " 'try',\n",
       " 'while',\n",
       " 'with',\n",
       " 'yield']"
      ]
     },
     "execution_count": 41,
     "metadata": {},
     "output_type": "execute_result"
    }
   ],
   "source": [
    "import keyword\n",
    "keyword.kwlist"
   ]
  },
  {
   "cell_type": "code",
   "execution_count": 42,
   "id": "c26fa5f8-46f0-4bb2-bfb1-e57b5a7a873d",
   "metadata": {},
   "outputs": [
    {
     "data": {
      "text/plain": [
       "35"
      ]
     },
     "execution_count": 42,
     "metadata": {},
     "output_type": "execute_result"
    }
   ],
   "source": [
    "import keyword\n",
    "len(keyword.kwlist)"
   ]
  },
  {
   "cell_type": "code",
   "execution_count": null,
   "id": "96c91db7-4a4d-4cad-b8b8-660bf0845db3",
   "metadata": {},
   "outputs": [],
   "source": []
  }
 ],
 "metadata": {
  "kernelspec": {
   "display_name": "Python 3 (ipykernel)",
   "language": "python",
   "name": "python3"
  },
  "language_info": {
   "codemirror_mode": {
    "name": "ipython",
    "version": 3
   },
   "file_extension": ".py",
   "mimetype": "text/x-python",
   "name": "python",
   "nbconvert_exporter": "python",
   "pygments_lexer": "ipython3",
   "version": "3.12.7"
  }
 },
 "nbformat": 4,
 "nbformat_minor": 5
}
