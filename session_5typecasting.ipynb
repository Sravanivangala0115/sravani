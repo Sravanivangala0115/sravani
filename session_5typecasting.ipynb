{
 "cells": [
  {
   "cell_type": "markdown",
   "id": "bbef07cd-aba9-4f52-b6ec-e07279cd8cf3",
   "metadata": {},
   "source": [
    "## type casting \n",
    "\n",
    "- convert one data type to another datatype\n",
    "\n",
    "- we learned 4 data types\n",
    "\n",
    "  - integer: int\n",
    "\n",
    "  - float: float\n",
    "\n",
    "  - boolean: bool\n",
    "\n",
    "  - string: str"
   ]
  },
  {
   "cell_type": "markdown",
   "id": "39600028-b550-4e26-a5e3-6cc0bf358b75",
   "metadata": {},
   "source": [
    "**int to other data types**"
   ]
  },
  {
   "cell_type": "code",
   "execution_count": 2,
   "id": "088ee151-19ed-4b44-a7a6-3c1711889c75",
   "metadata": {},
   "outputs": [
    {
     "data": {
      "text/plain": [
       "int"
      ]
     },
     "execution_count": 2,
     "metadata": {},
     "output_type": "execute_result"
    }
   ],
   "source": [
    "number=100\n",
    "type(number)"
   ]
  },
  {
   "cell_type": "code",
   "execution_count": 3,
   "id": "f540309c-b965-460a-9765-d19de103d226",
   "metadata": {},
   "outputs": [
    {
     "data": {
      "text/plain": [
       "float"
      ]
     },
     "execution_count": 3,
     "metadata": {},
     "output_type": "execute_result"
    }
   ],
   "source": [
    "float_number=float(number)\n",
    "type(float_number)"
   ]
  },
  {
   "cell_type": "code",
   "execution_count": 5,
   "id": "9f035c1c-78fa-4b1d-a794-85de007d4121",
   "metadata": {},
   "outputs": [
    {
     "data": {
      "text/plain": [
       "bool"
      ]
     },
     "execution_count": 5,
     "metadata": {},
     "output_type": "execute_result"
    }
   ],
   "source": [
    "bool_number=bool(number)\n",
    "type(bool_number)"
   ]
  },
  {
   "cell_type": "code",
   "execution_count": 6,
   "id": "8c0572a2-cde2-4f18-a7e2-7ac9c26d6267",
   "metadata": {},
   "outputs": [
    {
     "data": {
      "text/plain": [
       "str"
      ]
     },
     "execution_count": 6,
     "metadata": {},
     "output_type": "execute_result"
    }
   ],
   "source": [
    "str_number=str(number)\n",
    "type(str_number)"
   ]
  },
  {
   "cell_type": "code",
   "execution_count": 7,
   "id": "ee65786b-513f-4436-8833-3eea5c2db0d3",
   "metadata": {},
   "outputs": [
    {
     "data": {
      "text/plain": [
       "(100.0, True, '100')"
      ]
     },
     "execution_count": 7,
     "metadata": {},
     "output_type": "execute_result"
    }
   ],
   "source": [
    "float(100),bool(100),str(100)"
   ]
  },
  {
   "cell_type": "code",
   "execution_count": 8,
   "id": "84662117-fc14-4dab-af10-9b221e7892ff",
   "metadata": {},
   "outputs": [
    {
     "data": {
      "text/plain": [
       "'100'"
      ]
     },
     "execution_count": 8,
     "metadata": {},
     "output_type": "execute_result"
    }
   ],
   "source": [
    "float(100)\n",
    "bool(100)\n",
    "str(100)"
   ]
  },
  {
   "cell_type": "code",
   "execution_count": 9,
   "id": "c775d91f-6b90-431b-ba1f-fb59e28a07bb",
   "metadata": {},
   "outputs": [
    {
     "name": "stdout",
     "output_type": "stream",
     "text": [
      "100.0\n",
      "True\n"
     ]
    },
    {
     "data": {
      "text/plain": [
       "'100'"
      ]
     },
     "execution_count": 9,
     "metadata": {},
     "output_type": "execute_result"
    }
   ],
   "source": [
    "print(float(100))\n",
    "print(bool(100))\n",
    "str(str(100))"
   ]
  },
  {
   "cell_type": "code",
   "execution_count": 10,
   "id": "ba503431-ca85-45e1-a51a-4c76e1bcd16d",
   "metadata": {},
   "outputs": [
    {
     "name": "stdout",
     "output_type": "stream",
     "text": [
      "-100.0\n",
      "True\n",
      "-100\n"
     ]
    }
   ],
   "source": [
    "print(float(-100))\n",
    "print(bool(-100))\n",
    "print(str(-100))"
   ]
  },
  {
   "cell_type": "code",
   "execution_count": 12,
   "id": "aa3a0084-2084-4458-9e0d-44f338138d09",
   "metadata": {},
   "outputs": [
    {
     "name": "stdout",
     "output_type": "stream",
     "text": [
      "0.0\n",
      "False\n",
      "0\n"
     ]
    }
   ],
   "source": [
    "print(float(0))\n",
    "print(bool(0))\n",
    "print(str(0))"
   ]
  },
  {
   "cell_type": "markdown",
   "id": "68c8b228-364c-4087-8b6c-4f396a18e681",
   "metadata": {},
   "source": [
    "- zero means off\n",
    "\n",
    "- false means off"
   ]
  },
  {
   "cell_type": "markdown",
   "id": "e3f70353-96e1-4105-9e32-faf5970958b6",
   "metadata": {},
   "source": [
    "**float to other data types**"
   ]
  },
  {
   "cell_type": "code",
   "execution_count": 13,
   "id": "956c29f0-87f0-4798-8564-696d7485f904",
   "metadata": {},
   "outputs": [
    {
     "data": {
      "text/plain": [
       "100"
      ]
     },
     "execution_count": 13,
     "metadata": {},
     "output_type": "execute_result"
    }
   ],
   "source": [
    "number=100.5\n",
    "int(number)"
   ]
  },
  {
   "cell_type": "code",
   "execution_count": 14,
   "id": "ebf91a8d-ae09-41a0-99c7-5245bbe34ded",
   "metadata": {},
   "outputs": [
    {
     "data": {
      "text/plain": [
       "True"
      ]
     },
     "execution_count": 14,
     "metadata": {},
     "output_type": "execute_result"
    }
   ],
   "source": [
    "bool(number)"
   ]
  },
  {
   "cell_type": "code",
   "execution_count": 15,
   "id": "19d45040-9f29-460d-b36c-8cc03a6231a8",
   "metadata": {},
   "outputs": [
    {
     "data": {
      "text/plain": [
       "'100.5'"
      ]
     },
     "execution_count": 15,
     "metadata": {},
     "output_type": "execute_result"
    }
   ],
   "source": [
    "str(number)"
   ]
  },
  {
   "cell_type": "code",
   "execution_count": 18,
   "id": "900cb96d-d659-49ed-bda0-23448f21841c",
   "metadata": {},
   "outputs": [
    {
     "name": "stdout",
     "output_type": "stream",
     "text": [
      "100\n",
      "True\n",
      "100.5\n"
     ]
    }
   ],
   "source": [
    "n1=int(100.5)\n",
    "n2=bool(100.5)\n",
    "n3=str(100.5)\n",
    "print(n1)\n",
    "print(n2)\n",
    "print(n3)\n",
    "\n"
   ]
  },
  {
   "cell_type": "code",
   "execution_count": 19,
   "id": "68b1df8e-0eb3-4bf2-b48b-fd22d6ed4d81",
   "metadata": {},
   "outputs": [
    {
     "name": "stdout",
     "output_type": "stream",
     "text": [
      "0\n",
      "False\n",
      "0.0\n"
     ]
    }
   ],
   "source": [
    "n1=int(0.0)\n",
    "n2=bool(0.0)\n",
    "n3=str(0.0)\n",
    "print(n1)\n",
    "print(n2)\n",
    "print(n3)"
   ]
  },
  {
   "cell_type": "markdown",
   "id": "975f44f0-6974-4eb7-812e-af750e8a424f",
   "metadata": {},
   "source": [
    "**string to other data types**"
   ]
  },
  {
   "cell_type": "code",
   "execution_count": 20,
   "id": "985c9a88-c448-41a1-9b09-ebcf24ef60cb",
   "metadata": {},
   "outputs": [
    {
     "ename": "ValueError",
     "evalue": "invalid literal for int() with base 10: 'apple'",
     "output_type": "error",
     "traceback": [
      "\u001b[1;31m---------------------------------------------------------------------------\u001b[0m",
      "\u001b[1;31mValueError\u001b[0m                                Traceback (most recent call last)",
      "Cell \u001b[1;32mIn[20], line 1\u001b[0m\n\u001b[1;32m----> 1\u001b[0m \u001b[38;5;28mint\u001b[39m(\u001b[38;5;124m'\u001b[39m\u001b[38;5;124mapple\u001b[39m\u001b[38;5;124m'\u001b[39m)\n\u001b[0;32m      2\u001b[0m \u001b[38;5;28mfloat\u001b[39m(\u001b[38;5;124m'\u001b[39m\u001b[38;5;124mapple\u001b[39m\u001b[38;5;124m'\u001b[39m)\n\u001b[0;32m      3\u001b[0m \u001b[38;5;28mbool\u001b[39m(\u001b[38;5;124m'\u001b[39m\u001b[38;5;124mapple\u001b[39m\u001b[38;5;124m'\u001b[39m)\n",
      "\u001b[1;31mValueError\u001b[0m: invalid literal for int() with base 10: 'apple'"
     ]
    }
   ],
   "source": [
    "int('apple') # fail\n",
    "float('apple') # fail\n",
    "bool('apple') # works"
   ]
  },
  {
   "cell_type": "code",
   "execution_count": 21,
   "id": "09dcc79e-19ca-4235-a564-7376ae4c3af2",
   "metadata": {},
   "outputs": [
    {
     "data": {
      "text/plain": [
       "True"
      ]
     },
     "execution_count": 21,
     "metadata": {},
     "output_type": "execute_result"
    }
   ],
   "source": [
    "bool('apple')"
   ]
  },
  {
   "cell_type": "markdown",
   "id": "685f77fe-5498-4d42-823a-c24d4b43765e",
   "metadata": {},
   "source": [
    "- true: on that is present\n",
    "- false: off that is not present"
   ]
  },
  {
   "cell_type": "code",
   "execution_count": 22,
   "id": "372cc692-dff4-4e4c-9341-48464c0f03a2",
   "metadata": {},
   "outputs": [
    {
     "data": {
      "text/plain": [
       "True"
      ]
     },
     "execution_count": 22,
     "metadata": {},
     "output_type": "execute_result"
    }
   ],
   "source": [
    "bool('0')"
   ]
  },
  {
   "cell_type": "code",
   "execution_count": 23,
   "id": "3180b584-a7c9-4222-889e-3d97e7b9e7e5",
   "metadata": {},
   "outputs": [
    {
     "data": {
      "text/plain": [
       "False"
      ]
     },
     "execution_count": 23,
     "metadata": {},
     "output_type": "execute_result"
    }
   ],
   "source": [
    "bool('')"
   ]
  },
  {
   "cell_type": "code",
   "execution_count": 24,
   "id": "b355505a-e21b-408d-bf08-6a4cfce3701f",
   "metadata": {},
   "outputs": [
    {
     "data": {
      "text/plain": [
       "5"
      ]
     },
     "execution_count": 24,
     "metadata": {},
     "output_type": "execute_result"
    }
   ],
   "source": [
    "len('apple')"
   ]
  },
  {
   "cell_type": "code",
   "execution_count": 25,
   "id": "ea21cbee-ce12-43cb-a1b9-603b83bcbbea",
   "metadata": {},
   "outputs": [
    {
     "data": {
      "text/plain": [
       "1"
      ]
     },
     "execution_count": 25,
     "metadata": {},
     "output_type": "execute_result"
    }
   ],
   "source": [
    "len('0')"
   ]
  },
  {
   "cell_type": "code",
   "execution_count": 26,
   "id": "7481b276-fc34-4130-a2fa-f5677d55c492",
   "metadata": {},
   "outputs": [
    {
     "data": {
      "text/plain": [
       "0"
      ]
     },
     "execution_count": 26,
     "metadata": {},
     "output_type": "execute_result"
    }
   ],
   "source": [
    "len('')"
   ]
  },
  {
   "cell_type": "markdown",
   "id": "07619f42-2841-47a7-8a53-2cbab181ca77",
   "metadata": {},
   "source": [
    "- for numbers 0 and 0.0 boolean conversion gives **False**\n",
    "\n",
    "- for string empty boolean conversion gives **False**"
   ]
  },
  {
   "cell_type": "code",
   "execution_count": 27,
   "id": "303378c7-4b01-45b3-925c-01aa427199cc",
   "metadata": {},
   "outputs": [
    {
     "data": {
      "text/plain": [
       "10"
      ]
     },
     "execution_count": 27,
     "metadata": {},
     "output_type": "execute_result"
    }
   ],
   "source": [
    "float('10') # works 10.0\n",
    "bool('10') #works True\n",
    "int('10') # works 10"
   ]
  },
  {
   "cell_type": "code",
   "execution_count": 28,
   "id": "0cf331ba-a62c-4503-b8ea-8695d6e11d49",
   "metadata": {},
   "outputs": [
    {
     "name": "stdout",
     "output_type": "stream",
     "text": [
      "10.0\n",
      "True\n",
      "10\n"
     ]
    }
   ],
   "source": [
    "print(float('10'))\n",
    "print(bool('10'))\n",
    "print(int('10'))\n",
    "      "
   ]
  },
  {
   "cell_type": "markdown",
   "id": "70b78229-79fd-45f3-a59d-0f9a87fd8e06",
   "metadata": {},
   "source": [
    "**str object not callable**\n",
    "\n",
    "- python magic\n",
    "\n",
    "- either you need open new notebook\n",
    "\n",
    "- or go to kernel and restart"
   ]
  },
  {
   "cell_type": "code",
   "execution_count": null,
   "id": "f32ffb29-5bd0-4d38-8f61-475ae3dc194a",
   "metadata": {},
   "outputs": [],
   "source": [
    "float('10.5') # w\n",
    "bool('10.5') # w\n",
    "int('10.5') # f"
   ]
  },
  {
   "cell_type": "markdown",
   "id": "f26a262e-80c4-4531-8e23-33af6c65af56",
   "metadata": {},
   "source": [
    "**float is boss**"
   ]
  },
  {
   "cell_type": "code",
   "execution_count": null,
   "id": "5ab49015-4ec0-4f2e-adb8-0bfb08225781",
   "metadata": {},
   "outputs": [],
   "source": [
    "float('10') # w\n",
    "float('10.5') # w\n",
    "\n",
    "int('10') # w\n",
    "int('10.5') # f"
   ]
  },
  {
   "cell_type": "markdown",
   "id": "3665f342-f8e8-4c62-aa15-2a08337d0cbf",
   "metadata": {},
   "source": [
    "**boolean to other data types**"
   ]
  },
  {
   "cell_type": "code",
   "execution_count": null,
   "id": "08f6e12c-83a7-424e-aae2-ae08e2aa6e96",
   "metadata": {},
   "outputs": [],
   "source": [
    "int(True) # w 1\n",
    "float(True) # w 1.0\n",
    "str(True) # 'True'\n",
    "int(False) # 0\n",
    "float(False) # 0.0\n",
    "str(False) # 'False'"
   ]
  },
  {
   "cell_type": "code",
   "execution_count": null,
   "id": "72f91f60-3fbd-4ce3-9060-b72a010546c2",
   "metadata": {},
   "outputs": [],
   "source": [
    "float(10) # w 10.0\n",
    "str(10) # w '10'\n",
    "bool(10) # w True\n",
    "int(10.5) # f\n",
    "str(10.5) # w'10.5'\n",
    "bool(10.5) # w True\n",
    "int('apple') # f\n",
    "float('apple') # f\n",
    "bool('apple') # w True\n",
    "int('10') # w 10\n",
    "float('10') # w 10.0\n",
    "bool('10') # w true\n",
    "int('10.5') # f\n",
    "float('10.5') # w 10.5\n",
    "bool('10.5') # w True\n",
    "int('True') # w 1\n",
    "float('true') # w 1.0\n",
    "int('false') # f 0\n",
    "float('False') # f 0.0\n",
    "\n",
    "\n",
    "\n"
   ]
  }
 ],
 "metadata": {
  "kernelspec": {
   "display_name": "Python 3 (ipykernel)",
   "language": "python",
   "name": "python3"
  },
  "language_info": {
   "codemirror_mode": {
    "name": "ipython",
    "version": 3
   },
   "file_extension": ".py",
   "mimetype": "text/x-python",
   "name": "python",
   "nbconvert_exporter": "python",
   "pygments_lexer": "ipython3",
   "version": "3.12.7"
  }
 },
 "nbformat": 4,
 "nbformat_minor": 5
}
