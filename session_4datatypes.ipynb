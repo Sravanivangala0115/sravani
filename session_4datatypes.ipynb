{
 "cells": [
  {
   "cell_type": "markdown",
   "id": "0e7e8674-62b6-4833-b6de-f0dc581e2f8d",
   "metadata": {},
   "source": [
    "## datatypes"
   ]
  },
  {
   "cell_type": "markdown",
   "id": "4cea0fcb-30bc-4163-8724-b3d0ca957139",
   "metadata": {},
   "source": [
    "- integer : int\n",
    "\n",
    "- float\n",
    "\n",
    "- string\n",
    "\n",
    "- list\n",
    "\n",
    "- tuple\n",
    "\n",
    "- set\n",
    "\n",
    "- frozen set\n",
    "\n",
    "- dictionary\n",
    "\n",
    "- bool\n",
    "\n",
    "- complex\n",
    "\n",
    "- range\n",
    "\n",
    "- byte\n",
    "\n",
    "- byte array\n",
    "\n",
    "- memory view\n",
    "\n",
    "- none type"
   ]
  },
  {
   "cell_type": "markdown",
   "id": "fc17ebe0-cc77-4667-b4ad-92d63962d039",
   "metadata": {},
   "source": [
    "- saving the code\n",
    "\n",
    "- open jupyter notebook\n",
    "\n",
    "- go to file\n",
    "\n",
    "- open save and export\n",
    "\n",
    "- click on html\n",
    "\n",
    "- the file will be downloaded\n",
    "\n",
    "- ctrl+p\n",
    "\n",
    "- it will print"
   ]
  },
  {
   "cell_type": "markdown",
   "id": "11f64a0d-709f-4dec-8095-7023711f199f",
   "metadata": {},
   "source": [
    "hello students\n",
    "here i will upload following notes\n",
    "- variables\n",
    "\n",
    "- data types\n",
    "\n",
    "- type cating\n",
    "\n",
    "- print\n",
    "\n",
    "- basic codes\n",
    "\n",
    "- packages\n",
    "\n",
    "- if else\n",
    "\n",
    "- try except\n",
    "\n",
    "- functions\n",
    "\n",
    "- loop"
   ]
  },
  {
   "cell_type": "markdown",
   "id": "479c3808-0fc4-4453-9441-cc72810b207a",
   "metadata": {},
   "source": [
    "myth\n",
    "\n",
    "-  only 14-15 data type available"
   ]
  },
  {
   "cell_type": "markdown",
   "id": "9d8e900c-cbcf-4297-a643-c7e977a23389",
   "metadata": {},
   "source": [
    "- integer"
   ]
  },
  {
   "cell_type": "code",
   "execution_count": 1,
   "id": "66c385df-6dda-45a1-9518-86929e7f6010",
   "metadata": {},
   "outputs": [
    {
     "data": {
      "text/plain": [
       "100"
      ]
     },
     "execution_count": 1,
     "metadata": {},
     "output_type": "execute_result"
    }
   ],
   "source": [
    "number=100\n",
    "number"
   ]
  },
  {
   "cell_type": "code",
   "execution_count": 2,
   "id": "12a60a24-b035-49d0-8786-2baceb2f9650",
   "metadata": {},
   "outputs": [
    {
     "data": {
      "text/plain": [
       "type"
      ]
     },
     "execution_count": 2,
     "metadata": {},
     "output_type": "execute_result"
    }
   ],
   "source": [
    "type\n"
   ]
  },
  {
   "cell_type": "code",
   "execution_count": 3,
   "id": "936df27a-2a1a-420e-8e59-35434cdd5ddb",
   "metadata": {},
   "outputs": [
    {
     "data": {
      "text/plain": [
       "int"
      ]
     },
     "execution_count": 3,
     "metadata": {},
     "output_type": "execute_result"
    }
   ],
   "source": [
    "type(number)"
   ]
  },
  {
   "cell_type": "code",
   "execution_count": 4,
   "id": "8c174ff6-d2ce-4ac7-9107-6e020fc79f47",
   "metadata": {},
   "outputs": [
    {
     "ename": "SyntaxError",
     "evalue": "invalid syntax (1315720844.py, line 1)",
     "output_type": "error",
     "traceback": [
      "\u001b[1;36m  Cell \u001b[1;32mIn[4], line 1\u001b[1;36m\u001b[0m\n\u001b[1;33m    on earth=how old are you\u001b[0m\n\u001b[1;37m       ^\u001b[0m\n\u001b[1;31mSyntaxError\u001b[0m\u001b[1;31m:\u001b[0m invalid syntax\n"
     ]
    }
   ],
   "source": [
    "on earth=how old are you\n",
    "7 years\n",
    "mars\n",
    "how old are you\n",
    "ob111\n"
   ]
  },
  {
   "cell_type": "markdown",
   "id": "c2faf6a1-1a18-4f06-b917-25a2500ffa5d",
   "metadata": {},
   "source": [
    "**number system**"
   ]
  },
  {
   "cell_type": "markdown",
   "id": "05fab8a9-83de-43be-8fa4-a43cee3c9af7",
   "metadata": {},
   "source": [
    "- binary number system\n",
    "\n",
    "- decimal number system\n",
    "\n",
    "- octa number system\n",
    "\n",
    "- hexa number system"
   ]
  },
  {
   "cell_type": "code",
   "execution_count": 5,
   "id": "463160c9-b461-42f0-8dcb-f0db8ffc7b1d",
   "metadata": {},
   "outputs": [
    {
     "data": {
      "text/plain": [
       "81"
      ]
     },
     "execution_count": 5,
     "metadata": {},
     "output_type": "execute_result"
    }
   ],
   "source": [
    "9*9"
   ]
  },
  {
   "cell_type": "code",
   "execution_count": 6,
   "id": "4d88cb0f-e1b3-4a87-b86a-c88880f6aefb",
   "metadata": {},
   "outputs": [
    {
     "data": {
      "text/plain": [
       "25"
      ]
     },
     "execution_count": 6,
     "metadata": {},
     "output_type": "execute_result"
    }
   ],
   "source": [
    "5*5"
   ]
  },
  {
   "cell_type": "code",
   "execution_count": 7,
   "id": "1ae2990e-4857-4ce4-a864-85e36c146fc9",
   "metadata": {},
   "outputs": [
    {
     "data": {
      "text/plain": [
       "2025"
      ]
     },
     "execution_count": 7,
     "metadata": {},
     "output_type": "execute_result"
    }
   ],
   "source": [
    "81*25"
   ]
  },
  {
   "cell_type": "code",
   "execution_count": 8,
   "id": "f9be4759-7296-430b-906c-3cdfa1f1edbb",
   "metadata": {},
   "outputs": [
    {
     "data": {
      "text/plain": [
       "2025"
      ]
     },
     "execution_count": 8,
     "metadata": {},
     "output_type": "execute_result"
    }
   ],
   "source": [
    "sum([i**3 for i in range(1,10)])"
   ]
  },
  {
   "cell_type": "markdown",
   "id": "1d2aeaf9-455f-407e-9720-d3a15f467d0a",
   "metadata": {},
   "source": [
    "**binary number system**"
   ]
  },
  {
   "cell_type": "markdown",
   "id": "f1a12ee8-b6e4-4e62-8153-af86ba43a265",
   "metadata": {},
   "source": [
    "- it is denoted with **ob** or **OB**\n",
    "\n",
    "- binary means two\n",
    "\n",
    "- we have generally o to 9 digits allowed\n",
    "\n",
    "- binary means only 2 digits allowed : 0 and 1\n",
    "\n",
    "- ex:ob101 ob111 ob000 oB1012 (valid)\n",
    "\n",
    "- not valid : ob123 oB1012"
   ]
  },
  {
   "cell_type": "code",
   "execution_count": 12,
   "id": "d1668ca8-7ab8-4843-9e98-ccc338fb3074",
   "metadata": {},
   "outputs": [
    {
     "data": {
      "text/plain": [
       "7"
      ]
     },
     "execution_count": 12,
     "metadata": {},
     "output_type": "execute_result"
    }
   ],
   "source": [
    "0b111\n"
   ]
  },
  {
   "cell_type": "code",
   "execution_count": 13,
   "id": "298af40d-077c-4cca-82b6-db48f1dcb339",
   "metadata": {},
   "outputs": [
    {
     "ename": "SyntaxError",
     "evalue": "invalid digit '2' in binary literal (1599514596.py, line 1)",
     "output_type": "error",
     "traceback": [
      "\u001b[1;36m  Cell \u001b[1;32mIn[13], line 1\u001b[1;36m\u001b[0m\n\u001b[1;33m    0b112\u001b[0m\n\u001b[1;37m        ^\u001b[0m\n\u001b[1;31mSyntaxError\u001b[0m\u001b[1;31m:\u001b[0m invalid digit '2' in binary literal\n"
     ]
    }
   ],
   "source": [
    "0b112"
   ]
  },
  {
   "cell_type": "code",
   "execution_count": 14,
   "id": "e261f196-3f0e-4e33-9c77-a040eeb2a2ca",
   "metadata": {},
   "outputs": [
    {
     "data": {
      "text/plain": [
       "1011"
      ]
     },
     "execution_count": 14,
     "metadata": {},
     "output_type": "execute_result"
    }
   ],
   "source": [
    "1011"
   ]
  },
  {
   "cell_type": "markdown",
   "id": "1cadcafa-60f4-4aa1-ad94-06cc3c069c83",
   "metadata": {},
   "source": [
    "- binary "
   ]
  },
  {
   "cell_type": "code",
   "execution_count": 15,
   "id": "75f31ee8-50af-47c0-befb-d67bf471c711",
   "metadata": {},
   "outputs": [
    {
     "ename": "SyntaxError",
     "evalue": "invalid syntax (3134654983.py, line 1)",
     "output_type": "error",
     "traceback": [
      "\u001b[1;36m  Cell \u001b[1;32mIn[15], line 1\u001b[1;36m\u001b[0m\n\u001b[1;33m    2^2    2^1    2^0\u001b[0m\n\u001b[1;37m           ^\u001b[0m\n\u001b[1;31mSyntaxError\u001b[0m\u001b[1;31m:\u001b[0m invalid syntax\n"
     ]
    }
   ],
   "source": [
    "2^2    2^1    2^0\n",
    "4      2       1\n",
    "0      0       0\n",
    "0      0       1\n",
    "0      1       0\n",
    "0      1       1\n",
    "1      0       0\n",
    "1      0       1\n",
    "1      1       0\n",
    "1      1       1"
   ]
  },
  {
   "cell_type": "markdown",
   "id": "ea5ac21a-bf0c-42ee-a8a4-5d7e28adaa15",
   "metadata": {},
   "source": [
    "- octa"
   ]
  },
  {
   "cell_type": "code",
   "execution_count": 16,
   "id": "c805a017-3fff-4794-b434-6fadc496d5e3",
   "metadata": {},
   "outputs": [
    {
     "ename": "SyntaxError",
     "evalue": "invalid syntax (1763950669.py, line 1)",
     "output_type": "error",
     "traceback": [
      "\u001b[1;36m  Cell \u001b[1;32mIn[16], line 1\u001b[1;36m\u001b[0m\n\u001b[1;33m    2^3 2^2 2^1 2^0\u001b[0m\n\u001b[1;37m        ^\u001b[0m\n\u001b[1;31mSyntaxError\u001b[0m\u001b[1;31m:\u001b[0m invalid syntax\n"
     ]
    }
   ],
   "source": [
    "2^3 2^2 2^1 2^0\n",
    "8   4   2   1 \n",
    "0   0   0   0\n",
    "0   0   0   1\n",
    "0   0   1   0\n",
    "0   0   1   1\n",
    "0   1   0   0\n",
    "0   1   0   1\n",
    "0   1   1   0\n",
    "0   1   1   1\n",
    "1   0   0   0\n",
    "1   0   0   1\n",
    "1   0   1   0\n",
    "1   0   1   1\n",
    "1   1   0   0\n",
    "1   1   0   1\n",
    "1   1   1   0\n",
    "1   1   1   1\n"
   ]
  },
  {
   "cell_type": "markdown",
   "id": "6aaa6b03-7f0a-4827-a5b1-9c1977690c28",
   "metadata": {},
   "source": [
    "**octa number system**"
   ]
  },
  {
   "cell_type": "markdown",
   "id": "9b53d260-5a09-4b42-bf41-39b4af2818cb",
   "metadata": {},
   "source": [
    "- it is denoted with **Oo** or **OO**\n",
    "\n",
    "- binary means 8\n",
    "\n",
    "- we have generally o to 9 digits available\n",
    "\n",
    "- binary means only two digits allowed : 0 1 2 3 4 5 6 7\n",
    "\n",
    "- ex:Oo567 00111 0001 00672(valid)\n",
    "\n",
    "- not valid : 00768 081000012"
   ]
  },
  {
   "cell_type": "markdown",
   "id": "bf2a0435-cc24-40d6-89df-9568b3e907ec",
   "metadata": {},
   "source": [
    "**hexa number system**"
   ]
  },
  {
   "cell_type": "markdown",
   "id": "301db7fa-4af9-4e90-927d-016eed12d529",
   "metadata": {},
   "source": [
    "- it is denoted with **ox** or **oX**\n",
    "\n",
    "- hexa means 16\n",
    "\n",
    "- we have generally 0 to 9 digits available\n",
    "\n",
    "- octa means only two digits available :  0 to 9 A to F\n",
    "\n",
    "- A:10 B:11 C:12 D:13 E:14 F:15\n",
    "\n",
    "- ex:oxabc oxA1\n",
    "\n",
    "- not valid : oxdefg0016\n",
    "\n",
    "- ex: oxabc \n",
    "2748"
   ]
  },
  {
   "cell_type": "code",
   "execution_count": 17,
   "id": "26eb1996-b9c1-48c7-be0f-86dff2b7f4a7",
   "metadata": {},
   "outputs": [
    {
     "data": {
      "text/plain": [
       "2025"
      ]
     },
     "execution_count": 17,
     "metadata": {},
     "output_type": "execute_result"
    }
   ],
   "source": [
    "\n",
    "0B11111101001\n"
   ]
  },
  {
   "cell_type": "code",
   "execution_count": 18,
   "id": "dc865eab-e9d6-41ba-b941-e3fb64f82f7f",
   "metadata": {},
   "outputs": [
    {
     "data": {
      "text/plain": [
       "2025"
      ]
     },
     "execution_count": 18,
     "metadata": {},
     "output_type": "execute_result"
    }
   ],
   "source": [
    "0x7E9"
   ]
  },
  {
   "cell_type": "markdown",
   "id": "d029b98e-e761-4ecb-9b0e-61573cc68eb6",
   "metadata": {},
   "source": [
    "**float**"
   ]
  },
  {
   "cell_type": "code",
   "execution_count": 19,
   "id": "dd20728c-815b-4989-9a0e-94e6eca8ab7b",
   "metadata": {},
   "outputs": [
    {
     "data": {
      "text/plain": [
       "float"
      ]
     },
     "execution_count": 19,
     "metadata": {},
     "output_type": "execute_result"
    }
   ],
   "source": [
    "number=10.5\n",
    "type(number)"
   ]
  },
  {
   "cell_type": "markdown",
   "id": "629da4ca-2808-4f2f-80ec-df147603fa16",
   "metadata": {},
   "source": [
    "**e representation**"
   ]
  },
  {
   "cell_type": "code",
   "execution_count": 20,
   "id": "1b7453da-7256-4809-ac6b-6a891414db22",
   "metadata": {},
   "outputs": [
    {
     "data": {
      "text/plain": [
       "10.0"
      ]
     },
     "execution_count": 20,
     "metadata": {},
     "output_type": "execute_result"
    }
   ],
   "source": [
    "1e1"
   ]
  },
  {
   "cell_type": "code",
   "execution_count": 21,
   "id": "0620aaf9-6695-4714-803b-2ec1f35ac577",
   "metadata": {},
   "outputs": [
    {
     "data": {
      "text/plain": [
       "100.0"
      ]
     },
     "execution_count": 21,
     "metadata": {},
     "output_type": "execute_result"
    }
   ],
   "source": [
    "1e2"
   ]
  },
  {
   "cell_type": "code",
   "execution_count": 22,
   "id": "3cc2a395-bdec-4f3a-9ccb-1719a717145f",
   "metadata": {},
   "outputs": [
    {
     "data": {
      "text/plain": [
       "1000.0"
      ]
     },
     "execution_count": 22,
     "metadata": {},
     "output_type": "execute_result"
    }
   ],
   "source": [
    "1e3"
   ]
  },
  {
   "cell_type": "code",
   "execution_count": 23,
   "id": "513db4a2-d3ca-4713-93a7-a85db85b6e35",
   "metadata": {},
   "outputs": [
    {
     "data": {
      "text/plain": [
       "20000.0"
      ]
     },
     "execution_count": 23,
     "metadata": {},
     "output_type": "execute_result"
    }
   ],
   "source": [
    "2e4"
   ]
  },
  {
   "cell_type": "code",
   "execution_count": null,
   "id": "de09a04a-2f52-4c95-861a-bb3e411e6104",
   "metadata": {},
   "outputs": [],
   "source": [
    "1e1 #1*10=10\n",
    "1e2 #1*100=100\n",
    "2e3 #2*1000=2000\n",
    "4e4 #4*10000=40000"
   ]
  },
  {
   "cell_type": "code",
   "execution_count": 24,
   "id": "23dbc185-bbe9-4540-8a4d-ad2c127b6f28",
   "metadata": {},
   "outputs": [
    {
     "name": "stdout",
     "output_type": "stream",
     "text": [
      "10.0\n"
     ]
    }
   ],
   "source": [
    "print(1e+1)"
   ]
  },
  {
   "cell_type": "code",
   "execution_count": 25,
   "id": "2ec5c3eb-2436-4800-8b16-382f74776eb1",
   "metadata": {},
   "outputs": [
    {
     "name": "stdout",
     "output_type": "stream",
     "text": [
      "100.0\n"
     ]
    }
   ],
   "source": [
    "print(1e+2)"
   ]
  },
  {
   "cell_type": "code",
   "execution_count": 26,
   "id": "d97e0886-5e11-4a60-8ce5-82d4a3fb649a",
   "metadata": {},
   "outputs": [
    {
     "name": "stdout",
     "output_type": "stream",
     "text": [
      "2000.0\n"
     ]
    }
   ],
   "source": [
    "print(2e+3)"
   ]
  },
  {
   "cell_type": "code",
   "execution_count": 27,
   "id": "34fe7734-01a7-4d1f-bf7e-ca7505acaf77",
   "metadata": {},
   "outputs": [
    {
     "name": "stdout",
     "output_type": "stream",
     "text": [
      "40000.0\n"
     ]
    }
   ],
   "source": [
    "print(4e+4)"
   ]
  },
  {
   "cell_type": "code",
   "execution_count": 28,
   "id": "ac27228f-b59d-4cc5-8618-68d284902d85",
   "metadata": {},
   "outputs": [
    {
     "name": "stdout",
     "output_type": "stream",
     "text": [
      "0.1\n"
     ]
    }
   ],
   "source": [
    "print(1e-1)"
   ]
  },
  {
   "cell_type": "code",
   "execution_count": 29,
   "id": "8c4b2357-b3fb-45a9-bf75-0ac6f2ed80de",
   "metadata": {},
   "outputs": [
    {
     "name": "stdout",
     "output_type": "stream",
     "text": [
      "0.01\n"
     ]
    }
   ],
   "source": [
    "print(1e-2)"
   ]
  },
  {
   "cell_type": "code",
   "execution_count": 31,
   "id": "fa861abf-de03-4e0e-bb10-f144dfb754dd",
   "metadata": {},
   "outputs": [
    {
     "name": "stdout",
     "output_type": "stream",
     "text": [
      "0.002\n"
     ]
    }
   ],
   "source": [
    "print(2e-3)"
   ]
  },
  {
   "cell_type": "code",
   "execution_count": 32,
   "id": "0bc23a01-c882-4aef-bfa2-6ecd06cd23bc",
   "metadata": {},
   "outputs": [
    {
     "name": "stdout",
     "output_type": "stream",
     "text": [
      "0.0004\n"
     ]
    }
   ],
   "source": [
    "print(4e-4)"
   ]
  },
  {
   "cell_type": "code",
   "execution_count": null,
   "id": "7c269c41-6527-453f-a9aa-692929a8385c",
   "metadata": {},
   "outputs": [],
   "source": [
    "# integer data type\n",
    "# float data type"
   ]
  },
  {
   "cell_type": "markdown",
   "id": "060f24ea-7964-4103-8276-dd68bd5f55ae",
   "metadata": {},
   "source": [
    "**boolean**"
   ]
  },
  {
   "cell_type": "code",
   "execution_count": 1,
   "id": "1deb9d43-0f06-47d0-ac35-31643e77e086",
   "metadata": {},
   "outputs": [
    {
     "data": {
      "text/plain": [
       "True"
      ]
     },
     "execution_count": 1,
     "metadata": {},
     "output_type": "execute_result"
    }
   ],
   "source": [
    "val=True\n",
    "val"
   ]
  },
  {
   "cell_type": "code",
   "execution_count": 4,
   "id": "dcb98c1d-4a58-44df-87e7-8dfc319fe066",
   "metadata": {},
   "outputs": [
    {
     "data": {
      "text/plain": [
       "bool"
      ]
     },
     "execution_count": 4,
     "metadata": {},
     "output_type": "execute_result"
    }
   ],
   "source": [
    "type(val)"
   ]
  },
  {
   "cell_type": "code",
   "execution_count": 6,
   "id": "87137278-b7bd-41d1-9a62-0281774d0d25",
   "metadata": {},
   "outputs": [
    {
     "data": {
      "text/plain": [
       "bool"
      ]
     },
     "execution_count": 6,
     "metadata": {},
     "output_type": "execute_result"
    }
   ],
   "source": [
    "val1=False\n",
    "type(val1)"
   ]
  },
  {
   "cell_type": "markdown",
   "id": "09cf0bfb-be47-484c-a84f-7e0feffb6f82",
   "metadata": {},
   "source": [
    "**strings**"
   ]
  },
  {
   "cell_type": "markdown",
   "id": "197d2a83-850d-40be-96b1-971f1c88457f",
   "metadata": {},
   "source": [
    "- english format representation\n",
    "\n",
    "- strings represent with quotes\n",
    "\n",
    "- we can use single quotes, double quotes also triple quotes"
   ]
  },
  {
   "cell_type": "code",
   "execution_count": 8,
   "id": "e4e94cad-4373-49d1-9e55-23bed8cfcdcf",
   "metadata": {},
   "outputs": [
    {
     "data": {
      "text/plain": [
       "'python'"
      ]
     },
     "execution_count": 8,
     "metadata": {},
     "output_type": "execute_result"
    }
   ],
   "source": [
    "name='python'\n",
    "name"
   ]
  },
  {
   "cell_type": "code",
   "execution_count": 9,
   "id": "e4a5db57-f11c-404f-bab3-085f11b691c1",
   "metadata": {},
   "outputs": [
    {
     "data": {
      "text/plain": [
       "str"
      ]
     },
     "execution_count": 9,
     "metadata": {},
     "output_type": "execute_result"
    }
   ],
   "source": [
    "type(name)\n"
   ]
  },
  {
   "cell_type": "code",
   "execution_count": 10,
   "id": "e161de18-fc8d-4f53-9956-880b44078cb7",
   "metadata": {},
   "outputs": [
    {
     "name": "stdout",
     "output_type": "stream",
     "text": [
      "python\n"
     ]
    }
   ],
   "source": [
    "print(name)\n",
    "# when we print we will not able to see the quotes"
   ]
  },
  {
   "cell_type": "code",
   "execution_count": 11,
   "id": "5b552e74-a107-4b85-96e6-e0d531cfc9de",
   "metadata": {},
   "outputs": [
    {
     "data": {
      "text/plain": [
       "str"
      ]
     },
     "execution_count": 11,
     "metadata": {},
     "output_type": "execute_result"
    }
   ],
   "source": [
    "val='10'\n",
    "type(val)"
   ]
  },
  {
   "cell_type": "code",
   "execution_count": 12,
   "id": "92d6da87-8eec-4179-8fce-8dfbb9bfffe4",
   "metadata": {},
   "outputs": [
    {
     "data": {
      "text/plain": [
       "int"
      ]
     },
     "execution_count": 12,
     "metadata": {},
     "output_type": "execute_result"
    }
   ],
   "source": [
    "val1=10\n",
    "type(val1)"
   ]
  },
  {
   "cell_type": "code",
   "execution_count": 13,
   "id": "494ea5cc-64a0-43ed-8d00-8a62dfcc2628",
   "metadata": {},
   "outputs": [
    {
     "data": {
      "text/plain": [
       "'python'"
      ]
     },
     "execution_count": 13,
     "metadata": {},
     "output_type": "execute_result"
    }
   ],
   "source": [
    "name=\"python\"\n",
    "name\n",
    "# but the output displayed as single quotes"
   ]
  },
  {
   "cell_type": "code",
   "execution_count": 14,
   "id": "5fc47a9c-6d05-45a5-be20-3da4e3739443",
   "metadata": {},
   "outputs": [
    {
     "data": {
      "text/plain": [
       "'i love python'"
      ]
     },
     "execution_count": 14,
     "metadata": {},
     "output_type": "execute_result"
    }
   ],
   "source": [
    "str1=\"i love python\"\n",
    "str1"
   ]
  },
  {
   "cell_type": "code",
   "execution_count": 16,
   "id": "e5ecdc4f-84be-4db9-98f2-d2387f1c2355",
   "metadata": {},
   "outputs": [
    {
     "name": "stdout",
     "output_type": "stream",
     "text": [
      "i love 'python'\n"
     ]
    }
   ],
   "source": [
    "str1=\"i love 'python'\"\n",
    "print(str1)"
   ]
  },
  {
   "cell_type": "code",
   "execution_count": 17,
   "id": "9efa70ff-dee3-4973-b009-87dbe6687313",
   "metadata": {},
   "outputs": [
    {
     "name": "stdout",
     "output_type": "stream",
     "text": [
      "i love \"python\"\n"
     ]
    }
   ],
   "source": [
    "str1='i love \"python\"'\n",
    "print(str1)"
   ]
  },
  {
   "cell_type": "markdown",
   "id": "aa899a12-5a39-4b19-8407-acb4f7d87044",
   "metadata": {},
   "source": [
    "- keep entire string in double quotes then highlight the word with single quote vice versa"
   ]
  },
  {
   "cell_type": "markdown",
   "id": "2062158f-ad80-4233-b300-a1cd3c372a78",
   "metadata": {},
   "source": [
    "**triple quotes**"
   ]
  },
  {
   "cell_type": "markdown",
   "id": "800be491-a40a-4447-8efb-24c514db3e70",
   "metadata": {},
   "source": [
    "- triple quotes can not use in coding part\n",
    "\n",
    "- triple quotes means conveying the information\n",
    "\n",
    "- this is process is calles **doc string**\n",
    "\n",
    "- in jupyter notebook we have markdown option\n",
    "\n",
    "- but in vscode or pycharm there is no markdown option\n",
    "\n",
    "- so user will convey the information by providing triple quotes"
   ]
  },
  {
   "cell_type": "code",
   "execution_count": null,
   "id": "41868f88-307e-45b4-93be-e14b9d0dde4c",
   "metadata": {},
   "outputs": [],
   "source": [
    "\"\"\"hai\n",
    "today im learning python \n",
    "its easy\"\"\""
   ]
  },
  {
   "cell_type": "code",
   "execution_count": null,
   "id": "4ca7f2a0-ec11-4654-b2ab-4707f97ba66c",
   "metadata": {},
   "outputs": [],
   "source": [
    "true=True # w\n",
    "true='True' # w\n",
    "true=10.5 # w\n",
    "True=10 # f\n",
    "True=True # f\n",
    "# keywords will not use as variables"
   ]
  },
  {
   "cell_type": "code",
   "execution_count": null,
   "id": "56c7f2df-a8fd-4063-a581-6750387f134e",
   "metadata": {},
   "outputs": [],
   "source": []
  }
 ],
 "metadata": {
  "kernelspec": {
   "display_name": "Python 3 (ipykernel)",
   "language": "python",
   "name": "python3"
  },
  "language_info": {
   "codemirror_mode": {
    "name": "ipython",
    "version": 3
   },
   "file_extension": ".py",
   "mimetype": "text/x-python",
   "name": "python",
   "nbconvert_exporter": "python",
   "pygments_lexer": "ipython3",
   "version": "3.12.7"
  }
 },
 "nbformat": 4,
 "nbformat_minor": 5
}
