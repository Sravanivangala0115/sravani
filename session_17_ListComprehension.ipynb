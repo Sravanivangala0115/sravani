{
 "cells": [
  {
   "cell_type": "markdown",
   "id": "81c9485d-b130-46fc-a3f6-7e24615fa90d",
   "metadata": {},
   "source": [
    "**list comprehension**\n",
    "\n",
    "- list comprehension is a way to write list operations in a single line\n",
    "\n",
    "- when we apply for loop and if-else conditional statements then the code compilation becomes slow\n",
    "\n",
    "- which means it takes much time \n",
    "\n",
    "- in order to avoid the time complexity we will use list comprehension\n",
    "\n",
    "- list comprehension is a single line code "
   ]
  },
  {
   "cell_type": "code",
   "execution_count": null,
   "id": "36b4a181-8e10-44de-8f8c-c667be7f91aa",
   "metadata": {},
   "outputs": [],
   "source": [
    "**case-1: only for loop**"
   ]
  },
  {
   "cell_type": "code",
   "execution_count": 1,
   "id": "bcd11274-eacd-4b7b-9a1d-dab3301d9c1e",
   "metadata": {},
   "outputs": [
    {
     "data": {
      "text/plain": [
       "[0, 1, 2, 3, 4, 5, 6, 7, 8, 9]"
      ]
     },
     "execution_count": 1,
     "metadata": {},
     "output_type": "execute_result"
    }
   ],
   "source": [
    "list1=[]\n",
    "for i in range(10):\n",
    "    list1.append(i)\n",
    "list1"
   ]
  },
  {
   "cell_type": "code",
   "execution_count": null,
   "id": "f2df0e96-ca8f-4361-849f-381f258cc313",
   "metadata": {},
   "outputs": [],
   "source": [
    "list1=[<code should write here>]\n",
    "# inside code no need  of append\n",
    "list1=[<output var> <for loop>]"
   ]
  },
  {
   "cell_type": "code",
   "execution_count": 1,
   "id": "e0e5823e-2330-488c-8896-1e23a60dc5c6",
   "metadata": {},
   "outputs": [
    {
     "data": {
      "text/plain": [
       "[0, 1, 2, 3, 4, 5, 6, 7, 8, 9]"
      ]
     },
     "execution_count": 1,
     "metadata": {},
     "output_type": "execute_result"
    }
   ],
   "source": [
    "list1=[i for i in range(10)] # no need to give :\n",
    "list1"
   ]
  },
  {
   "cell_type": "code",
   "execution_count": 11,
   "id": "87223b0d-7eec-48c5-86e7-70d588d58a99",
   "metadata": {},
   "outputs": [
    {
     "data": {
      "text/plain": [
       "['Hyd', 'Bengaluru', 'Pune', 'Mumbai']"
      ]
     },
     "execution_count": 11,
     "metadata": {},
     "output_type": "execute_result"
    }
   ],
   "source": [
    "# Q1)\n",
    "input=['hyd','bengaluru','pune','mumbai']\n",
    "output=[i.capitalize() for i in input]\n",
    "output"
   ]
  },
  {
   "cell_type": "code",
   "execution_count": 12,
   "id": "a8798162-15d3-4756-964c-ed5e8184b441",
   "metadata": {},
   "outputs": [
    {
     "data": {
      "text/plain": [
       "['HYD', 'BENGALURU', 'PUNE', 'MUMBAI']"
      ]
     },
     "execution_count": 12,
     "metadata": {},
     "output_type": "execute_result"
    }
   ],
   "source": [
    "# Q2)\n",
    "input=['hyd','bengaluru','pune','mumbai']\n",
    "output=[i.upper() for i in input]\n",
    "output"
   ]
  },
  {
   "cell_type": "code",
   "execution_count": 2,
   "id": "24bdb8d1-b926-456b-a1cf-99fdf9a62e01",
   "metadata": {},
   "outputs": [
    {
     "name": "stdout",
     "output_type": "stream",
     "text": [
      "0\n",
      "10\n",
      "20\n",
      "30\n"
     ]
    }
   ],
   "source": [
    "# Q3)\n",
    "input=['hyd','bengaluru','pune','mumbai']\n",
    "for i in input:\n",
    "    print(input.index(i)*10)\n"
   ]
  },
  {
   "cell_type": "code",
   "execution_count": 3,
   "id": "66c7cd30-23c0-4bac-9aa4-4bc878903432",
   "metadata": {},
   "outputs": [
    {
     "data": {
      "text/plain": [
       "[0, 10, 20, 30]"
      ]
     },
     "execution_count": 3,
     "metadata": {},
     "output_type": "execute_result"
    }
   ],
   "source": [
    "input=['hyd','bengaluru','pune','mumbai']\n",
    "output=[input.index(i)*10 for i in input]\n",
    "output"
   ]
  },
  {
   "cell_type": "code",
   "execution_count": 6,
   "id": "bc8e57c5-2d02-4cc0-aac8-9b3533c86535",
   "metadata": {},
   "outputs": [
    {
     "data": {
      "text/plain": [
       "60"
      ]
     },
     "execution_count": 6,
     "metadata": {},
     "output_type": "execute_result"
    }
   ],
   "source": [
    "# Q4)\n",
    "input=['hyd','bengaluru','pune','mumbai']\n",
    "output=[input.index(i)*10 for i in input]\n",
    "sum(output)"
   ]
  },
  {
   "cell_type": "code",
   "execution_count": 7,
   "id": "3b111981-9342-436b-a166-66d3ee699f0a",
   "metadata": {},
   "outputs": [
    {
     "name": "stdout",
     "output_type": "stream",
     "text": [
      "1\n",
      "3\n",
      "6\n",
      "10\n",
      "15\n",
      "21\n",
      "28\n",
      "36\n",
      "45\n",
      "55\n"
     ]
    }
   ],
   "source": [
    "sum=0\n",
    "for i in range(1,11):\n",
    "    sum=sum+i\n",
    "    print(sum)"
   ]
  },
  {
   "cell_type": "code",
   "execution_count": null,
   "id": "b468cabe-ce22-49ad-8c26-8d554b03b008",
   "metadata": {},
   "outputs": [],
   "source": [
    "**walrus operator**"
   ]
  },
  {
   "cell_type": "code",
   "execution_count": 12,
   "id": "843ebb4a-4a48-4a51-a757-f4fccb9cdaa6",
   "metadata": {},
   "outputs": [
    {
     "data": {
      "text/plain": [
       "55"
      ]
     },
     "execution_count": 12,
     "metadata": {},
     "output_type": "execute_result"
    }
   ],
   "source": [
    "input=['hyd','bengaluru','pune','mumbai']\n",
    "sum=0\n",
    "output=[sum:=sum+i for i in range(1,11)][-1]\n",
    "output"
   ]
  },
  {
   "cell_type": "code",
   "execution_count": null,
   "id": "d03693c5-51ba-4ca1-9b52-17ad58b66f8c",
   "metadata": {},
   "outputs": [],
   "source": [
    "**case-2: for loop if condition**"
   ]
  },
  {
   "cell_type": "code",
   "execution_count": null,
   "id": "193960ae-4777-42b8-8ea3-1ec2e604e178",
   "metadata": {},
   "outputs": [],
   "source": [
    "[<output> <for loop> <if condition>]"
   ]
  },
  {
   "cell_type": "code",
   "execution_count": 29,
   "id": "99938d3e-e50f-4244-bbe3-ae1fdd30069e",
   "metadata": {},
   "outputs": [
    {
     "data": {
      "text/plain": [
       "['even : 2', 'even : 4']"
      ]
     },
     "execution_count": 29,
     "metadata": {},
     "output_type": "execute_result"
    }
   ],
   "source": [
    "input=[1,2,3,4,5]\n",
    "output=[f'even : {i}' for i in range(1,6) if i%2==0]\n",
    "output"
   ]
  },
  {
   "cell_type": "code",
   "execution_count": 18,
   "id": "0837a812-6113-452c-af6f-9fa26f9859d8",
   "metadata": {},
   "outputs": [
    {
     "data": {
      "text/plain": [
       "['even : 2', 'even : 4']"
      ]
     },
     "execution_count": 18,
     "metadata": {},
     "output_type": "execute_result"
    }
   ],
   "source": [
    "input=[1,2,3,4,5]\n",
    "output=[f'even : {i}'  for i in input if i%2==0 ]\n",
    "output"
   ]
  },
  {
   "cell_type": "code",
   "execution_count": 9,
   "id": "713fc62a-a346-42c6-aa61-14823ee1f8d8",
   "metadata": {},
   "outputs": [
    {
     "name": "stdout",
     "output_type": "stream",
     "text": [
      "1\n",
      "3\n",
      "6\n",
      "10\n",
      "15\n",
      "21\n",
      "28\n",
      "36\n",
      "45\n",
      "55\n"
     ]
    }
   ],
   "source": [
    "# Q5)\n",
    "input=[1,2,3,4,5,6,7,8,9,10]\n",
    "sum=0\n",
    "for i in input:\n",
    "    sum=sum+i\n",
    "    print(sum)\n",
    "\n",
    "    \n",
    "    "
   ]
  },
  {
   "cell_type": "code",
   "execution_count": 26,
   "id": "ea36025f-8137-4271-b4f2-9a70e1a42908",
   "metadata": {},
   "outputs": [
    {
     "data": {
      "text/plain": [
       "55"
      ]
     },
     "execution_count": 26,
     "metadata": {},
     "output_type": "execute_result"
    }
   ],
   "source": [
    "input=[1,2,3,4,5,6,7,8,9,10]\n",
    "sum=0\n",
    "output=[sum:=sum+i for i in range(1,11)][-1]\n",
    "output"
   ]
  },
  {
   "cell_type": "code",
   "execution_count": 20,
   "id": "854b2330-edf1-48b2-97e6-679f311e4872",
   "metadata": {},
   "outputs": [
    {
     "data": {
      "text/plain": [
       "['ben#galuru', 'mu#mbai']"
      ]
     },
     "execution_count": 20,
     "metadata": {},
     "output_type": "execute_result"
    }
   ],
   "source": [
    "# Q6)\n",
    "input=['hyd','ben#galuru','pune','mu#mbai']\n",
    "output=[]\n",
    "for i in input:\n",
    "    if '#' in i:\n",
    "        output.append(i)\n",
    "output"
   ]
  },
  {
   "cell_type": "code",
   "execution_count": 21,
   "id": "bee68d05-e664-42ba-beab-16b91adc4874",
   "metadata": {},
   "outputs": [
    {
     "data": {
      "text/plain": [
       "['ben#galuru', 'mu#mbai']"
      ]
     },
     "execution_count": 21,
     "metadata": {},
     "output_type": "execute_result"
    }
   ],
   "source": [
    "input=['hyd','ben#galuru','pune','mu#mbai']\n",
    "output=[i for i in input if '#' in i]\n",
    "output"
   ]
  },
  {
   "cell_type": "code",
   "execution_count": 22,
   "id": "fe944eea-b2a8-46c1-8371-270a593978bf",
   "metadata": {},
   "outputs": [
    {
     "data": {
      "text/plain": [
       "['hyd', 'pune']"
      ]
     },
     "execution_count": 22,
     "metadata": {},
     "output_type": "execute_result"
    }
   ],
   "source": [
    "# Q7)\n",
    "input=['hyd','ben#galuru','pune','mu#mbai']\n",
    "output=[]\n",
    "for i in input:\n",
    "    if '#' not in i:\n",
    "        output.append(i)\n",
    "output"
   ]
  },
  {
   "cell_type": "code",
   "execution_count": 23,
   "id": "e03bb387-4c2b-45a5-a949-d1f62ae9fd77",
   "metadata": {},
   "outputs": [
    {
     "data": {
      "text/plain": [
       "['hyd', 'pune']"
      ]
     },
     "execution_count": 23,
     "metadata": {},
     "output_type": "execute_result"
    }
   ],
   "source": [
    "input=['hyd','ben#galuru','pune','mu#mbai']\n",
    "output=[i for i in input if '#' not in i]\n",
    "output"
   ]
  },
  {
   "cell_type": "code",
   "execution_count": null,
   "id": "119623fc-b488-4e65-ba63-c49be4a9187f",
   "metadata": {},
   "outputs": [],
   "source": [
    "**case-3: for loop if else**"
   ]
  },
  {
   "cell_type": "code",
   "execution_count": null,
   "id": "eb1dbf20-03c7-43b2-a130-7984a3eced46",
   "metadata": {},
   "outputs": [],
   "source": [
    "[<if output><if condition> <else> <else output> <for loop>]"
   ]
  },
  {
   "cell_type": "code",
   "execution_count": 25,
   "id": "38df76e0-5924-4fd1-8373-73037d85cfb8",
   "metadata": {},
   "outputs": [
    {
     "data": {
      "text/plain": [
       "['odd : 1',\n",
       " 'even : 2',\n",
       " 'odd : 3',\n",
       " 'even : 4',\n",
       " 'odd : 5',\n",
       " 'even : 6',\n",
       " 'odd : 7',\n",
       " 'even : 8',\n",
       " 'odd : 9']"
      ]
     },
     "execution_count": 25,
     "metadata": {},
     "output_type": "execute_result"
    }
   ],
   "source": [
    "input=[]\n",
    "for i in range(1,10):\n",
    "    if i%2==0:\n",
    "        input.append(f\"even : {i}\")\n",
    "    else: \n",
    "        input.append(f\"odd : {i}\")\n",
    "input       "
   ]
  },
  {
   "cell_type": "code",
   "execution_count": 38,
   "id": "73c5cefe-5015-4fd6-906d-31766a660138",
   "metadata": {},
   "outputs": [
    {
     "data": {
      "text/plain": [
       "['odd:1',\n",
       " 'even:2',\n",
       " 'odd:3',\n",
       " 'even:4',\n",
       " 'odd:5',\n",
       " 'even:6',\n",
       " 'odd:7',\n",
       " 'even:8',\n",
       " 'odd:9']"
      ]
     },
     "execution_count": 38,
     "metadata": {},
     "output_type": "execute_result"
    }
   ],
   "source": [
    "input=[]\n",
    "output=[f'even:{i}' if i%2==0 else f'odd:{i}' for i in range(1,10)]\n",
    "output"
   ]
  },
  {
   "cell_type": "code",
   "execution_count": null,
   "id": "5b9f1d07-2079-4b28-af7f-4c91adfe2479",
   "metadata": {},
   "outputs": [],
   "source": [
    "**case-4: for-if-elif-else**\n",
    "\n",
    "- in list comprehension we dont have elif representation\n",
    "\n",
    "- elif also represent as **else+if**\n",
    "\n",
    "- in elif we have **elif condition** available and **elif output**\n",
    "\n",
    "- else elif_output and elif_condition"
   ]
  },
  {
   "cell_type": "code",
   "execution_count": null,
   "id": "236592f9-775b-4844-8bff-7d8ebf5d1d4b",
   "metadata": {},
   "outputs": [],
   "source": [
    "[<if output> <if condition> else<if output> else<if condition> else<else output> <for loop>]\n",
    "\n",
    "- **note:**instead of elif term write if"
   ]
  },
  {
   "cell_type": "code",
   "execution_count": 33,
   "id": "791bf4e6-f41b-4b45-a6e9-03461deb2743",
   "metadata": {},
   "outputs": [
    {
     "name": "stdout",
     "output_type": "stream",
     "text": [
      "45 : C grade\n",
      "55 : C grade\n",
      "65 : B grade\n",
      "75 : B grade\n",
      "85 : B grade\n",
      "95 : A grade\n"
     ]
    },
    {
     "data": {
      "text/plain": [
       "[45, 55, 65, 75, 85, 95]"
      ]
     },
     "execution_count": 33,
     "metadata": {},
     "output_type": "execute_result"
    }
   ],
   "source": [
    "# Q8)\n",
    "list=[45,55,65,75,85,95]\n",
    "for i in list:\n",
    "    if i>85:\n",
    "        print(f'{i} : A grade')\n",
    "    elif i>60:\n",
    "        print(f'{i} : B grade')\n",
    "    else:\n",
    "        print(f'{i} : C grade')\n",
    "list"
   ]
  },
  {
   "cell_type": "code",
   "execution_count": 37,
   "id": "70ff288d-a7ff-4e73-bdc2-aaa497bed6f5",
   "metadata": {},
   "outputs": [
    {
     "data": {
      "text/plain": [
       "['45 : C grade',\n",
       " '55 : C grade',\n",
       " '65 : B grade',\n",
       " '75 : B grade',\n",
       " '85 : B grade',\n",
       " '95 : A grade']"
      ]
     },
     "execution_count": 37,
     "metadata": {},
     "output_type": "execute_result"
    }
   ],
   "source": [
    "list=[45,55,65,75,85,95]\n",
    "output=[f'{i} : A grade' if i>85 else f'{i} : B grade' if i>60 else f'{i} : C grade' for i in list]\n",
    "output"
   ]
  },
  {
   "cell_type": "code",
   "execution_count": null,
   "id": "df53a23e-d152-40a1-87d2-33d925de3993",
   "metadata": {},
   "outputs": [],
   "source": [
    "**screening paper questions**"
   ]
  },
  {
   "cell_type": "code",
   "execution_count": 8,
   "id": "07fd8189-8478-4b00-91ab-1f88dd0b486b",
   "metadata": {},
   "outputs": [
    {
     "name": "stdout",
     "output_type": "stream",
     "text": [
      "1\n",
      "2\n",
      "3\n",
      "4\n",
      "5\n",
      "6\n",
      "9\n"
     ]
    }
   ],
   "source": [
    "marks=[45,76,89,53,67,90,82,49,33,99]\n",
    "# Q1)\n",
    "for i in marks:\n",
    "    if i>=50:\n",
    "        print(marks.index(i))"
   ]
  },
  {
   "cell_type": "code",
   "execution_count": 10,
   "id": "291daaad-681a-4a99-8eb3-0f28f0ea5d02",
   "metadata": {},
   "outputs": [
    {
     "data": {
      "text/plain": [
       "[76, 89, 53, 67, 90, 82, 99]"
      ]
     },
     "execution_count": 10,
     "metadata": {},
     "output_type": "execute_result"
    }
   ],
   "source": [
    "output=[i for i in marks if i>=50]\n",
    "output"
   ]
  },
  {
   "cell_type": "code",
   "execution_count": 11,
   "id": "14605be9-d6f7-4418-b387-af1d32a6e3d6",
   "metadata": {},
   "outputs": [
    {
     "name": "stdout",
     "output_type": "stream",
     "text": [
      "45 : F\n",
      "76 : B\n",
      "89 : A\n",
      "53 : C\n",
      "67 : C\n",
      "90 : A\n",
      "82 : B\n",
      "49 : F\n",
      "33 : F\n",
      "99 : A\n"
     ]
    }
   ],
   "source": [
    "# Q2)\n",
    "marks=[45,76,89,53,67,90,82,49,33,99]\n",
    "for i in marks:\n",
    "    if i>=85:\n",
    "        print(f\"{i} : A\")\n",
    "    elif i>=70:\n",
    "        print(f\"{i} : B\")\n",
    "\n",
    "    elif i>=50:\n",
    "        print(f\"{i} : C\")\n",
    "    else:\n",
    "        print(f\"{i} : F\")"
   ]
  },
  {
   "cell_type": "code",
   "execution_count": 16,
   "id": "ecd70fff-5e29-4205-9a6f-cf857267878f",
   "metadata": {},
   "outputs": [
    {
     "data": {
      "text/plain": [
       "['45 : F',\n",
       " 'Marks = 76 : B grade',\n",
       " 'Marks = 89 : A grade',\n",
       " 'Marks = 53 : C grade',\n",
       " 'Marks = 67 : C grade',\n",
       " 'Marks = 90 : A grade',\n",
       " 'Marks = 82 : B grade',\n",
       " '49 : F',\n",
       " '33 : F',\n",
       " 'Marks = 99 : A grade']"
      ]
     },
     "execution_count": 16,
     "metadata": {},
     "output_type": "execute_result"
    }
   ],
   "source": [
    "output=[f\"Marks = {i} : A grade\" if i>=85 else f\"Marks = {i} : B grade\" if i>=70 else f\"Marks = {i} : C grade\" if i>=50 else f\"{i} : F\" for i in marks]\n",
    "output"
   ]
  },
  {
   "cell_type": "code",
   "execution_count": 17,
   "id": "b247a7d6-9fcd-43d2-a877-f57b67179071",
   "metadata": {},
   "outputs": [
    {
     "name": "stdout",
     "output_type": "stream",
     "text": [
      "50\n",
      "54\n",
      "38\n"
     ]
    }
   ],
   "source": [
    "# Q3)\n",
    "marks=[45,76,89,53,67,90,82,49,33,99]\n",
    "for i in marks:\n",
    "    if i<50:\n",
    "        print(i+5)"
   ]
  },
  {
   "cell_type": "code",
   "execution_count": 18,
   "id": "53cbfdb2-8371-4f5c-a03b-174db5e7ab66",
   "metadata": {},
   "outputs": [
    {
     "data": {
      "text/plain": [
       "[50, 54, 38]"
      ]
     },
     "execution_count": 18,
     "metadata": {},
     "output_type": "execute_result"
    }
   ],
   "source": [
    "output=[i+5 for i in marks if i<50]\n",
    "output"
   ]
  },
  {
   "cell_type": "code",
   "execution_count": 20,
   "id": "2371fa04-e0fe-4cae-acdb-e4f0577cd7a1",
   "metadata": {},
   "outputs": [
    {
     "name": "stdout",
     "output_type": "stream",
     "text": [
      "99\n",
      "90\n",
      "89\n"
     ]
    }
   ],
   "source": [
    "# Q4) sort the values using sort method\n",
    "marks=[45,76,89,53,67,90,82,49,33,99]\n",
    "max_val=max(marks)\n",
    "for i in range(3):\n",
    "    max_val=max(marks)\n",
    "    print(max_val)\n",
    "    marks.remove(max_val)\n",
    "    "
   ]
  },
  {
   "cell_type": "code",
   "execution_count": 21,
   "id": "02a7fcdd-31a9-4a65-acbd-be9c941ecad8",
   "metadata": {},
   "outputs": [
    {
     "data": {
      "text/plain": [
       "[89, 89, 89]"
      ]
     },
     "execution_count": 21,
     "metadata": {},
     "output_type": "execute_result"
    }
   ],
   "source": [
    "marks=[45,76,89,53,67,90,82,49,33,99]\n",
    "output=[max_val for i in range(3)]\n",
    "output"
   ]
  },
  {
   "cell_type": "code",
   "execution_count": 24,
   "id": "c51af31d-5d44-4807-aed2-1042e3229fc5",
   "metadata": {},
   "outputs": [
    {
     "data": {
      "text/plain": [
       "68.3"
      ]
     },
     "execution_count": 24,
     "metadata": {},
     "output_type": "execute_result"
    }
   ],
   "source": [
    "# Q5)\n",
    "summ=0\n",
    "marks=[45,76,89,53,67,90,82,49,33,99]\n",
    "[summ:=summ+i for i in marks]\n",
    "summ/len(marks)"
   ]
  },
  {
   "cell_type": "code",
   "execution_count": null,
   "id": "4825571f-3b76-48bb-810f-fd70b8bef210",
   "metadata": {},
   "outputs": [],
   "source": [
    "**distance between 2 points**\n",
    "l1=[[1,2],[4,5],[7,9]]\n",
    "l2=[10,20]\n",
    "# find the distance between l2 with all other points from l1\n",
    "# which is the maximum distance"
   ]
  },
  {
   "cell_type": "code",
   "execution_count": null,
   "id": "fc925f92-440e-4ff7-9be0-f58f093efd02",
   "metadata": {},
   "outputs": [],
   "source": [
    "l1=[[1,2],[4,5],[7,9]]\n",
    "l2=[10,20]\n"
   ]
  },
  {
   "cell_type": "code",
   "execution_count": 27,
   "id": "3e0dc340-3254-4e04-bf9f-4231c462ed23",
   "metadata": {},
   "outputs": [
    {
     "data": {
      "text/plain": [
       "28.284271247461902"
      ]
     },
     "execution_count": 27,
     "metadata": {},
     "output_type": "execute_result"
    }
   ],
   "source": [
    "import math\n",
    "l1=[10,20]\n",
    "l2=[30,40]\n",
    "d1=l2[0]-l1[0]\n",
    "d1_square=math.pow(d1,2)\n",
    "d1_square\n",
    "d2=l2[1]-l1[1]\n",
    "d2_square=math.pow(d2,2)\n",
    "d2_square\n",
    "summ=d1_square+d2_square\n",
    "math.sqrt(summ)"
   ]
  },
  {
   "cell_type": "code",
   "execution_count": 31,
   "id": "d704047f-5d9a-4c58-ba4f-bb0f50f58a9a",
   "metadata": {},
   "outputs": [
    {
     "data": {
      "text/plain": [
       "28.284271247461902"
      ]
     },
     "execution_count": 31,
     "metadata": {},
     "output_type": "execute_result"
    }
   ],
   "source": [
    "math.sqrt(math.pow(l2[0]-l1[0],2)+math.pow(l2[1]-l1[1],2))"
   ]
  },
  {
   "cell_type": "code",
   "execution_count": null,
   "id": "2786d34b-1267-44e6-8f62-60d29dcea485",
   "metadata": {},
   "outputs": [],
   "source": []
  }
 ],
 "metadata": {
  "kernelspec": {
   "display_name": "Python 3 (ipykernel)",
   "language": "python",
   "name": "python3"
  },
  "language_info": {
   "codemirror_mode": {
    "name": "ipython",
    "version": 3
   },
   "file_extension": ".py",
   "mimetype": "text/x-python",
   "name": "python",
   "nbconvert_exporter": "python",
   "pygments_lexer": "ipython3",
   "version": "3.12.7"
  }
 },
 "nbformat": 4,
 "nbformat_minor": 5
}
