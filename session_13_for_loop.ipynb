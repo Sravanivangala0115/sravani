{
 "cells": [
  {
   "cell_type": "markdown",
   "id": "3764cde6-3fcb-4e62-a569-572ea01d15a9",
   "metadata": {},
   "source": [
    "**loops**\n",
    "\n",
    "- loops are used to iterate the code multiple times\n",
    "\n",
    "- funtions are used to reuse the code block\n",
    "\n",
    "- that code block can be repeated multiple times\n",
    "\n",
    "- whenever u are doing same task multiple times then think about loop\n",
    "\n",
    "- we have 2 loops\n",
    "\n",
    "    - for loop\n",
    "\n",
    "    - while loop\n",
    "\n",
    "- any loop we need 3 things\n",
    "\n",
    "    - Initialization(start point)\n",
    "\n",
    "    - increment or decrement\n",
    "\n",
    "    - condition to stop"
   ]
  },
  {
   "cell_type": "markdown",
   "id": "53e9f045-7943-46fc-b95a-cc77a0845869",
   "metadata": {},
   "source": [
    "**for loop**"
   ]
  },
  {
   "cell_type": "code",
   "execution_count": null,
   "id": "17bd8935-727b-4f74-9410-d094b27f041e",
   "metadata": {},
   "outputs": [],
   "source": [
    "for<variable> in range(<number>):\n",
    "    <write ur code here>"
   ]
  },
  {
   "cell_type": "code",
   "execution_count": 1,
   "id": "fa89674a-bb36-4146-a922-a999b97a5dcf",
   "metadata": {},
   "outputs": [
    {
     "name": "stdout",
     "output_type": "stream",
     "text": [
      "0\n",
      "1\n",
      "2\n",
      "3\n",
      "4\n"
     ]
    }
   ],
   "source": [
    "for i in range(5):\n",
    "    print(i)"
   ]
  },
  {
   "cell_type": "code",
   "execution_count": 2,
   "id": "b71b33bb-c6a4-42a1-b062-1c14026e4f93",
   "metadata": {},
   "outputs": [
    {
     "name": "stdout",
     "output_type": "stream",
     "text": [
      "0\n",
      "1\n",
      "2\n"
     ]
    }
   ],
   "source": [
    "# print(0)\n",
    "# print(1)\n",
    "# print(2)\n",
    "for i in range(3):\n",
    "    print(i)"
   ]
  },
  {
   "cell_type": "code",
   "execution_count": 3,
   "id": "1ee67458-3555-4ade-aab4-a2c59cb7a57c",
   "metadata": {},
   "outputs": [
    {
     "name": "stdout",
     "output_type": "stream",
     "text": [
      "0 1 2 "
     ]
    }
   ],
   "source": [
    "# print(0,end=' ')\n",
    "# print(1,end=' ')\n",
    "# print(2,end=' ')\n",
    "for i in range(3):\n",
    "    print(i,end=' ')"
   ]
  },
  {
   "cell_type": "markdown",
   "id": "380fed9a-b67f-40b0-8a86-d87555650a94",
   "metadata": {},
   "source": [
    "**case-1:range(stop)**\n",
    "\n",
    "- start=0 : python index always starts with zero\n",
    "\n",
    "- increment by 1\n",
    "\n",
    "- last=stop-1"
   ]
  },
  {
   "cell_type": "code",
   "execution_count": 4,
   "id": "95556d84-11fa-400e-864e-11ce766cc7c8",
   "metadata": {},
   "outputs": [
    {
     "name": "stdout",
     "output_type": "stream",
     "text": [
      "0 1 2 3 4 5 6 7 8 9 "
     ]
    }
   ],
   "source": [
    "for i in range(10):\n",
    "    print(i,end=' ')"
   ]
  },
  {
   "cell_type": "code",
   "execution_count": 5,
   "id": "0b462300-490a-460f-8b6d-3d40c084ca63",
   "metadata": {},
   "outputs": [
    {
     "name": "stdout",
     "output_type": "stream",
     "text": [
      "good morning\n",
      "good morning\n",
      "good morning\n"
     ]
    }
   ],
   "source": [
    "for i in range(3):\n",
    "    print(\"good morning\") # with or without variable i it will print the statement"
   ]
  },
  {
   "cell_type": "markdown",
   "id": "4defc37f-e2f3-4e90-ad91-f7c83da66775",
   "metadata": {},
   "source": [
    "**case-2:range(start,stop)**\n",
    "\n",
    "- suppose i want to start my loop with a particular number\n",
    "\n",
    "- then add start also inside range\n",
    "\n",
    "- start=start\n",
    "\n",
    "- increment by 1\n",
    "\n",
    "- last=stop-1"
   ]
  },
  {
   "cell_type": "code",
   "execution_count": 7,
   "id": "b1daa485-0823-48d8-b8ba-13b019e1584e",
   "metadata": {},
   "outputs": [
    {
     "name": "stdout",
     "output_type": "stream",
     "text": [
      "10 11 12 13 14 15 16 17 18 19 "
     ]
    }
   ],
   "source": [
    "for i in range(10,20):\n",
    "    print(i,end=' ') #start=10, increment by 1, stop=20-1"
   ]
  },
  {
   "cell_type": "code",
   "execution_count": 9,
   "id": "c379f16f-ba65-4c9d-8581-c1e339ea2cd2",
   "metadata": {},
   "outputs": [
    {
     "name": "stdout",
     "output_type": "stream",
     "text": [
      "1 4 9 16 25 "
     ]
    }
   ],
   "source": [
    "# wap ask the user print the square of first five numbers\n",
    "\n",
    "for i in range(1,6):\n",
    "    print(i*i,end=' ')"
   ]
  },
  {
   "cell_type": "code",
   "execution_count": 10,
   "id": "1d122923-abcd-4e0e-943c-4196bf7a7882",
   "metadata": {},
   "outputs": [
    {
     "name": "stdout",
     "output_type": "stream",
     "text": [
      "the square of i is : 1\n",
      "the square of i is : 4\n",
      "the square of i is : 9\n",
      "the square of i is : 16\n",
      "the square of i is : 25\n"
     ]
    }
   ],
   "source": [
    "for i in range(1,6):\n",
    "    print(f'the square of i is : {i*i}')"
   ]
  },
  {
   "cell_type": "code",
   "execution_count": 12,
   "id": "4ad568d2-64a8-4779-ad86-cb191d734249",
   "metadata": {},
   "outputs": [
    {
     "name": "stdin",
     "output_type": "stream",
     "text": [
      "enter the number: 20\n"
     ]
    },
    {
     "name": "stdout",
     "output_type": "stream",
     "text": [
      "the square of 20 is : 400\n"
     ]
    },
    {
     "name": "stdin",
     "output_type": "stream",
     "text": [
      "enter the number: 30\n"
     ]
    },
    {
     "name": "stdout",
     "output_type": "stream",
     "text": [
      "the square of 30 is : 900\n"
     ]
    },
    {
     "name": "stdin",
     "output_type": "stream",
     "text": [
      "enter the number: 60\n"
     ]
    },
    {
     "name": "stdout",
     "output_type": "stream",
     "text": [
      "the square of 60 is : 3600\n"
     ]
    },
    {
     "name": "stdin",
     "output_type": "stream",
     "text": [
      "enter the number: 80\n"
     ]
    },
    {
     "name": "stdout",
     "output_type": "stream",
     "text": [
      "the square of 80 is : 6400\n"
     ]
    },
    {
     "name": "stdin",
     "output_type": "stream",
     "text": [
      "enter the number: 100\n"
     ]
    },
    {
     "name": "stdout",
     "output_type": "stream",
     "text": [
      "the square of 100 is : 10000\n"
     ]
    }
   ],
   "source": [
    "# wap ask the user enter a number the prompt should happen 5 times\n",
    "# print the square of the number\n",
    "\n",
    "for i in range(5):\n",
    "    num=eval(input(\"enter the number:\"))\n",
    "    print(f\"the square of {num} is : {num*num}\")\n"
   ]
  },
  {
   "cell_type": "code",
   "execution_count": 15,
   "id": "454a3684-e202-46f7-8860-199b1c9f7c44",
   "metadata": {},
   "outputs": [
    {
     "name": "stdin",
     "output_type": "stream",
     "text": [
      "enter the number: 20\n"
     ]
    },
    {
     "name": "stdout",
     "output_type": "stream",
     "text": [
      "the square of 20 is : 400\n"
     ]
    },
    {
     "name": "stdin",
     "output_type": "stream",
     "text": [
      "enter the number: 40\n"
     ]
    },
    {
     "name": "stdout",
     "output_type": "stream",
     "text": [
      "the square of 40 is : 1600\n"
     ]
    }
   ],
   "source": [
    "def square():\n",
    "    num=eval(input(\"enter the number:\"))\n",
    "    print(f\"the square of {num} is : {num*num}\")\n",
    "for i in range(2):\n",
    "    square()"
   ]
  },
  {
   "cell_type": "markdown",
   "id": "f4645ffc-680c-4e00-845f-2450c05304eb",
   "metadata": {},
   "source": [
    "**case-3:range(start,stop,step)**\n",
    "\n",
    "- start=start only\n",
    "\n",
    "- step:\n",
    "\n",
    "    - look about step sign is it positive or negative sign\n",
    "\n",
    "    - positive means increment\n",
    "\n",
    "      - last=stop-1\n",
    "\n",
    "    - negative means decrement\n",
    "\n",
    "      - last=stop+1"
   ]
  },
  {
   "cell_type": "code",
   "execution_count": 16,
   "id": "06b4c411-26c0-45c8-9f52-29914d0a0d51",
   "metadata": {},
   "outputs": [
    {
     "name": "stdout",
     "output_type": "stream",
     "text": [
      "3 5 7 9 11 13 15 17 "
     ]
    }
   ],
   "source": [
    "# example-1: range(3,20,2)\n",
    "# start=3\n",
    "# step=+2 positive direction\n",
    "# last=stop-1 = 20-1 =19\n",
    "# 3,5,7,9,11,13,15,17\n",
    "for i in range(3,19,2):\n",
    "    print(i,end=' ')"
   ]
  },
  {
   "cell_type": "code",
   "execution_count": 17,
   "id": "03ca0df8-ccdb-4fc7-a04a-43a5188167f7",
   "metadata": {},
   "outputs": [],
   "source": [
    "# example-1: range(3,20,-2)\n",
    "# start=3\n",
    "# step=-2 negative direction\n",
    "# last=stop+1 = 20+1 =21\n",
    "# 3,5,7,9,11,13,15,17,19,21\n",
    "for i in range(3,19,-2):\n",
    "    print(i,end=' ')"
   ]
  },
  {
   "cell_type": "code",
   "execution_count": 18,
   "id": "bd8cc324-7edc-4cae-bc70-7f523f27a380",
   "metadata": {},
   "outputs": [
    {
     "name": "stdout",
     "output_type": "stream",
     "text": [
      "3 1 -1 -3 -5 -7 -9 -11 -13 -15 -17 "
     ]
    }
   ],
   "source": [
    "# example-1: range(3,-20,-2)\n",
    "# start=3\n",
    "# step=-2 negative direction\n",
    "# last=stop-1 = 20-1 =19\n",
    "# 3,5,7,9,11,13,15,17,19\n",
    "for i in range(3,-19,-2):\n",
    "    print(i,end=' ')"
   ]
  },
  {
   "cell_type": "code",
   "execution_count": 19,
   "id": "e066b119-5790-4291-a376-2c9202694ccf",
   "metadata": {},
   "outputs": [],
   "source": [
    "# example-1: range(3,-20,2)\n",
    "# start=3\n",
    "# step=2 positive direction\n",
    "# last=stop+1 = 20+1 =21\n",
    "# 3,5,7,9,11,13,15,17,19,21\n",
    "for i in range(3,-19,2):\n",
    "    print(i,end=' ')"
   ]
  },
  {
   "cell_type": "code",
   "execution_count": 2,
   "id": "6fe8b76c-5ffa-42d5-ae3f-61a3db4fe3a4",
   "metadata": {},
   "outputs": [
    {
     "name": "stdout",
     "output_type": "stream",
     "text": [
      "20\n",
      "10\n",
      "0\n",
      "-10\n"
     ]
    }
   ],
   "source": [
    "for i in range(20,-20,-10):\n",
    "    print(i)"
   ]
  },
  {
   "cell_type": "code",
   "execution_count": 6,
   "id": "605954a3-744a-4778-a2c5-ce8e3e9252d6",
   "metadata": {},
   "outputs": [
    {
     "name": "stdout",
     "output_type": "stream",
     "text": [
      "7\n",
      "14\n",
      "21\n",
      "28\n",
      "35\n",
      "42\n",
      "49\n",
      "56\n",
      "63\n",
      "70\n"
     ]
    }
   ],
   "source": [
    "# Q4) print the 7th table\n",
    "for i in range(1,11):\n",
    "    print(7*i)"
   ]
  },
  {
   "cell_type": "code",
   "execution_count": 8,
   "id": "07e15fa0-9cd6-4d0e-9fc1-b1c5c95a7351",
   "metadata": {},
   "outputs": [
    {
     "name": "stdin",
     "output_type": "stream",
     "text": [
      "enter a table number: 7\n"
     ]
    },
    {
     "name": "stdout",
     "output_type": "stream",
     "text": [
      "7x1 = 7\n",
      "7x2 = 14\n",
      "7x3 = 21\n",
      "7x4 = 28\n",
      "7x5 = 35\n",
      "7x6 = 42\n",
      "7x7 = 49\n",
      "7x8 = 56\n",
      "7x9 = 63\n",
      "7x10 = 70\n"
     ]
    }
   ],
   "source": [
    "num=eval(input(\"enter a table number:\"))\n",
    "for i in range(1,11):\n",
    "    print(f\"{num}x{i} = {num*i}\")"
   ]
  },
  {
   "cell_type": "code",
   "execution_count": 14,
   "id": "f64ac5e5-5d63-41c8-bf5c-bca5683faa76",
   "metadata": {},
   "outputs": [
    {
     "name": "stdin",
     "output_type": "stream",
     "text": [
      "which number divisors you want: 75\n"
     ]
    },
    {
     "name": "stdout",
     "output_type": "stream",
     "text": [
      "1 is a divisor of : 75\n",
      "3 is a divisor of : 75\n",
      "5 is a divisor of : 75\n",
      "15 is a divisor of : 75\n",
      "25 is a divisor of : 75\n",
      "75 is a divisor of : 75\n"
     ]
    }
   ],
   "source": [
    "# Q5) find the number of divisors of 75\n",
    "# if u divide 75 with any number the remainder should be zero\n",
    "num=eval(input(\"which number divisors you want:\"))\n",
    "for i in range(1,num+1):\n",
    "    if num%i==0:\n",
    "        print(f\"{i} is a divisor of : {num}\")"
   ]
  },
  {
   "cell_type": "code",
   "execution_count": null,
   "id": "1ef42e04-ad4f-4dc9-8170-fc9444110cf9",
   "metadata": {},
   "outputs": [],
   "source": [
    "# Q6) sum of first 10 naturak numbers\n",
    "# natural : starts from 1\n",
    "# 1+2+3+4+5+6+7+8+9+10\n",
    "# n(n+1)/2"
   ]
  },
  {
   "cell_type": "markdown",
   "id": "c355a746-ae15-4fff-9c76-e4fc102efe42",
   "metadata": {},
   "source": [
    "**summation wraper**\n",
    "\n",
    "- starting we initialize the sum value = 0\n",
    "\n",
    "- inside loop we will add a simple line : summ=summ+i\n",
    "\n",
    "- summ=0\n",
    "\n",
    "- for loop\n",
    "\n",
    "    - summ=summ+i"
   ]
  },
  {
   "cell_type": "code",
   "execution_count": null,
   "id": "9b071f9c-673e-42c4-a5d6-b7cbd97e1a1b",
   "metadata": {},
   "outputs": [],
   "source": [
    "summ=0\n",
    "for (summ=summ+i):"
   ]
  },
  {
   "cell_type": "code",
   "execution_count": 15,
   "id": "36dd34a1-9f8e-4409-8278-f52a717b92ff",
   "metadata": {},
   "outputs": [
    {
     "name": "stdout",
     "output_type": "stream",
     "text": [
      "55\n"
     ]
    }
   ],
   "source": [
    "summ=0 \n",
    "for i in range(1,11):\n",
    "    summ=summ+i\n",
    "print(summ)"
   ]
  },
  {
   "cell_type": "code",
   "execution_count": 16,
   "id": "c1a27f03-3f93-4e98-97d1-0a797ec198f1",
   "metadata": {},
   "outputs": [
    {
     "name": "stdout",
     "output_type": "stream",
     "text": [
      "1\n",
      "3\n",
      "6\n",
      "10\n",
      "15\n",
      "21\n",
      "28\n",
      "36\n",
      "45\n",
      "55\n"
     ]
    }
   ],
   "source": [
    "summ=0 \n",
    "for i in range(1,11):\n",
    "    summ=summ+i\n",
    "    print(summ)"
   ]
  },
  {
   "cell_type": "code",
   "execution_count": 17,
   "id": "b2524674-4f15-448b-a036-923a9292bec6",
   "metadata": {},
   "outputs": [
    {
     "name": "stdout",
     "output_type": "stream",
     "text": [
      "0\n",
      "1\n",
      "2\n",
      "3\n"
     ]
    }
   ],
   "source": [
    "for val in range(4):\n",
    "    print(val)"
   ]
  },
  {
   "cell_type": "code",
   "execution_count": 18,
   "id": "a65c633f-d69d-410b-90d7-7251ba2d374b",
   "metadata": {},
   "outputs": [
    {
     "data": {
      "text/plain": [
       "3"
      ]
     },
     "execution_count": 18,
     "metadata": {},
     "output_type": "execute_result"
    }
   ],
   "source": [
    "val"
   ]
  },
  {
   "cell_type": "code",
   "execution_count": 24,
   "id": "ef30bcf4-9f34-4301-a59f-0f1c1457d293",
   "metadata": {},
   "outputs": [
    {
     "name": "stdin",
     "output_type": "stream",
     "text": [
      "enter the number: 75\n"
     ]
    },
    {
     "name": "stdout",
     "output_type": "stream",
     "text": [
      "124\n"
     ]
    }
   ],
   "source": [
    "# Q7) find the sum of divisors of 75\n",
    "summ=0\n",
    "num=eval(input(\"enter the number:\"))\n",
    "for i in range(1,num+1):\n",
    "    if num%i==0:\n",
    "        summ=summ+i\n",
    "print(summ)"
   ]
  },
  {
   "cell_type": "markdown",
   "id": "f36c8d34-8390-4b05-ba00-85614e6295c8",
   "metadata": {},
   "source": [
    "**counter wraper**\n",
    "\n",
    "- counter means counting the success ones\n",
    "\n",
    "- count=0\n",
    "\n",
    "- for loop\n",
    "\n",
    "    - count=count+1"
   ]
  },
  {
   "cell_type": "code",
   "execution_count": 27,
   "id": "3239ad50-6f27-49ec-a5ac-d4d014684a61",
   "metadata": {},
   "outputs": [
    {
     "name": "stdin",
     "output_type": "stream",
     "text": [
      "enter the number: 75\n"
     ]
    },
    {
     "name": "stdout",
     "output_type": "stream",
     "text": [
      "the number of divisors are : 6\n"
     ]
    }
   ],
   "source": [
    "# Q8) find the number of divisors of 75\n",
    "count=0\n",
    "num=eval(input(\"enter the number:\"))\n",
    "for i in range(1,76):\n",
    "    if num%i==0:\n",
    "        count=count+1\n",
    "print(f\"the number of divisors are : {count}\")"
   ]
  },
  {
   "cell_type": "code",
   "execution_count": 31,
   "id": "f10c8803-7d4e-4baf-9bee-6c9949e62b57",
   "metadata": {},
   "outputs": [
    {
     "name": "stdout",
     "output_type": "stream",
     "text": [
      "the 48 is even\n",
      "the 58 is even\n",
      "the 70 is even\n",
      "the 63 is odd\n",
      "the 58 is even\n",
      "number of evens are : 4\n",
      "number of odds are : 1\n",
      "summ of evens are : 234\n",
      "sum of odds are : 63\n"
     ]
    }
   ],
   "source": [
    "# Q9) ask the user get 5 random numbers \n",
    "# means you need to get a random number inside the loop\n",
    "# the loop should run 5 times\n",
    "# now perform the even and odd operation\n",
    "# 1)even count # 2) sum of even numbers # 3) odd count # 4) sum of odd numbers\n",
    "import random\n",
    "even_count,odd_count=0,0\n",
    "even_summ,odd_summ=0,0\n",
    "for i in range(5):\n",
    "    num=random.randint(1,100)\n",
    "    if num%2==0:\n",
    "        print(f\"the {num} is even\")\n",
    "        even_count=even_count+1\n",
    "        even_summ=even_summ+num\n",
    "    else:\n",
    "        print(f\"the {num} is odd\")\n",
    "        odd_count=odd_count+1\n",
    "        odd_summ=odd_summ+num\n",
    "print(\"number of evens are :\", even_count)\n",
    "print(\"number of odds are :\", odd_count)\n",
    "print(\"summ of evens are :\", even_summ)\n",
    "print(\"sum of odds are :\", odd_summ)"
   ]
  },
  {
   "cell_type": "code",
   "execution_count": 35,
   "id": "5b8971ca-771c-4b67-a7f9-9c4ba18e8930",
   "metadata": {},
   "outputs": [
    {
     "name": "stdin",
     "output_type": "stream",
     "text": [
      "enter a number: 6\n"
     ]
    },
    {
     "name": "stdout",
     "output_type": "stream",
     "text": [
      "you lost\n"
     ]
    },
    {
     "name": "stdin",
     "output_type": "stream",
     "text": [
      "enter a number: 9\n"
     ]
    },
    {
     "name": "stdout",
     "output_type": "stream",
     "text": [
      "you won\n"
     ]
    },
    {
     "name": "stdin",
     "output_type": "stream",
     "text": [
      "enter a number: 5\n"
     ]
    },
    {
     "name": "stdout",
     "output_type": "stream",
     "text": [
      "you lost\n"
     ]
    }
   ],
   "source": [
    "# Q10) game program\n",
    "# user number will generate randomly\n",
    "# if both numbers are equal then you won\n",
    "# otherwise you lost\n",
    "# i want to give 3 chances\n",
    "for i in range(3):\n",
    "    num1=random.randint(1,10)\n",
    "    num2=eval(input(\"enter a number:\"))\n",
    "    if num1==num2:\n",
    "        print(\"you won\")\n",
    "    else:\n",
    "        print(\"you lost\")"
   ]
  },
  {
   "cell_type": "code",
   "execution_count": 40,
   "id": "0dab2fd6-48ff-4ba7-a30e-f425dd6dc638",
   "metadata": {},
   "outputs": [
    {
     "name": "stdout",
     "output_type": "stream",
     "text": [
      "9\n"
     ]
    },
    {
     "name": "stdin",
     "output_type": "stream",
     "text": [
      "enter a number: 9\n"
     ]
    },
    {
     "name": "stdout",
     "output_type": "stream",
     "text": [
      "you won\n"
     ]
    }
   ],
   "source": [
    "for i in range(3):\n",
    "    num1=random.randint(1,10)\n",
    "    print(num1)\n",
    "    num2=eval(input(\"enter a number:\"))\n",
    "    if num1==num2:\n",
    "        print(\"you won\")\n",
    "        break\n",
    "    else:\n",
    "        print(\"you lost\")"
   ]
  },
  {
   "cell_type": "code",
   "execution_count": 43,
   "id": "4c51b930-1e0c-4658-99f0-6522083e4912",
   "metadata": {},
   "outputs": [
    {
     "name": "stdin",
     "output_type": "stream",
     "text": [
      "enter a number: 5\n"
     ]
    },
    {
     "name": "stdout",
     "output_type": "stream",
     "text": [
      "you lost\n",
      " the number of chances you are left is : 2\n"
     ]
    },
    {
     "name": "stdin",
     "output_type": "stream",
     "text": [
      "enter a number: 7\n"
     ]
    },
    {
     "name": "stdout",
     "output_type": "stream",
     "text": [
      "you lost\n",
      " the number of chances you are left is : 1\n"
     ]
    },
    {
     "name": "stdin",
     "output_type": "stream",
     "text": [
      "enter a number: 9\n"
     ]
    },
    {
     "name": "stdout",
     "output_type": "stream",
     "text": [
      "you lost\n",
      " the number of chances you are left is : 0\n"
     ]
    }
   ],
   "source": [
    "import random\n",
    "count=3\n",
    "for i in range(3):\n",
    "    num1=random.randint(1,10)\n",
    "    num2=eval(input(\"enter a number:\"))\n",
    "    if num1==num2:\n",
    "        print(\"you won\")\n",
    "        break\n",
    "    else:\n",
    "        print(\"you lost\")\n",
    "        count=count-1\n",
    "        print(f\" the number of chances you are left is : {count}\")"
   ]
  },
  {
   "cell_type": "code",
   "execution_count": 44,
   "id": "901fef23-85e0-4a15-a0bd-efaca1e59d87",
   "metadata": {},
   "outputs": [
    {
     "name": "stdin",
     "output_type": "stream",
     "text": [
      "enter a number: 6\n"
     ]
    },
    {
     "name": "stdout",
     "output_type": "stream",
     "text": [
      "you lost\n",
      " the number of chances you are left is : 2\n",
      "try after 24 hours\n"
     ]
    },
    {
     "name": "stdin",
     "output_type": "stream",
     "text": [
      "enter a number: 8\n"
     ]
    },
    {
     "name": "stdout",
     "output_type": "stream",
     "text": [
      "you lost\n",
      " the number of chances you are left is : 1\n",
      "try after 24 hours\n"
     ]
    },
    {
     "name": "stdin",
     "output_type": "stream",
     "text": [
      "enter a number: 10\n"
     ]
    },
    {
     "name": "stdout",
     "output_type": "stream",
     "text": [
      "you lost\n",
      " the number of chances you are left is : 0\n",
      "try after 24 hours\n"
     ]
    }
   ],
   "source": [
    "import random\n",
    "count=3\n",
    "for i in range(3):\n",
    "    num1=random.randint(1,10)\n",
    "    num2=eval(input(\"enter a number:\"))\n",
    "    if num1==num2:\n",
    "        print(\"you won\")\n",
    "        break\n",
    "    else:\n",
    "        print(\"you lost\")\n",
    "        count=count-1\n",
    "        print(f\" the number of chances you are left is : {count}\")\n",
    "        print(\"try after 24 hours\")"
   ]
  },
  {
   "cell_type": "markdown",
   "id": "8f60b6e7-c5b3-4788-8573-fd05d617d2b0",
   "metadata": {},
   "source": [
    "**in**"
   ]
  },
  {
   "cell_type": "markdown",
   "id": "b8e06284-0811-43a6-a482-125d9899ab32",
   "metadata": {},
   "source": [
    "- in for loop we have range and in operators\n",
    "\n",
    "- range is a math related word, whenever we use range it expects a number inside range\n",
    "\n",
    "- in operator expects a string "
   ]
  },
  {
   "cell_type": "code",
   "execution_count": 1,
   "id": "8285e89a-f7d7-47be-b4d2-6aaa42fec10a",
   "metadata": {},
   "outputs": [
    {
     "name": "stdout",
     "output_type": "stream",
     "text": [
      "1 2 3 4 5 6 7 8 9 "
     ]
    }
   ],
   "source": [
    "for i in range(1,10):\n",
    "    print(i,end=' ') # range is a number"
   ]
  },
  {
   "cell_type": "code",
   "execution_count": 2,
   "id": "b31f3814-45df-48ed-ba3b-70d99070a7b8",
   "metadata": {},
   "outputs": [
    {
     "ename": "TypeError",
     "evalue": "'str' object cannot be interpreted as an integer",
     "output_type": "error",
     "traceback": [
      "\u001b[1;31m---------------------------------------------------------------------------\u001b[0m",
      "\u001b[1;31mTypeError\u001b[0m                                 Traceback (most recent call last)",
      "Cell \u001b[1;32mIn[2], line 1\u001b[0m\n\u001b[1;32m----> 1\u001b[0m \u001b[38;5;28;01mfor\u001b[39;00m i \u001b[38;5;129;01min\u001b[39;00m \u001b[38;5;28mrange\u001b[39m(\u001b[38;5;124m'\u001b[39m\u001b[38;5;124mpython\u001b[39m\u001b[38;5;124m'\u001b[39m):\n\u001b[0;32m      2\u001b[0m     \u001b[38;5;28mprint\u001b[39m(i,end\u001b[38;5;241m=\u001b[39m\u001b[38;5;124m'\u001b[39m\u001b[38;5;124m \u001b[39m\u001b[38;5;124m'\u001b[39m)\n",
      "\u001b[1;31mTypeError\u001b[0m: 'str' object cannot be interpreted as an integer"
     ]
    }
   ],
   "source": [
    "for i in range('python'):\n",
    "    print(i,end=' ')"
   ]
  },
  {
   "cell_type": "code",
   "execution_count": 3,
   "id": "63e9cc29-4f74-44f0-bb8c-ceb6bd44d24c",
   "metadata": {},
   "outputs": [
    {
     "name": "stdout",
     "output_type": "stream",
     "text": [
      "p y t h o n "
     ]
    }
   ],
   "source": [
    "for i in 'python':\n",
    "    print(i,end=' ') # in is a string"
   ]
  },
  {
   "cell_type": "code",
   "execution_count": null,
   "id": "14fb8dc7-9839-468e-b2ba-2c752a3848b5",
   "metadata": {},
   "outputs": [],
   "source": [
    "'p' in 'python'\n",
    "\n",
    "'y' in 'python'\n",
    "\n",
    "'t' in 'python'\n",
    "\n",
    "'h' in 'python'\n",
    "\n",
    "'o' in 'python'\n",
    "\n",
    "'n' in 'python'\n",
    "\n",
    "i in 'python'"
   ]
  },
  {
   "cell_type": "markdown",
   "id": "dd868fda-4246-494d-bfa6-801743e24b82",
   "metadata": {},
   "source": [
    "**ASCII**\n",
    "\n",
    "- American standard code for information interchange\n",
    "\n",
    "- 'A'==== 65\n",
    "\n",
    "- 'a'==== 97"
   ]
  },
  {
   "cell_type": "code",
   "execution_count": 4,
   "id": "419bbfe1-94f6-4ec5-9745-7bc28c5ead90",
   "metadata": {},
   "outputs": [
    {
     "data": {
      "text/plain": [
       "False"
      ]
     },
     "execution_count": 4,
     "metadata": {},
     "output_type": "execute_result"
    }
   ],
   "source": [
    "'A'>'a'"
   ]
  },
  {
   "cell_type": "markdown",
   "id": "fd939241-92a3-4dfa-a619-5f0547b2ae69",
   "metadata": {},
   "source": [
    "- how to convert character to number \n",
    "\n",
    "- how to convert number to character"
   ]
  },
  {
   "cell_type": "markdown",
   "id": "c162e72d-554e-45c7-a44e-96a94c7978f2",
   "metadata": {},
   "source": [
    "**char-ord**"
   ]
  },
  {
   "cell_type": "code",
   "execution_count": 7,
   "id": "b8a74b23-3acf-495f-9f8c-3bbc54bd5758",
   "metadata": {},
   "outputs": [
    {
     "data": {
      "text/plain": [
       "65"
      ]
     },
     "execution_count": 7,
     "metadata": {},
     "output_type": "execute_result"
    }
   ],
   "source": [
    "ord('A')"
   ]
  },
  {
   "cell_type": "code",
   "execution_count": 8,
   "id": "15970ea2-c209-48dd-abdb-5fcb20546ae4",
   "metadata": {},
   "outputs": [
    {
     "data": {
      "text/plain": [
       "'A'"
      ]
     },
     "execution_count": 8,
     "metadata": {},
     "output_type": "execute_result"
    }
   ],
   "source": [
    "chr(65)"
   ]
  },
  {
   "cell_type": "code",
   "execution_count": 9,
   "id": "39192bf5-7ce5-4fd2-8235-6ab499bd5403",
   "metadata": {},
   "outputs": [
    {
     "data": {
      "text/plain": [
       "'a'"
      ]
     },
     "execution_count": 9,
     "metadata": {},
     "output_type": "execute_result"
    }
   ],
   "source": [
    "chr(97)"
   ]
  },
  {
   "cell_type": "code",
   "execution_count": 10,
   "id": "b08ef52e-24fb-4ef4-9e55-84546227ffc8",
   "metadata": {},
   "outputs": [
    {
     "data": {
      "text/plain": [
       "97"
      ]
     },
     "execution_count": 10,
     "metadata": {},
     "output_type": "execute_result"
    }
   ],
   "source": [
    "ord('a')"
   ]
  },
  {
   "cell_type": "markdown",
   "id": "5e736a54-f751-4aa7-b9be-c16d852f6c5d",
   "metadata": {},
   "source": [
    "- **ord** converting character to number\n",
    "\n",
    "- **chr** converting number to character"
   ]
  },
  {
   "cell_type": "code",
   "execution_count": 21,
   "id": "1d718add-94cd-4ed7-acd2-cd4fcc0836d8",
   "metadata": {},
   "outputs": [
    {
     "name": "stdout",
     "output_type": "stream",
     "text": [
      "A : 65\n",
      "B : 66\n",
      "C : 67\n",
      "D : 68\n",
      "E : 69\n",
      "F : 70\n",
      "G : 71\n",
      "H : 72\n",
      "I : 73\n",
      "J : 74\n",
      "K : 75\n",
      "L : 76\n",
      "M : 77\n",
      "N : 78\n",
      "O : 79\n",
      "P : 80\n",
      "Q : 81\n",
      "R : 82\n",
      "S : 83\n",
      "T : 84\n",
      "U : 85\n",
      "V : 86\n",
      "W : 87\n",
      "X : 88\n",
      "Y : 89\n",
      "Z : 90\n"
     ]
    }
   ],
   "source": [
    "# wap ask the user get the ASCII numbers from A to Z\n",
    "for i in 'ABCDEFGHIJKLMNOPQRSTUVWXYZ':\n",
    "    print(f'{i} : {ord(i)}')\n",
    "    "
   ]
  },
  {
   "cell_type": "markdown",
   "id": "9d82bb7b-ecef-488b-8f68-8b902291ddd3",
   "metadata": {},
   "source": [
    "**package : string**"
   ]
  },
  {
   "cell_type": "code",
   "execution_count": null,
   "id": "04240675-21b9-45d8-93e2-c38f341b0577",
   "metadata": {},
   "outputs": [],
   "source": [
    "import <packagename>\n",
    "dir(<packagename>)\n",
    "in that A to Z will be given by one method tell me that"
   ]
  },
  {
   "cell_type": "code",
   "execution_count": 22,
   "id": "83d7e368-e653-4a4a-bdce-be70318bb15f",
   "metadata": {},
   "outputs": [
    {
     "data": {
      "text/plain": [
       "['Formatter',\n",
       " 'Template',\n",
       " '_ChainMap',\n",
       " '__all__',\n",
       " '__builtins__',\n",
       " '__cached__',\n",
       " '__doc__',\n",
       " '__file__',\n",
       " '__loader__',\n",
       " '__name__',\n",
       " '__package__',\n",
       " '__spec__',\n",
       " '_re',\n",
       " '_sentinel_dict',\n",
       " '_string',\n",
       " 'ascii_letters',\n",
       " 'ascii_lowercase',\n",
       " 'ascii_uppercase',\n",
       " 'capwords',\n",
       " 'digits',\n",
       " 'hexdigits',\n",
       " 'octdigits',\n",
       " 'printable',\n",
       " 'punctuation',\n",
       " 'whitespace']"
      ]
     },
     "execution_count": 22,
     "metadata": {},
     "output_type": "execute_result"
    }
   ],
   "source": [
    "import string\n",
    "dir(string)"
   ]
  },
  {
   "cell_type": "code",
   "execution_count": 23,
   "id": "013aee7c-0cf8-43ab-8e93-8cb32da65b44",
   "metadata": {},
   "outputs": [
    {
     "data": {
      "text/plain": [
       "'abcdefghijklmnopqrstuvwxyzABCDEFGHIJKLMNOPQRSTUVWXYZ'"
      ]
     },
     "execution_count": 23,
     "metadata": {},
     "output_type": "execute_result"
    }
   ],
   "source": [
    "string.ascii_letters"
   ]
  },
  {
   "cell_type": "code",
   "execution_count": 24,
   "id": "48b7495f-32f2-453d-92cc-82890b4c661b",
   "metadata": {},
   "outputs": [
    {
     "data": {
      "text/plain": [
       "'abcdefghijklmnopqrstuvwxyz'"
      ]
     },
     "execution_count": 24,
     "metadata": {},
     "output_type": "execute_result"
    }
   ],
   "source": [
    "string.ascii_lowercase"
   ]
  },
  {
   "cell_type": "code",
   "execution_count": 25,
   "id": "028e066c-6eb8-4970-88ca-9b89155d47d8",
   "metadata": {},
   "outputs": [
    {
     "data": {
      "text/plain": [
       "'ABCDEFGHIJKLMNOPQRSTUVWXYZ'"
      ]
     },
     "execution_count": 25,
     "metadata": {},
     "output_type": "execute_result"
    }
   ],
   "source": [
    "string.ascii_uppercase"
   ]
  },
  {
   "cell_type": "code",
   "execution_count": 26,
   "id": "6189957e-ca55-4047-92ce-3a15715c6b1d",
   "metadata": {},
   "outputs": [
    {
     "data": {
      "text/plain": [
       "'0123456789'"
      ]
     },
     "execution_count": 26,
     "metadata": {},
     "output_type": "execute_result"
    }
   ],
   "source": [
    "string.digits"
   ]
  },
  {
   "cell_type": "code",
   "execution_count": 27,
   "id": "3b03e557-9354-4098-bee4-9f9683b9268e",
   "metadata": {},
   "outputs": [
    {
     "data": {
      "text/plain": [
       "'!\"#$%&\\'()*+,-./:;<=>?@[\\\\]^_`{|}~'"
      ]
     },
     "execution_count": 27,
     "metadata": {},
     "output_type": "execute_result"
    }
   ],
   "source": [
    "string.punctuation"
   ]
  },
  {
   "cell_type": "code",
   "execution_count": 40,
   "id": "6af8b2b4-1f81-466e-8a62-d69cea217e9f",
   "metadata": {},
   "outputs": [
    {
     "name": "stdout",
     "output_type": "stream",
     "text": [
      "A : 65 B : 66 C : 67 D : 68 E : 69 F : 70 G : 71 H : 72 I : 73 J : 74 K : 75 L : 76 M : 77 N : 78 O : 79 P : 80 Q : 81 R : 82 S : 83 T : 84 U : 85 V : 86 W : 87 X : 88 Y : 89 Z : 90 "
     ]
    }
   ],
   "source": [
    "for i in string.ascii_uppercase:\n",
    "    print(f'{i} : {ord(i)}',end=' ')"
   ]
  },
  {
   "cell_type": "code",
   "execution_count": 39,
   "id": "2f7b8f56-e9d5-4088-9a63-a7d68919352c",
   "metadata": {},
   "outputs": [
    {
     "name": "stdout",
     "output_type": "stream",
     "text": [
      "a : 97 b : 98 c : 99 d : 100 e : 101 f : 102 g : 103 h : 104 i : 105 j : 106 k : 107 l : 108 m : 109 n : 110 o : 111 p : 112 q : 113 r : 114 s : 115 t : 116 u : 117 v : 118 w : 119 x : 120 y : 121 z : 122 "
     ]
    }
   ],
   "source": [
    "for i in string.ascii_lowercase:\n",
    "    print(f'{i} : {ord(i)}',end=' ')"
   ]
  },
  {
   "cell_type": "code",
   "execution_count": 38,
   "id": "ab31220a-203e-4728-8e99-d30699de0dac",
   "metadata": {},
   "outputs": [
    {
     "name": "stdout",
     "output_type": "stream",
     "text": [
      "! : 33 \" : 34 # : 35 $ : 36 % : 37 & : 38 ' : 39 ( : 40 ) : 41 * : 42 + : 43 , : 44 - : 45 . : 46 / : 47 : : 58 ; : 59 < : 60 = : 61 > : 62 ? : 63 @ : 64 [ : 91 \\ : 92 ] : 93 ^ : 94 _ : 95 ` : 96 { : 123 | : 124 } : 125 ~ : 126 "
     ]
    }
   ],
   "source": [
    "for i in string.punctuation:\n",
    "    print(f'{i} : {ord(i)}',end=' ')"
   ]
  },
  {
   "cell_type": "code",
   "execution_count": 37,
   "id": "abd82347-e759-494e-b517-3e9e5c7b642f",
   "metadata": {},
   "outputs": [
    {
     "name": "stdout",
     "output_type": "stream",
     "text": [
      "65 : A 66 : B 67 : C 68 : D 69 : E 70 : F 71 : G 72 : H 73 : I 74 : J 75 : K 76 : L 77 : M 78 : N 79 : O 80 : P 81 : Q 82 : R 83 : S 84 : T 85 : U 86 : V 87 : W 88 : X 89 : Y 90 : Z "
     ]
    }
   ],
   "source": [
    "for i in range(65,91):\n",
    "    print(f'{i} : {chr(i)}',end=' ')"
   ]
  },
  {
   "cell_type": "code",
   "execution_count": 36,
   "id": "289a8dd1-268e-4782-acf4-6c7f0e0f42a6",
   "metadata": {},
   "outputs": [
    {
     "name": "stdout",
     "output_type": "stream",
     "text": [
      "97 : a 98 : b 99 : c 100 : d 101 : e 102 : f 103 : g 104 : h 105 : i 106 : j 107 : k 108 : l 109 : m 110 : n 111 : o 112 : p 113 : q 114 : r 115 : s 116 : t 117 : u 118 : v 119 : w 120 : x 121 : y 122 : z "
     ]
    }
   ],
   "source": [
    "for i in range(97,123):\n",
    "    print(f'{i} : {chr(i)}',end=' ')"
   ]
  },
  {
   "cell_type": "code",
   "execution_count": 35,
   "id": "edec3e64-312e-48f2-9f95-d2ae5303bb76",
   "metadata": {},
   "outputs": [
    {
     "name": "stdout",
     "output_type": "stream",
     "text": [
      "33 : ! 34 : \" 35 : # 36 : $ 37 : % 38 : & 39 : ' 40 : ( 41 : ) 42 : * 43 : + 44 : , 45 : - 46 : . 47 : / 48 : 0 49 : 1 50 : 2 51 : 3 52 : 4 53 : 5 54 : 6 55 : 7 56 : 8 57 : 9 58 : : 59 : ; 60 : < 61 : = 62 : > 63 : ? 64 : @ 65 : A 66 : B 67 : C 68 : D 69 : E 70 : F 71 : G 72 : H 73 : I 74 : J 75 : K 76 : L 77 : M 78 : N 79 : O 80 : P 81 : Q 82 : R 83 : S 84 : T 85 : U 86 : V 87 : W 88 : X 89 : Y 90 : Z 91 : [ 92 : \\ 93 : ] 94 : ^ 95 : _ 96 : ` 97 : a 98 : b 99 : c 100 : d 101 : e 102 : f 103 : g 104 : h 105 : i 106 : j 107 : k 108 : l 109 : m 110 : n 111 : o 112 : p 113 : q 114 : r 115 : s 116 : t 117 : u 118 : v 119 : w 120 : x 121 : y 122 : z 123 : { 124 : | 125 : } 126 : ~ "
     ]
    }
   ],
   "source": [
    "for i in range(33,127):\n",
    "    print(f'{i} : {chr(i)}',end=' ')"
   ]
  },
  {
   "cell_type": "code",
   "execution_count": 41,
   "id": "d4987970-b2a6-46b3-bc4d-f80cc78e6235",
   "metadata": {},
   "outputs": [
    {
     "name": "stdout",
     "output_type": "stream",
     "text": [
      "1 : \u0001 2 : \u0002 3 : \u0003 4 : \u0004 5 : \u0005 6 : \u0006 7 : \u0007 8 : 9 : \t 10 : \n",
      " 14 : \u000e 15 : \u000f 16 : \u0010 17 : \u0011 18 : \u0012 19 : \u0013 20 : \u0014 21 : \u0015 22 : \u0016 23 : \u0017 24 : \u0018 25 : \u0019 26 : \u001a 27 : \u001b 28 : \u001c",
      " 29 : \u001d",
      " 30 : \u001e",
      " 31 : \u001f 32 :   "
     ]
    }
   ],
   "source": [
    "for i in range(1,33):\n",
    "    print(f'{i} : {chr(i)}',end=' ')"
   ]
  },
  {
   "cell_type": "code",
   "execution_count": 42,
   "id": "2264f701-76bd-4368-95a3-3de7eac8b998",
   "metadata": {},
   "outputs": [
    {
     "name": "stdout",
     "output_type": "stream",
     "text": [
      "127 :  128 :  129 :  130 :  131 :  132 :  133 : ",
      " 134 :  135 :  136 :  137 :  138 :  139 :  140 :  141 :  142 :  143 :  144 :  145 :  146 :  147 :  148 :  149 :  150 :  151 :  152 :  153 :  154 :  155 :  156 :  157 :  158 :  159 :  160 :   161 : ¡ 162 : ¢ 163 : £ 164 : ¤ 165 : ¥ 166 : ¦ 167 : § 168 : ¨ 169 : © 170 : ª 171 : « 172 : ¬ 173 : ­ 174 : ® 175 : ¯ 176 : ° 177 : ± 178 : ² 179 : ³ 180 : ´ 181 : µ 182 : ¶ 183 : · 184 : ¸ 185 : ¹ 186 : º 187 : » 188 : ¼ 189 : ½ 190 : ¾ 191 : ¿ 192 : À 193 : Á 194 : Â 195 : Ã 196 : Ä 197 : Å 198 : Æ 199 : Ç 200 : È 201 : É 202 : Ê 203 : Ë 204 : Ì 205 : Í 206 : Î 207 : Ï 208 : Ð 209 : Ñ 210 : Ò 211 : Ó 212 : Ô 213 : Õ 214 : Ö 215 : × 216 : Ø 217 : Ù 218 : Ú 219 : Û 220 : Ü 221 : Ý 222 : Þ 223 : ß 224 : à 225 : á 226 : â 227 : ã 228 : ä 229 : å 230 : æ 231 : ç 232 : è 233 : é 234 : ê 235 : ë 236 : ì 237 : í 238 : î 239 : ï 240 : ð 241 : ñ 242 : ò 243 : ó 244 : ô 245 : õ 246 : ö 247 : ÷ 248 : ø 249 : ù 250 : ú "
     ]
    }
   ],
   "source": [
    "for i in range(127,251):\n",
    "    print(f'{i} : {chr(i)}',end=' ')"
   ]
  },
  {
   "cell_type": "code",
   "execution_count": 45,
   "id": "dd77f457-e8e5-4124-bc1b-1527267f7abd",
   "metadata": {},
   "outputs": [
    {
     "name": "stdout",
     "output_type": "stream",
     "text": [
      "3077 : అ 3078 : ఆ 3079 : ఇ 3080 : ఈ 3081 : ఉ 3082 : ఊ 3083 : ఋ 3084 : ఌ 3085 : ఍ 3086 : ఎ 3087 : ఏ 3088 : ఐ 3089 : ఑ 3090 : ఒ 3091 : ఓ 3092 : ఔ 3093 : క 3094 : ఖ 3095 : గ 3096 : ఘ 3097 : ఙ 3098 : చ 3099 : ఛ 3100 : జ 3101 : ఝ 3102 : ఞ 3103 : ట 3104 : ఠ 3105 : డ 3106 : ఢ 3107 : ణ 3108 : త 3109 : థ 3110 : ద 3111 : ధ 3112 : న 3113 : ఩ 3114 : ప 3115 : ఫ 3116 : బ 3117 : భ 3118 : మ 3119 : య 3120 : ర 3121 : ఱ 3122 : ల 3123 : ళ 3124 : ఴ 3125 : వ 3126 : శ 3127 : ష 3128 : స 3129 : హ "
     ]
    }
   ],
   "source": [
    "for i in range(3077,3130):\n",
    "    print(f'{i} : {chr(i)}',end=' ')"
   ]
  },
  {
   "cell_type": "code",
   "execution_count": 49,
   "id": "b9aeb0ff-6724-4383-8dd1-979db9e195f8",
   "metadata": {},
   "outputs": [
    {
     "name": "stdout",
     "output_type": "stream",
     "text": [
      "3131 : ఻ 3132 : ఼ 3133 : ఽ 3134 : ా 3135 : ి 3136 : ీ 3137 : ు 3138 : ూ 3139 : ృ 3140 : ౄ 3141 : ౅ 3142 : ె 3143 : ే 3144 : ై 3145 : ౉ 3146 : ొ 3147 : ో 3148 : ౌ 3149 : ్ "
     ]
    }
   ],
   "source": [
    "for i in range(3131,3150):\n",
    "    print(f'{i} : {chr(i)}',end=' ')"
   ]
  },
  {
   "cell_type": "code",
   "execution_count": null,
   "id": "4270cfed-609c-4f55-b722-bf61671fb973",
   "metadata": {},
   "outputs": [],
   "source": []
  }
 ],
 "metadata": {
  "kernelspec": {
   "display_name": "Python 3 (ipykernel)",
   "language": "python",
   "name": "python3"
  },
  "language_info": {
   "codemirror_mode": {
    "name": "ipython",
    "version": 3
   },
   "file_extension": ".py",
   "mimetype": "text/x-python",
   "name": "python",
   "nbconvert_exporter": "python",
   "pygments_lexer": "ipython3",
   "version": "3.12.7"
  }
 },
 "nbformat": 4,
 "nbformat_minor": 5
}
